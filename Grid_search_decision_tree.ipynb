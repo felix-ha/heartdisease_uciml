{
 "cells": [
  {
   "cell_type": "markdown",
   "metadata": {},
   "source": [
    "# Grid Search for a Decision Tree"
   ]
  },
  {
   "cell_type": "code",
   "execution_count": 1,
   "metadata": {},
   "outputs": [
    {
     "name": "stderr",
     "output_type": "stream",
     "text": [
      "Warning message:\n",
      "\"package 'caret' was built under R version 3.6.1\"Loading required package: lattice\n",
      "Loading required package: ggplot2\n",
      "Registered S3 methods overwritten by 'ggplot2':\n",
      "  method         from \n",
      "  [.quosures     rlang\n",
      "  c.quosures     rlang\n",
      "  print.quosures rlang\n",
      "Warning message:\n",
      "\"package 'MLmetrics' was built under R version 3.6.1\"\n",
      "Attaching package: 'MLmetrics'\n",
      "\n",
      "The following objects are masked from 'package:caret':\n",
      "\n",
      "    MAE, RMSE\n",
      "\n",
      "The following object is masked from 'package:base':\n",
      "\n",
      "    Recall\n",
      "\n",
      "Warning message:\n",
      "\"package 'tidyverse' was built under R version 3.6.1\"-- Attaching packages --------------------------------------- tidyverse 1.2.1 --\n",
      "v tibble  2.1.1       v purrr   0.3.2  \n",
      "v tidyr   0.8.3       v dplyr   0.8.0.1\n",
      "v readr   1.3.1       v stringr 1.4.0  \n",
      "v tibble  2.1.1       v forcats 0.4.0  \n",
      "-- Conflicts ------------------------------------------ tidyverse_conflicts() --\n",
      "x dplyr::filter() masks stats::filter()\n",
      "x dplyr::lag()    masks stats::lag()\n",
      "x purrr::lift()   masks caret::lift()\n",
      "\n",
      "Attaching package: 'magrittr'\n",
      "\n",
      "The following object is masked from 'package:purrr':\n",
      "\n",
      "    set_names\n",
      "\n",
      "The following object is masked from 'package:tidyr':\n",
      "\n",
      "    extract\n",
      "\n",
      "Parsed with column specification:\n",
      "cols(\n",
      "  age = col_double(),\n",
      "  sex = col_double(),\n",
      "  cp = col_double(),\n",
      "  trestbps = col_double(),\n",
      "  chol = col_double(),\n",
      "  fbs = col_double(),\n",
      "  restecg = col_double(),\n",
      "  thalach = col_double(),\n",
      "  exang = col_double(),\n",
      "  oldpeak = col_double(),\n",
      "  slope = col_double(),\n",
      "  ca = col_double(),\n",
      "  thal = col_double(),\n",
      "  target = col_double()\n",
      ")\n"
     ]
    },
    {
     "data": {
      "text/html": [
       "<table>\n",
       "<thead><tr><th scope=col>auc</th><th scope=col>minsplit</th><th scope=col>minbucket</th><th scope=col>maxdepth</th><th scope=col>cp</th></tr></thead>\n",
       "<tbody>\n",
       "\t<tr><td>0.8285864</td><td>10       </td><td>10       </td><td>5        </td><td>0.100    </td></tr>\n",
       "\t<tr><td>0.8285864</td><td>20       </td><td>10       </td><td>5        </td><td>0.100    </td></tr>\n",
       "\t<tr><td>0.8285864</td><td>10       </td><td>10       </td><td>5        </td><td>0.010    </td></tr>\n",
       "\t<tr><td>0.8285864</td><td>20       </td><td>10       </td><td>5        </td><td>0.010    </td></tr>\n",
       "\t<tr><td>0.8285864</td><td>10       </td><td>10       </td><td>5        </td><td>0.001    </td></tr>\n",
       "</tbody>\n",
       "</table>\n"
      ],
      "text/latex": [
       "\\begin{tabular}{r|lllll}\n",
       " auc & minsplit & minbucket & maxdepth & cp\\\\\n",
       "\\hline\n",
       "\t 0.8285864 & 10        & 10        & 5         & 0.100    \\\\\n",
       "\t 0.8285864 & 20        & 10        & 5         & 0.100    \\\\\n",
       "\t 0.8285864 & 10        & 10        & 5         & 0.010    \\\\\n",
       "\t 0.8285864 & 20        & 10        & 5         & 0.010    \\\\\n",
       "\t 0.8285864 & 10        & 10        & 5         & 0.001    \\\\\n",
       "\\end{tabular}\n"
      ],
      "text/markdown": [
       "\n",
       "| auc | minsplit | minbucket | maxdepth | cp |\n",
       "|---|---|---|---|---|\n",
       "| 0.8285864 | 10        | 10        | 5         | 0.100     |\n",
       "| 0.8285864 | 20        | 10        | 5         | 0.100     |\n",
       "| 0.8285864 | 10        | 10        | 5         | 0.010     |\n",
       "| 0.8285864 | 20        | 10        | 5         | 0.010     |\n",
       "| 0.8285864 | 10        | 10        | 5         | 0.001     |\n",
       "\n"
      ],
      "text/plain": [
       "  auc       minsplit minbucket maxdepth cp   \n",
       "1 0.8285864 10       10        5        0.100\n",
       "2 0.8285864 20       10        5        0.100\n",
       "3 0.8285864 10       10        5        0.010\n",
       "4 0.8285864 20       10        5        0.010\n",
       "5 0.8285864 10       10        5        0.001"
      ]
     },
     "metadata": {},
     "output_type": "display_data"
    }
   ],
   "source": [
    "library(caret)\n",
    "library(MLmetrics)\n",
    "library(rpart)\n",
    "library(tidyverse)\n",
    "library(magrittr)\n",
    "source(\"helpers.r\")\n",
    "\n",
    "\n",
    "df <- get_training_df_clean()\n",
    "\n",
    "\n",
    "set.seed(25)\n",
    "number_of_folds <- 10\n",
    "folds <- createFolds(df$target, k = number_of_folds)\n",
    "\n",
    "\n",
    "f <- function(maxdepth, minsplit, minbucket, cp) {\n",
    "  \n",
    "  auc <- vector(mode = \"numeric\", length = number_of_folds)\n",
    "  \n",
    "  for(fold_index in c(1:number_of_folds)){\n",
    "    training <- df[-folds[[fold_index]],]\n",
    "    test <- df[folds[[fold_index]],]\n",
    "    \n",
    "    fit <- rpart(target ~., data=training, method = \"class\",\n",
    "                 control = rpart.control(maxdepth = maxdepth, minbucket = minbucket, minsplit = minsplit), cp = cp)\n",
    "    # using ratio of poisitive labels as probability\n",
    "    y_probabilities <- predict(fit, test)[,2]\n",
    "  \n",
    "\n",
    "    y_true <- ifelse(test$target == \"no_disease\", 0, 1)\n",
    "    \n",
    "    auc[fold_index] <- AUC(y_true = y_true, y_pred = y_probabilities)\n",
    "    \n",
    "    \n",
    "  }\n",
    "  \n",
    "  return(mean(auc))\n",
    "  \n",
    "}\n",
    "\n",
    "\n",
    "result <- tibble(auc = vector(mode = \"numeric\"),\n",
    "                 minsplit = vector(mode = \"numeric\"),\n",
    "                 minbucket = vector(mode = \"numeric\"),\n",
    "                 maxdepth = vector(mode = \"numeric\"),\n",
    "                 cp = vector(mode = \"numeric\"))\n",
    "\n",
    "\n",
    "# the minimum number of observations that must exist in a node in order for a\n",
    "# split to be attempted.\n",
    "minsplits <- c(10, 20, 30)\n",
    "\n",
    "# the minimum number of observations in any terminal <leaf> node. If only\n",
    "# one of minbucket or minsplit is specified, the code either sets minsplit to\n",
    "# minbucket*3 or minbucket to minsplit/3, as appropriate.\n",
    "minbuckets <-  c(3, 7, 10)\n",
    "   \n",
    "# Set the maximum depth of any node of the final tree, with the root node counted\n",
    "# as depth 0. Values greater than 30 rpart will give nonsense results on 32-bit\n",
    "# machines  r\n",
    "maxdepths <-  c(5, 10, 20)\n",
    "\n",
    "cps <- c(0.1, 0.01, 0.001)\n",
    "\n",
    "for(maxdepth in maxdepths) {\n",
    "  for(cp in cps){\n",
    "    for(minsplit in minsplits) {\n",
    "      for(minbucket in minbuckets){\n",
    "    \n",
    "        auc <- f(maxdepth, minsplit, minbucket,  cp)\n",
    "    result %<>% \n",
    "      add_row(auc = auc, \n",
    "              maxdepth = maxdepth,\n",
    "              minsplit = minsplit,\n",
    "              minbucket = minbucket,\n",
    "              cp = cp)\n",
    "\n",
    "      }\n",
    "    }\n",
    "  }\n",
    "}\n",
    "\n",
    "result  <- result %>%\n",
    "  arrange(desc(auc))\n",
    "\n",
    "head(result, n = 5)"
   ]
  },
  {
   "cell_type": "markdown",
   "metadata": {},
   "source": [
    "Cannot reach the performance of the logistic regression models. Let's inspect the tree."
   ]
  },
  {
   "cell_type": "code",
   "execution_count": 2,
   "metadata": {},
   "outputs": [
    {
     "data": {
      "image/png": "[encoded data removed]",
      "text/plain": [
       "plot without title"
      ]
     },
     "metadata": {},
     "output_type": "display_data"
    }
   ],
   "source": [
    "library(rpart.plot)\n",
    "fit <- rpart(target ~., data=df, method = \"class\",\n",
    "                 control = rpart.control(maxdepth = 5, minbucket = 10, minsplit = 10), cp = 0.1)\n",
    "rpart.plot(fit)"
   ]
  }
 ],
 "metadata": {
  "kernelspec": {
   "display_name": "R",
   "language": "R",
   "name": "ir"
  },
  "language_info": {
   "codemirror_mode": "r",
   "file_extension": ".r",
   "mimetype": "text/x-r-source",
   "name": "R",
   "pygments_lexer": "r",
   "version": "3.6.0"
  }
 },
 "nbformat": 4,
 "nbformat_minor": 2
}
