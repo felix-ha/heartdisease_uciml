{
 "cells": [
  {
   "cell_type": "code",
   "execution_count": 4,
   "metadata": {
    "scrolled": false
   },
   "outputs": [
    {
     "name": "stderr",
     "output_type": "stream",
     "text": [
      "Parsed with column specification:\n",
      "cols(\n",
      "  age = col_double(),\n",
      "  sex = col_double(),\n",
      "  cp = col_double(),\n",
      "  trestbps = col_double(),\n",
      "  chol = col_double(),\n",
      "  fbs = col_double(),\n",
      "  restecg = col_double(),\n",
      "  thalach = col_double(),\n",
      "  exang = col_double(),\n",
      "  oldpeak = col_double(),\n",
      "  slope = col_double(),\n",
      "  ca = col_double(),\n",
      "  thal = col_double(),\n",
      "  target = col_double()\n",
      ")\n",
      "Parsed with column specification:\n",
      "cols(\n",
      "  age = col_double(),\n",
      "  sex = col_double(),\n",
      "  cp = col_double(),\n",
      "  trestbps = col_double(),\n",
      "  chol = col_double(),\n",
      "  fbs = col_double(),\n",
      "  restecg = col_double(),\n",
      "  thalach = col_double(),\n",
      "  exang = col_double(),\n",
      "  oldpeak = col_double(),\n",
      "  slope = col_double(),\n",
      "  ca = col_double(),\n",
      "  thal = col_double(),\n",
      "  target = col_double()\n",
      ")\n"
     ]
    },
    {
     "data": {
      "image/png": "[encoded data removed]",
      "text/plain": [
       "plot without title"
      ]
     },
     "metadata": {},
     "output_type": "display_data"
    }
   ],
   "source": [
    "source(\"helpers.r\")\n",
    "library(glmnet)\n",
    "\n",
    "learner_A <- function(training, test) {\n",
    "  name <- \"ridge without standard\"\n",
    "  \n",
    "  \n",
    "  x <- model.matrix(target ~ ., training)[,-1]\n",
    "  y <- ifelse(training$target == \"no_disease\", 0, 1)\n",
    "  fit <- glmnet(x, y, alpha = 0, family = \"binomial\", lambda =0.3, standardize = FALSE)\n",
    "  \n",
    "  x_test  <- model.matrix(target ~ ., test)[,-1]\n",
    "  y_probabilities <- predict(fit, x_test,  type=\"response\")\n",
    "  y_true <- ifelse(test$target == \"no_disease\", 0, 1)\n",
    "  \n",
    "  auc <- AUC(y_true = y_true, y_pred = y_probabilities)\n",
    "  return(list(name = name, auc = auc))\n",
    "}\n",
    "\n",
    "learner_B <- function(training, test) {\n",
    "  name <- \"ridge with standard\"\n",
    "  \n",
    "  arg <- preProcess(training, method=c(\"center\", \"scale\"))\n",
    "  training_scaled <- predict(arg, training)\n",
    "  test_scaled  <- predict(arg, test)\n",
    "\n",
    "  \n",
    "  x <- model.matrix(target ~ ., training_scaled)[,-1]\n",
    "  y <- ifelse(training_scaled$target == \"no_disease\", 0, 1)\n",
    "  fit <- glmnet(x, y, alpha = 0, family = \"binomial\", lambda =0.3, standardize = FALSE)\n",
    "  \n",
    "  x_test  <- model.matrix(target ~ ., test_scaled)[,-1]\n",
    "  y_probabilities <- predict(fit, x_test,  type=\"response\")\n",
    "  y_true <- ifelse(test$target == \"no_disease\", 0, 1)\n",
    "  \n",
    "  auc <- AUC(y_true = y_true, y_pred = y_probabilities)\n",
    "  return(list(name = name, auc = auc))\n",
    "}\n",
    "\n",
    "\n",
    "result <- cross_validation_selection(learner_A, learner_B)\n",
    "\n",
    "\n",
    "plot_result(result)"
   ]
  },
  {
   "cell_type": "code",
   "execution_count": 9,
   "metadata": {},
   "outputs": [
    {
     "name": "stderr",
     "output_type": "stream",
     "text": [
      "Parsed with column specification:\n",
      "cols(\n",
      "  age = col_double(),\n",
      "  sex = col_double(),\n",
      "  cp = col_double(),\n",
      "  trestbps = col_double(),\n",
      "  chol = col_double(),\n",
      "  fbs = col_double(),\n",
      "  restecg = col_double(),\n",
      "  thalach = col_double(),\n",
      "  exang = col_double(),\n",
      "  oldpeak = col_double(),\n",
      "  slope = col_double(),\n",
      "  ca = col_double(),\n",
      "  thal = col_double(),\n",
      "  target = col_double()\n",
      ")\n",
      "Parsed with column specification:\n",
      "cols(\n",
      "  age = col_double(),\n",
      "  sex = col_double(),\n",
      "  cp = col_double(),\n",
      "  trestbps = col_double(),\n",
      "  chol = col_double(),\n",
      "  fbs = col_double(),\n",
      "  restecg = col_double(),\n",
      "  thalach = col_double(),\n",
      "  exang = col_double(),\n",
      "  oldpeak = col_double(),\n",
      "  slope = col_double(),\n",
      "  ca = col_double(),\n",
      "  thal = col_double(),\n",
      "  target = col_double()\n",
      ")\n"
     ]
    },
    {
     "data": {
      "image/png": "[encoded data removed]",
      "text/plain": [
       "plot without title"
      ]
     },
     "metadata": {},
     "output_type": "display_data"
    }
   ],
   "source": [
    "rm(list = ls())\n",
    "\n",
    "source(\"helpers.r\")\n",
    "library(glmnet)\n",
    "\n",
    "learner_A <- function(training, test) {\n",
    "  name <- \"lg\"\n",
    "    \n",
    "  fit <- glm(target ~ ., data=training, family =binomial(link = \"logit\"))\n",
    "  y_probabilities <- predict(fit, test,  type=\"response\")\n",
    "  y_true <- ifelse(test$target == \"no_disease\", 0, 1)\n",
    "    \n",
    "  auc <- AUC(y_true = y_true, y_pred = y_probabilities)\n",
    "  return(list(name = name, auc = auc))\n",
    "}\n",
    "\n",
    "learner_B <- function(training, test) {\n",
    "  name <- \"ridge\"\n",
    "  \n",
    "  arg <- preProcess(training, method=c(\"center\", \"scale\"))\n",
    "  training_scaled <- predict(arg, training)\n",
    "  test_scaled  <- predict(arg, test)\n",
    "\n",
    "  \n",
    "  x <- model.matrix(target ~ ., training_scaled)[,-1]\n",
    "  y <- ifelse(training_scaled$target == \"no_disease\", 0, 1)\n",
    "  fit <- glmnet(x, y, alpha = 0, family = \"binomial\", lambda =0.3, standardize = FALSE)\n",
    "  \n",
    "  x_test  <- model.matrix(target ~ ., test_scaled)[,-1]\n",
    "  y_probabilities <- predict(fit, x_test,  type=\"response\")\n",
    "  y_true <- ifelse(test$target == \"no_disease\", 0, 1)\n",
    "  \n",
    "  auc <- AUC(y_true = y_true, y_pred = y_probabilities)\n",
    "  return(list(name = name, auc = auc))\n",
    "}\n",
    "\n",
    "\n",
    "result <- cross_validation_selection(learner_A, learner_B)\n",
    "\n",
    "\n",
    "plot_result(result)"
   ]
  }
 ],
 "metadata": {
  "kernelspec": {
   "display_name": "R",
   "language": "R",
   "name": "ir"
  },
  "language_info": {
   "codemirror_mode": "r",
   "file_extension": ".r",
   "mimetype": "text/x-r-source",
   "name": "R",
   "pygments_lexer": "r",
   "version": "3.6.0"
  }
 },
 "nbformat": 4,
 "nbformat_minor": 2
}
