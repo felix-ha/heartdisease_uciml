{
 "cells": [
  {
   "cell_type": "markdown",
   "metadata": {},
   "source": [
    "# Best Models\n",
    "\n",
    "Define models:"
   ]
  },
  {
   "cell_type": "code",
   "execution_count": 1,
   "metadata": {},
   "outputs": [
    {
     "name": "stderr",
     "output_type": "stream",
     "text": [
      "Warning message:\n",
      "\"package 'tidyverse' was built under R version 3.6.1\"Registered S3 methods overwritten by 'ggplot2':\n",
      "  method         from \n",
      "  [.quosures     rlang\n",
      "  c.quosures     rlang\n",
      "  print.quosures rlang\n",
      "-- Attaching packages --------------------------------------- tidyverse 1.2.1 --\n",
      "v ggplot2 3.1.1       v purrr   0.3.2  \n",
      "v tibble  2.1.1       v dplyr   0.8.0.1\n",
      "v tidyr   0.8.3       v stringr 1.4.0  \n",
      "v readr   1.3.1       v forcats 0.4.0  \n",
      "-- Conflicts ------------------------------------------ tidyverse_conflicts() --\n",
      "x dplyr::filter() masks stats::filter()\n",
      "x dplyr::lag()    masks stats::lag()\n",
      "Warning message:\n",
      "\"package 'caret' was built under R version 3.6.1\"Loading required package: lattice\n",
      "\n",
      "Attaching package: 'caret'\n",
      "\n",
      "The following object is masked from 'package:purrr':\n",
      "\n",
      "    lift\n",
      "\n",
      "Warning message:\n",
      "\"package 'MLmetrics' was built under R version 3.6.1\"\n",
      "Attaching package: 'MLmetrics'\n",
      "\n",
      "The following objects are masked from 'package:caret':\n",
      "\n",
      "    MAE, RMSE\n",
      "\n",
      "The following object is masked from 'package:base':\n",
      "\n",
      "    Recall\n",
      "\n",
      "\n",
      "Attaching package: 'magrittr'\n",
      "\n",
      "The following object is masked from 'package:purrr':\n",
      "\n",
      "    set_names\n",
      "\n",
      "The following object is masked from 'package:tidyr':\n",
      "\n",
      "    extract\n",
      "\n",
      "Warning message:\n",
      "\"package 'glmnet' was built under R version 3.6.1\"Loading required package: Matrix\n",
      "\n",
      "Attaching package: 'Matrix'\n",
      "\n",
      "The following object is masked from 'package:tidyr':\n",
      "\n",
      "    expand\n",
      "\n",
      "Loaded glmnet 3.0\n",
      "\n"
     ]
    }
   ],
   "source": [
    "source(\"helpers.r\")\n",
    "library(magrittr)\n",
    "library(glmnet)\n",
    "\n",
    "\n",
    "learner_A <- function(training, test) {\n",
    "  name <- \"lg full\"\n",
    "  \n",
    "  fit <- glm(target ~ ., data=training, family =binomial(link = \"logit\"))\n",
    "  y_probabilities <- predict(fit, test,  type=\"response\")\n",
    "  y_true <- ifelse(test$target == \"no_disease\", 0, 1)\n",
    "  \n",
    "  auc <- AUC(y_true = y_true, y_pred = y_probabilities)\n",
    "  return(list(name = name, auc = auc))\n",
    "}\n",
    "\n",
    "\n",
    "learner_B <- function(training, test) {\n",
    "  name <- \"lg forwad selection\"\n",
    "  \n",
    "  fit <- glm(target ~ thal + ca + cp + slope + oldpeak + sex + trestbps, data=training, family =binomial(link = \"logit\"))\n",
    "  y_probabilities <- predict(fit, test,  type=\"response\")\n",
    "  y_true <- ifelse(test$target == \"no_disease\", 0, 1)\n",
    "  \n",
    "  auc <- AUC(y_true = y_true, y_pred = y_probabilities)\n",
    "  return(list(name = name, auc = auc))\n",
    "}\n",
    "\n",
    "learner_C <- function(training, test) {   \n",
    "  name <- \"glm 5 variables LASSO\"\n",
    "    \n",
    "  fit <- glm(target ~ thalach + oldpeak + ca + cp + thal, data=training, family = binomial(link = \"logit\"))\n",
    "  y_probabilities <- predict(fit, test,  type=\"response\")\n",
    "  y_true <- ifelse(test$target == \"no_disease\", 0, 1)\n",
    "    \n",
    "  auc <- AUC(y_true = y_true, y_pred = y_probabilities)\n",
    "  return(list(name = name, auc = auc))\n",
    "\n",
    "}\n",
    "\n",
    "\n",
    "learner_D <- function(training, test) {   \n",
    "    name <- \"glmnet\"\n",
    "    \n",
    "    model <- model.matrix(target ~ ., training)[,-1]\n",
    "    y <- ifelse(training$target == \"no_disease\", 0, 1)\n",
    "    fit <- glmnet(model, y, alpha = 0, family = \"binomial\", lambda = 0.5, standardize = TRUE)\n",
    "\n",
    "    x_test  <- model.matrix(target ~ ., test)[,-1]\n",
    "    y_probabilities <- predict(fit, x_test,  type=\"response\")\n",
    "    y_true <- ifelse(test$target == \"no_disease\", 0, 1)\n",
    "\n",
    "    auc <- AUC(y_true = y_true, y_pred = y_probabilities)\n",
    "    return(list(name = name, auc = auc))\n",
    "}\n",
    "\n"
   ]
  },
  {
   "cell_type": "markdown",
   "metadata": {},
   "source": [
    "Compare the models:"
   ]
  },
  {
   "cell_type": "code",
   "execution_count": 2,
   "metadata": {},
   "outputs": [
    {
     "name": "stderr",
     "output_type": "stream",
     "text": [
      "Parsed with column specification:\n",
      "cols(\n",
      "  age = col_double(),\n",
      "  sex = col_double(),\n",
      "  cp = col_double(),\n",
      "  trestbps = col_double(),\n",
      "  chol = col_double(),\n",
      "  fbs = col_double(),\n",
      "  restecg = col_double(),\n",
      "  thalach = col_double(),\n",
      "  exang = col_double(),\n",
      "  oldpeak = col_double(),\n",
      "  slope = col_double(),\n",
      "  ca = col_double(),\n",
      "  thal = col_double(),\n",
      "  target = col_double()\n",
      ")\n"
     ]
    },
    {
     "data": {
      "text/html": [
       "<table>\n",
       "<thead><tr><th scope=col>model</th><th scope=col>MeanAUC</th></tr></thead>\n",
       "<tbody>\n",
       "\t<tr><td>lg forwad selection  </td><td>0.9227572            </td></tr>\n",
       "\t<tr><td>glmnet               </td><td>0.9196304            </td></tr>\n",
       "\t<tr><td>glm 5 variables LASSO</td><td>0.9054346            </td></tr>\n",
       "\t<tr><td>lg full              </td><td>0.9035265            </td></tr>\n",
       "</tbody>\n",
       "</table>\n"
      ],
      "text/latex": [
       "\\begin{tabular}{r|ll}\n",
       " model & MeanAUC\\\\\n",
       "\\hline\n",
       "\t lg forwad selection   & 0.9227572            \\\\\n",
       "\t glmnet                & 0.9196304            \\\\\n",
       "\t glm 5 variables LASSO & 0.9054346            \\\\\n",
       "\t lg full               & 0.9035265            \\\\\n",
       "\\end{tabular}\n"
      ],
      "text/markdown": [
       "\n",
       "| model | MeanAUC |\n",
       "|---|---|\n",
       "| lg forwad selection   | 0.9227572             |\n",
       "| glmnet                | 0.9196304             |\n",
       "| glm 5 variables LASSO | 0.9054346             |\n",
       "| lg full               | 0.9035265             |\n",
       "\n"
      ],
      "text/plain": [
       "  model                 MeanAUC  \n",
       "1 lg forwad selection   0.9227572\n",
       "2 glmnet                0.9196304\n",
       "3 glm 5 variables LASSO 0.9054346\n",
       "4 lg full               0.9035265"
      ]
     },
     "metadata": {},
     "output_type": "display_data"
    },
    {
     "data": {
      "image/png": "[encoded data removed]",
      "text/plain": [
       "plot without title"
      ]
     },
     "metadata": {},
     "output_type": "display_data"
    }
   ],
   "source": [
    "df <- get_training_df_clean()\n",
    "\n",
    "learners <- list(learner_A, learner_B, learner_C, learner_D)\n",
    "\n",
    "result <- cv_compare_learner(learners, df)\n",
    "\n",
    "plot_best_learners(result)\n",
    "\n",
    "result %>% \n",
    "  group_by(model) %>%\n",
    "  summarise(MeanAUC = mean(auc)) %>%\n",
    "  arrange(desc(MeanAUC))"
   ]
  }
 ],
 "metadata": {
  "kernelspec": {
   "display_name": "R",
   "language": "R",
   "name": "ir"
  },
  "language_info": {
   "codemirror_mode": "r",
   "file_extension": ".r",
   "mimetype": "text/x-r-source",
   "name": "R",
   "pygments_lexer": "r",
   "version": "3.6.0"
  }
 },
 "nbformat": 4,
 "nbformat_minor": 2
}
