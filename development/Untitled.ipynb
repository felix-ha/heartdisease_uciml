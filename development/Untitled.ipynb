{
 "cells": [
  {
   "cell_type": "code",
   "execution_count": 1,
   "metadata": {},
   "outputs": [
    {
     "name": "stderr",
     "output_type": "stream",
     "text": [
      "Warning message:\n",
      "\"package 'tidyverse' was built under R version 3.6.1\"Registered S3 methods overwritten by 'ggplot2':\n",
      "  method         from \n",
      "  [.quosures     rlang\n",
      "  c.quosures     rlang\n",
      "  print.quosures rlang\n",
      "-- Attaching packages --------------------------------------- tidyverse 1.2.1 --\n",
      "v ggplot2 3.1.1       v purrr   0.3.2  \n",
      "v tibble  2.1.1       v dplyr   0.8.0.1\n",
      "v tidyr   0.8.3       v stringr 1.4.0  \n",
      "v readr   1.3.1       v forcats 0.4.0  \n",
      "-- Conflicts ------------------------------------------ tidyverse_conflicts() --\n",
      "x dplyr::filter() masks stats::filter()\n",
      "x dplyr::lag()    masks stats::lag()\n",
      "Warning message:\n",
      "\"package 'recipes' was built under R version 3.6.1\"\n",
      "Attaching package: 'recipes'\n",
      "\n",
      "The following object is masked from 'package:stringr':\n",
      "\n",
      "    fixed\n",
      "\n",
      "The following object is masked from 'package:stats':\n",
      "\n",
      "    step\n",
      "\n",
      "Warning message:\n",
      "\"package 'caret' was built under R version 3.6.1\"Loading required package: lattice\n",
      "\n",
      "Attaching package: 'caret'\n",
      "\n",
      "The following object is masked from 'package:purrr':\n",
      "\n",
      "    lift\n",
      "\n",
      "Parsed with column specification:\n",
      "cols(\n",
      "  age = col_double(),\n",
      "  sex = col_double(),\n",
      "  cp = col_double(),\n",
      "  trestbps = col_double(),\n",
      "  chol = col_double(),\n",
      "  fbs = col_double(),\n",
      "  restecg = col_double(),\n",
      "  thalach = col_double(),\n",
      "  exang = col_double(),\n",
      "  oldpeak = col_double(),\n",
      "  slope = col_double(),\n",
      "  ca = col_double(),\n",
      "  thal = col_double(),\n",
      "  target = col_double()\n",
      ")\n"
     ]
    },
    {
     "data": {
      "text/html": [
       "<table>\n",
       "<thead><tr><th scope=col>target</th><th scope=col>mean</th><th scope=col>median</th><th scope=col>sd</th></tr></thead>\n",
       "<tbody>\n",
       "\t<tr><td>no_disease</td><td>249.1532  </td><td>247       </td><td>50.24326  </td></tr>\n",
       "\t<tr><td>disease   </td><td>243.0076  </td><td>236       </td><td>53.18921  </td></tr>\n",
       "</tbody>\n",
       "</table>\n"
      ],
      "text/latex": [
       "\\begin{tabular}{r|llll}\n",
       " target & mean & median & sd\\\\\n",
       "\\hline\n",
       "\t no\\_disease & 249.1532     & 247          & 50.24326    \\\\\n",
       "\t disease    & 243.0076   & 236        & 53.18921  \\\\\n",
       "\\end{tabular}\n"
      ],
      "text/markdown": [
       "\n",
       "| target | mean | median | sd |\n",
       "|---|---|---|---|\n",
       "| no_disease | 249.1532   | 247        | 50.24326   |\n",
       "| disease    | 243.0076   | 236        | 53.18921   |\n",
       "\n"
      ],
      "text/plain": [
       "  target     mean     median sd      \n",
       "1 no_disease 249.1532 247    50.24326\n",
       "2 disease    243.0076 236    53.18921"
      ]
     },
     "metadata": {},
     "output_type": "display_data"
    }
   ],
   "source": [
    "library(tidyverse)\n",
    "source(\"utils.r\")\n",
    "heart <- get_opt_df()\n",
    "heart %>% group_by(target) %>% summarize (mean = mean(chol), median = median(chol), sd = sd(chol))"
   ]
  },
  {
   "cell_type": "code",
   "execution_count": 2,
   "metadata": {},
   "outputs": [
    {
     "data": {
      "image/png": "[encoded data removed]",
      "text/plain": [
       "plot without title"
      ]
     },
     "metadata": {},
     "output_type": "display_data"
    }
   ],
   "source": [
    "ggplot(heart, aes(x = chol, fill = target)) + \n",
    "geom_density(alpha = 0.2, bw = 10) + \n",
    "theme_minimal()"
   ]
  },
  {
   "cell_type": "code",
   "execution_count": 3,
   "metadata": {},
   "outputs": [
    {
     "data": {
      "image/png": "[encoded data removed]",
      "text/plain": [
       "plot without title"
      ]
     },
     "metadata": {},
     "output_type": "display_data"
    }
   ],
   "source": [
    "ggplot(heart, aes(x = target, y = chol)) + \n",
    "geom_boxplot(alpha = 0, color = \"black\") + \n",
    "geom_jitter(width = 0.05, color = \"grey\", alpha = 0.4) +\n",
    "theme_minimal()"
   ]
  },
  {
   "cell_type": "markdown",
   "metadata": {},
   "source": [
    "## Evaluation of the model\n",
    "\n",
    "For the evaluation of the model I will use the AUC (Area under the ROC-curve). In *Hosmer, Lemeshow: Applied Logistic Regression* there is a general rule to benchmark a model with the help of the AUC:\n",
    "\n",
    "- AUC = 0.5: no discrimination\n",
    "- 0.7 $\\leq$ AUC < 0.8: acceptable discrimination\n",
    "- 0.8 $\\leq$ AUC < 0.9: excellent discrimination\n",
    "- AUC $\\geq$ 0.9 : outstanding discrimination"
   ]
  }
 ],
 "metadata": {
  "kernelspec": {
   "display_name": "R",
   "language": "R",
   "name": "ir"
  },
  "language_info": {
   "codemirror_mode": "r",
   "file_extension": ".r",
   "mimetype": "text/x-r-source",
   "name": "R",
   "pygments_lexer": "r",
   "version": "3.6.0"
  }
 },
 "nbformat": 4,
 "nbformat_minor": 2
}
