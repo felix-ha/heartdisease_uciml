{
 "cells": [
  {
   "cell_type": "markdown",
   "metadata": {},
   "source": [
    "### Splitting a countinous variable into a dichotomous one, with the help of the OR."
   ]
  },
  {
   "cell_type": "code",
   "execution_count": 1,
   "metadata": {},
   "outputs": [
    {
     "name": "stderr",
     "output_type": "stream",
     "text": [
      "Warning message:\n",
      "\"package 'tidyverse' was built under R version 3.6.1\"Registered S3 methods overwritten by 'ggplot2':\n",
      "  method         from \n",
      "  [.quosures     rlang\n",
      "  c.quosures     rlang\n",
      "  print.quosures rlang\n",
      "-- Attaching packages --------------------------------------- tidyverse 1.2.1 --\n",
      "v ggplot2 3.1.1       v purrr   0.3.2  \n",
      "v tibble  2.1.1       v dplyr   0.8.0.1\n",
      "v tidyr   0.8.3       v stringr 1.4.0  \n",
      "v readr   1.3.1       v forcats 0.4.0  \n",
      "-- Conflicts ------------------------------------------ tidyverse_conflicts() --\n",
      "x dplyr::filter() masks stats::filter()\n",
      "x dplyr::lag()    masks stats::lag()\n",
      "Warning message:\n",
      "\"package 'caret' was built under R version 3.6.1\"Loading required package: lattice\n",
      "\n",
      "Attaching package: 'caret'\n",
      "\n",
      "The following object is masked from 'package:purrr':\n",
      "\n",
      "    lift\n",
      "\n",
      "Parsed with column specification:\n",
      "cols(\n",
      "  age = col_double(),\n",
      "  sex = col_double(),\n",
      "  cp = col_double(),\n",
      "  trestbps = col_double(),\n",
      "  chol = col_double(),\n",
      "  fbs = col_double(),\n",
      "  restecg = col_double(),\n",
      "  thalach = col_double(),\n",
      "  exang = col_double(),\n",
      "  oldpeak = col_double(),\n",
      "  slope = col_double(),\n",
      "  ca = col_double(),\n",
      "  thal = col_double(),\n",
      "  target = col_double()\n",
      ")\n"
     ]
    },
    {
     "name": "stdout",
     "output_type": "stream",
     "text": [
      "[1] 1.234744\n",
      "[1] 70\n"
     ]
    }
   ],
   "source": [
    "source(\"helpers.r\")\n",
    "library(tidyverse)\n",
    "\n",
    "df <- get_training_df()\n",
    "#df  <- df  %>% select(target, age)\n",
    "\n",
    "min_age  <- min(df$age)\n",
    "max_age  <- max(df$age)\n",
    "\n",
    "max_abs_beta  <- 0\n",
    "\n",
    "for(tao in seq(min_age, max_age, 1)) {\n",
    "    \n",
    "df_tmp  <- df %>%\n",
    "  mutate(\n",
    "    age_group = case_when(\n",
    "      age <= tao ~ \"not_old\",\n",
    "      ( age > tao)~ \"old\"\n",
    "    )\n",
    "  ) %>% \n",
    "  mutate(age_group= factor(age_group, levels = c(\"not_old\", \"old\")))\n",
    "\n",
    "OR_current  <- odds_ratio(df_tmp, \"age_group\")\n",
    "\n",
    "if(is.nan(OR_current) || OR_current == 0) { next }    \n",
    "\n",
    "abs_beta  <- log(OR_current) \n",
    "    \n",
    "if(abs_beta > max_abs_beta) {\n",
    "    max_abs_beta  <- abs_beta\n",
    "    tao_max  <- tao\n",
    "}\n",
    "    \n",
    "    \n",
    "}\n",
    "\n",
    "print(max_abs_beta)\n",
    "print(tao_max)\n",
    "\n",
    "\n",
    "\n",
    "#library(broom)\n",
    "#fit  <- glm(target ~ age_group, data=df_tmp, family =binomial(link = \"logit\"))\n",
    "#(fit_result  <- tidy(fit))"
   ]
  },
  {
   "cell_type": "code",
   "execution_count": 2,
   "metadata": {},
   "outputs": [
    {
     "name": "stderr",
     "output_type": "stream",
     "text": [
      "Warning message:\n",
      "\"package 'MLmetrics' was built under R version 3.6.1\"\n",
      "Attaching package: 'MLmetrics'\n",
      "\n",
      "The following objects are masked from 'package:caret':\n",
      "\n",
      "    MAE, RMSE\n",
      "\n",
      "The following object is masked from 'package:base':\n",
      "\n",
      "    Recall\n",
      "\n",
      "\n",
      "Attaching package: 'magrittr'\n",
      "\n",
      "The following object is masked from 'package:purrr':\n",
      "\n",
      "    set_names\n",
      "\n",
      "The following object is masked from 'package:tidyr':\n",
      "\n",
      "    extract\n",
      "\n",
      "Parsed with column specification:\n",
      "cols(\n",
      "  age = col_double(),\n",
      "  sex = col_double(),\n",
      "  cp = col_double(),\n",
      "  trestbps = col_double(),\n",
      "  chol = col_double(),\n",
      "  fbs = col_double(),\n",
      "  restecg = col_double(),\n",
      "  thalach = col_double(),\n",
      "  exang = col_double(),\n",
      "  oldpeak = col_double(),\n",
      "  slope = col_double(),\n",
      "  ca = col_double(),\n",
      "  thal = col_double(),\n",
      "  target = col_double()\n",
      ")\n"
     ]
    },
    {
     "data": {
      "text/plain": [
       "            \n",
       "             not_old old\n",
       "  no_disease     110   1\n",
       "  disease        128   4"
      ]
     },
     "metadata": {},
     "output_type": "display_data"
    },
    {
     "data": {
      "text/html": [
       "<table>\n",
       "<thead><tr><th scope=col>model</th><th scope=col>mean</th><th scope=col>median</th><th scope=col>sd</th></tr></thead>\n",
       "<tbody>\n",
       "\t<tr><td>lg age            </td><td>0.6225691         </td><td>0.6314935         </td><td>0.12343775        </td></tr>\n",
       "\t<tr><td>lg age group best </td><td>0.5108392         </td><td>0.5000000         </td><td>0.02639545        </td></tr>\n",
       "\t<tr><td>lg age group worse</td><td>0.5865926         </td><td>0.5945305         </td><td>0.13672035        </td></tr>\n",
       "</tbody>\n",
       "</table>\n"
      ],
      "text/latex": [
       "\\begin{tabular}{r|llll}\n",
       " model & mean & median & sd\\\\\n",
       "\\hline\n",
       "\t lg age             & 0.6225691          & 0.6314935          & 0.12343775        \\\\\n",
       "\t lg age group best  & 0.5108392          & 0.5000000          & 0.02639545        \\\\\n",
       "\t lg age group worse & 0.5865926          & 0.5945305          & 0.13672035        \\\\\n",
       "\\end{tabular}\n"
      ],
      "text/markdown": [
       "\n",
       "| model | mean | median | sd |\n",
       "|---|---|---|---|\n",
       "| lg age             | 0.6225691          | 0.6314935          | 0.12343775         |\n",
       "| lg age group best  | 0.5108392          | 0.5000000          | 0.02639545         |\n",
       "| lg age group worse | 0.5865926          | 0.5945305          | 0.13672035         |\n",
       "\n"
      ],
      "text/plain": [
       "  model              mean      median    sd        \n",
       "1 lg age             0.6225691 0.6314935 0.12343775\n",
       "2 lg age group best  0.5108392 0.5000000 0.02639545\n",
       "3 lg age group worse 0.5865926 0.5945305 0.13672035"
      ]
     },
     "metadata": {},
     "output_type": "display_data"
    },
    {
     "data": {
      "image/png": "[encoded data removed]",
      "text/plain": [
       "plot without title"
      ]
     },
     "metadata": {},
     "output_type": "display_data"
    }
   ],
   "source": [
    "library(MLmetrics)\n",
    "library(magrittr)\n",
    "\n",
    "df <- get_training_df()\n",
    "\n",
    "tao  <- 70\n",
    "df_age_group  <- df %>%\n",
    "  mutate(\n",
    "    age_group = case_when(\n",
    "      age <= tao ~ \"not_old\",\n",
    "      ( age > tao)~ \"old\"\n",
    "    )\n",
    "  ) %>% \n",
    "  mutate(age_group= factor(age_group, levels = c(\"not_old\", \"old\")))\n",
    "\n",
    "table(df_age_group$target, df_age_group$age_group)\n",
    "\n",
    "tao  <- 50\n",
    "df_age_group_worse  <- df %>%\n",
    "  mutate(\n",
    "    age_group = case_when(\n",
    "      age <= tao ~ \"not_old\",\n",
    "      ( age > tao)~ \"old\"\n",
    "    )\n",
    "  ) %>% \n",
    "  mutate(age_group= factor(age_group, levels = c(\"not_old\", \"old\")))\n",
    "\n",
    "set.seed(25)\n",
    "number_of_folds <- 10\n",
    "folds <- createFolds(df$target, k = number_of_folds)\n",
    "\n",
    "model_result <- tibble(model = vector(\"character\"),\n",
    "                       auc = vector(\"numeric\"))\n",
    "models <- c(\"lg age\", \"lg age group best\", \"lg age group worse\")\n",
    "\n",
    "for(model in models){\n",
    "    for(fold_index in c(1:number_of_folds)){\n",
    "        training <- df[-folds[[fold_index]],]\n",
    "        test <- df[folds[[fold_index]],]\n",
    "\n",
    "        y_true <- ifelse(test$target == \"no_disease\", 0, 1)\n",
    "\n",
    "        if (model == \"lg age\") {\n",
    "          fit <- glm(target ~ age, data=training, family =binomial(link = \"logit\"))\n",
    "          y_probabilities <- predict(fit, test,  type=\"response\")\n",
    "        }\n",
    "        if (model == \"lg age group best\"){\n",
    "                    training <- df_age_group[-folds[[fold_index]],]\n",
    "        test <- df_age_group[folds[[fold_index]],]\n",
    "          fit <- glm(target ~ age_group, data=training, family =binomial(link = \"logit\"))\n",
    "          y_probabilities <- predict(fit, test,  type=\"response\")\n",
    "        }\n",
    "        if (model == \"lg age group worse\"){\n",
    "            training <- df_age_group_worse[-folds[[fold_index]],]\n",
    "            test <- df_age_group_worse[folds[[fold_index]],]\n",
    "             fit <- glm(target ~ age_group, data=training, family =binomial(link = \"logit\"))\n",
    "          y_probabilities <- predict(fit, test,  type=\"response\")\n",
    "        }\n",
    "\n",
    "        auc <- AUC(y_true = y_true, y_pred = y_probabilities)\n",
    "\n",
    "        model_result %<>%\n",
    "          add_row(model = model, auc = auc)\n",
    "\n",
    "      }\n",
    "}\n",
    "\n",
    "model_result %>%\n",
    "    group_by(model) %>%\n",
    "    summarize(mean = mean(auc),\n",
    "              median = median(auc),\n",
    "              sd = sd(auc))\n",
    "\n",
    "model_result %>%\n",
    "    mutate(model = factor(model, levels = models)) %>%\n",
    "    ggplot(aes(x = model, y = auc))+\n",
    "    geom_boxplot() +\n",
    "labs(\n",
    "      x = \"Modells\",\n",
    "      y = \"AUC\",\n",
    "      title = \"Cross validation comparison of models\"\n",
    "    ) + \n",
    "    theme_bw() + \n",
    "    theme(panel.grid.major.x = element_blank(),\n",
    "          plot.title = element_text(hjust = 0.5)\n",
    "          )"
   ]
  },
  {
   "cell_type": "markdown",
   "metadata": {},
   "source": [
    "The best treshold calculatet through the highest absolut OR gives age 70, but a model using this age group variable performs very bad. This is because of the skewed distribution of cases within the different age groups. "
   ]
  },
  {
   "cell_type": "code",
   "execution_count": 3,
   "metadata": {},
   "outputs": [
    {
     "data": {
      "image/png": "[encoded data removed]",
      "text/plain": [
       "plot without title"
      ]
     },
     "metadata": {},
     "output_type": "display_data"
    }
   ],
   "source": [
    "ggplot(df_age_group, aes(age)) + \n",
    "geom_histogram(aes(y=..density..), alpha = 0.4, bins = 40) + \n",
    "geom_density(alpha=.2) + \n",
    "theme_minimal()"
   ]
  },
  {
   "cell_type": "code",
   "execution_count": null,
   "metadata": {},
   "outputs": [],
   "source": []
  }
 ],
 "metadata": {
  "kernelspec": {
   "display_name": "R",
   "language": "R",
   "name": "ir"
  },
  "language_info": {
   "codemirror_mode": "r",
   "file_extension": ".r",
   "mimetype": "text/x-r-source",
   "name": "R",
   "pygments_lexer": "r",
   "version": "3.6.0"
  }
 },
 "nbformat": 4,
 "nbformat_minor": 2
}
