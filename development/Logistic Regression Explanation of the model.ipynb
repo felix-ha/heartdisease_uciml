{
 "cells": [
  {
   "cell_type": "markdown",
   "metadata": {},
   "source": [
    "# Logistic Regression: Explanation of the model\n",
    "\n",
    "Given a Observation $x = (1,~x_1, ~...~,~x_p)$ the model assings each $x_i$ the probability $P(y_i = 1 | x_i) = \\pi(x_i)$ with\n",
    "\n",
    "$$\\begin{equation}\n",
    "\\pi(x) := \\frac{e^{x'\\beta}}{1 + e^{x'\\beta}}\n",
    "\\end{equation}$$\n",
    "where $\\beta = (\\beta_0,~\\beta_1,~...~,\\beta_p)$ are the parameters of the model.\n",
    "\n",
    "The *logit* is given by\n",
    "\n",
    "$$\\begin{equation}\n",
    "\\operatorname{g}(x) := ln \\frac{\\pi(x)}{1 + \\pi(x)} = x'\\beta.\n",
    "\\end{equation}$$\n",
    "\n",
    "The parameter $\\beta$ is estimated with the likelihood function $l$:\n",
    "\n",
    "$$\n",
    "l(\\beta) = \\prod_{i = 1}^N \\pi(x_i)^{y_i}[1-\\pi(x_i)]^{1-y_i}\n",
    "$$\n",
    "\n",
    "with log likelihood\n",
    "$$\n",
    "L(\\beta) = \\ln(l(\\beta)) = \\sum_{i=1}^N \\{y_i\\ln(\\pi(x_i) + (1-y_i)\\ln(1- \\pi(x_i)) \\}\n",
    "$$\n",
    "\n",
    "Let's fit the first model. "
   ]
  },
  {
   "cell_type": "code",
   "execution_count": 1,
   "metadata": {},
   "outputs": [
    {
     "name": "stderr",
     "output_type": "stream",
     "text": [
      "Warning message:\n",
      "\"package 'tidyverse' was built under R version 3.6.1\"Registered S3 methods overwritten by 'ggplot2':\n",
      "  method         from \n",
      "  [.quosures     rlang\n",
      "  c.quosures     rlang\n",
      "  print.quosures rlang\n",
      "-- Attaching packages --------------------------------------- tidyverse 1.2.1 --\n",
      "v ggplot2 3.1.1       v purrr   0.3.2  \n",
      "v tibble  2.1.1       v dplyr   0.8.0.1\n",
      "v tidyr   0.8.3       v stringr 1.4.0  \n",
      "v readr   1.3.1       v forcats 0.4.0  \n",
      "-- Conflicts ------------------------------------------ tidyverse_conflicts() --\n",
      "x dplyr::filter() masks stats::filter()\n",
      "x dplyr::lag()    masks stats::lag()\n",
      "Warning message:\n",
      "\"package 'caret' was built under R version 3.6.1\"Loading required package: lattice\n",
      "\n",
      "Attaching package: 'caret'\n",
      "\n",
      "The following object is masked from 'package:purrr':\n",
      "\n",
      "    lift\n",
      "\n",
      "Parsed with column specification:\n",
      "cols(\n",
      "  age = col_double(),\n",
      "  sex = col_double(),\n",
      "  cp = col_double(),\n",
      "  trestbps = col_double(),\n",
      "  chol = col_double(),\n",
      "  fbs = col_double(),\n",
      "  restecg = col_double(),\n",
      "  thalach = col_double(),\n",
      "  exang = col_double(),\n",
      "  oldpeak = col_double(),\n",
      "  slope = col_double(),\n",
      "  ca = col_double(),\n",
      "  thal = col_double(),\n",
      "  target = col_double()\n",
      ")\n"
     ]
    },
    {
     "data": {
      "text/plain": [
       "\n",
       "Call:\n",
       "glm(formula = target ~ ., family = binomial(link = \"logit\"), \n",
       "    data = df)\n",
       "\n",
       "Deviance Residuals: \n",
       "    Min       1Q   Median       3Q      Max  \n",
       "-2.9376  -0.3549   0.1385   0.4600   2.8127  \n",
       "\n",
       "Coefficients:\n",
       "                         Estimate Std. Error z value Pr(>|z|)    \n",
       "(Intercept)            -0.3814076  3.8264252  -0.100 0.920601    \n",
       "age                     0.0042520  0.0263861   0.161 0.871979    \n",
       "thalach                 0.0096797  0.0118175   0.819 0.412727    \n",
       "trestbps               -0.0044225  0.0132797  -0.333 0.739117    \n",
       "oldpeak                -0.6844292  0.2758384  -2.481 0.013092 *  \n",
       "ca                     -0.9410686  0.2547459  -3.694 0.000221 ***\n",
       "chol                   -0.0008056  0.0045057  -0.179 0.858101    \n",
       "restecgST-T_abnormalty  0.9117020  0.4398140   2.073 0.038179 *  \n",
       "restecghypertrophy     -0.1768272  2.4561518  -0.072 0.942607    \n",
       "fbsyes                  0.0585860  0.6347936   0.092 0.926467    \n",
       "sexMale                -1.3420072  0.5909321  -2.271 0.023147 *  \n",
       "exangyes               -0.8313466  0.4807677  -1.729 0.083772 .  \n",
       "cpatypical_angina       0.7191318  0.6303429   1.141 0.253929    \n",
       "cpnon-anginal_pain      2.0988215  0.5706726   3.678 0.000235 ***\n",
       "cpasymptomatic          2.4469153  0.7757203   3.154 0.001608 ** \n",
       "slopeflat              -1.1475340  0.9211283  -1.246 0.212841    \n",
       "slopedownsloping        0.0998458  0.9998008   0.100 0.920451    \n",
       "thalfixed_defect        1.7392515  2.7256805   0.638 0.523410    \n",
       "thalreversable_defect   1.9166635  2.6365148   0.727 0.467245    \n",
       "thal?                   0.4312322  2.6454003   0.163 0.870509    \n",
       "---\n",
       "Signif. codes:  0 '***' 0.001 '**' 0.01 '*' 0.05 '.' 0.1 ' ' 1\n",
       "\n",
       "(Dispersion parameter for binomial family taken to be 1)\n",
       "\n",
       "    Null deviance: 335.05  on 242  degrees of freedom\n",
       "Residual deviance: 153.63  on 223  degrees of freedom\n",
       "AIC: 193.63\n",
       "\n",
       "Number of Fisher Scoring iterations: 6\n"
      ]
     },
     "metadata": {},
     "output_type": "display_data"
    }
   ],
   "source": [
    "source(\"helpers.r\")\n",
    "df <- get_training_df()\n",
    "fit  <- glm(target ~ ., data=df, family =binomial(link = \"logit\"))\n",
    "summary(fit)"
   ]
  },
  {
   "cell_type": "markdown",
   "metadata": {},
   "source": [
    "# Explanation of the R output\n",
    "## Deviance Residuals"
   ]
  },
  {
   "cell_type": "markdown",
   "metadata": {},
   "source": [
    "\n",
    "## Estimate\n",
    "## Std. Error\n",
    "## $z$ value and $P(>|z|)$\n",
    "## Residual and null deviance"
   ]
  },
  {
   "cell_type": "markdown",
   "metadata": {},
   "source": [
    "## Residual and null deviance\n",
    "\n",
    "The deviance is defined as\n",
    "\n",
    "$$\n",
    "D = -2\\ln(l(\\hat{\\beta}))\n",
    "$$\n",
    "\n",
    "Let's calculate the deviance for the whole model from scratch:"
   ]
  },
  {
   "cell_type": "code",
   "execution_count": 2,
   "metadata": {
    "scrolled": true
   },
   "outputs": [
    {
     "data": {
      "text/html": [
       "153.63351915269"
      ],
      "text/latex": [
       "153.63351915269"
      ],
      "text/markdown": [
       "153.63351915269"
      ],
      "text/plain": [
       "[1] 153.6335"
      ]
     },
     "metadata": {},
     "output_type": "display_data"
    }
   ],
   "source": [
    "library(purrr)\n",
    "pi <- predict(fit, df,  type=\"response\")\n",
    "y <- ifelse(df$target == \"no_disease\", 0, 1)\n",
    "likelihood <- function(pi, y) pi ^ y * (1 - pi) ^ (1 - y)\n",
    "(deviance <- -2 * log(prod(map2_dbl(pi, y, likelihood))))"
   ]
  },
  {
   "cell_type": "markdown",
   "metadata": {},
   "source": [
    "It is the same as the residual deviance of the summary of the fit. The null deviance is the deviance for the model containing only the intercept. This model estimates the probability for $y_i = 1$ with the average occurrence of $y = 1$:"
   ]
  },
  {
   "cell_type": "code",
   "execution_count": 3,
   "metadata": {},
   "outputs": [
    {
     "data": {
      "text/html": [
       "<table>\n",
       "<thead><tr><th scope=col>target</th><th scope=col>n</th></tr></thead>\n",
       "<tbody>\n",
       "\t<tr><td>no_disease</td><td>111       </td></tr>\n",
       "\t<tr><td>disease   </td><td>132       </td></tr>\n",
       "</tbody>\n",
       "</table>\n"
      ],
      "text/latex": [
       "\\begin{tabular}{r|ll}\n",
       " target & n\\\\\n",
       "\\hline\n",
       "\t no\\_disease & 111         \\\\\n",
       "\t disease    & 132       \\\\\n",
       "\\end{tabular}\n"
      ],
      "text/markdown": [
       "\n",
       "| target | n |\n",
       "|---|---|\n",
       "| no_disease | 111        |\n",
       "| disease    | 132        |\n",
       "\n"
      ],
      "text/plain": [
       "  target     n  \n",
       "1 no_disease 111\n",
       "2 disease    132"
      ]
     },
     "metadata": {},
     "output_type": "display_data"
    },
    {
     "data": {
      "text/html": [
       "0.54320987654321"
      ],
      "text/latex": [
       "0.54320987654321"
      ],
      "text/markdown": [
       "0.54320987654321"
      ],
      "text/plain": [
       "[1] 0.5432099"
      ]
     },
     "metadata": {},
     "output_type": "display_data"
    },
    {
     "data": {
      "text/html": [
       "335.052449209366"
      ],
      "text/latex": [
       "335.052449209366"
      ],
      "text/markdown": [
       "335.052449209366"
      ],
      "text/plain": [
       "[1] 335.0524"
      ]
     },
     "metadata": {},
     "output_type": "display_data"
    }
   ],
   "source": [
    "N <- nrow(df)\n",
    "df %>% count(target)\n",
    "(pi_avg <- 132 / N)\n",
    "pi <- rep(pi_avg, N)\n",
    "(deviance <- -2 * log(prod(map2_dbl(pi, y, likelihood))))"
   ]
  },
  {
   "cell_type": "markdown",
   "metadata": {},
   "source": [
    "So $\\pi(x_i) = 0.54$ for all $i = 1, ..., N$. You get the same result if you would fit a glm model, that contains only the intercept:"
   ]
  },
  {
   "cell_type": "code",
   "execution_count": 4,
   "metadata": {},
   "outputs": [
    {
     "data": {
      "text/html": [
       "<table>\n",
       "<thead><tr><th scope=col>estimate</th></tr></thead>\n",
       "<tbody>\n",
       "\t<tr><td>0.5432099</td></tr>\n",
       "</tbody>\n",
       "</table>\n"
      ],
      "text/latex": [
       "\\begin{tabular}{r|l}\n",
       " estimate\\\\\n",
       "\\hline\n",
       "\t 0.5432099\\\\\n",
       "\\end{tabular}\n"
      ],
      "text/markdown": [
       "\n",
       "| estimate |\n",
       "|---|\n",
       "| 0.5432099 |\n",
       "\n"
      ],
      "text/plain": [
       "  estimate \n",
       "1 0.5432099"
      ]
     },
     "metadata": {},
     "output_type": "display_data"
    }
   ],
   "source": [
    "library(broom)\n",
    "fit  <- glm(target ~ 1, data=df, family =binomial(link = \"logit\"))\n",
    "beta_0 <- (tidy(fit))[2]\n",
    "(pi_avg_fit <- exp(beta_0) / (1 + exp(beta_0)))"
   ]
  },
  {
   "cell_type": "markdown",
   "metadata": {},
   "source": [
    "## AIC\n",
    "## Number of Fisher Scoring iterations"
   ]
  },
  {
   "cell_type": "markdown",
   "metadata": {},
   "source": [
    "## Fitting a model only using significant predictors"
   ]
  },
  {
   "cell_type": "code",
   "execution_count": 5,
   "metadata": {},
   "outputs": [
    {
     "data": {
      "text/plain": [
       "\n",
       "Call:\n",
       "glm(formula = target ~ oldpeak + ca + restecg + sex + cp, family = binomial(link = \"logit\"), \n",
       "    data = df)\n",
       "\n",
       "Deviance Residuals: \n",
       "    Min       1Q   Median       3Q      Max  \n",
       "-2.5178  -0.5177   0.2164   0.5578   2.2848  \n",
       "\n",
       "Coefficients:\n",
       "                       Estimate Std. Error z value Pr(>|z|)    \n",
       "(Intercept)              1.1810     0.4950   2.386  0.01704 *  \n",
       "oldpeak                 -1.0092     0.2171  -4.649 3.34e-06 ***\n",
       "ca                      -0.8647     0.2055  -4.207 2.59e-05 ***\n",
       "restecgST-T_abnormalty   0.7777     0.3790   2.052  0.04015 *  \n",
       "restecghypertrophy      -0.7284     2.1290  -0.342  0.73224    \n",
       "sexMale                 -1.3938     0.4486  -3.107  0.00189 ** \n",
       "cpatypical_angina        1.5919     0.5205   3.058  0.00223 ** \n",
       "cpnon-anginal_pain       2.5618     0.4811   5.325 1.01e-07 ***\n",
       "cpasymptomatic           2.9029     0.7255   4.001 6.30e-05 ***\n",
       "---\n",
       "Signif. codes:  0 '***' 0.001 '**' 0.01 '*' 0.05 '.' 0.1 ' ' 1\n",
       "\n",
       "(Dispersion parameter for binomial family taken to be 1)\n",
       "\n",
       "    Null deviance: 335.05  on 242  degrees of freedom\n",
       "Residual deviance: 186.84  on 234  degrees of freedom\n",
       "AIC: 204.84\n",
       "\n",
       "Number of Fisher Scoring iterations: 6\n"
      ]
     },
     "metadata": {},
     "output_type": "display_data"
    }
   ],
   "source": [
    "fit_sig  <- glm(target ~ oldpeak + ca + restecg + sex + cp, data=df, family =binomial(link = \"logit\"))\n",
    "summary(fit_sig)"
   ]
  },
  {
   "cell_type": "markdown",
   "metadata": {},
   "source": [
    "## Likelihood ratio test"
   ]
  },
  {
   "cell_type": "code",
   "execution_count": 6,
   "metadata": {},
   "outputs": [
    {
     "name": "stderr",
     "output_type": "stream",
     "text": [
      "Warning message:\n",
      "\"package 'lmtest' was built under R version 3.6.1\"Loading required package: zoo\n",
      "Warning message:\n",
      "\"package 'zoo' was built under R version 3.6.1\"\n",
      "Attaching package: 'zoo'\n",
      "\n",
      "The following objects are masked from 'package:base':\n",
      "\n",
      "    as.Date, as.Date.numeric\n",
      "\n"
     ]
    },
    {
     "data": {
      "text/html": [
       "<table>\n",
       "<thead><tr><th scope=col>#Df</th><th scope=col>LogLik</th><th scope=col>Df</th><th scope=col>Chisq</th><th scope=col>Pr(&gt;Chisq)</th></tr></thead>\n",
       "<tbody>\n",
       "\t<tr><td>1           </td><td>-167.52622  </td><td>NA          </td><td>      NA    </td><td>          NA</td></tr>\n",
       "\t<tr><td>9           </td><td> -93.42006  </td><td> 8          </td><td>148.2123    </td><td>4.626035e-28</td></tr>\n",
       "</tbody>\n",
       "</table>\n"
      ],
      "text/latex": [
       "\\begin{tabular}{r|lllll}\n",
       " \\#Df & LogLik & Df & Chisq & Pr(>Chisq)\\\\\n",
       "\\hline\n",
       "\t 1            & -167.52622   & NA           &       NA     &           NA\\\\\n",
       "\t 9            &  -93.42006   &  8           & 148.2123     & 4.626035e-28\\\\\n",
       "\\end{tabular}\n"
      ],
      "text/markdown": [
       "\n",
       "| #Df | LogLik | Df | Chisq | Pr(>Chisq) |\n",
       "|---|---|---|---|---|\n",
       "| 1            | -167.52622   | NA           |       NA     |           NA |\n",
       "| 9            |  -93.42006   |  8           | 148.2123     | 4.626035e-28 |\n",
       "\n"
      ],
      "text/plain": [
       "  #Df LogLik     Df Chisq    Pr(>Chisq)  \n",
       "1 1   -167.52622 NA       NA           NA\n",
       "2 9    -93.42006  8 148.2123 4.626035e-28"
      ]
     },
     "metadata": {},
     "output_type": "display_data"
    }
   ],
   "source": [
    "library(lmtest)\n",
    "lrtest(fit, fit_sig)"
   ]
  }
 ],
 "metadata": {
  "kernelspec": {
   "display_name": "R",
   "language": "R",
   "name": "ir"
  },
  "language_info": {
   "codemirror_mode": "r",
   "file_extension": ".r",
   "mimetype": "text/x-r-source",
   "name": "R",
   "pygments_lexer": "r",
   "version": "3.6.0"
  }
 },
 "nbformat": 4,
 "nbformat_minor": 2
}
