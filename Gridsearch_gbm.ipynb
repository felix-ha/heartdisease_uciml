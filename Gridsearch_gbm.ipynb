{
 "cells": [
  {
   "cell_type": "code",
   "execution_count": 1,
   "metadata": {},
   "outputs": [
    {
     "name": "stderr",
     "output_type": "stream",
     "text": [
      "Warning message:\n",
      "\"package 'caret' was built under R version 3.6.1\"Loading required package: lattice\n",
      "Loading required package: ggplot2\n",
      "Registered S3 methods overwritten by 'ggplot2':\n",
      "  method         from \n",
      "  [.quosures     rlang\n",
      "  c.quosures     rlang\n",
      "  print.quosures rlang\n",
      "Warning message:\n",
      "\"package 'MLmetrics' was built under R version 3.6.1\"\n",
      "Attaching package: 'MLmetrics'\n",
      "\n",
      "The following objects are masked from 'package:caret':\n",
      "\n",
      "    MAE, RMSE\n",
      "\n",
      "The following object is masked from 'package:base':\n",
      "\n",
      "    Recall\n",
      "\n",
      "Warning message:\n",
      "\"package 'tidyverse' was built under R version 3.6.1\"-- Attaching packages --------------------------------------- tidyverse 1.2.1 --\n",
      "v tibble  2.1.1       v purrr   0.3.2  \n",
      "v tidyr   0.8.3       v dplyr   0.8.0.1\n",
      "v readr   1.3.1       v stringr 1.4.0  \n",
      "v tibble  2.1.1       v forcats 0.4.0  \n",
      "-- Conflicts ------------------------------------------ tidyverse_conflicts() --\n",
      "x dplyr::filter() masks stats::filter()\n",
      "x dplyr::lag()    masks stats::lag()\n",
      "x purrr::lift()   masks caret::lift()\n",
      "\n",
      "Attaching package: 'magrittr'\n",
      "\n",
      "The following object is masked from 'package:purrr':\n",
      "\n",
      "    set_names\n",
      "\n",
      "The following object is masked from 'package:tidyr':\n",
      "\n",
      "    extract\n",
      "\n",
      "Warning message:\n",
      "\"package 'gbm' was built under R version 3.6.2\"Loaded gbm 2.1.5\n",
      "Warning message in if (nTrain * bag.fraction <= 2 * n.minobsinnode + 1) {:\n",
      "\"Bedingung hat Länge > 1 und nur das erste Element wird benutzt\"Warning message in if (nTrain * bag.fraction <= 2 * n.minobsinnode + 1) {:\n",
      "\"Bedingung hat Länge > 1 und nur das erste Element wird benutzt\"Warning message in if (nTrain * bag.fraction <= 2 * n.minobsinnode + 1) {:\n",
      "\"Bedingung hat Länge > 1 und nur das erste Element wird benutzt\"Warning message in if (nTrain * bag.fraction <= 2 * n.minobsinnode + 1) {:\n",
      "\"Bedingung hat Länge > 1 und nur das erste Element wird benutzt\"Warning message in if (nTrain * bag.fraction <= 2 * n.minobsinnode + 1) {:\n",
      "\"Bedingung hat Länge > 1 und nur das erste Element wird benutzt\"Warning message in if (nTrain * bag.fraction <= 2 * n.minobsinnode + 1) {:\n",
      "\"Bedingung hat Länge > 1 und nur das erste Element wird benutzt\"Warning message in if (nTrain * bag.fraction <= 2 * n.minobsinnode + 1) {:\n",
      "\"Bedingung hat Länge > 1 und nur das erste Element wird benutzt\"Warning message in if (nTrain * bag.fraction <= 2 * n.minobsinnode + 1) {:\n",
      "\"Bedingung hat Länge > 1 und nur das erste Element wird benutzt\"Warning message in if (nTrain * bag.fraction <= 2 * n.minobsinnode + 1) {:\n",
      "\"Bedingung hat Länge > 1 und nur das erste Element wird benutzt\"Warning message in if (nTrain * bag.fraction <= 2 * n.minobsinnode + 1) {:\n",
      "\"Bedingung hat Länge > 1 und nur das erste Element wird benutzt\""
     ]
    },
    {
     "name": "stdout",
     "output_type": "stream",
     "text": [
      "[1] 0.8852148\n"
     ]
    },
    {
     "name": "stderr",
     "output_type": "stream",
     "text": [
      "Warning message in if (nTrain * bag.fraction <= 2 * n.minobsinnode + 1) {:\n",
      "\"Bedingung hat Länge > 1 und nur das erste Element wird benutzt\"Warning message in if (nTrain * bag.fraction <= 2 * n.minobsinnode + 1) {:\n",
      "\"Bedingung hat Länge > 1 und nur das erste Element wird benutzt\"Warning message in if (nTrain * bag.fraction <= 2 * n.minobsinnode + 1) {:\n",
      "\"Bedingung hat Länge > 1 und nur das erste Element wird benutzt\"Warning message in if (nTrain * bag.fraction <= 2 * n.minobsinnode + 1) {:\n",
      "\"Bedingung hat Länge > 1 und nur das erste Element wird benutzt\"Warning message in if (nTrain * bag.fraction <= 2 * n.minobsinnode + 1) {:\n",
      "\"Bedingung hat Länge > 1 und nur das erste Element wird benutzt\"Warning message in if (nTrain * bag.fraction <= 2 * n.minobsinnode + 1) {:\n",
      "\"Bedingung hat Länge > 1 und nur das erste Element wird benutzt\"Warning message in if (nTrain * bag.fraction <= 2 * n.minobsinnode + 1) {:\n",
      "\"Bedingung hat Länge > 1 und nur das erste Element wird benutzt\"Warning message in if (nTrain * bag.fraction <= 2 * n.minobsinnode + 1) {:\n",
      "\"Bedingung hat Länge > 1 und nur das erste Element wird benutzt\"Warning message in if (nTrain * bag.fraction <= 2 * n.minobsinnode + 1) {:\n",
      "\"Bedingung hat Länge > 1 und nur das erste Element wird benutzt\"Warning message in if (nTrain * bag.fraction <= 2 * n.minobsinnode + 1) {:\n",
      "\"Bedingung hat Länge > 1 und nur das erste Element wird benutzt\""
     ]
    },
    {
     "name": "stdout",
     "output_type": "stream",
     "text": [
      "[1] 0.8957642\n"
     ]
    },
    {
     "name": "stderr",
     "output_type": "stream",
     "text": [
      "Warning message in if (nTrain * bag.fraction <= 2 * n.minobsinnode + 1) {:\n",
      "\"Bedingung hat Länge > 1 und nur das erste Element wird benutzt\"Warning message in if (nTrain * bag.fraction <= 2 * n.minobsinnode + 1) {:\n",
      "\"Bedingung hat Länge > 1 und nur das erste Element wird benutzt\"Warning message in if (nTrain * bag.fraction <= 2 * n.minobsinnode + 1) {:\n",
      "\"Bedingung hat Länge > 1 und nur das erste Element wird benutzt\"Warning message in if (nTrain * bag.fraction <= 2 * n.minobsinnode + 1) {:\n",
      "\"Bedingung hat Länge > 1 und nur das erste Element wird benutzt\"Warning message in if (nTrain * bag.fraction <= 2 * n.minobsinnode + 1) {:\n",
      "\"Bedingung hat Länge > 1 und nur das erste Element wird benutzt\"Warning message in if (nTrain * bag.fraction <= 2 * n.minobsinnode + 1) {:\n",
      "\"Bedingung hat Länge > 1 und nur das erste Element wird benutzt\"Warning message in if (nTrain * bag.fraction <= 2 * n.minobsinnode + 1) {:\n",
      "\"Bedingung hat Länge > 1 und nur das erste Element wird benutzt\"Warning message in if (nTrain * bag.fraction <= 2 * n.minobsinnode + 1) {:\n",
      "\"Bedingung hat Länge > 1 und nur das erste Element wird benutzt\"Warning message in if (nTrain * bag.fraction <= 2 * n.minobsinnode + 1) {:\n",
      "\"Bedingung hat Länge > 1 und nur das erste Element wird benutzt\"Warning message in if (nTrain * bag.fraction <= 2 * n.minobsinnode + 1) {:\n",
      "\"Bedingung hat Länge > 1 und nur das erste Element wird benutzt\""
     ]
    },
    {
     "name": "stdout",
     "output_type": "stream",
     "text": [
      "[1] 0.8826823\n"
     ]
    },
    {
     "name": "stderr",
     "output_type": "stream",
     "text": [
      "Warning message in if (nTrain * bag.fraction <= 2 * n.minobsinnode + 1) {:\n",
      "\"Bedingung hat Länge > 1 und nur das erste Element wird benutzt\"Warning message in if (nTrain * bag.fraction <= 2 * n.minobsinnode + 1) {:\n",
      "\"Bedingung hat Länge > 1 und nur das erste Element wird benutzt\"Warning message in if (nTrain * bag.fraction <= 2 * n.minobsinnode + 1) {:\n",
      "\"Bedingung hat Länge > 1 und nur das erste Element wird benutzt\"Warning message in if (nTrain * bag.fraction <= 2 * n.minobsinnode + 1) {:\n",
      "\"Bedingung hat Länge > 1 und nur das erste Element wird benutzt\"Warning message in if (nTrain * bag.fraction <= 2 * n.minobsinnode + 1) {:\n",
      "\"Bedingung hat Länge > 1 und nur das erste Element wird benutzt\"Warning message in if (nTrain * bag.fraction <= 2 * n.minobsinnode + 1) {:\n",
      "\"Bedingung hat Länge > 1 und nur das erste Element wird benutzt\"Warning message in if (nTrain * bag.fraction <= 2 * n.minobsinnode + 1) {:\n",
      "\"Bedingung hat Länge > 1 und nur das erste Element wird benutzt\"Warning message in if (nTrain * bag.fraction <= 2 * n.minobsinnode + 1) {:\n",
      "\"Bedingung hat Länge > 1 und nur das erste Element wird benutzt\"Warning message in if (nTrain * bag.fraction <= 2 * n.minobsinnode + 1) {:\n",
      "\"Bedingung hat Länge > 1 und nur das erste Element wird benutzt\"Warning message in if (nTrain * bag.fraction <= 2 * n.minobsinnode + 1) {:\n",
      "\"Bedingung hat Länge > 1 und nur das erste Element wird benutzt\""
     ]
    },
    {
     "name": "stdout",
     "output_type": "stream",
     "text": [
      "[1] 0.8846104\n"
     ]
    },
    {
     "name": "stderr",
     "output_type": "stream",
     "text": [
      "Warning message in if (nTrain * bag.fraction <= 2 * n.minobsinnode + 1) {:\n",
      "\"Bedingung hat Länge > 1 und nur das erste Element wird benutzt\"Warning message in if (nTrain * bag.fraction <= 2 * n.minobsinnode + 1) {:\n",
      "\"Bedingung hat Länge > 1 und nur das erste Element wird benutzt\"Warning message in if (nTrain * bag.fraction <= 2 * n.minobsinnode + 1) {:\n",
      "\"Bedingung hat Länge > 1 und nur das erste Element wird benutzt\"Warning message in if (nTrain * bag.fraction <= 2 * n.minobsinnode + 1) {:\n",
      "\"Bedingung hat Länge > 1 und nur das erste Element wird benutzt\"Warning message in if (nTrain * bag.fraction <= 2 * n.minobsinnode + 1) {:\n",
      "\"Bedingung hat Länge > 1 und nur das erste Element wird benutzt\"Warning message in if (nTrain * bag.fraction <= 2 * n.minobsinnode + 1) {:\n",
      "\"Bedingung hat Länge > 1 und nur das erste Element wird benutzt\"Warning message in if (nTrain * bag.fraction <= 2 * n.minobsinnode + 1) {:\n",
      "\"Bedingung hat Länge > 1 und nur das erste Element wird benutzt\"Warning message in if (nTrain * bag.fraction <= 2 * n.minobsinnode + 1) {:\n",
      "\"Bedingung hat Länge > 1 und nur das erste Element wird benutzt\"Warning message in if (nTrain * bag.fraction <= 2 * n.minobsinnode + 1) {:\n",
      "\"Bedingung hat Länge > 1 und nur das erste Element wird benutzt\"Warning message in if (nTrain * bag.fraction <= 2 * n.minobsinnode + 1) {:\n",
      "\"Bedingung hat Länge > 1 und nur das erste Element wird benutzt\""
     ]
    },
    {
     "name": "stdout",
     "output_type": "stream",
     "text": [
      "[1] 0.8902747\n"
     ]
    },
    {
     "name": "stderr",
     "output_type": "stream",
     "text": [
      "Warning message in if (nTrain * bag.fraction <= 2 * n.minobsinnode + 1) {:\n",
      "\"Bedingung hat Länge > 1 und nur das erste Element wird benutzt\"Warning message in if (nTrain * bag.fraction <= 2 * n.minobsinnode + 1) {:\n",
      "\"Bedingung hat Länge > 1 und nur das erste Element wird benutzt\"Warning message in if (nTrain * bag.fraction <= 2 * n.minobsinnode + 1) {:\n",
      "\"Bedingung hat Länge > 1 und nur das erste Element wird benutzt\"Warning message in if (nTrain * bag.fraction <= 2 * n.minobsinnode + 1) {:\n",
      "\"Bedingung hat Länge > 1 und nur das erste Element wird benutzt\"Warning message in if (nTrain * bag.fraction <= 2 * n.minobsinnode + 1) {:\n",
      "\"Bedingung hat Länge > 1 und nur das erste Element wird benutzt\"Warning message in if (nTrain * bag.fraction <= 2 * n.minobsinnode + 1) {:\n",
      "\"Bedingung hat Länge > 1 und nur das erste Element wird benutzt\"Warning message in if (nTrain * bag.fraction <= 2 * n.minobsinnode + 1) {:\n",
      "\"Bedingung hat Länge > 1 und nur das erste Element wird benutzt\"Warning message in if (nTrain * bag.fraction <= 2 * n.minobsinnode + 1) {:\n",
      "\"Bedingung hat Länge > 1 und nur das erste Element wird benutzt\"Warning message in if (nTrain * bag.fraction <= 2 * n.minobsinnode + 1) {:\n",
      "\"Bedingung hat Länge > 1 und nur das erste Element wird benutzt\"Warning message in if (nTrain * bag.fraction <= 2 * n.minobsinnode + 1) {:\n",
      "\"Bedingung hat Länge > 1 und nur das erste Element wird benutzt\""
     ]
    },
    {
     "name": "stdout",
     "output_type": "stream",
     "text": [
      "[1] 0.8936663\n"
     ]
    },
    {
     "name": "stderr",
     "output_type": "stream",
     "text": [
      "Warning message in if (nTrain * bag.fraction <= 2 * n.minobsinnode + 1) {:\n",
      "\"Bedingung hat Länge > 1 und nur das erste Element wird benutzt\"Warning message in if (nTrain * bag.fraction <= 2 * n.minobsinnode + 1) {:\n",
      "\"Bedingung hat Länge > 1 und nur das erste Element wird benutzt\"Warning message in if (nTrain * bag.fraction <= 2 * n.minobsinnode + 1) {:\n",
      "\"Bedingung hat Länge > 1 und nur das erste Element wird benutzt\"Warning message in if (nTrain * bag.fraction <= 2 * n.minobsinnode + 1) {:\n",
      "\"Bedingung hat Länge > 1 und nur das erste Element wird benutzt\"Warning message in if (nTrain * bag.fraction <= 2 * n.minobsinnode + 1) {:\n",
      "\"Bedingung hat Länge > 1 und nur das erste Element wird benutzt\"Warning message in if (nTrain * bag.fraction <= 2 * n.minobsinnode + 1) {:\n",
      "\"Bedingung hat Länge > 1 und nur das erste Element wird benutzt\"Warning message in if (nTrain * bag.fraction <= 2 * n.minobsinnode + 1) {:\n",
      "\"Bedingung hat Länge > 1 und nur das erste Element wird benutzt\"Warning message in if (nTrain * bag.fraction <= 2 * n.minobsinnode + 1) {:\n",
      "\"Bedingung hat Länge > 1 und nur das erste Element wird benutzt\"Warning message in if (nTrain * bag.fraction <= 2 * n.minobsinnode + 1) {:\n",
      "\"Bedingung hat Länge > 1 und nur das erste Element wird benutzt\"Warning message in if (nTrain * bag.fraction <= 2 * n.minobsinnode + 1) {:\n",
      "\"Bedingung hat Länge > 1 und nur das erste Element wird benutzt\""
     ]
    },
    {
     "name": "stdout",
     "output_type": "stream",
     "text": [
      "[1] 0.8945055\n"
     ]
    },
    {
     "name": "stderr",
     "output_type": "stream",
     "text": [
      "Warning message in if (nTrain * bag.fraction <= 2 * n.minobsinnode + 1) {:\n",
      "\"Bedingung hat Länge > 1 und nur das erste Element wird benutzt\"Warning message in if (nTrain * bag.fraction <= 2 * n.minobsinnode + 1) {:\n",
      "\"Bedingung hat Länge > 1 und nur das erste Element wird benutzt\"Warning message in if (nTrain * bag.fraction <= 2 * n.minobsinnode + 1) {:\n",
      "\"Bedingung hat Länge > 1 und nur das erste Element wird benutzt\"Warning message in if (nTrain * bag.fraction <= 2 * n.minobsinnode + 1) {:\n",
      "\"Bedingung hat Länge > 1 und nur das erste Element wird benutzt\"Warning message in if (nTrain * bag.fraction <= 2 * n.minobsinnode + 1) {:\n",
      "\"Bedingung hat Länge > 1 und nur das erste Element wird benutzt\"Warning message in if (nTrain * bag.fraction <= 2 * n.minobsinnode + 1) {:\n",
      "\"Bedingung hat Länge > 1 und nur das erste Element wird benutzt\"Warning message in if (nTrain * bag.fraction <= 2 * n.minobsinnode + 1) {:\n",
      "\"Bedingung hat Länge > 1 und nur das erste Element wird benutzt\"Warning message in if (nTrain * bag.fraction <= 2 * n.minobsinnode + 1) {:\n",
      "\"Bedingung hat Länge > 1 und nur das erste Element wird benutzt\"Warning message in if (nTrain * bag.fraction <= 2 * n.minobsinnode + 1) {:\n",
      "\"Bedingung hat Länge > 1 und nur das erste Element wird benutzt\"Warning message in if (nTrain * bag.fraction <= 2 * n.minobsinnode + 1) {:\n",
      "\"Bedingung hat Länge > 1 und nur das erste Element wird benutzt\""
     ]
    },
    {
     "name": "stdout",
     "output_type": "stream",
     "text": [
      "[1] 0.8786314\n"
     ]
    },
    {
     "name": "stderr",
     "output_type": "stream",
     "text": [
      "Warning message in if (nTrain * bag.fraction <= 2 * n.minobsinnode + 1) {:\n",
      "\"Bedingung hat Länge > 1 und nur das erste Element wird benutzt\"Warning message in if (nTrain * bag.fraction <= 2 * n.minobsinnode + 1) {:\n",
      "\"Bedingung hat Länge > 1 und nur das erste Element wird benutzt\"Warning message in if (nTrain * bag.fraction <= 2 * n.minobsinnode + 1) {:\n",
      "\"Bedingung hat Länge > 1 und nur das erste Element wird benutzt\"Warning message in if (nTrain * bag.fraction <= 2 * n.minobsinnode + 1) {:\n",
      "\"Bedingung hat Länge > 1 und nur das erste Element wird benutzt\"Warning message in if (nTrain * bag.fraction <= 2 * n.minobsinnode + 1) {:\n",
      "\"Bedingung hat Länge > 1 und nur das erste Element wird benutzt\"Warning message in if (nTrain * bag.fraction <= 2 * n.minobsinnode + 1) {:\n",
      "\"Bedingung hat Länge > 1 und nur das erste Element wird benutzt\"Warning message in if (nTrain * bag.fraction <= 2 * n.minobsinnode + 1) {:\n",
      "\"Bedingung hat Länge > 1 und nur das erste Element wird benutzt\"Warning message in if (nTrain * bag.fraction <= 2 * n.minobsinnode + 1) {:\n",
      "\"Bedingung hat Länge > 1 und nur das erste Element wird benutzt\"Warning message in if (nTrain * bag.fraction <= 2 * n.minobsinnode + 1) {:\n",
      "\"Bedingung hat Länge > 1 und nur das erste Element wird benutzt\"Warning message in if (nTrain * bag.fraction <= 2 * n.minobsinnode + 1) {:\n",
      "\"Bedingung hat Länge > 1 und nur das erste Element wird benutzt\""
     ]
    },
    {
     "name": "stdout",
     "output_type": "stream",
     "text": [
      "[1] 0.9003447\n"
     ]
    },
    {
     "name": "stderr",
     "output_type": "stream",
     "text": [
      "Warning message in if (nTrain * bag.fraction <= 2 * n.minobsinnode + 1) {:\n",
      "\"Bedingung hat Länge > 1 und nur das erste Element wird benutzt\"Warning message in if (nTrain * bag.fraction <= 2 * n.minobsinnode + 1) {:\n",
      "\"Bedingung hat Länge > 1 und nur das erste Element wird benutzt\"Warning message in if (nTrain * bag.fraction <= 2 * n.minobsinnode + 1) {:\n",
      "\"Bedingung hat Länge > 1 und nur das erste Element wird benutzt\"Warning message in if (nTrain * bag.fraction <= 2 * n.minobsinnode + 1) {:\n",
      "\"Bedingung hat Länge > 1 und nur das erste Element wird benutzt\"Warning message in if (nTrain * bag.fraction <= 2 * n.minobsinnode + 1) {:\n",
      "\"Bedingung hat Länge > 1 und nur das erste Element wird benutzt\"Warning message in if (nTrain * bag.fraction <= 2 * n.minobsinnode + 1) {:\n",
      "\"Bedingung hat Länge > 1 und nur das erste Element wird benutzt\"Warning message in if (nTrain * bag.fraction <= 2 * n.minobsinnode + 1) {:\n",
      "\"Bedingung hat Länge > 1 und nur das erste Element wird benutzt\"Warning message in if (nTrain * bag.fraction <= 2 * n.minobsinnode + 1) {:\n",
      "\"Bedingung hat Länge > 1 und nur das erste Element wird benutzt\"Warning message in if (nTrain * bag.fraction <= 2 * n.minobsinnode + 1) {:\n",
      "\"Bedingung hat Länge > 1 und nur das erste Element wird benutzt\"Warning message in if (nTrain * bag.fraction <= 2 * n.minobsinnode + 1) {:\n",
      "\"Bedingung hat Länge > 1 und nur das erste Element wird benutzt\""
     ]
    },
    {
     "name": "stdout",
     "output_type": "stream",
     "text": [
      "[1] 0.9104595\n"
     ]
    },
    {
     "name": "stderr",
     "output_type": "stream",
     "text": [
      "Warning message in if (nTrain * bag.fraction <= 2 * n.minobsinnode + 1) {:\n",
      "\"Bedingung hat Länge > 1 und nur das erste Element wird benutzt\"Warning message in if (nTrain * bag.fraction <= 2 * n.minobsinnode + 1) {:\n",
      "\"Bedingung hat Länge > 1 und nur das erste Element wird benutzt\"Warning message in if (nTrain * bag.fraction <= 2 * n.minobsinnode + 1) {:\n",
      "\"Bedingung hat Länge > 1 und nur das erste Element wird benutzt\"Warning message in if (nTrain * bag.fraction <= 2 * n.minobsinnode + 1) {:\n",
      "\"Bedingung hat Länge > 1 und nur das erste Element wird benutzt\"Warning message in if (nTrain * bag.fraction <= 2 * n.minobsinnode + 1) {:\n",
      "\"Bedingung hat Länge > 1 und nur das erste Element wird benutzt\"Warning message in if (nTrain * bag.fraction <= 2 * n.minobsinnode + 1) {:\n",
      "\"Bedingung hat Länge > 1 und nur das erste Element wird benutzt\"Warning message in if (nTrain * bag.fraction <= 2 * n.minobsinnode + 1) {:\n",
      "\"Bedingung hat Länge > 1 und nur das erste Element wird benutzt\"Warning message in if (nTrain * bag.fraction <= 2 * n.minobsinnode + 1) {:\n",
      "\"Bedingung hat Länge > 1 und nur das erste Element wird benutzt\"Warning message in if (nTrain * bag.fraction <= 2 * n.minobsinnode + 1) {:\n",
      "\"Bedingung hat Länge > 1 und nur das erste Element wird benutzt\"Warning message in if (nTrain * bag.fraction <= 2 * n.minobsinnode + 1) {:\n",
      "\"Bedingung hat Länge > 1 und nur das erste Element wird benutzt\""
     ]
    },
    {
     "name": "stdout",
     "output_type": "stream",
     "text": [
      "[1] 0.8940609\n"
     ]
    },
    {
     "name": "stderr",
     "output_type": "stream",
     "text": [
      "Warning message in if (nTrain * bag.fraction <= 2 * n.minobsinnode + 1) {:\n",
      "\"Bedingung hat Länge > 1 und nur das erste Element wird benutzt\"Warning message in if (nTrain * bag.fraction <= 2 * n.minobsinnode + 1) {:\n",
      "\"Bedingung hat Länge > 1 und nur das erste Element wird benutzt\"Warning message in if (nTrain * bag.fraction <= 2 * n.minobsinnode + 1) {:\n",
      "\"Bedingung hat Länge > 1 und nur das erste Element wird benutzt\"Warning message in if (nTrain * bag.fraction <= 2 * n.minobsinnode + 1) {:\n",
      "\"Bedingung hat Länge > 1 und nur das erste Element wird benutzt\"Warning message in if (nTrain * bag.fraction <= 2 * n.minobsinnode + 1) {:\n",
      "\"Bedingung hat Länge > 1 und nur das erste Element wird benutzt\"Warning message in if (nTrain * bag.fraction <= 2 * n.minobsinnode + 1) {:\n",
      "\"Bedingung hat Länge > 1 und nur das erste Element wird benutzt\"Warning message in if (nTrain * bag.fraction <= 2 * n.minobsinnode + 1) {:\n",
      "\"Bedingung hat Länge > 1 und nur das erste Element wird benutzt\"Warning message in if (nTrain * bag.fraction <= 2 * n.minobsinnode + 1) {:\n",
      "\"Bedingung hat Länge > 1 und nur das erste Element wird benutzt\"Warning message in if (nTrain * bag.fraction <= 2 * n.minobsinnode + 1) {:\n",
      "\"Bedingung hat Länge > 1 und nur das erste Element wird benutzt\"Warning message in if (nTrain * bag.fraction <= 2 * n.minobsinnode + 1) {:\n",
      "\"Bedingung hat Länge > 1 und nur das erste Element wird benutzt\""
     ]
    },
    {
     "name": "stdout",
     "output_type": "stream",
     "text": [
      "[1] 0.8807542\n"
     ]
    },
    {
     "name": "stderr",
     "output_type": "stream",
     "text": [
      "Warning message in if (nTrain * bag.fraction <= 2 * n.minobsinnode + 1) {:\n",
      "\"Bedingung hat Länge > 1 und nur das erste Element wird benutzt\"Warning message in if (nTrain * bag.fraction <= 2 * n.minobsinnode + 1) {:\n",
      "\"Bedingung hat Länge > 1 und nur das erste Element wird benutzt\"Warning message in if (nTrain * bag.fraction <= 2 * n.minobsinnode + 1) {:\n",
      "\"Bedingung hat Länge > 1 und nur das erste Element wird benutzt\"Warning message in if (nTrain * bag.fraction <= 2 * n.minobsinnode + 1) {:\n",
      "\"Bedingung hat Länge > 1 und nur das erste Element wird benutzt\"Warning message in if (nTrain * bag.fraction <= 2 * n.minobsinnode + 1) {:\n",
      "\"Bedingung hat Länge > 1 und nur das erste Element wird benutzt\"Warning message in if (nTrain * bag.fraction <= 2 * n.minobsinnode + 1) {:\n",
      "\"Bedingung hat Länge > 1 und nur das erste Element wird benutzt\"Warning message in if (nTrain * bag.fraction <= 2 * n.minobsinnode + 1) {:\n",
      "\"Bedingung hat Länge > 1 und nur das erste Element wird benutzt\"Warning message in if (nTrain * bag.fraction <= 2 * n.minobsinnode + 1) {:\n",
      "\"Bedingung hat Länge > 1 und nur das erste Element wird benutzt\"Warning message in if (nTrain * bag.fraction <= 2 * n.minobsinnode + 1) {:\n",
      "\"Bedingung hat Länge > 1 und nur das erste Element wird benutzt\"Warning message in if (nTrain * bag.fraction <= 2 * n.minobsinnode + 1) {:\n",
      "\"Bedingung hat Länge > 1 und nur das erste Element wird benutzt\""
     ]
    },
    {
     "name": "stdout",
     "output_type": "stream",
     "text": [
      "[1] 0.8977872\n"
     ]
    },
    {
     "name": "stderr",
     "output_type": "stream",
     "text": [
      "Warning message in if (nTrain * bag.fraction <= 2 * n.minobsinnode + 1) {:\n",
      "\"Bedingung hat Länge > 1 und nur das erste Element wird benutzt\"Warning message in if (nTrain * bag.fraction <= 2 * n.minobsinnode + 1) {:\n",
      "\"Bedingung hat Länge > 1 und nur das erste Element wird benutzt\"Warning message in if (nTrain * bag.fraction <= 2 * n.minobsinnode + 1) {:\n",
      "\"Bedingung hat Länge > 1 und nur das erste Element wird benutzt\"Warning message in if (nTrain * bag.fraction <= 2 * n.minobsinnode + 1) {:\n",
      "\"Bedingung hat Länge > 1 und nur das erste Element wird benutzt\"Warning message in if (nTrain * bag.fraction <= 2 * n.minobsinnode + 1) {:\n",
      "\"Bedingung hat Länge > 1 und nur das erste Element wird benutzt\"Warning message in if (nTrain * bag.fraction <= 2 * n.minobsinnode + 1) {:\n",
      "\"Bedingung hat Länge > 1 und nur das erste Element wird benutzt\"Warning message in if (nTrain * bag.fraction <= 2 * n.minobsinnode + 1) {:\n",
      "\"Bedingung hat Länge > 1 und nur das erste Element wird benutzt\"Warning message in if (nTrain * bag.fraction <= 2 * n.minobsinnode + 1) {:\n",
      "\"Bedingung hat Länge > 1 und nur das erste Element wird benutzt\"Warning message in if (nTrain * bag.fraction <= 2 * n.minobsinnode + 1) {:\n",
      "\"Bedingung hat Länge > 1 und nur das erste Element wird benutzt\"Warning message in if (nTrain * bag.fraction <= 2 * n.minobsinnode + 1) {:\n",
      "\"Bedingung hat Länge > 1 und nur das erste Element wird benutzt\""
     ]
    },
    {
     "name": "stdout",
     "output_type": "stream",
     "text": [
      "[1] 0.8906444\n"
     ]
    },
    {
     "name": "stderr",
     "output_type": "stream",
     "text": [
      "Warning message in if (nTrain * bag.fraction <= 2 * n.minobsinnode + 1) {:\n",
      "\"Bedingung hat Länge > 1 und nur das erste Element wird benutzt\"Warning message in if (nTrain * bag.fraction <= 2 * n.minobsinnode + 1) {:\n",
      "\"Bedingung hat Länge > 1 und nur das erste Element wird benutzt\"Warning message in if (nTrain * bag.fraction <= 2 * n.minobsinnode + 1) {:\n",
      "\"Bedingung hat Länge > 1 und nur das erste Element wird benutzt\"Warning message in if (nTrain * bag.fraction <= 2 * n.minobsinnode + 1) {:\n",
      "\"Bedingung hat Länge > 1 und nur das erste Element wird benutzt\"Warning message in if (nTrain * bag.fraction <= 2 * n.minobsinnode + 1) {:\n",
      "\"Bedingung hat Länge > 1 und nur das erste Element wird benutzt\"Warning message in if (nTrain * bag.fraction <= 2 * n.minobsinnode + 1) {:\n",
      "\"Bedingung hat Länge > 1 und nur das erste Element wird benutzt\"Warning message in if (nTrain * bag.fraction <= 2 * n.minobsinnode + 1) {:\n",
      "\"Bedingung hat Länge > 1 und nur das erste Element wird benutzt\"Warning message in if (nTrain * bag.fraction <= 2 * n.minobsinnode + 1) {:\n",
      "\"Bedingung hat Länge > 1 und nur das erste Element wird benutzt\"Warning message in if (nTrain * bag.fraction <= 2 * n.minobsinnode + 1) {:\n",
      "\"Bedingung hat Länge > 1 und nur das erste Element wird benutzt\"Warning message in if (nTrain * bag.fraction <= 2 * n.minobsinnode + 1) {:\n",
      "\"Bedingung hat Länge > 1 und nur das erste Element wird benutzt\""
     ]
    },
    {
     "name": "stdout",
     "output_type": "stream",
     "text": [
      "[1] 0.8973377\n"
     ]
    },
    {
     "name": "stderr",
     "output_type": "stream",
     "text": [
      "Warning message in if (nTrain * bag.fraction <= 2 * n.minobsinnode + 1) {:\n",
      "\"Bedingung hat Länge > 1 und nur das erste Element wird benutzt\"Warning message in if (nTrain * bag.fraction <= 2 * n.minobsinnode + 1) {:\n",
      "\"Bedingung hat Länge > 1 und nur das erste Element wird benutzt\"Warning message in if (nTrain * bag.fraction <= 2 * n.minobsinnode + 1) {:\n",
      "\"Bedingung hat Länge > 1 und nur das erste Element wird benutzt\"Warning message in if (nTrain * bag.fraction <= 2 * n.minobsinnode + 1) {:\n",
      "\"Bedingung hat Länge > 1 und nur das erste Element wird benutzt\"Warning message in if (nTrain * bag.fraction <= 2 * n.minobsinnode + 1) {:\n",
      "\"Bedingung hat Länge > 1 und nur das erste Element wird benutzt\"Warning message in if (nTrain * bag.fraction <= 2 * n.minobsinnode + 1) {:\n",
      "\"Bedingung hat Länge > 1 und nur das erste Element wird benutzt\"Warning message in if (nTrain * bag.fraction <= 2 * n.minobsinnode + 1) {:\n",
      "\"Bedingung hat Länge > 1 und nur das erste Element wird benutzt\"Warning message in if (nTrain * bag.fraction <= 2 * n.minobsinnode + 1) {:\n",
      "\"Bedingung hat Länge > 1 und nur das erste Element wird benutzt\"Warning message in if (nTrain * bag.fraction <= 2 * n.minobsinnode + 1) {:\n",
      "\"Bedingung hat Länge > 1 und nur das erste Element wird benutzt\"Warning message in if (nTrain * bag.fraction <= 2 * n.minobsinnode + 1) {:\n",
      "\"Bedingung hat Länge > 1 und nur das erste Element wird benutzt\""
     ]
    },
    {
     "name": "stdout",
     "output_type": "stream",
     "text": [
      "[1] 0.8975425\n"
     ]
    },
    {
     "name": "stderr",
     "output_type": "stream",
     "text": [
      "Warning message in if (nTrain * bag.fraction <= 2 * n.minobsinnode + 1) {:\n",
      "\"Bedingung hat Länge > 1 und nur das erste Element wird benutzt\"Warning message in if (nTrain * bag.fraction <= 2 * n.minobsinnode + 1) {:\n",
      "\"Bedingung hat Länge > 1 und nur das erste Element wird benutzt\"Warning message in if (nTrain * bag.fraction <= 2 * n.minobsinnode + 1) {:\n",
      "\"Bedingung hat Länge > 1 und nur das erste Element wird benutzt\"Warning message in if (nTrain * bag.fraction <= 2 * n.minobsinnode + 1) {:\n",
      "\"Bedingung hat Länge > 1 und nur das erste Element wird benutzt\"Warning message in if (nTrain * bag.fraction <= 2 * n.minobsinnode + 1) {:\n",
      "\"Bedingung hat Länge > 1 und nur das erste Element wird benutzt\"Warning message in if (nTrain * bag.fraction <= 2 * n.minobsinnode + 1) {:\n",
      "\"Bedingung hat Länge > 1 und nur das erste Element wird benutzt\"Warning message in if (nTrain * bag.fraction <= 2 * n.minobsinnode + 1) {:\n",
      "\"Bedingung hat Länge > 1 und nur das erste Element wird benutzt\"Warning message in if (nTrain * bag.fraction <= 2 * n.minobsinnode + 1) {:\n",
      "\"Bedingung hat Länge > 1 und nur das erste Element wird benutzt\"Warning message in if (nTrain * bag.fraction <= 2 * n.minobsinnode + 1) {:\n",
      "\"Bedingung hat Länge > 1 und nur das erste Element wird benutzt\"Warning message in if (nTrain * bag.fraction <= 2 * n.minobsinnode + 1) {:\n",
      "\"Bedingung hat Länge > 1 und nur das erste Element wird benutzt\""
     ]
    },
    {
     "name": "stdout",
     "output_type": "stream",
     "text": [
      "[1] 0.8911588\n"
     ]
    },
    {
     "name": "stderr",
     "output_type": "stream",
     "text": [
      "Warning message in if (nTrain * bag.fraction <= 2 * n.minobsinnode + 1) {:\n",
      "\"Bedingung hat Länge > 1 und nur das erste Element wird benutzt\"Warning message in if (nTrain * bag.fraction <= 2 * n.minobsinnode + 1) {:\n",
      "\"Bedingung hat Länge > 1 und nur das erste Element wird benutzt\"Warning message in if (nTrain * bag.fraction <= 2 * n.minobsinnode + 1) {:\n",
      "\"Bedingung hat Länge > 1 und nur das erste Element wird benutzt\"Warning message in if (nTrain * bag.fraction <= 2 * n.minobsinnode + 1) {:\n",
      "\"Bedingung hat Länge > 1 und nur das erste Element wird benutzt\"Warning message in if (nTrain * bag.fraction <= 2 * n.minobsinnode + 1) {:\n",
      "\"Bedingung hat Länge > 1 und nur das erste Element wird benutzt\"Warning message in if (nTrain * bag.fraction <= 2 * n.minobsinnode + 1) {:\n",
      "\"Bedingung hat Länge > 1 und nur das erste Element wird benutzt\"Warning message in if (nTrain * bag.fraction <= 2 * n.minobsinnode + 1) {:\n",
      "\"Bedingung hat Länge > 1 und nur das erste Element wird benutzt\"Warning message in if (nTrain * bag.fraction <= 2 * n.minobsinnode + 1) {:\n",
      "\"Bedingung hat Länge > 1 und nur das erste Element wird benutzt\"Warning message in if (nTrain * bag.fraction <= 2 * n.minobsinnode + 1) {:\n",
      "\"Bedingung hat Länge > 1 und nur das erste Element wird benutzt\"Warning message in if (nTrain * bag.fraction <= 2 * n.minobsinnode + 1) {:\n",
      "\"Bedingung hat Länge > 1 und nur das erste Element wird benutzt\""
     ]
    },
    {
     "name": "stdout",
     "output_type": "stream",
     "text": [
      "[1] 0.8844805\n"
     ]
    },
    {
     "name": "stderr",
     "output_type": "stream",
     "text": [
      "Warning message in if (nTrain * bag.fraction <= 2 * n.minobsinnode + 1) {:\n",
      "\"Bedingung hat Länge > 1 und nur das erste Element wird benutzt\"Warning message in if (nTrain * bag.fraction <= 2 * n.minobsinnode + 1) {:\n",
      "\"Bedingung hat Länge > 1 und nur das erste Element wird benutzt\"Warning message in if (nTrain * bag.fraction <= 2 * n.minobsinnode + 1) {:\n",
      "\"Bedingung hat Länge > 1 und nur das erste Element wird benutzt\"Warning message in if (nTrain * bag.fraction <= 2 * n.minobsinnode + 1) {:\n",
      "\"Bedingung hat Länge > 1 und nur das erste Element wird benutzt\"Warning message in if (nTrain * bag.fraction <= 2 * n.minobsinnode + 1) {:\n",
      "\"Bedingung hat Länge > 1 und nur das erste Element wird benutzt\"Warning message in if (nTrain * bag.fraction <= 2 * n.minobsinnode + 1) {:\n",
      "\"Bedingung hat Länge > 1 und nur das erste Element wird benutzt\"Warning message in if (nTrain * bag.fraction <= 2 * n.minobsinnode + 1) {:\n",
      "\"Bedingung hat Länge > 1 und nur das erste Element wird benutzt\"Warning message in if (nTrain * bag.fraction <= 2 * n.minobsinnode + 1) {:\n",
      "\"Bedingung hat Länge > 1 und nur das erste Element wird benutzt\"Warning message in if (nTrain * bag.fraction <= 2 * n.minobsinnode + 1) {:\n",
      "\"Bedingung hat Länge > 1 und nur das erste Element wird benutzt\"Warning message in if (nTrain * bag.fraction <= 2 * n.minobsinnode + 1) {:\n",
      "\"Bedingung hat Länge > 1 und nur das erste Element wird benutzt\""
     ]
    },
    {
     "name": "stdout",
     "output_type": "stream",
     "text": [
      "[1] 0.9024775\n"
     ]
    },
    {
     "name": "stderr",
     "output_type": "stream",
     "text": [
      "Warning message in if (nTrain * bag.fraction <= 2 * n.minobsinnode + 1) {:\n",
      "\"Bedingung hat Länge > 1 und nur das erste Element wird benutzt\"Warning message in if (nTrain * bag.fraction <= 2 * n.minobsinnode + 1) {:\n",
      "\"Bedingung hat Länge > 1 und nur das erste Element wird benutzt\"Warning message in if (nTrain * bag.fraction <= 2 * n.minobsinnode + 1) {:\n",
      "\"Bedingung hat Länge > 1 und nur das erste Element wird benutzt\"Warning message in if (nTrain * bag.fraction <= 2 * n.minobsinnode + 1) {:\n",
      "\"Bedingung hat Länge > 1 und nur das erste Element wird benutzt\"Warning message in if (nTrain * bag.fraction <= 2 * n.minobsinnode + 1) {:\n",
      "\"Bedingung hat Länge > 1 und nur das erste Element wird benutzt\"Warning message in if (nTrain * bag.fraction <= 2 * n.minobsinnode + 1) {:\n",
      "\"Bedingung hat Länge > 1 und nur das erste Element wird benutzt\"Warning message in if (nTrain * bag.fraction <= 2 * n.minobsinnode + 1) {:\n",
      "\"Bedingung hat Länge > 1 und nur das erste Element wird benutzt\"Warning message in if (nTrain * bag.fraction <= 2 * n.minobsinnode + 1) {:\n",
      "\"Bedingung hat Länge > 1 und nur das erste Element wird benutzt\"Warning message in if (nTrain * bag.fraction <= 2 * n.minobsinnode + 1) {:\n",
      "\"Bedingung hat Länge > 1 und nur das erste Element wird benutzt\"Warning message in if (nTrain * bag.fraction <= 2 * n.minobsinnode + 1) {:\n",
      "\"Bedingung hat Länge > 1 und nur das erste Element wird benutzt\""
     ]
    },
    {
     "name": "stdout",
     "output_type": "stream",
     "text": [
      "[1] 0.8978621\n"
     ]
    },
    {
     "name": "stderr",
     "output_type": "stream",
     "text": [
      "Warning message in if (nTrain * bag.fraction <= 2 * n.minobsinnode + 1) {:\n",
      "\"Bedingung hat Länge > 1 und nur das erste Element wird benutzt\"Warning message in if (nTrain * bag.fraction <= 2 * n.minobsinnode + 1) {:\n",
      "\"Bedingung hat Länge > 1 und nur das erste Element wird benutzt\"Warning message in if (nTrain * bag.fraction <= 2 * n.minobsinnode + 1) {:\n",
      "\"Bedingung hat Länge > 1 und nur das erste Element wird benutzt\"Warning message in if (nTrain * bag.fraction <= 2 * n.minobsinnode + 1) {:\n",
      "\"Bedingung hat Länge > 1 und nur das erste Element wird benutzt\"Warning message in if (nTrain * bag.fraction <= 2 * n.minobsinnode + 1) {:\n",
      "\"Bedingung hat Länge > 1 und nur das erste Element wird benutzt\"Warning message in if (nTrain * bag.fraction <= 2 * n.minobsinnode + 1) {:\n",
      "\"Bedingung hat Länge > 1 und nur das erste Element wird benutzt\"Warning message in if (nTrain * bag.fraction <= 2 * n.minobsinnode + 1) {:\n",
      "\"Bedingung hat Länge > 1 und nur das erste Element wird benutzt\"Warning message in if (nTrain * bag.fraction <= 2 * n.minobsinnode + 1) {:\n",
      "\"Bedingung hat Länge > 1 und nur das erste Element wird benutzt\"Warning message in if (nTrain * bag.fraction <= 2 * n.minobsinnode + 1) {:\n",
      "\"Bedingung hat Länge > 1 und nur das erste Element wird benutzt\"Warning message in if (nTrain * bag.fraction <= 2 * n.minobsinnode + 1) {:\n",
      "\"Bedingung hat Länge > 1 und nur das erste Element wird benutzt\""
     ]
    },
    {
     "name": "stdout",
     "output_type": "stream",
     "text": [
      "[1] 0.8786713\n"
     ]
    },
    {
     "name": "stderr",
     "output_type": "stream",
     "text": [
      "Warning message in if (nTrain * bag.fraction <= 2 * n.minobsinnode + 1) {:\n",
      "\"Bedingung hat Länge > 1 und nur das erste Element wird benutzt\"Warning message in if (nTrain * bag.fraction <= 2 * n.minobsinnode + 1) {:\n",
      "\"Bedingung hat Länge > 1 und nur das erste Element wird benutzt\"Warning message in if (nTrain * bag.fraction <= 2 * n.minobsinnode + 1) {:\n",
      "\"Bedingung hat Länge > 1 und nur das erste Element wird benutzt\"Warning message in if (nTrain * bag.fraction <= 2 * n.minobsinnode + 1) {:\n",
      "\"Bedingung hat Länge > 1 und nur das erste Element wird benutzt\"Warning message in if (nTrain * bag.fraction <= 2 * n.minobsinnode + 1) {:\n",
      "\"Bedingung hat Länge > 1 und nur das erste Element wird benutzt\"Warning message in if (nTrain * bag.fraction <= 2 * n.minobsinnode + 1) {:\n",
      "\"Bedingung hat Länge > 1 und nur das erste Element wird benutzt\"Warning message in if (nTrain * bag.fraction <= 2 * n.minobsinnode + 1) {:\n",
      "\"Bedingung hat Länge > 1 und nur das erste Element wird benutzt\"Warning message in if (nTrain * bag.fraction <= 2 * n.minobsinnode + 1) {:\n",
      "\"Bedingung hat Länge > 1 und nur das erste Element wird benutzt\"Warning message in if (nTrain * bag.fraction <= 2 * n.minobsinnode + 1) {:\n",
      "\"Bedingung hat Länge > 1 und nur das erste Element wird benutzt\"Warning message in if (nTrain * bag.fraction <= 2 * n.minobsinnode + 1) {:\n",
      "\"Bedingung hat Länge > 1 und nur das erste Element wird benutzt\""
     ]
    },
    {
     "name": "stdout",
     "output_type": "stream",
     "text": [
      "[1] 0.8853347\n"
     ]
    },
    {
     "name": "stderr",
     "output_type": "stream",
     "text": [
      "Warning message in if (nTrain * bag.fraction <= 2 * n.minobsinnode + 1) {:\n",
      "\"Bedingung hat Länge > 1 und nur das erste Element wird benutzt\"Warning message in if (nTrain * bag.fraction <= 2 * n.minobsinnode + 1) {:\n",
      "\"Bedingung hat Länge > 1 und nur das erste Element wird benutzt\"Warning message in if (nTrain * bag.fraction <= 2 * n.minobsinnode + 1) {:\n",
      "\"Bedingung hat Länge > 1 und nur das erste Element wird benutzt\"Warning message in if (nTrain * bag.fraction <= 2 * n.minobsinnode + 1) {:\n",
      "\"Bedingung hat Länge > 1 und nur das erste Element wird benutzt\"Warning message in if (nTrain * bag.fraction <= 2 * n.minobsinnode + 1) {:\n",
      "\"Bedingung hat Länge > 1 und nur das erste Element wird benutzt\"Warning message in if (nTrain * bag.fraction <= 2 * n.minobsinnode + 1) {:\n",
      "\"Bedingung hat Länge > 1 und nur das erste Element wird benutzt\"Warning message in if (nTrain * bag.fraction <= 2 * n.minobsinnode + 1) {:\n",
      "\"Bedingung hat Länge > 1 und nur das erste Element wird benutzt\"Warning message in if (nTrain * bag.fraction <= 2 * n.minobsinnode + 1) {:\n",
      "\"Bedingung hat Länge > 1 und nur das erste Element wird benutzt\"Warning message in if (nTrain * bag.fraction <= 2 * n.minobsinnode + 1) {:\n",
      "\"Bedingung hat Länge > 1 und nur das erste Element wird benutzt\"Warning message in if (nTrain * bag.fraction <= 2 * n.minobsinnode + 1) {:\n",
      "\"Bedingung hat Länge > 1 und nur das erste Element wird benutzt\""
     ]
    },
    {
     "name": "stdout",
     "output_type": "stream",
     "text": [
      "[1] 0.8874525\n"
     ]
    },
    {
     "name": "stderr",
     "output_type": "stream",
     "text": [
      "Warning message in if (nTrain * bag.fraction <= 2 * n.minobsinnode + 1) {:\n",
      "\"Bedingung hat Länge > 1 und nur das erste Element wird benutzt\"Warning message in if (nTrain * bag.fraction <= 2 * n.minobsinnode + 1) {:\n",
      "\"Bedingung hat Länge > 1 und nur das erste Element wird benutzt\"Warning message in if (nTrain * bag.fraction <= 2 * n.minobsinnode + 1) {:\n",
      "\"Bedingung hat Länge > 1 und nur das erste Element wird benutzt\"Warning message in if (nTrain * bag.fraction <= 2 * n.minobsinnode + 1) {:\n",
      "\"Bedingung hat Länge > 1 und nur das erste Element wird benutzt\"Warning message in if (nTrain * bag.fraction <= 2 * n.minobsinnode + 1) {:\n",
      "\"Bedingung hat Länge > 1 und nur das erste Element wird benutzt\"Warning message in if (nTrain * bag.fraction <= 2 * n.minobsinnode + 1) {:\n",
      "\"Bedingung hat Länge > 1 und nur das erste Element wird benutzt\"Warning message in if (nTrain * bag.fraction <= 2 * n.minobsinnode + 1) {:\n",
      "\"Bedingung hat Länge > 1 und nur das erste Element wird benutzt\"Warning message in if (nTrain * bag.fraction <= 2 * n.minobsinnode + 1) {:\n",
      "\"Bedingung hat Länge > 1 und nur das erste Element wird benutzt\"Warning message in if (nTrain * bag.fraction <= 2 * n.minobsinnode + 1) {:\n",
      "\"Bedingung hat Länge > 1 und nur das erste Element wird benutzt\"Warning message in if (nTrain * bag.fraction <= 2 * n.minobsinnode + 1) {:\n",
      "\"Bedingung hat Länge > 1 und nur das erste Element wird benutzt\""
     ]
    },
    {
     "name": "stdout",
     "output_type": "stream",
     "text": [
      "[1] 0.8931469\n"
     ]
    },
    {
     "name": "stderr",
     "output_type": "stream",
     "text": [
      "Warning message in if (nTrain * bag.fraction <= 2 * n.minobsinnode + 1) {:\n",
      "\"Bedingung hat Länge > 1 und nur das erste Element wird benutzt\"Warning message in if (nTrain * bag.fraction <= 2 * n.minobsinnode + 1) {:\n",
      "\"Bedingung hat Länge > 1 und nur das erste Element wird benutzt\"Warning message in if (nTrain * bag.fraction <= 2 * n.minobsinnode + 1) {:\n",
      "\"Bedingung hat Länge > 1 und nur das erste Element wird benutzt\"Warning message in if (nTrain * bag.fraction <= 2 * n.minobsinnode + 1) {:\n",
      "\"Bedingung hat Länge > 1 und nur das erste Element wird benutzt\"Warning message in if (nTrain * bag.fraction <= 2 * n.minobsinnode + 1) {:\n",
      "\"Bedingung hat Länge > 1 und nur das erste Element wird benutzt\"Warning message in if (nTrain * bag.fraction <= 2 * n.minobsinnode + 1) {:\n",
      "\"Bedingung hat Länge > 1 und nur das erste Element wird benutzt\"Warning message in if (nTrain * bag.fraction <= 2 * n.minobsinnode + 1) {:\n",
      "\"Bedingung hat Länge > 1 und nur das erste Element wird benutzt\"Warning message in if (nTrain * bag.fraction <= 2 * n.minobsinnode + 1) {:\n",
      "\"Bedingung hat Länge > 1 und nur das erste Element wird benutzt\"Warning message in if (nTrain * bag.fraction <= 2 * n.minobsinnode + 1) {:\n",
      "\"Bedingung hat Länge > 1 und nur das erste Element wird benutzt\"Warning message in if (nTrain * bag.fraction <= 2 * n.minobsinnode + 1) {:\n",
      "\"Bedingung hat Länge > 1 und nur das erste Element wird benutzt\""
     ]
    },
    {
     "name": "stdout",
     "output_type": "stream",
     "text": [
      "[1] 0.8732517\n"
     ]
    },
    {
     "name": "stderr",
     "output_type": "stream",
     "text": [
      "Warning message in if (nTrain * bag.fraction <= 2 * n.minobsinnode + 1) {:\n",
      "\"Bedingung hat Länge > 1 und nur das erste Element wird benutzt\"Warning message in if (nTrain * bag.fraction <= 2 * n.minobsinnode + 1) {:\n",
      "\"Bedingung hat Länge > 1 und nur das erste Element wird benutzt\"Warning message in if (nTrain * bag.fraction <= 2 * n.minobsinnode + 1) {:\n",
      "\"Bedingung hat Länge > 1 und nur das erste Element wird benutzt\"Warning message in if (nTrain * bag.fraction <= 2 * n.minobsinnode + 1) {:\n",
      "\"Bedingung hat Länge > 1 und nur das erste Element wird benutzt\"Warning message in if (nTrain * bag.fraction <= 2 * n.minobsinnode + 1) {:\n",
      "\"Bedingung hat Länge > 1 und nur das erste Element wird benutzt\"Warning message in if (nTrain * bag.fraction <= 2 * n.minobsinnode + 1) {:\n",
      "\"Bedingung hat Länge > 1 und nur das erste Element wird benutzt\"Warning message in if (nTrain * bag.fraction <= 2 * n.minobsinnode + 1) {:\n",
      "\"Bedingung hat Länge > 1 und nur das erste Element wird benutzt\"Warning message in if (nTrain * bag.fraction <= 2 * n.minobsinnode + 1) {:\n",
      "\"Bedingung hat Länge > 1 und nur das erste Element wird benutzt\"Warning message in if (nTrain * bag.fraction <= 2 * n.minobsinnode + 1) {:\n",
      "\"Bedingung hat Länge > 1 und nur das erste Element wird benutzt\"Warning message in if (nTrain * bag.fraction <= 2 * n.minobsinnode + 1) {:\n",
      "\"Bedingung hat Länge > 1 und nur das erste Element wird benutzt\""
     ]
    },
    {
     "name": "stdout",
     "output_type": "stream",
     "text": [
      "[1] 0.8816234\n"
     ]
    },
    {
     "name": "stderr",
     "output_type": "stream",
     "text": [
      "Warning message in if (nTrain * bag.fraction <= 2 * n.minobsinnode + 1) {:\n",
      "\"Bedingung hat Länge > 1 und nur das erste Element wird benutzt\"Warning message in if (nTrain * bag.fraction <= 2 * n.minobsinnode + 1) {:\n",
      "\"Bedingung hat Länge > 1 und nur das erste Element wird benutzt\"Warning message in if (nTrain * bag.fraction <= 2 * n.minobsinnode + 1) {:\n",
      "\"Bedingung hat Länge > 1 und nur das erste Element wird benutzt\"Warning message in if (nTrain * bag.fraction <= 2 * n.minobsinnode + 1) {:\n",
      "\"Bedingung hat Länge > 1 und nur das erste Element wird benutzt\"Warning message in if (nTrain * bag.fraction <= 2 * n.minobsinnode + 1) {:\n",
      "\"Bedingung hat Länge > 1 und nur das erste Element wird benutzt\"Warning message in if (nTrain * bag.fraction <= 2 * n.minobsinnode + 1) {:\n",
      "\"Bedingung hat Länge > 1 und nur das erste Element wird benutzt\"Warning message in if (nTrain * bag.fraction <= 2 * n.minobsinnode + 1) {:\n",
      "\"Bedingung hat Länge > 1 und nur das erste Element wird benutzt\"Warning message in if (nTrain * bag.fraction <= 2 * n.minobsinnode + 1) {:\n",
      "\"Bedingung hat Länge > 1 und nur das erste Element wird benutzt\"Warning message in if (nTrain * bag.fraction <= 2 * n.minobsinnode + 1) {:\n",
      "\"Bedingung hat Länge > 1 und nur das erste Element wird benutzt\"Warning message in if (nTrain * bag.fraction <= 2 * n.minobsinnode + 1) {:\n",
      "\"Bedingung hat Länge > 1 und nur das erste Element wird benutzt\""
     ]
    },
    {
     "name": "stdout",
     "output_type": "stream",
     "text": [
      "[1] 0.9196603\n"
     ]
    },
    {
     "name": "stderr",
     "output_type": "stream",
     "text": [
      "Warning message in if (nTrain * bag.fraction <= 2 * n.minobsinnode + 1) {:\n",
      "\"Bedingung hat Länge > 1 und nur das erste Element wird benutzt\"Warning message in if (nTrain * bag.fraction <= 2 * n.minobsinnode + 1) {:\n",
      "\"Bedingung hat Länge > 1 und nur das erste Element wird benutzt\"Warning message in if (nTrain * bag.fraction <= 2 * n.minobsinnode + 1) {:\n",
      "\"Bedingung hat Länge > 1 und nur das erste Element wird benutzt\"Warning message in if (nTrain * bag.fraction <= 2 * n.minobsinnode + 1) {:\n",
      "\"Bedingung hat Länge > 1 und nur das erste Element wird benutzt\"Warning message in if (nTrain * bag.fraction <= 2 * n.minobsinnode + 1) {:\n",
      "\"Bedingung hat Länge > 1 und nur das erste Element wird benutzt\"Warning message in if (nTrain * bag.fraction <= 2 * n.minobsinnode + 1) {:\n",
      "\"Bedingung hat Länge > 1 und nur das erste Element wird benutzt\"Warning message in if (nTrain * bag.fraction <= 2 * n.minobsinnode + 1) {:\n",
      "\"Bedingung hat Länge > 1 und nur das erste Element wird benutzt\"Warning message in if (nTrain * bag.fraction <= 2 * n.minobsinnode + 1) {:\n",
      "\"Bedingung hat Länge > 1 und nur das erste Element wird benutzt\"Warning message in if (nTrain * bag.fraction <= 2 * n.minobsinnode + 1) {:\n",
      "\"Bedingung hat Länge > 1 und nur das erste Element wird benutzt\"Warning message in if (nTrain * bag.fraction <= 2 * n.minobsinnode + 1) {:\n",
      "\"Bedingung hat Länge > 1 und nur das erste Element wird benutzt\""
     ]
    },
    {
     "name": "stdout",
     "output_type": "stream",
     "text": [
      "[1] 0.882997\n"
     ]
    },
    {
     "name": "stderr",
     "output_type": "stream",
     "text": [
      "Warning message in if (nTrain * bag.fraction <= 2 * n.minobsinnode + 1) {:\n",
      "\"Bedingung hat Länge > 1 und nur das erste Element wird benutzt\"Warning message in if (nTrain * bag.fraction <= 2 * n.minobsinnode + 1) {:\n",
      "\"Bedingung hat Länge > 1 und nur das erste Element wird benutzt\"Warning message in if (nTrain * bag.fraction <= 2 * n.minobsinnode + 1) {:\n",
      "\"Bedingung hat Länge > 1 und nur das erste Element wird benutzt\"Warning message in if (nTrain * bag.fraction <= 2 * n.minobsinnode + 1) {:\n",
      "\"Bedingung hat Länge > 1 und nur das erste Element wird benutzt\"Warning message in if (nTrain * bag.fraction <= 2 * n.minobsinnode + 1) {:\n",
      "\"Bedingung hat Länge > 1 und nur das erste Element wird benutzt\"Warning message in if (nTrain * bag.fraction <= 2 * n.minobsinnode + 1) {:\n",
      "\"Bedingung hat Länge > 1 und nur das erste Element wird benutzt\"Warning message in if (nTrain * bag.fraction <= 2 * n.minobsinnode + 1) {:\n",
      "\"Bedingung hat Länge > 1 und nur das erste Element wird benutzt\"Warning message in if (nTrain * bag.fraction <= 2 * n.minobsinnode + 1) {:\n",
      "\"Bedingung hat Länge > 1 und nur das erste Element wird benutzt\"Warning message in if (nTrain * bag.fraction <= 2 * n.minobsinnode + 1) {:\n",
      "\"Bedingung hat Länge > 1 und nur das erste Element wird benutzt\"Warning message in if (nTrain * bag.fraction <= 2 * n.minobsinnode + 1) {:\n",
      "\"Bedingung hat Länge > 1 und nur das erste Element wird benutzt\""
     ]
    },
    {
     "name": "stdout",
     "output_type": "stream",
     "text": [
      "[1] 0.895015\n"
     ]
    },
    {
     "name": "stderr",
     "output_type": "stream",
     "text": [
      "Warning message in if (nTrain * bag.fraction <= 2 * n.minobsinnode + 1) {:\n",
      "\"Bedingung hat Länge > 1 und nur das erste Element wird benutzt\"Warning message in if (nTrain * bag.fraction <= 2 * n.minobsinnode + 1) {:\n",
      "\"Bedingung hat Länge > 1 und nur das erste Element wird benutzt\"Warning message in if (nTrain * bag.fraction <= 2 * n.minobsinnode + 1) {:\n",
      "\"Bedingung hat Länge > 1 und nur das erste Element wird benutzt\"Warning message in if (nTrain * bag.fraction <= 2 * n.minobsinnode + 1) {:\n",
      "\"Bedingung hat Länge > 1 und nur das erste Element wird benutzt\"Warning message in if (nTrain * bag.fraction <= 2 * n.minobsinnode + 1) {:\n",
      "\"Bedingung hat Länge > 1 und nur das erste Element wird benutzt\"Warning message in if (nTrain * bag.fraction <= 2 * n.minobsinnode + 1) {:\n",
      "\"Bedingung hat Länge > 1 und nur das erste Element wird benutzt\"Warning message in if (nTrain * bag.fraction <= 2 * n.minobsinnode + 1) {:\n",
      "\"Bedingung hat Länge > 1 und nur das erste Element wird benutzt\"Warning message in if (nTrain * bag.fraction <= 2 * n.minobsinnode + 1) {:\n",
      "\"Bedingung hat Länge > 1 und nur das erste Element wird benutzt\"Warning message in if (nTrain * bag.fraction <= 2 * n.minobsinnode + 1) {:\n",
      "\"Bedingung hat Länge > 1 und nur das erste Element wird benutzt\"Warning message in if (nTrain * bag.fraction <= 2 * n.minobsinnode + 1) {:\n",
      "\"Bedingung hat Länge > 1 und nur das erste Element wird benutzt\""
     ]
    },
    {
     "name": "stdout",
     "output_type": "stream",
     "text": [
      "[1] 0.8635564\n"
     ]
    },
    {
     "name": "stderr",
     "output_type": "stream",
     "text": [
      "Warning message in if (nTrain * bag.fraction <= 2 * n.minobsinnode + 1) {:\n",
      "\"Bedingung hat Länge > 1 und nur das erste Element wird benutzt\"Warning message in if (nTrain * bag.fraction <= 2 * n.minobsinnode + 1) {:\n",
      "\"Bedingung hat Länge > 1 und nur das erste Element wird benutzt\"Warning message in if (nTrain * bag.fraction <= 2 * n.minobsinnode + 1) {:\n",
      "\"Bedingung hat Länge > 1 und nur das erste Element wird benutzt\"Warning message in if (nTrain * bag.fraction <= 2 * n.minobsinnode + 1) {:\n",
      "\"Bedingung hat Länge > 1 und nur das erste Element wird benutzt\"Warning message in if (nTrain * bag.fraction <= 2 * n.minobsinnode + 1) {:\n",
      "\"Bedingung hat Länge > 1 und nur das erste Element wird benutzt\"Warning message in if (nTrain * bag.fraction <= 2 * n.minobsinnode + 1) {:\n",
      "\"Bedingung hat Länge > 1 und nur das erste Element wird benutzt\"Warning message in if (nTrain * bag.fraction <= 2 * n.minobsinnode + 1) {:\n",
      "\"Bedingung hat Länge > 1 und nur das erste Element wird benutzt\"Warning message in if (nTrain * bag.fraction <= 2 * n.minobsinnode + 1) {:\n",
      "\"Bedingung hat Länge > 1 und nur das erste Element wird benutzt\"Warning message in if (nTrain * bag.fraction <= 2 * n.minobsinnode + 1) {:\n",
      "\"Bedingung hat Länge > 1 und nur das erste Element wird benutzt\"Warning message in if (nTrain * bag.fraction <= 2 * n.minobsinnode + 1) {:\n",
      "\"Bedingung hat Länge > 1 und nur das erste Element wird benutzt\""
     ]
    },
    {
     "name": "stdout",
     "output_type": "stream",
     "text": [
      "[1] 0.9162637\n"
     ]
    },
    {
     "name": "stderr",
     "output_type": "stream",
     "text": [
      "Warning message in if (nTrain * bag.fraction <= 2 * n.minobsinnode + 1) {:\n",
      "\"Bedingung hat Länge > 1 und nur das erste Element wird benutzt\"Warning message in if (nTrain * bag.fraction <= 2 * n.minobsinnode + 1) {:\n",
      "\"Bedingung hat Länge > 1 und nur das erste Element wird benutzt\"Warning message in if (nTrain * bag.fraction <= 2 * n.minobsinnode + 1) {:\n",
      "\"Bedingung hat Länge > 1 und nur das erste Element wird benutzt\"Warning message in if (nTrain * bag.fraction <= 2 * n.minobsinnode + 1) {:\n",
      "\"Bedingung hat Länge > 1 und nur das erste Element wird benutzt\"Warning message in if (nTrain * bag.fraction <= 2 * n.minobsinnode + 1) {:\n",
      "\"Bedingung hat Länge > 1 und nur das erste Element wird benutzt\"Warning message in if (nTrain * bag.fraction <= 2 * n.minobsinnode + 1) {:\n",
      "\"Bedingung hat Länge > 1 und nur das erste Element wird benutzt\"Warning message in if (nTrain * bag.fraction <= 2 * n.minobsinnode + 1) {:\n",
      "\"Bedingung hat Länge > 1 und nur das erste Element wird benutzt\"Warning message in if (nTrain * bag.fraction <= 2 * n.minobsinnode + 1) {:\n",
      "\"Bedingung hat Länge > 1 und nur das erste Element wird benutzt\"Warning message in if (nTrain * bag.fraction <= 2 * n.minobsinnode + 1) {:\n",
      "\"Bedingung hat Länge > 1 und nur das erste Element wird benutzt\"Warning message in if (nTrain * bag.fraction <= 2 * n.minobsinnode + 1) {:\n",
      "\"Bedingung hat Länge > 1 und nur das erste Element wird benutzt\""
     ]
    },
    {
     "name": "stdout",
     "output_type": "stream",
     "text": [
      "[1] 0.9147453\n"
     ]
    },
    {
     "name": "stderr",
     "output_type": "stream",
     "text": [
      "Warning message in if (nTrain * bag.fraction <= 2 * n.minobsinnode + 1) {:\n",
      "\"Bedingung hat Länge > 1 und nur das erste Element wird benutzt\"Warning message in if (nTrain * bag.fraction <= 2 * n.minobsinnode + 1) {:\n",
      "\"Bedingung hat Länge > 1 und nur das erste Element wird benutzt\"Warning message in if (nTrain * bag.fraction <= 2 * n.minobsinnode + 1) {:\n",
      "\"Bedingung hat Länge > 1 und nur das erste Element wird benutzt\"Warning message in if (nTrain * bag.fraction <= 2 * n.minobsinnode + 1) {:\n",
      "\"Bedingung hat Länge > 1 und nur das erste Element wird benutzt\"Warning message in if (nTrain * bag.fraction <= 2 * n.minobsinnode + 1) {:\n",
      "\"Bedingung hat Länge > 1 und nur das erste Element wird benutzt\"Warning message in if (nTrain * bag.fraction <= 2 * n.minobsinnode + 1) {:\n",
      "\"Bedingung hat Länge > 1 und nur das erste Element wird benutzt\"Warning message in if (nTrain * bag.fraction <= 2 * n.minobsinnode + 1) {:\n",
      "\"Bedingung hat Länge > 1 und nur das erste Element wird benutzt\"Warning message in if (nTrain * bag.fraction <= 2 * n.minobsinnode + 1) {:\n",
      "\"Bedingung hat Länge > 1 und nur das erste Element wird benutzt\"Warning message in if (nTrain * bag.fraction <= 2 * n.minobsinnode + 1) {:\n",
      "\"Bedingung hat Länge > 1 und nur das erste Element wird benutzt\"Warning message in if (nTrain * bag.fraction <= 2 * n.minobsinnode + 1) {:\n",
      "\"Bedingung hat Länge > 1 und nur das erste Element wird benutzt\""
     ]
    },
    {
     "name": "stdout",
     "output_type": "stream",
     "text": [
      "[1] 0.9173626\n"
     ]
    },
    {
     "name": "stderr",
     "output_type": "stream",
     "text": [
      "Warning message in if (nTrain * bag.fraction <= 2 * n.minobsinnode + 1) {:\n",
      "\"Bedingung hat Länge > 1 und nur das erste Element wird benutzt\"Warning message in if (nTrain * bag.fraction <= 2 * n.minobsinnode + 1) {:\n",
      "\"Bedingung hat Länge > 1 und nur das erste Element wird benutzt\"Warning message in if (nTrain * bag.fraction <= 2 * n.minobsinnode + 1) {:\n",
      "\"Bedingung hat Länge > 1 und nur das erste Element wird benutzt\"Warning message in if (nTrain * bag.fraction <= 2 * n.minobsinnode + 1) {:\n",
      "\"Bedingung hat Länge > 1 und nur das erste Element wird benutzt\"Warning message in if (nTrain * bag.fraction <= 2 * n.minobsinnode + 1) {:\n",
      "\"Bedingung hat Länge > 1 und nur das erste Element wird benutzt\"Warning message in if (nTrain * bag.fraction <= 2 * n.minobsinnode + 1) {:\n",
      "\"Bedingung hat Länge > 1 und nur das erste Element wird benutzt\"Warning message in if (nTrain * bag.fraction <= 2 * n.minobsinnode + 1) {:\n",
      "\"Bedingung hat Länge > 1 und nur das erste Element wird benutzt\"Warning message in if (nTrain * bag.fraction <= 2 * n.minobsinnode + 1) {:\n",
      "\"Bedingung hat Länge > 1 und nur das erste Element wird benutzt\"Warning message in if (nTrain * bag.fraction <= 2 * n.minobsinnode + 1) {:\n",
      "\"Bedingung hat Länge > 1 und nur das erste Element wird benutzt\"Warning message in if (nTrain * bag.fraction <= 2 * n.minobsinnode + 1) {:\n",
      "\"Bedingung hat Länge > 1 und nur das erste Element wird benutzt\""
     ]
    },
    {
     "name": "stdout",
     "output_type": "stream",
     "text": [
      "[1] 0.9120779\n"
     ]
    },
    {
     "name": "stderr",
     "output_type": "stream",
     "text": [
      "Warning message in if (nTrain * bag.fraction <= 2 * n.minobsinnode + 1) {:\n",
      "\"Bedingung hat Länge > 1 und nur das erste Element wird benutzt\"Warning message in if (nTrain * bag.fraction <= 2 * n.minobsinnode + 1) {:\n",
      "\"Bedingung hat Länge > 1 und nur das erste Element wird benutzt\"Warning message in if (nTrain * bag.fraction <= 2 * n.minobsinnode + 1) {:\n",
      "\"Bedingung hat Länge > 1 und nur das erste Element wird benutzt\"Warning message in if (nTrain * bag.fraction <= 2 * n.minobsinnode + 1) {:\n",
      "\"Bedingung hat Länge > 1 und nur das erste Element wird benutzt\"Warning message in if (nTrain * bag.fraction <= 2 * n.minobsinnode + 1) {:\n",
      "\"Bedingung hat Länge > 1 und nur das erste Element wird benutzt\"Warning message in if (nTrain * bag.fraction <= 2 * n.minobsinnode + 1) {:\n",
      "\"Bedingung hat Länge > 1 und nur das erste Element wird benutzt\"Warning message in if (nTrain * bag.fraction <= 2 * n.minobsinnode + 1) {:\n",
      "\"Bedingung hat Länge > 1 und nur das erste Element wird benutzt\"Warning message in if (nTrain * bag.fraction <= 2 * n.minobsinnode + 1) {:\n",
      "\"Bedingung hat Länge > 1 und nur das erste Element wird benutzt\"Warning message in if (nTrain * bag.fraction <= 2 * n.minobsinnode + 1) {:\n",
      "\"Bedingung hat Länge > 1 und nur das erste Element wird benutzt\"Warning message in if (nTrain * bag.fraction <= 2 * n.minobsinnode + 1) {:\n",
      "\"Bedingung hat Länge > 1 und nur das erste Element wird benutzt\""
     ]
    },
    {
     "name": "stdout",
     "output_type": "stream",
     "text": [
      "[1] 0.9195005\n"
     ]
    },
    {
     "name": "stderr",
     "output_type": "stream",
     "text": [
      "Warning message in if (nTrain * bag.fraction <= 2 * n.minobsinnode + 1) {:\n",
      "\"Bedingung hat Länge > 1 und nur das erste Element wird benutzt\"Warning message in if (nTrain * bag.fraction <= 2 * n.minobsinnode + 1) {:\n",
      "\"Bedingung hat Länge > 1 und nur das erste Element wird benutzt\"Warning message in if (nTrain * bag.fraction <= 2 * n.minobsinnode + 1) {:\n",
      "\"Bedingung hat Länge > 1 und nur das erste Element wird benutzt\"Warning message in if (nTrain * bag.fraction <= 2 * n.minobsinnode + 1) {:\n",
      "\"Bedingung hat Länge > 1 und nur das erste Element wird benutzt\"Warning message in if (nTrain * bag.fraction <= 2 * n.minobsinnode + 1) {:\n",
      "\"Bedingung hat Länge > 1 und nur das erste Element wird benutzt\"Warning message in if (nTrain * bag.fraction <= 2 * n.minobsinnode + 1) {:\n",
      "\"Bedingung hat Länge > 1 und nur das erste Element wird benutzt\"Warning message in if (nTrain * bag.fraction <= 2 * n.minobsinnode + 1) {:\n",
      "\"Bedingung hat Länge > 1 und nur das erste Element wird benutzt\"Warning message in if (nTrain * bag.fraction <= 2 * n.minobsinnode + 1) {:\n",
      "\"Bedingung hat Länge > 1 und nur das erste Element wird benutzt\"Warning message in if (nTrain * bag.fraction <= 2 * n.minobsinnode + 1) {:\n",
      "\"Bedingung hat Länge > 1 und nur das erste Element wird benutzt\"Warning message in if (nTrain * bag.fraction <= 2 * n.minobsinnode + 1) {:\n",
      "\"Bedingung hat Länge > 1 und nur das erste Element wird benutzt\""
     ]
    },
    {
     "name": "stdout",
     "output_type": "stream",
     "text": [
      "[1] 0.8972927\n"
     ]
    },
    {
     "name": "stderr",
     "output_type": "stream",
     "text": [
      "Warning message in if (nTrain * bag.fraction <= 2 * n.minobsinnode + 1) {:\n",
      "\"Bedingung hat Länge > 1 und nur das erste Element wird benutzt\"Warning message in if (nTrain * bag.fraction <= 2 * n.minobsinnode + 1) {:\n",
      "\"Bedingung hat Länge > 1 und nur das erste Element wird benutzt\"Warning message in if (nTrain * bag.fraction <= 2 * n.minobsinnode + 1) {:\n",
      "\"Bedingung hat Länge > 1 und nur das erste Element wird benutzt\"Warning message in if (nTrain * bag.fraction <= 2 * n.minobsinnode + 1) {:\n",
      "\"Bedingung hat Länge > 1 und nur das erste Element wird benutzt\"Warning message in if (nTrain * bag.fraction <= 2 * n.minobsinnode + 1) {:\n",
      "\"Bedingung hat Länge > 1 und nur das erste Element wird benutzt\"Warning message in if (nTrain * bag.fraction <= 2 * n.minobsinnode + 1) {:\n",
      "\"Bedingung hat Länge > 1 und nur das erste Element wird benutzt\"Warning message in if (nTrain * bag.fraction <= 2 * n.minobsinnode + 1) {:\n",
      "\"Bedingung hat Länge > 1 und nur das erste Element wird benutzt\"Warning message in if (nTrain * bag.fraction <= 2 * n.minobsinnode + 1) {:\n",
      "\"Bedingung hat Länge > 1 und nur das erste Element wird benutzt\"Warning message in if (nTrain * bag.fraction <= 2 * n.minobsinnode + 1) {:\n",
      "\"Bedingung hat Länge > 1 und nur das erste Element wird benutzt\"Warning message in if (nTrain * bag.fraction <= 2 * n.minobsinnode + 1) {:\n",
      "\"Bedingung hat Länge > 1 und nur das erste Element wird benutzt\""
     ]
    },
    {
     "name": "stdout",
     "output_type": "stream",
     "text": [
      "[1] 0.904985\n"
     ]
    },
    {
     "name": "stderr",
     "output_type": "stream",
     "text": [
      "Warning message in if (nTrain * bag.fraction <= 2 * n.minobsinnode + 1) {:\n",
      "\"Bedingung hat Länge > 1 und nur das erste Element wird benutzt\"Warning message in if (nTrain * bag.fraction <= 2 * n.minobsinnode + 1) {:\n",
      "\"Bedingung hat Länge > 1 und nur das erste Element wird benutzt\"Warning message in if (nTrain * bag.fraction <= 2 * n.minobsinnode + 1) {:\n",
      "\"Bedingung hat Länge > 1 und nur das erste Element wird benutzt\"Warning message in if (nTrain * bag.fraction <= 2 * n.minobsinnode + 1) {:\n",
      "\"Bedingung hat Länge > 1 und nur das erste Element wird benutzt\"Warning message in if (nTrain * bag.fraction <= 2 * n.minobsinnode + 1) {:\n",
      "\"Bedingung hat Länge > 1 und nur das erste Element wird benutzt\"Warning message in if (nTrain * bag.fraction <= 2 * n.minobsinnode + 1) {:\n",
      "\"Bedingung hat Länge > 1 und nur das erste Element wird benutzt\"Warning message in if (nTrain * bag.fraction <= 2 * n.minobsinnode + 1) {:\n",
      "\"Bedingung hat Länge > 1 und nur das erste Element wird benutzt\"Warning message in if (nTrain * bag.fraction <= 2 * n.minobsinnode + 1) {:\n",
      "\"Bedingung hat Länge > 1 und nur das erste Element wird benutzt\"Warning message in if (nTrain * bag.fraction <= 2 * n.minobsinnode + 1) {:\n",
      "\"Bedingung hat Länge > 1 und nur das erste Element wird benutzt\"Warning message in if (nTrain * bag.fraction <= 2 * n.minobsinnode + 1) {:\n",
      "\"Bedingung hat Länge > 1 und nur das erste Element wird benutzt\""
     ]
    },
    {
     "name": "stdout",
     "output_type": "stream",
     "text": [
      "[1] 0.9052048\n"
     ]
    },
    {
     "name": "stderr",
     "output_type": "stream",
     "text": [
      "Warning message in if (nTrain * bag.fraction <= 2 * n.minobsinnode + 1) {:\n",
      "\"Bedingung hat Länge > 1 und nur das erste Element wird benutzt\"Warning message in if (nTrain * bag.fraction <= 2 * n.minobsinnode + 1) {:\n",
      "\"Bedingung hat Länge > 1 und nur das erste Element wird benutzt\"Warning message in if (nTrain * bag.fraction <= 2 * n.minobsinnode + 1) {:\n",
      "\"Bedingung hat Länge > 1 und nur das erste Element wird benutzt\"Warning message in if (nTrain * bag.fraction <= 2 * n.minobsinnode + 1) {:\n",
      "\"Bedingung hat Länge > 1 und nur das erste Element wird benutzt\"Warning message in if (nTrain * bag.fraction <= 2 * n.minobsinnode + 1) {:\n",
      "\"Bedingung hat Länge > 1 und nur das erste Element wird benutzt\"Warning message in if (nTrain * bag.fraction <= 2 * n.minobsinnode + 1) {:\n",
      "\"Bedingung hat Länge > 1 und nur das erste Element wird benutzt\"Warning message in if (nTrain * bag.fraction <= 2 * n.minobsinnode + 1) {:\n",
      "\"Bedingung hat Länge > 1 und nur das erste Element wird benutzt\"Warning message in if (nTrain * bag.fraction <= 2 * n.minobsinnode + 1) {:\n",
      "\"Bedingung hat Länge > 1 und nur das erste Element wird benutzt\"Warning message in if (nTrain * bag.fraction <= 2 * n.minobsinnode + 1) {:\n",
      "\"Bedingung hat Länge > 1 und nur das erste Element wird benutzt\"Warning message in if (nTrain * bag.fraction <= 2 * n.minobsinnode + 1) {:\n",
      "\"Bedingung hat Länge > 1 und nur das erste Element wird benutzt\""
     ]
    },
    {
     "name": "stdout",
     "output_type": "stream",
     "text": [
      "[1] 0.9094605\n"
     ]
    },
    {
     "name": "stderr",
     "output_type": "stream",
     "text": [
      "Warning message in if (nTrain * bag.fraction <= 2 * n.minobsinnode + 1) {:\n",
      "\"Bedingung hat Länge > 1 und nur das erste Element wird benutzt\"Warning message in if (nTrain * bag.fraction <= 2 * n.minobsinnode + 1) {:\n",
      "\"Bedingung hat Länge > 1 und nur das erste Element wird benutzt\"Warning message in if (nTrain * bag.fraction <= 2 * n.minobsinnode + 1) {:\n",
      "\"Bedingung hat Länge > 1 und nur das erste Element wird benutzt\"Warning message in if (nTrain * bag.fraction <= 2 * n.minobsinnode + 1) {:\n",
      "\"Bedingung hat Länge > 1 und nur das erste Element wird benutzt\"Warning message in if (nTrain * bag.fraction <= 2 * n.minobsinnode + 1) {:\n",
      "\"Bedingung hat Länge > 1 und nur das erste Element wird benutzt\"Warning message in if (nTrain * bag.fraction <= 2 * n.minobsinnode + 1) {:\n",
      "\"Bedingung hat Länge > 1 und nur das erste Element wird benutzt\"Warning message in if (nTrain * bag.fraction <= 2 * n.minobsinnode + 1) {:\n",
      "\"Bedingung hat Länge > 1 und nur das erste Element wird benutzt\"Warning message in if (nTrain * bag.fraction <= 2 * n.minobsinnode + 1) {:\n",
      "\"Bedingung hat Länge > 1 und nur das erste Element wird benutzt\"Warning message in if (nTrain * bag.fraction <= 2 * n.minobsinnode + 1) {:\n",
      "\"Bedingung hat Länge > 1 und nur das erste Element wird benutzt\"Warning message in if (nTrain * bag.fraction <= 2 * n.minobsinnode + 1) {:\n",
      "\"Bedingung hat Länge > 1 und nur das erste Element wird benutzt\""
     ]
    },
    {
     "name": "stdout",
     "output_type": "stream",
     "text": [
      "[1] 0.9180819\n"
     ]
    },
    {
     "name": "stderr",
     "output_type": "stream",
     "text": [
      "Warning message in if (nTrain * bag.fraction <= 2 * n.minobsinnode + 1) {:\n",
      "\"Bedingung hat Länge > 1 und nur das erste Element wird benutzt\"Warning message in if (nTrain * bag.fraction <= 2 * n.minobsinnode + 1) {:\n",
      "\"Bedingung hat Länge > 1 und nur das erste Element wird benutzt\"Warning message in if (nTrain * bag.fraction <= 2 * n.minobsinnode + 1) {:\n",
      "\"Bedingung hat Länge > 1 und nur das erste Element wird benutzt\"Warning message in if (nTrain * bag.fraction <= 2 * n.minobsinnode + 1) {:\n",
      "\"Bedingung hat Länge > 1 und nur das erste Element wird benutzt\"Warning message in if (nTrain * bag.fraction <= 2 * n.minobsinnode + 1) {:\n",
      "\"Bedingung hat Länge > 1 und nur das erste Element wird benutzt\"Warning message in if (nTrain * bag.fraction <= 2 * n.minobsinnode + 1) {:\n",
      "\"Bedingung hat Länge > 1 und nur das erste Element wird benutzt\"Warning message in if (nTrain * bag.fraction <= 2 * n.minobsinnode + 1) {:\n",
      "\"Bedingung hat Länge > 1 und nur das erste Element wird benutzt\"Warning message in if (nTrain * bag.fraction <= 2 * n.minobsinnode + 1) {:\n",
      "\"Bedingung hat Länge > 1 und nur das erste Element wird benutzt\"Warning message in if (nTrain * bag.fraction <= 2 * n.minobsinnode + 1) {:\n",
      "\"Bedingung hat Länge > 1 und nur das erste Element wird benutzt\"Warning message in if (nTrain * bag.fraction <= 2 * n.minobsinnode + 1) {:\n",
      "\"Bedingung hat Länge > 1 und nur das erste Element wird benutzt\""
     ]
    },
    {
     "name": "stdout",
     "output_type": "stream",
     "text": [
      "[1] 0.9035065\n"
     ]
    },
    {
     "name": "stderr",
     "output_type": "stream",
     "text": [
      "Warning message in if (nTrain * bag.fraction <= 2 * n.minobsinnode + 1) {:\n",
      "\"Bedingung hat Länge > 1 und nur das erste Element wird benutzt\"Warning message in if (nTrain * bag.fraction <= 2 * n.minobsinnode + 1) {:\n",
      "\"Bedingung hat Länge > 1 und nur das erste Element wird benutzt\"Warning message in if (nTrain * bag.fraction <= 2 * n.minobsinnode + 1) {:\n",
      "\"Bedingung hat Länge > 1 und nur das erste Element wird benutzt\"Warning message in if (nTrain * bag.fraction <= 2 * n.minobsinnode + 1) {:\n",
      "\"Bedingung hat Länge > 1 und nur das erste Element wird benutzt\"Warning message in if (nTrain * bag.fraction <= 2 * n.minobsinnode + 1) {:\n",
      "\"Bedingung hat Länge > 1 und nur das erste Element wird benutzt\"Warning message in if (nTrain * bag.fraction <= 2 * n.minobsinnode + 1) {:\n",
      "\"Bedingung hat Länge > 1 und nur das erste Element wird benutzt\"Warning message in if (nTrain * bag.fraction <= 2 * n.minobsinnode + 1) {:\n",
      "\"Bedingung hat Länge > 1 und nur das erste Element wird benutzt\"Warning message in if (nTrain * bag.fraction <= 2 * n.minobsinnode + 1) {:\n",
      "\"Bedingung hat Länge > 1 und nur das erste Element wird benutzt\"Warning message in if (nTrain * bag.fraction <= 2 * n.minobsinnode + 1) {:\n",
      "\"Bedingung hat Länge > 1 und nur das erste Element wird benutzt\"Warning message in if (nTrain * bag.fraction <= 2 * n.minobsinnode + 1) {:\n",
      "\"Bedingung hat Länge > 1 und nur das erste Element wird benutzt\""
     ]
    },
    {
     "name": "stdout",
     "output_type": "stream",
     "text": [
      "[1] 0.8976723\n"
     ]
    },
    {
     "name": "stderr",
     "output_type": "stream",
     "text": [
      "Warning message in if (nTrain * bag.fraction <= 2 * n.minobsinnode + 1) {:\n",
      "\"Bedingung hat Länge > 1 und nur das erste Element wird benutzt\"Warning message in if (nTrain * bag.fraction <= 2 * n.minobsinnode + 1) {:\n",
      "\"Bedingung hat Länge > 1 und nur das erste Element wird benutzt\"Warning message in if (nTrain * bag.fraction <= 2 * n.minobsinnode + 1) {:\n",
      "\"Bedingung hat Länge > 1 und nur das erste Element wird benutzt\"Warning message in if (nTrain * bag.fraction <= 2 * n.minobsinnode + 1) {:\n",
      "\"Bedingung hat Länge > 1 und nur das erste Element wird benutzt\"Warning message in if (nTrain * bag.fraction <= 2 * n.minobsinnode + 1) {:\n",
      "\"Bedingung hat Länge > 1 und nur das erste Element wird benutzt\"Warning message in if (nTrain * bag.fraction <= 2 * n.minobsinnode + 1) {:\n",
      "\"Bedingung hat Länge > 1 und nur das erste Element wird benutzt\"Warning message in if (nTrain * bag.fraction <= 2 * n.minobsinnode + 1) {:\n",
      "\"Bedingung hat Länge > 1 und nur das erste Element wird benutzt\"Warning message in if (nTrain * bag.fraction <= 2 * n.minobsinnode + 1) {:\n",
      "\"Bedingung hat Länge > 1 und nur das erste Element wird benutzt\"Warning message in if (nTrain * bag.fraction <= 2 * n.minobsinnode + 1) {:\n",
      "\"Bedingung hat Länge > 1 und nur das erste Element wird benutzt\"Warning message in if (nTrain * bag.fraction <= 2 * n.minobsinnode + 1) {:\n",
      "\"Bedingung hat Länge > 1 und nur das erste Element wird benutzt\""
     ]
    },
    {
     "name": "stdout",
     "output_type": "stream",
     "text": [
      "[1] 0.881978\n"
     ]
    },
    {
     "name": "stderr",
     "output_type": "stream",
     "text": [
      "Warning message in if (nTrain * bag.fraction <= 2 * n.minobsinnode + 1) {:\n",
      "\"Bedingung hat Länge > 1 und nur das erste Element wird benutzt\"Warning message in if (nTrain * bag.fraction <= 2 * n.minobsinnode + 1) {:\n",
      "\"Bedingung hat Länge > 1 und nur das erste Element wird benutzt\"Warning message in if (nTrain * bag.fraction <= 2 * n.minobsinnode + 1) {:\n",
      "\"Bedingung hat Länge > 1 und nur das erste Element wird benutzt\"Warning message in if (nTrain * bag.fraction <= 2 * n.minobsinnode + 1) {:\n",
      "\"Bedingung hat Länge > 1 und nur das erste Element wird benutzt\"Warning message in if (nTrain * bag.fraction <= 2 * n.minobsinnode + 1) {:\n",
      "\"Bedingung hat Länge > 1 und nur das erste Element wird benutzt\"Warning message in if (nTrain * bag.fraction <= 2 * n.minobsinnode + 1) {:\n",
      "\"Bedingung hat Länge > 1 und nur das erste Element wird benutzt\"Warning message in if (nTrain * bag.fraction <= 2 * n.minobsinnode + 1) {:\n",
      "\"Bedingung hat Länge > 1 und nur das erste Element wird benutzt\"Warning message in if (nTrain * bag.fraction <= 2 * n.minobsinnode + 1) {:\n",
      "\"Bedingung hat Länge > 1 und nur das erste Element wird benutzt\"Warning message in if (nTrain * bag.fraction <= 2 * n.minobsinnode + 1) {:\n",
      "\"Bedingung hat Länge > 1 und nur das erste Element wird benutzt\"Warning message in if (nTrain * bag.fraction <= 2 * n.minobsinnode + 1) {:\n",
      "\"Bedingung hat Länge > 1 und nur das erste Element wird benutzt\""
     ]
    },
    {
     "name": "stdout",
     "output_type": "stream",
     "text": [
      "[1] 0.8985115\n"
     ]
    },
    {
     "name": "stderr",
     "output_type": "stream",
     "text": [
      "Warning message in if (nTrain * bag.fraction <= 2 * n.minobsinnode + 1) {:\n",
      "\"Bedingung hat Länge > 1 und nur das erste Element wird benutzt\"Warning message in if (nTrain * bag.fraction <= 2 * n.minobsinnode + 1) {:\n",
      "\"Bedingung hat Länge > 1 und nur das erste Element wird benutzt\"Warning message in if (nTrain * bag.fraction <= 2 * n.minobsinnode + 1) {:\n",
      "\"Bedingung hat Länge > 1 und nur das erste Element wird benutzt\"Warning message in if (nTrain * bag.fraction <= 2 * n.minobsinnode + 1) {:\n",
      "\"Bedingung hat Länge > 1 und nur das erste Element wird benutzt\"Warning message in if (nTrain * bag.fraction <= 2 * n.minobsinnode + 1) {:\n",
      "\"Bedingung hat Länge > 1 und nur das erste Element wird benutzt\"Warning message in if (nTrain * bag.fraction <= 2 * n.minobsinnode + 1) {:\n",
      "\"Bedingung hat Länge > 1 und nur das erste Element wird benutzt\"Warning message in if (nTrain * bag.fraction <= 2 * n.minobsinnode + 1) {:\n",
      "\"Bedingung hat Länge > 1 und nur das erste Element wird benutzt\"Warning message in if (nTrain * bag.fraction <= 2 * n.minobsinnode + 1) {:\n",
      "\"Bedingung hat Länge > 1 und nur das erste Element wird benutzt\"Warning message in if (nTrain * bag.fraction <= 2 * n.minobsinnode + 1) {:\n",
      "\"Bedingung hat Länge > 1 und nur das erste Element wird benutzt\"Warning message in if (nTrain * bag.fraction <= 2 * n.minobsinnode + 1) {:\n",
      "\"Bedingung hat Länge > 1 und nur das erste Element wird benutzt\""
     ]
    },
    {
     "name": "stdout",
     "output_type": "stream",
     "text": [
      "[1] 0.9025974\n"
     ]
    },
    {
     "name": "stderr",
     "output_type": "stream",
     "text": [
      "Warning message in if (nTrain * bag.fraction <= 2 * n.minobsinnode + 1) {:\n",
      "\"Bedingung hat Länge > 1 und nur das erste Element wird benutzt\"Warning message in if (nTrain * bag.fraction <= 2 * n.minobsinnode + 1) {:\n",
      "\"Bedingung hat Länge > 1 und nur das erste Element wird benutzt\"Warning message in if (nTrain * bag.fraction <= 2 * n.minobsinnode + 1) {:\n",
      "\"Bedingung hat Länge > 1 und nur das erste Element wird benutzt\"Warning message in if (nTrain * bag.fraction <= 2 * n.minobsinnode + 1) {:\n",
      "\"Bedingung hat Länge > 1 und nur das erste Element wird benutzt\"Warning message in if (nTrain * bag.fraction <= 2 * n.minobsinnode + 1) {:\n",
      "\"Bedingung hat Länge > 1 und nur das erste Element wird benutzt\"Warning message in if (nTrain * bag.fraction <= 2 * n.minobsinnode + 1) {:\n",
      "\"Bedingung hat Länge > 1 und nur das erste Element wird benutzt\"Warning message in if (nTrain * bag.fraction <= 2 * n.minobsinnode + 1) {:\n",
      "\"Bedingung hat Länge > 1 und nur das erste Element wird benutzt\"Warning message in if (nTrain * bag.fraction <= 2 * n.minobsinnode + 1) {:\n",
      "\"Bedingung hat Länge > 1 und nur das erste Element wird benutzt\"Warning message in if (nTrain * bag.fraction <= 2 * n.minobsinnode + 1) {:\n",
      "\"Bedingung hat Länge > 1 und nur das erste Element wird benutzt\"Warning message in if (nTrain * bag.fraction <= 2 * n.minobsinnode + 1) {:\n",
      "\"Bedingung hat Länge > 1 und nur das erste Element wird benutzt\""
     ]
    },
    {
     "name": "stdout",
     "output_type": "stream",
     "text": [
      "[1] 0.9051049\n"
     ]
    },
    {
     "name": "stderr",
     "output_type": "stream",
     "text": [
      "Warning message in if (nTrain * bag.fraction <= 2 * n.minobsinnode + 1) {:\n",
      "\"Bedingung hat Länge > 1 und nur das erste Element wird benutzt\"Warning message in if (nTrain * bag.fraction <= 2 * n.minobsinnode + 1) {:\n",
      "\"Bedingung hat Länge > 1 und nur das erste Element wird benutzt\"Warning message in if (nTrain * bag.fraction <= 2 * n.minobsinnode + 1) {:\n",
      "\"Bedingung hat Länge > 1 und nur das erste Element wird benutzt\"Warning message in if (nTrain * bag.fraction <= 2 * n.minobsinnode + 1) {:\n",
      "\"Bedingung hat Länge > 1 und nur das erste Element wird benutzt\"Warning message in if (nTrain * bag.fraction <= 2 * n.minobsinnode + 1) {:\n",
      "\"Bedingung hat Länge > 1 und nur das erste Element wird benutzt\"Warning message in if (nTrain * bag.fraction <= 2 * n.minobsinnode + 1) {:\n",
      "\"Bedingung hat Länge > 1 und nur das erste Element wird benutzt\"Warning message in if (nTrain * bag.fraction <= 2 * n.minobsinnode + 1) {:\n",
      "\"Bedingung hat Länge > 1 und nur das erste Element wird benutzt\"Warning message in if (nTrain * bag.fraction <= 2 * n.minobsinnode + 1) {:\n",
      "\"Bedingung hat Länge > 1 und nur das erste Element wird benutzt\"Warning message in if (nTrain * bag.fraction <= 2 * n.minobsinnode + 1) {:\n",
      "\"Bedingung hat Länge > 1 und nur das erste Element wird benutzt\"Warning message in if (nTrain * bag.fraction <= 2 * n.minobsinnode + 1) {:\n",
      "\"Bedingung hat Länge > 1 und nur das erste Element wird benutzt\""
     ]
    },
    {
     "name": "stdout",
     "output_type": "stream",
     "text": [
      "[1] 0.9139161\n"
     ]
    },
    {
     "name": "stderr",
     "output_type": "stream",
     "text": [
      "Warning message in if (nTrain * bag.fraction <= 2 * n.minobsinnode + 1) {:\n",
      "\"Bedingung hat Länge > 1 und nur das erste Element wird benutzt\"Warning message in if (nTrain * bag.fraction <= 2 * n.minobsinnode + 1) {:\n",
      "\"Bedingung hat Länge > 1 und nur das erste Element wird benutzt\"Warning message in if (nTrain * bag.fraction <= 2 * n.minobsinnode + 1) {:\n",
      "\"Bedingung hat Länge > 1 und nur das erste Element wird benutzt\"Warning message in if (nTrain * bag.fraction <= 2 * n.minobsinnode + 1) {:\n",
      "\"Bedingung hat Länge > 1 und nur das erste Element wird benutzt\"Warning message in if (nTrain * bag.fraction <= 2 * n.minobsinnode + 1) {:\n",
      "\"Bedingung hat Länge > 1 und nur das erste Element wird benutzt\"Warning message in if (nTrain * bag.fraction <= 2 * n.minobsinnode + 1) {:\n",
      "\"Bedingung hat Länge > 1 und nur das erste Element wird benutzt\"Warning message in if (nTrain * bag.fraction <= 2 * n.minobsinnode + 1) {:\n",
      "\"Bedingung hat Länge > 1 und nur das erste Element wird benutzt\"Warning message in if (nTrain * bag.fraction <= 2 * n.minobsinnode + 1) {:\n",
      "\"Bedingung hat Länge > 1 und nur das erste Element wird benutzt\"Warning message in if (nTrain * bag.fraction <= 2 * n.minobsinnode + 1) {:\n",
      "\"Bedingung hat Länge > 1 und nur das erste Element wird benutzt\"Warning message in if (nTrain * bag.fraction <= 2 * n.minobsinnode + 1) {:\n",
      "\"Bedingung hat Länge > 1 und nur das erste Element wird benutzt\""
     ]
    },
    {
     "name": "stdout",
     "output_type": "stream",
     "text": [
      "[1] 0.8944356\n"
     ]
    },
    {
     "name": "stderr",
     "output_type": "stream",
     "text": [
      "Warning message in if (nTrain * bag.fraction <= 2 * n.minobsinnode + 1) {:\n",
      "\"Bedingung hat Länge > 1 und nur das erste Element wird benutzt\"Warning message in if (nTrain * bag.fraction <= 2 * n.minobsinnode + 1) {:\n",
      "\"Bedingung hat Länge > 1 und nur das erste Element wird benutzt\"Warning message in if (nTrain * bag.fraction <= 2 * n.minobsinnode + 1) {:\n",
      "\"Bedingung hat Länge > 1 und nur das erste Element wird benutzt\"Warning message in if (nTrain * bag.fraction <= 2 * n.minobsinnode + 1) {:\n",
      "\"Bedingung hat Länge > 1 und nur das erste Element wird benutzt\"Warning message in if (nTrain * bag.fraction <= 2 * n.minobsinnode + 1) {:\n",
      "\"Bedingung hat Länge > 1 und nur das erste Element wird benutzt\"Warning message in if (nTrain * bag.fraction <= 2 * n.minobsinnode + 1) {:\n",
      "\"Bedingung hat Länge > 1 und nur das erste Element wird benutzt\"Warning message in if (nTrain * bag.fraction <= 2 * n.minobsinnode + 1) {:\n",
      "\"Bedingung hat Länge > 1 und nur das erste Element wird benutzt\"Warning message in if (nTrain * bag.fraction <= 2 * n.minobsinnode + 1) {:\n",
      "\"Bedingung hat Länge > 1 und nur das erste Element wird benutzt\"Warning message in if (nTrain * bag.fraction <= 2 * n.minobsinnode + 1) {:\n",
      "\"Bedingung hat Länge > 1 und nur das erste Element wird benutzt\"Warning message in if (nTrain * bag.fraction <= 2 * n.minobsinnode + 1) {:\n",
      "\"Bedingung hat Länge > 1 und nur das erste Element wird benutzt\""
     ]
    },
    {
     "name": "stdout",
     "output_type": "stream",
     "text": [
      "[1] 0.9021878\n"
     ]
    },
    {
     "name": "stderr",
     "output_type": "stream",
     "text": [
      "Warning message in if (nTrain * bag.fraction <= 2 * n.minobsinnode + 1) {:\n",
      "\"Bedingung hat Länge > 1 und nur das erste Element wird benutzt\"Warning message in if (nTrain * bag.fraction <= 2 * n.minobsinnode + 1) {:\n",
      "\"Bedingung hat Länge > 1 und nur das erste Element wird benutzt\"Warning message in if (nTrain * bag.fraction <= 2 * n.minobsinnode + 1) {:\n",
      "\"Bedingung hat Länge > 1 und nur das erste Element wird benutzt\"Warning message in if (nTrain * bag.fraction <= 2 * n.minobsinnode + 1) {:\n",
      "\"Bedingung hat Länge > 1 und nur das erste Element wird benutzt\"Warning message in if (nTrain * bag.fraction <= 2 * n.minobsinnode + 1) {:\n",
      "\"Bedingung hat Länge > 1 und nur das erste Element wird benutzt\"Warning message in if (nTrain * bag.fraction <= 2 * n.minobsinnode + 1) {:\n",
      "\"Bedingung hat Länge > 1 und nur das erste Element wird benutzt\"Warning message in if (nTrain * bag.fraction <= 2 * n.minobsinnode + 1) {:\n",
      "\"Bedingung hat Länge > 1 und nur das erste Element wird benutzt\"Warning message in if (nTrain * bag.fraction <= 2 * n.minobsinnode + 1) {:\n",
      "\"Bedingung hat Länge > 1 und nur das erste Element wird benutzt\"Warning message in if (nTrain * bag.fraction <= 2 * n.minobsinnode + 1) {:\n",
      "\"Bedingung hat Länge > 1 und nur das erste Element wird benutzt\"Warning message in if (nTrain * bag.fraction <= 2 * n.minobsinnode + 1) {:\n",
      "\"Bedingung hat Länge > 1 und nur das erste Element wird benutzt\""
     ]
    },
    {
     "name": "stdout",
     "output_type": "stream",
     "text": [
      "[1] 0.88999\n"
     ]
    },
    {
     "name": "stderr",
     "output_type": "stream",
     "text": [
      "Warning message in if (nTrain * bag.fraction <= 2 * n.minobsinnode + 1) {:\n",
      "\"Bedingung hat Länge > 1 und nur das erste Element wird benutzt\"Warning message in if (nTrain * bag.fraction <= 2 * n.minobsinnode + 1) {:\n",
      "\"Bedingung hat Länge > 1 und nur das erste Element wird benutzt\"Warning message in if (nTrain * bag.fraction <= 2 * n.minobsinnode + 1) {:\n",
      "\"Bedingung hat Länge > 1 und nur das erste Element wird benutzt\"Warning message in if (nTrain * bag.fraction <= 2 * n.minobsinnode + 1) {:\n",
      "\"Bedingung hat Länge > 1 und nur das erste Element wird benutzt\"Warning message in if (nTrain * bag.fraction <= 2 * n.minobsinnode + 1) {:\n",
      "\"Bedingung hat Länge > 1 und nur das erste Element wird benutzt\"Warning message in if (nTrain * bag.fraction <= 2 * n.minobsinnode + 1) {:\n",
      "\"Bedingung hat Länge > 1 und nur das erste Element wird benutzt\"Warning message in if (nTrain * bag.fraction <= 2 * n.minobsinnode + 1) {:\n",
      "\"Bedingung hat Länge > 1 und nur das erste Element wird benutzt\"Warning message in if (nTrain * bag.fraction <= 2 * n.minobsinnode + 1) {:\n",
      "\"Bedingung hat Länge > 1 und nur das erste Element wird benutzt\"Warning message in if (nTrain * bag.fraction <= 2 * n.minobsinnode + 1) {:\n",
      "\"Bedingung hat Länge > 1 und nur das erste Element wird benutzt\"Warning message in if (nTrain * bag.fraction <= 2 * n.minobsinnode + 1) {:\n",
      "\"Bedingung hat Länge > 1 und nur das erste Element wird benutzt\""
     ]
    },
    {
     "name": "stdout",
     "output_type": "stream",
     "text": [
      "[1] 0.8862537\n"
     ]
    },
    {
     "name": "stderr",
     "output_type": "stream",
     "text": [
      "Warning message in if (nTrain * bag.fraction <= 2 * n.minobsinnode + 1) {:\n",
      "\"Bedingung hat Länge > 1 und nur das erste Element wird benutzt\"Warning message in if (nTrain * bag.fraction <= 2 * n.minobsinnode + 1) {:\n",
      "\"Bedingung hat Länge > 1 und nur das erste Element wird benutzt\"Warning message in if (nTrain * bag.fraction <= 2 * n.minobsinnode + 1) {:\n",
      "\"Bedingung hat Länge > 1 und nur das erste Element wird benutzt\"Warning message in if (nTrain * bag.fraction <= 2 * n.minobsinnode + 1) {:\n",
      "\"Bedingung hat Länge > 1 und nur das erste Element wird benutzt\"Warning message in if (nTrain * bag.fraction <= 2 * n.minobsinnode + 1) {:\n",
      "\"Bedingung hat Länge > 1 und nur das erste Element wird benutzt\"Warning message in if (nTrain * bag.fraction <= 2 * n.minobsinnode + 1) {:\n",
      "\"Bedingung hat Länge > 1 und nur das erste Element wird benutzt\"Warning message in if (nTrain * bag.fraction <= 2 * n.minobsinnode + 1) {:\n",
      "\"Bedingung hat Länge > 1 und nur das erste Element wird benutzt\"Warning message in if (nTrain * bag.fraction <= 2 * n.minobsinnode + 1) {:\n",
      "\"Bedingung hat Länge > 1 und nur das erste Element wird benutzt\"Warning message in if (nTrain * bag.fraction <= 2 * n.minobsinnode + 1) {:\n",
      "\"Bedingung hat Länge > 1 und nur das erste Element wird benutzt\"Warning message in if (nTrain * bag.fraction <= 2 * n.minobsinnode + 1) {:\n",
      "\"Bedingung hat Länge > 1 und nur das erste Element wird benutzt\""
     ]
    },
    {
     "name": "stdout",
     "output_type": "stream",
     "text": [
      "[1] 0.8995305\n"
     ]
    },
    {
     "name": "stderr",
     "output_type": "stream",
     "text": [
      "Warning message in if (nTrain * bag.fraction <= 2 * n.minobsinnode + 1) {:\n",
      "\"Bedingung hat Länge > 1 und nur das erste Element wird benutzt\"Warning message in if (nTrain * bag.fraction <= 2 * n.minobsinnode + 1) {:\n",
      "\"Bedingung hat Länge > 1 und nur das erste Element wird benutzt\"Warning message in if (nTrain * bag.fraction <= 2 * n.minobsinnode + 1) {:\n",
      "\"Bedingung hat Länge > 1 und nur das erste Element wird benutzt\"Warning message in if (nTrain * bag.fraction <= 2 * n.minobsinnode + 1) {:\n",
      "\"Bedingung hat Länge > 1 und nur das erste Element wird benutzt\"Warning message in if (nTrain * bag.fraction <= 2 * n.minobsinnode + 1) {:\n",
      "\"Bedingung hat Länge > 1 und nur das erste Element wird benutzt\"Warning message in if (nTrain * bag.fraction <= 2 * n.minobsinnode + 1) {:\n",
      "\"Bedingung hat Länge > 1 und nur das erste Element wird benutzt\"Warning message in if (nTrain * bag.fraction <= 2 * n.minobsinnode + 1) {:\n",
      "\"Bedingung hat Länge > 1 und nur das erste Element wird benutzt\"Warning message in if (nTrain * bag.fraction <= 2 * n.minobsinnode + 1) {:\n",
      "\"Bedingung hat Länge > 1 und nur das erste Element wird benutzt\"Warning message in if (nTrain * bag.fraction <= 2 * n.minobsinnode + 1) {:\n",
      "\"Bedingung hat Länge > 1 und nur das erste Element wird benutzt\"Warning message in if (nTrain * bag.fraction <= 2 * n.minobsinnode + 1) {:\n",
      "\"Bedingung hat Länge > 1 und nur das erste Element wird benutzt\""
     ]
    },
    {
     "name": "stdout",
     "output_type": "stream",
     "text": [
      "[1] 0.8870729\n"
     ]
    },
    {
     "name": "stderr",
     "output_type": "stream",
     "text": [
      "Warning message in if (nTrain * bag.fraction <= 2 * n.minobsinnode + 1) {:\n",
      "\"Bedingung hat Länge > 1 und nur das erste Element wird benutzt\"Warning message in if (nTrain * bag.fraction <= 2 * n.minobsinnode + 1) {:\n",
      "\"Bedingung hat Länge > 1 und nur das erste Element wird benutzt\"Warning message in if (nTrain * bag.fraction <= 2 * n.minobsinnode + 1) {:\n",
      "\"Bedingung hat Länge > 1 und nur das erste Element wird benutzt\"Warning message in if (nTrain * bag.fraction <= 2 * n.minobsinnode + 1) {:\n",
      "\"Bedingung hat Länge > 1 und nur das erste Element wird benutzt\"Warning message in if (nTrain * bag.fraction <= 2 * n.minobsinnode + 1) {:\n",
      "\"Bedingung hat Länge > 1 und nur das erste Element wird benutzt\"Warning message in if (nTrain * bag.fraction <= 2 * n.minobsinnode + 1) {:\n",
      "\"Bedingung hat Länge > 1 und nur das erste Element wird benutzt\"Warning message in if (nTrain * bag.fraction <= 2 * n.minobsinnode + 1) {:\n",
      "\"Bedingung hat Länge > 1 und nur das erste Element wird benutzt\"Warning message in if (nTrain * bag.fraction <= 2 * n.minobsinnode + 1) {:\n",
      "\"Bedingung hat Länge > 1 und nur das erste Element wird benutzt\"Warning message in if (nTrain * bag.fraction <= 2 * n.minobsinnode + 1) {:\n",
      "\"Bedingung hat Länge > 1 und nur das erste Element wird benutzt\"Warning message in if (nTrain * bag.fraction <= 2 * n.minobsinnode + 1) {:\n",
      "\"Bedingung hat Länge > 1 und nur das erste Element wird benutzt\""
     ]
    },
    {
     "name": "stdout",
     "output_type": "stream",
     "text": [
      "[1] 0.8913686\n"
     ]
    },
    {
     "name": "stderr",
     "output_type": "stream",
     "text": [
      "Warning message in if (nTrain * bag.fraction <= 2 * n.minobsinnode + 1) {:\n",
      "\"Bedingung hat Länge > 1 und nur das erste Element wird benutzt\"Warning message in if (nTrain * bag.fraction <= 2 * n.minobsinnode + 1) {:\n",
      "\"Bedingung hat Länge > 1 und nur das erste Element wird benutzt\"Warning message in if (nTrain * bag.fraction <= 2 * n.minobsinnode + 1) {:\n",
      "\"Bedingung hat Länge > 1 und nur das erste Element wird benutzt\"Warning message in if (nTrain * bag.fraction <= 2 * n.minobsinnode + 1) {:\n",
      "\"Bedingung hat Länge > 1 und nur das erste Element wird benutzt\"Warning message in if (nTrain * bag.fraction <= 2 * n.minobsinnode + 1) {:\n",
      "\"Bedingung hat Länge > 1 und nur das erste Element wird benutzt\"Warning message in if (nTrain * bag.fraction <= 2 * n.minobsinnode + 1) {:\n",
      "\"Bedingung hat Länge > 1 und nur das erste Element wird benutzt\"Warning message in if (nTrain * bag.fraction <= 2 * n.minobsinnode + 1) {:\n",
      "\"Bedingung hat Länge > 1 und nur das erste Element wird benutzt\"Warning message in if (nTrain * bag.fraction <= 2 * n.minobsinnode + 1) {:\n",
      "\"Bedingung hat Länge > 1 und nur das erste Element wird benutzt\"Warning message in if (nTrain * bag.fraction <= 2 * n.minobsinnode + 1) {:\n",
      "\"Bedingung hat Länge > 1 und nur das erste Element wird benutzt\"Warning message in if (nTrain * bag.fraction <= 2 * n.minobsinnode + 1) {:\n",
      "\"Bedingung hat Länge > 1 und nur das erste Element wird benutzt\""
     ]
    },
    {
     "name": "stdout",
     "output_type": "stream",
     "text": [
      "[1] 0.8968032\n"
     ]
    },
    {
     "name": "stderr",
     "output_type": "stream",
     "text": [
      "Warning message in if (nTrain * bag.fraction <= 2 * n.minobsinnode + 1) {:\n",
      "\"Bedingung hat Länge > 1 und nur das erste Element wird benutzt\"Warning message in if (nTrain * bag.fraction <= 2 * n.minobsinnode + 1) {:\n",
      "\"Bedingung hat Länge > 1 und nur das erste Element wird benutzt\"Warning message in if (nTrain * bag.fraction <= 2 * n.minobsinnode + 1) {:\n",
      "\"Bedingung hat Länge > 1 und nur das erste Element wird benutzt\"Warning message in if (nTrain * bag.fraction <= 2 * n.minobsinnode + 1) {:\n",
      "\"Bedingung hat Länge > 1 und nur das erste Element wird benutzt\"Warning message in if (nTrain * bag.fraction <= 2 * n.minobsinnode + 1) {:\n",
      "\"Bedingung hat Länge > 1 und nur das erste Element wird benutzt\"Warning message in if (nTrain * bag.fraction <= 2 * n.minobsinnode + 1) {:\n",
      "\"Bedingung hat Länge > 1 und nur das erste Element wird benutzt\"Warning message in if (nTrain * bag.fraction <= 2 * n.minobsinnode + 1) {:\n",
      "\"Bedingung hat Länge > 1 und nur das erste Element wird benutzt\"Warning message in if (nTrain * bag.fraction <= 2 * n.minobsinnode + 1) {:\n",
      "\"Bedingung hat Länge > 1 und nur das erste Element wird benutzt\"Warning message in if (nTrain * bag.fraction <= 2 * n.minobsinnode + 1) {:\n",
      "\"Bedingung hat Länge > 1 und nur das erste Element wird benutzt\"Warning message in if (nTrain * bag.fraction <= 2 * n.minobsinnode + 1) {:\n",
      "\"Bedingung hat Länge > 1 und nur das erste Element wird benutzt\""
     ]
    },
    {
     "name": "stdout",
     "output_type": "stream",
     "text": [
      "[1] 0.8916184\n"
     ]
    },
    {
     "name": "stderr",
     "output_type": "stream",
     "text": [
      "Warning message in if (nTrain * bag.fraction <= 2 * n.minobsinnode + 1) {:\n",
      "\"Bedingung hat Länge > 1 und nur das erste Element wird benutzt\"Warning message in if (nTrain * bag.fraction <= 2 * n.minobsinnode + 1) {:\n",
      "\"Bedingung hat Länge > 1 und nur das erste Element wird benutzt\"Warning message in if (nTrain * bag.fraction <= 2 * n.minobsinnode + 1) {:\n",
      "\"Bedingung hat Länge > 1 und nur das erste Element wird benutzt\"Warning message in if (nTrain * bag.fraction <= 2 * n.minobsinnode + 1) {:\n",
      "\"Bedingung hat Länge > 1 und nur das erste Element wird benutzt\"Warning message in if (nTrain * bag.fraction <= 2 * n.minobsinnode + 1) {:\n",
      "\"Bedingung hat Länge > 1 und nur das erste Element wird benutzt\"Warning message in if (nTrain * bag.fraction <= 2 * n.minobsinnode + 1) {:\n",
      "\"Bedingung hat Länge > 1 und nur das erste Element wird benutzt\"Warning message in if (nTrain * bag.fraction <= 2 * n.minobsinnode + 1) {:\n",
      "\"Bedingung hat Länge > 1 und nur das erste Element wird benutzt\"Warning message in if (nTrain * bag.fraction <= 2 * n.minobsinnode + 1) {:\n",
      "\"Bedingung hat Länge > 1 und nur das erste Element wird benutzt\"Warning message in if (nTrain * bag.fraction <= 2 * n.minobsinnode + 1) {:\n",
      "\"Bedingung hat Länge > 1 und nur das erste Element wird benutzt\"Warning message in if (nTrain * bag.fraction <= 2 * n.minobsinnode + 1) {:\n",
      "\"Bedingung hat Länge > 1 und nur das erste Element wird benutzt\""
     ]
    },
    {
     "name": "stdout",
     "output_type": "stream",
     "text": [
      "[1] 0.8931269\n"
     ]
    },
    {
     "name": "stderr",
     "output_type": "stream",
     "text": [
      "Warning message in if (nTrain * bag.fraction <= 2 * n.minobsinnode + 1) {:\n",
      "\"Bedingung hat Länge > 1 und nur das erste Element wird benutzt\"Warning message in if (nTrain * bag.fraction <= 2 * n.minobsinnode + 1) {:\n",
      "\"Bedingung hat Länge > 1 und nur das erste Element wird benutzt\"Warning message in if (nTrain * bag.fraction <= 2 * n.minobsinnode + 1) {:\n",
      "\"Bedingung hat Länge > 1 und nur das erste Element wird benutzt\"Warning message in if (nTrain * bag.fraction <= 2 * n.minobsinnode + 1) {:\n",
      "\"Bedingung hat Länge > 1 und nur das erste Element wird benutzt\"Warning message in if (nTrain * bag.fraction <= 2 * n.minobsinnode + 1) {:\n",
      "\"Bedingung hat Länge > 1 und nur das erste Element wird benutzt\"Warning message in if (nTrain * bag.fraction <= 2 * n.minobsinnode + 1) {:\n",
      "\"Bedingung hat Länge > 1 und nur das erste Element wird benutzt\"Warning message in if (nTrain * bag.fraction <= 2 * n.minobsinnode + 1) {:\n",
      "\"Bedingung hat Länge > 1 und nur das erste Element wird benutzt\"Warning message in if (nTrain * bag.fraction <= 2 * n.minobsinnode + 1) {:\n",
      "\"Bedingung hat Länge > 1 und nur das erste Element wird benutzt\"Warning message in if (nTrain * bag.fraction <= 2 * n.minobsinnode + 1) {:\n",
      "\"Bedingung hat Länge > 1 und nur das erste Element wird benutzt\"Warning message in if (nTrain * bag.fraction <= 2 * n.minobsinnode + 1) {:\n",
      "\"Bedingung hat Länge > 1 und nur das erste Element wird benutzt\""
     ]
    },
    {
     "name": "stdout",
     "output_type": "stream",
     "text": [
      "[1] 0.8976424\n"
     ]
    },
    {
     "name": "stderr",
     "output_type": "stream",
     "text": [
      "Warning message in if (nTrain * bag.fraction <= 2 * n.minobsinnode + 1) {:\n",
      "\"Bedingung hat Länge > 1 und nur das erste Element wird benutzt\"Warning message in if (nTrain * bag.fraction <= 2 * n.minobsinnode + 1) {:\n",
      "\"Bedingung hat Länge > 1 und nur das erste Element wird benutzt\"Warning message in if (nTrain * bag.fraction <= 2 * n.minobsinnode + 1) {:\n",
      "\"Bedingung hat Länge > 1 und nur das erste Element wird benutzt\"Warning message in if (nTrain * bag.fraction <= 2 * n.minobsinnode + 1) {:\n",
      "\"Bedingung hat Länge > 1 und nur das erste Element wird benutzt\"Warning message in if (nTrain * bag.fraction <= 2 * n.minobsinnode + 1) {:\n",
      "\"Bedingung hat Länge > 1 und nur das erste Element wird benutzt\"Warning message in if (nTrain * bag.fraction <= 2 * n.minobsinnode + 1) {:\n",
      "\"Bedingung hat Länge > 1 und nur das erste Element wird benutzt\"Warning message in if (nTrain * bag.fraction <= 2 * n.minobsinnode + 1) {:\n",
      "\"Bedingung hat Länge > 1 und nur das erste Element wird benutzt\"Warning message in if (nTrain * bag.fraction <= 2 * n.minobsinnode + 1) {:\n",
      "\"Bedingung hat Länge > 1 und nur das erste Element wird benutzt\"Warning message in if (nTrain * bag.fraction <= 2 * n.minobsinnode + 1) {:\n",
      "\"Bedingung hat Länge > 1 und nur das erste Element wird benutzt\"Warning message in if (nTrain * bag.fraction <= 2 * n.minobsinnode + 1) {:\n",
      "\"Bedingung hat Länge > 1 und nur das erste Element wird benutzt\""
     ]
    },
    {
     "name": "stdout",
     "output_type": "stream",
     "text": [
      "[1] 0.8974625\n"
     ]
    },
    {
     "name": "stderr",
     "output_type": "stream",
     "text": [
      "Warning message in if (nTrain * bag.fraction <= 2 * n.minobsinnode + 1) {:\n",
      "\"Bedingung hat Länge > 1 und nur das erste Element wird benutzt\"Warning message in if (nTrain * bag.fraction <= 2 * n.minobsinnode + 1) {:\n",
      "\"Bedingung hat Länge > 1 und nur das erste Element wird benutzt\"Warning message in if (nTrain * bag.fraction <= 2 * n.minobsinnode + 1) {:\n",
      "\"Bedingung hat Länge > 1 und nur das erste Element wird benutzt\"Warning message in if (nTrain * bag.fraction <= 2 * n.minobsinnode + 1) {:\n",
      "\"Bedingung hat Länge > 1 und nur das erste Element wird benutzt\"Warning message in if (nTrain * bag.fraction <= 2 * n.minobsinnode + 1) {:\n",
      "\"Bedingung hat Länge > 1 und nur das erste Element wird benutzt\"Warning message in if (nTrain * bag.fraction <= 2 * n.minobsinnode + 1) {:\n",
      "\"Bedingung hat Länge > 1 und nur das erste Element wird benutzt\"Warning message in if (nTrain * bag.fraction <= 2 * n.minobsinnode + 1) {:\n",
      "\"Bedingung hat Länge > 1 und nur das erste Element wird benutzt\"Warning message in if (nTrain * bag.fraction <= 2 * n.minobsinnode + 1) {:\n",
      "\"Bedingung hat Länge > 1 und nur das erste Element wird benutzt\"Warning message in if (nTrain * bag.fraction <= 2 * n.minobsinnode + 1) {:\n",
      "\"Bedingung hat Länge > 1 und nur das erste Element wird benutzt\"Warning message in if (nTrain * bag.fraction <= 2 * n.minobsinnode + 1) {:\n",
      "\"Bedingung hat Länge > 1 und nur das erste Element wird benutzt\""
     ]
    },
    {
     "name": "stdout",
     "output_type": "stream",
     "text": [
      "[1] 0.8913586\n"
     ]
    },
    {
     "name": "stderr",
     "output_type": "stream",
     "text": [
      "Warning message in if (nTrain * bag.fraction <= 2 * n.minobsinnode + 1) {:\n",
      "\"Bedingung hat Länge > 1 und nur das erste Element wird benutzt\"Warning message in if (nTrain * bag.fraction <= 2 * n.minobsinnode + 1) {:\n",
      "\"Bedingung hat Länge > 1 und nur das erste Element wird benutzt\"Warning message in if (nTrain * bag.fraction <= 2 * n.minobsinnode + 1) {:\n",
      "\"Bedingung hat Länge > 1 und nur das erste Element wird benutzt\"Warning message in if (nTrain * bag.fraction <= 2 * n.minobsinnode + 1) {:\n",
      "\"Bedingung hat Länge > 1 und nur das erste Element wird benutzt\"Warning message in if (nTrain * bag.fraction <= 2 * n.minobsinnode + 1) {:\n",
      "\"Bedingung hat Länge > 1 und nur das erste Element wird benutzt\"Warning message in if (nTrain * bag.fraction <= 2 * n.minobsinnode + 1) {:\n",
      "\"Bedingung hat Länge > 1 und nur das erste Element wird benutzt\"Warning message in if (nTrain * bag.fraction <= 2 * n.minobsinnode + 1) {:\n",
      "\"Bedingung hat Länge > 1 und nur das erste Element wird benutzt\"Warning message in if (nTrain * bag.fraction <= 2 * n.minobsinnode + 1) {:\n",
      "\"Bedingung hat Länge > 1 und nur das erste Element wird benutzt\"Warning message in if (nTrain * bag.fraction <= 2 * n.minobsinnode + 1) {:\n",
      "\"Bedingung hat Länge > 1 und nur das erste Element wird benutzt\"Warning message in if (nTrain * bag.fraction <= 2 * n.minobsinnode + 1) {:\n",
      "\"Bedingung hat Länge > 1 und nur das erste Element wird benutzt\""
     ]
    },
    {
     "name": "stdout",
     "output_type": "stream",
     "text": [
      "[1] 0.9132767\n"
     ]
    },
    {
     "name": "stderr",
     "output_type": "stream",
     "text": [
      "Warning message in if (nTrain * bag.fraction <= 2 * n.minobsinnode + 1) {:\n",
      "\"Bedingung hat Länge > 1 und nur das erste Element wird benutzt\"Warning message in if (nTrain * bag.fraction <= 2 * n.minobsinnode + 1) {:\n",
      "\"Bedingung hat Länge > 1 und nur das erste Element wird benutzt\"Warning message in if (nTrain * bag.fraction <= 2 * n.minobsinnode + 1) {:\n",
      "\"Bedingung hat Länge > 1 und nur das erste Element wird benutzt\"Warning message in if (nTrain * bag.fraction <= 2 * n.minobsinnode + 1) {:\n",
      "\"Bedingung hat Länge > 1 und nur das erste Element wird benutzt\"Warning message in if (nTrain * bag.fraction <= 2 * n.minobsinnode + 1) {:\n",
      "\"Bedingung hat Länge > 1 und nur das erste Element wird benutzt\"Warning message in if (nTrain * bag.fraction <= 2 * n.minobsinnode + 1) {:\n",
      "\"Bedingung hat Länge > 1 und nur das erste Element wird benutzt\"Warning message in if (nTrain * bag.fraction <= 2 * n.minobsinnode + 1) {:\n",
      "\"Bedingung hat Länge > 1 und nur das erste Element wird benutzt\"Warning message in if (nTrain * bag.fraction <= 2 * n.minobsinnode + 1) {:\n",
      "\"Bedingung hat Länge > 1 und nur das erste Element wird benutzt\"Warning message in if (nTrain * bag.fraction <= 2 * n.minobsinnode + 1) {:\n",
      "\"Bedingung hat Länge > 1 und nur das erste Element wird benutzt\"Warning message in if (nTrain * bag.fraction <= 2 * n.minobsinnode + 1) {:\n",
      "\"Bedingung hat Länge > 1 und nur das erste Element wird benutzt\""
     ]
    },
    {
     "name": "stdout",
     "output_type": "stream",
     "text": [
      "[1] 0.9187113\n"
     ]
    },
    {
     "name": "stderr",
     "output_type": "stream",
     "text": [
      "Warning message in if (nTrain * bag.fraction <= 2 * n.minobsinnode + 1) {:\n",
      "\"Bedingung hat Länge > 1 und nur das erste Element wird benutzt\"Warning message in if (nTrain * bag.fraction <= 2 * n.minobsinnode + 1) {:\n",
      "\"Bedingung hat Länge > 1 und nur das erste Element wird benutzt\"Warning message in if (nTrain * bag.fraction <= 2 * n.minobsinnode + 1) {:\n",
      "\"Bedingung hat Länge > 1 und nur das erste Element wird benutzt\"Warning message in if (nTrain * bag.fraction <= 2 * n.minobsinnode + 1) {:\n",
      "\"Bedingung hat Länge > 1 und nur das erste Element wird benutzt\"Warning message in if (nTrain * bag.fraction <= 2 * n.minobsinnode + 1) {:\n",
      "\"Bedingung hat Länge > 1 und nur das erste Element wird benutzt\"Warning message in if (nTrain * bag.fraction <= 2 * n.minobsinnode + 1) {:\n",
      "\"Bedingung hat Länge > 1 und nur das erste Element wird benutzt\"Warning message in if (nTrain * bag.fraction <= 2 * n.minobsinnode + 1) {:\n",
      "\"Bedingung hat Länge > 1 und nur das erste Element wird benutzt\"Warning message in if (nTrain * bag.fraction <= 2 * n.minobsinnode + 1) {:\n",
      "\"Bedingung hat Länge > 1 und nur das erste Element wird benutzt\"Warning message in if (nTrain * bag.fraction <= 2 * n.minobsinnode + 1) {:\n",
      "\"Bedingung hat Länge > 1 und nur das erste Element wird benutzt\"Warning message in if (nTrain * bag.fraction <= 2 * n.minobsinnode + 1) {:\n",
      "\"Bedingung hat Länge > 1 und nur das erste Element wird benutzt\""
     ]
    },
    {
     "name": "stdout",
     "output_type": "stream",
     "text": [
      "[1] 0.9111788\n"
     ]
    },
    {
     "name": "stderr",
     "output_type": "stream",
     "text": [
      "Warning message in if (nTrain * bag.fraction <= 2 * n.minobsinnode + 1) {:\n",
      "\"Bedingung hat Länge > 1 und nur das erste Element wird benutzt\"Warning message in if (nTrain * bag.fraction <= 2 * n.minobsinnode + 1) {:\n",
      "\"Bedingung hat Länge > 1 und nur das erste Element wird benutzt\"Warning message in if (nTrain * bag.fraction <= 2 * n.minobsinnode + 1) {:\n",
      "\"Bedingung hat Länge > 1 und nur das erste Element wird benutzt\"Warning message in if (nTrain * bag.fraction <= 2 * n.minobsinnode + 1) {:\n",
      "\"Bedingung hat Länge > 1 und nur das erste Element wird benutzt\"Warning message in if (nTrain * bag.fraction <= 2 * n.minobsinnode + 1) {:\n",
      "\"Bedingung hat Länge > 1 und nur das erste Element wird benutzt\"Warning message in if (nTrain * bag.fraction <= 2 * n.minobsinnode + 1) {:\n",
      "\"Bedingung hat Länge > 1 und nur das erste Element wird benutzt\"Warning message in if (nTrain * bag.fraction <= 2 * n.minobsinnode + 1) {:\n",
      "\"Bedingung hat Länge > 1 und nur das erste Element wird benutzt\"Warning message in if (nTrain * bag.fraction <= 2 * n.minobsinnode + 1) {:\n",
      "\"Bedingung hat Länge > 1 und nur das erste Element wird benutzt\"Warning message in if (nTrain * bag.fraction <= 2 * n.minobsinnode + 1) {:\n",
      "\"Bedingung hat Länge > 1 und nur das erste Element wird benutzt\"Warning message in if (nTrain * bag.fraction <= 2 * n.minobsinnode + 1) {:\n",
      "\"Bedingung hat Länge > 1 und nur das erste Element wird benutzt\""
     ]
    },
    {
     "name": "stdout",
     "output_type": "stream",
     "text": [
      "[1] 0.9089211\n"
     ]
    },
    {
     "name": "stderr",
     "output_type": "stream",
     "text": [
      "Warning message in if (nTrain * bag.fraction <= 2 * n.minobsinnode + 1) {:\n",
      "\"Bedingung hat Länge > 1 und nur das erste Element wird benutzt\"Warning message in if (nTrain * bag.fraction <= 2 * n.minobsinnode + 1) {:\n",
      "\"Bedingung hat Länge > 1 und nur das erste Element wird benutzt\"Warning message in if (nTrain * bag.fraction <= 2 * n.minobsinnode + 1) {:\n",
      "\"Bedingung hat Länge > 1 und nur das erste Element wird benutzt\"Warning message in if (nTrain * bag.fraction <= 2 * n.minobsinnode + 1) {:\n",
      "\"Bedingung hat Länge > 1 und nur das erste Element wird benutzt\"Warning message in if (nTrain * bag.fraction <= 2 * n.minobsinnode + 1) {:\n",
      "\"Bedingung hat Länge > 1 und nur das erste Element wird benutzt\"Warning message in if (nTrain * bag.fraction <= 2 * n.minobsinnode + 1) {:\n",
      "\"Bedingung hat Länge > 1 und nur das erste Element wird benutzt\"Warning message in if (nTrain * bag.fraction <= 2 * n.minobsinnode + 1) {:\n",
      "\"Bedingung hat Länge > 1 und nur das erste Element wird benutzt\"Warning message in if (nTrain * bag.fraction <= 2 * n.minobsinnode + 1) {:\n",
      "\"Bedingung hat Länge > 1 und nur das erste Element wird benutzt\"Warning message in if (nTrain * bag.fraction <= 2 * n.minobsinnode + 1) {:\n",
      "\"Bedingung hat Länge > 1 und nur das erste Element wird benutzt\"Warning message in if (nTrain * bag.fraction <= 2 * n.minobsinnode + 1) {:\n",
      "\"Bedingung hat Länge > 1 und nur das erste Element wird benutzt\""
     ]
    },
    {
     "name": "stdout",
     "output_type": "stream",
     "text": [
      "[1] 0.9059341\n"
     ]
    },
    {
     "name": "stderr",
     "output_type": "stream",
     "text": [
      "Warning message in if (nTrain * bag.fraction <= 2 * n.minobsinnode + 1) {:\n",
      "\"Bedingung hat Länge > 1 und nur das erste Element wird benutzt\"Warning message in if (nTrain * bag.fraction <= 2 * n.minobsinnode + 1) {:\n",
      "\"Bedingung hat Länge > 1 und nur das erste Element wird benutzt\"Warning message in if (nTrain * bag.fraction <= 2 * n.minobsinnode + 1) {:\n",
      "\"Bedingung hat Länge > 1 und nur das erste Element wird benutzt\"Warning message in if (nTrain * bag.fraction <= 2 * n.minobsinnode + 1) {:\n",
      "\"Bedingung hat Länge > 1 und nur das erste Element wird benutzt\"Warning message in if (nTrain * bag.fraction <= 2 * n.minobsinnode + 1) {:\n",
      "\"Bedingung hat Länge > 1 und nur das erste Element wird benutzt\"Warning message in if (nTrain * bag.fraction <= 2 * n.minobsinnode + 1) {:\n",
      "\"Bedingung hat Länge > 1 und nur das erste Element wird benutzt\"Warning message in if (nTrain * bag.fraction <= 2 * n.minobsinnode + 1) {:\n",
      "\"Bedingung hat Länge > 1 und nur das erste Element wird benutzt\"Warning message in if (nTrain * bag.fraction <= 2 * n.minobsinnode + 1) {:\n",
      "\"Bedingung hat Länge > 1 und nur das erste Element wird benutzt\"Warning message in if (nTrain * bag.fraction <= 2 * n.minobsinnode + 1) {:\n",
      "\"Bedingung hat Länge > 1 und nur das erste Element wird benutzt\"Warning message in if (nTrain * bag.fraction <= 2 * n.minobsinnode + 1) {:\n",
      "\"Bedingung hat Länge > 1 und nur das erste Element wird benutzt\""
     ]
    },
    {
     "name": "stdout",
     "output_type": "stream",
     "text": [
      "[1] 0.9091309\n"
     ]
    },
    {
     "name": "stderr",
     "output_type": "stream",
     "text": [
      "Warning message in if (nTrain * bag.fraction <= 2 * n.minobsinnode + 1) {:\n",
      "\"Bedingung hat Länge > 1 und nur das erste Element wird benutzt\"Warning message in if (nTrain * bag.fraction <= 2 * n.minobsinnode + 1) {:\n",
      "\"Bedingung hat Länge > 1 und nur das erste Element wird benutzt\"Warning message in if (nTrain * bag.fraction <= 2 * n.minobsinnode + 1) {:\n",
      "\"Bedingung hat Länge > 1 und nur das erste Element wird benutzt\"Warning message in if (nTrain * bag.fraction <= 2 * n.minobsinnode + 1) {:\n",
      "\"Bedingung hat Länge > 1 und nur das erste Element wird benutzt\"Warning message in if (nTrain * bag.fraction <= 2 * n.minobsinnode + 1) {:\n",
      "\"Bedingung hat Länge > 1 und nur das erste Element wird benutzt\"Warning message in if (nTrain * bag.fraction <= 2 * n.minobsinnode + 1) {:\n",
      "\"Bedingung hat Länge > 1 und nur das erste Element wird benutzt\"Warning message in if (nTrain * bag.fraction <= 2 * n.minobsinnode + 1) {:\n",
      "\"Bedingung hat Länge > 1 und nur das erste Element wird benutzt\"Warning message in if (nTrain * bag.fraction <= 2 * n.minobsinnode + 1) {:\n",
      "\"Bedingung hat Länge > 1 und nur das erste Element wird benutzt\"Warning message in if (nTrain * bag.fraction <= 2 * n.minobsinnode + 1) {:\n",
      "\"Bedingung hat Länge > 1 und nur das erste Element wird benutzt\"Warning message in if (nTrain * bag.fraction <= 2 * n.minobsinnode + 1) {:\n",
      "\"Bedingung hat Länge > 1 und nur das erste Element wird benutzt\""
     ]
    },
    {
     "name": "stdout",
     "output_type": "stream",
     "text": [
      "[1] 0.8981518\n"
     ]
    },
    {
     "name": "stderr",
     "output_type": "stream",
     "text": [
      "Warning message in if (nTrain * bag.fraction <= 2 * n.minobsinnode + 1) {:\n",
      "\"Bedingung hat Länge > 1 und nur das erste Element wird benutzt\"Warning message in if (nTrain * bag.fraction <= 2 * n.minobsinnode + 1) {:\n",
      "\"Bedingung hat Länge > 1 und nur das erste Element wird benutzt\"Warning message in if (nTrain * bag.fraction <= 2 * n.minobsinnode + 1) {:\n",
      "\"Bedingung hat Länge > 1 und nur das erste Element wird benutzt\"Warning message in if (nTrain * bag.fraction <= 2 * n.minobsinnode + 1) {:\n",
      "\"Bedingung hat Länge > 1 und nur das erste Element wird benutzt\"Warning message in if (nTrain * bag.fraction <= 2 * n.minobsinnode + 1) {:\n",
      "\"Bedingung hat Länge > 1 und nur das erste Element wird benutzt\"Warning message in if (nTrain * bag.fraction <= 2 * n.minobsinnode + 1) {:\n",
      "\"Bedingung hat Länge > 1 und nur das erste Element wird benutzt\"Warning message in if (nTrain * bag.fraction <= 2 * n.minobsinnode + 1) {:\n",
      "\"Bedingung hat Länge > 1 und nur das erste Element wird benutzt\"Warning message in if (nTrain * bag.fraction <= 2 * n.minobsinnode + 1) {:\n",
      "\"Bedingung hat Länge > 1 und nur das erste Element wird benutzt\"Warning message in if (nTrain * bag.fraction <= 2 * n.minobsinnode + 1) {:\n",
      "\"Bedingung hat Länge > 1 und nur das erste Element wird benutzt\"Warning message in if (nTrain * bag.fraction <= 2 * n.minobsinnode + 1) {:\n",
      "\"Bedingung hat Länge > 1 und nur das erste Element wird benutzt\""
     ]
    },
    {
     "name": "stdout",
     "output_type": "stream",
     "text": [
      "[1] 0.9074426\n"
     ]
    },
    {
     "name": "stderr",
     "output_type": "stream",
     "text": [
      "Warning message in if (nTrain * bag.fraction <= 2 * n.minobsinnode + 1) {:\n",
      "\"Bedingung hat Länge > 1 und nur das erste Element wird benutzt\"Warning message in if (nTrain * bag.fraction <= 2 * n.minobsinnode + 1) {:\n",
      "\"Bedingung hat Länge > 1 und nur das erste Element wird benutzt\"Warning message in if (nTrain * bag.fraction <= 2 * n.minobsinnode + 1) {:\n",
      "\"Bedingung hat Länge > 1 und nur das erste Element wird benutzt\"Warning message in if (nTrain * bag.fraction <= 2 * n.minobsinnode + 1) {:\n",
      "\"Bedingung hat Länge > 1 und nur das erste Element wird benutzt\"Warning message in if (nTrain * bag.fraction <= 2 * n.minobsinnode + 1) {:\n",
      "\"Bedingung hat Länge > 1 und nur das erste Element wird benutzt\"Warning message in if (nTrain * bag.fraction <= 2 * n.minobsinnode + 1) {:\n",
      "\"Bedingung hat Länge > 1 und nur das erste Element wird benutzt\"Warning message in if (nTrain * bag.fraction <= 2 * n.minobsinnode + 1) {:\n",
      "\"Bedingung hat Länge > 1 und nur das erste Element wird benutzt\"Warning message in if (nTrain * bag.fraction <= 2 * n.minobsinnode + 1) {:\n",
      "\"Bedingung hat Länge > 1 und nur das erste Element wird benutzt\"Warning message in if (nTrain * bag.fraction <= 2 * n.minobsinnode + 1) {:\n",
      "\"Bedingung hat Länge > 1 und nur das erste Element wird benutzt\"Warning message in if (nTrain * bag.fraction <= 2 * n.minobsinnode + 1) {:\n",
      "\"Bedingung hat Länge > 1 und nur das erste Element wird benutzt\""
     ]
    },
    {
     "name": "stdout",
     "output_type": "stream",
     "text": [
      "[1] 0.9033067\n"
     ]
    },
    {
     "name": "stderr",
     "output_type": "stream",
     "text": [
      "Warning message in if (nTrain * bag.fraction <= 2 * n.minobsinnode + 1) {:\n",
      "\"Bedingung hat Länge > 1 und nur das erste Element wird benutzt\"Warning message in if (nTrain * bag.fraction <= 2 * n.minobsinnode + 1) {:\n",
      "\"Bedingung hat Länge > 1 und nur das erste Element wird benutzt\"Warning message in if (nTrain * bag.fraction <= 2 * n.minobsinnode + 1) {:\n",
      "\"Bedingung hat Länge > 1 und nur das erste Element wird benutzt\"Warning message in if (nTrain * bag.fraction <= 2 * n.minobsinnode + 1) {:\n",
      "\"Bedingung hat Länge > 1 und nur das erste Element wird benutzt\"Warning message in if (nTrain * bag.fraction <= 2 * n.minobsinnode + 1) {:\n",
      "\"Bedingung hat Länge > 1 und nur das erste Element wird benutzt\"Warning message in if (nTrain * bag.fraction <= 2 * n.minobsinnode + 1) {:\n",
      "\"Bedingung hat Länge > 1 und nur das erste Element wird benutzt\"Warning message in if (nTrain * bag.fraction <= 2 * n.minobsinnode + 1) {:\n",
      "\"Bedingung hat Länge > 1 und nur das erste Element wird benutzt\"Warning message in if (nTrain * bag.fraction <= 2 * n.minobsinnode + 1) {:\n",
      "\"Bedingung hat Länge > 1 und nur das erste Element wird benutzt\"Warning message in if (nTrain * bag.fraction <= 2 * n.minobsinnode + 1) {:\n",
      "\"Bedingung hat Länge > 1 und nur das erste Element wird benutzt\"Warning message in if (nTrain * bag.fraction <= 2 * n.minobsinnode + 1) {:\n",
      "\"Bedingung hat Länge > 1 und nur das erste Element wird benutzt\""
     ]
    },
    {
     "name": "stdout",
     "output_type": "stream",
     "text": [
      "[1] 0.8956444\n"
     ]
    },
    {
     "name": "stderr",
     "output_type": "stream",
     "text": [
      "Warning message in if (nTrain * bag.fraction <= 2 * n.minobsinnode + 1) {:\n",
      "\"Bedingung hat Länge > 1 und nur das erste Element wird benutzt\"Warning message in if (nTrain * bag.fraction <= 2 * n.minobsinnode + 1) {:\n",
      "\"Bedingung hat Länge > 1 und nur das erste Element wird benutzt\"Warning message in if (nTrain * bag.fraction <= 2 * n.minobsinnode + 1) {:\n",
      "\"Bedingung hat Länge > 1 und nur das erste Element wird benutzt\"Warning message in if (nTrain * bag.fraction <= 2 * n.minobsinnode + 1) {:\n",
      "\"Bedingung hat Länge > 1 und nur das erste Element wird benutzt\"Warning message in if (nTrain * bag.fraction <= 2 * n.minobsinnode + 1) {:\n",
      "\"Bedingung hat Länge > 1 und nur das erste Element wird benutzt\"Warning message in if (nTrain * bag.fraction <= 2 * n.minobsinnode + 1) {:\n",
      "\"Bedingung hat Länge > 1 und nur das erste Element wird benutzt\"Warning message in if (nTrain * bag.fraction <= 2 * n.minobsinnode + 1) {:\n",
      "\"Bedingung hat Länge > 1 und nur das erste Element wird benutzt\"Warning message in if (nTrain * bag.fraction <= 2 * n.minobsinnode + 1) {:\n",
      "\"Bedingung hat Länge > 1 und nur das erste Element wird benutzt\"Warning message in if (nTrain * bag.fraction <= 2 * n.minobsinnode + 1) {:\n",
      "\"Bedingung hat Länge > 1 und nur das erste Element wird benutzt\"Warning message in if (nTrain * bag.fraction <= 2 * n.minobsinnode + 1) {:\n",
      "\"Bedingung hat Länge > 1 und nur das erste Element wird benutzt\""
     ]
    },
    {
     "name": "stdout",
     "output_type": "stream",
     "text": [
      "[1] 0.9016484\n"
     ]
    },
    {
     "name": "stderr",
     "output_type": "stream",
     "text": [
      "Warning message in if (nTrain * bag.fraction <= 2 * n.minobsinnode + 1) {:\n",
      "\"Bedingung hat Länge > 1 und nur das erste Element wird benutzt\"Warning message in if (nTrain * bag.fraction <= 2 * n.minobsinnode + 1) {:\n",
      "\"Bedingung hat Länge > 1 und nur das erste Element wird benutzt\"Warning message in if (nTrain * bag.fraction <= 2 * n.minobsinnode + 1) {:\n",
      "\"Bedingung hat Länge > 1 und nur das erste Element wird benutzt\"Warning message in if (nTrain * bag.fraction <= 2 * n.minobsinnode + 1) {:\n",
      "\"Bedingung hat Länge > 1 und nur das erste Element wird benutzt\"Warning message in if (nTrain * bag.fraction <= 2 * n.minobsinnode + 1) {:\n",
      "\"Bedingung hat Länge > 1 und nur das erste Element wird benutzt\"Warning message in if (nTrain * bag.fraction <= 2 * n.minobsinnode + 1) {:\n",
      "\"Bedingung hat Länge > 1 und nur das erste Element wird benutzt\"Warning message in if (nTrain * bag.fraction <= 2 * n.minobsinnode + 1) {:\n",
      "\"Bedingung hat Länge > 1 und nur das erste Element wird benutzt\"Warning message in if (nTrain * bag.fraction <= 2 * n.minobsinnode + 1) {:\n",
      "\"Bedingung hat Länge > 1 und nur das erste Element wird benutzt\"Warning message in if (nTrain * bag.fraction <= 2 * n.minobsinnode + 1) {:\n",
      "\"Bedingung hat Länge > 1 und nur das erste Element wird benutzt\"Warning message in if (nTrain * bag.fraction <= 2 * n.minobsinnode + 1) {:\n",
      "\"Bedingung hat Länge > 1 und nur das erste Element wird benutzt\""
     ]
    },
    {
     "name": "stdout",
     "output_type": "stream",
     "text": [
      "[1] 0.8949451\n"
     ]
    },
    {
     "name": "stderr",
     "output_type": "stream",
     "text": [
      "Warning message in if (nTrain * bag.fraction <= 2 * n.minobsinnode + 1) {:\n",
      "\"Bedingung hat Länge > 1 und nur das erste Element wird benutzt\"Warning message in if (nTrain * bag.fraction <= 2 * n.minobsinnode + 1) {:\n",
      "\"Bedingung hat Länge > 1 und nur das erste Element wird benutzt\"Warning message in if (nTrain * bag.fraction <= 2 * n.minobsinnode + 1) {:\n",
      "\"Bedingung hat Länge > 1 und nur das erste Element wird benutzt\"Warning message in if (nTrain * bag.fraction <= 2 * n.minobsinnode + 1) {:\n",
      "\"Bedingung hat Länge > 1 und nur das erste Element wird benutzt\"Warning message in if (nTrain * bag.fraction <= 2 * n.minobsinnode + 1) {:\n",
      "\"Bedingung hat Länge > 1 und nur das erste Element wird benutzt\"Warning message in if (nTrain * bag.fraction <= 2 * n.minobsinnode + 1) {:\n",
      "\"Bedingung hat Länge > 1 und nur das erste Element wird benutzt\"Warning message in if (nTrain * bag.fraction <= 2 * n.minobsinnode + 1) {:\n",
      "\"Bedingung hat Länge > 1 und nur das erste Element wird benutzt\"Warning message in if (nTrain * bag.fraction <= 2 * n.minobsinnode + 1) {:\n",
      "\"Bedingung hat Länge > 1 und nur das erste Element wird benutzt\"Warning message in if (nTrain * bag.fraction <= 2 * n.minobsinnode + 1) {:\n",
      "\"Bedingung hat Länge > 1 und nur das erste Element wird benutzt\"Warning message in if (nTrain * bag.fraction <= 2 * n.minobsinnode + 1) {:\n",
      "\"Bedingung hat Länge > 1 und nur das erste Element wird benutzt\""
     ]
    },
    {
     "name": "stdout",
     "output_type": "stream",
     "text": [
      "[1] 0.902997\n"
     ]
    },
    {
     "name": "stderr",
     "output_type": "stream",
     "text": [
      "Warning message in if (nTrain * bag.fraction <= 2 * n.minobsinnode + 1) {:\n",
      "\"Bedingung hat Länge > 1 und nur das erste Element wird benutzt\"Warning message in if (nTrain * bag.fraction <= 2 * n.minobsinnode + 1) {:\n",
      "\"Bedingung hat Länge > 1 und nur das erste Element wird benutzt\"Warning message in if (nTrain * bag.fraction <= 2 * n.minobsinnode + 1) {:\n",
      "\"Bedingung hat Länge > 1 und nur das erste Element wird benutzt\"Warning message in if (nTrain * bag.fraction <= 2 * n.minobsinnode + 1) {:\n",
      "\"Bedingung hat Länge > 1 und nur das erste Element wird benutzt\"Warning message in if (nTrain * bag.fraction <= 2 * n.minobsinnode + 1) {:\n",
      "\"Bedingung hat Länge > 1 und nur das erste Element wird benutzt\"Warning message in if (nTrain * bag.fraction <= 2 * n.minobsinnode + 1) {:\n",
      "\"Bedingung hat Länge > 1 und nur das erste Element wird benutzt\"Warning message in if (nTrain * bag.fraction <= 2 * n.minobsinnode + 1) {:\n",
      "\"Bedingung hat Länge > 1 und nur das erste Element wird benutzt\"Warning message in if (nTrain * bag.fraction <= 2 * n.minobsinnode + 1) {:\n",
      "\"Bedingung hat Länge > 1 und nur das erste Element wird benutzt\"Warning message in if (nTrain * bag.fraction <= 2 * n.minobsinnode + 1) {:\n",
      "\"Bedingung hat Länge > 1 und nur das erste Element wird benutzt\"Warning message in if (nTrain * bag.fraction <= 2 * n.minobsinnode + 1) {:\n",
      "\"Bedingung hat Länge > 1 und nur das erste Element wird benutzt\""
     ]
    },
    {
     "name": "stdout",
     "output_type": "stream",
     "text": [
      "[1] 0.8959341\n"
     ]
    },
    {
     "name": "stderr",
     "output_type": "stream",
     "text": [
      "Warning message in if (nTrain * bag.fraction <= 2 * n.minobsinnode + 1) {:\n",
      "\"Bedingung hat Länge > 1 und nur das erste Element wird benutzt\"Warning message in if (nTrain * bag.fraction <= 2 * n.minobsinnode + 1) {:\n",
      "\"Bedingung hat Länge > 1 und nur das erste Element wird benutzt\"Warning message in if (nTrain * bag.fraction <= 2 * n.minobsinnode + 1) {:\n",
      "\"Bedingung hat Länge > 1 und nur das erste Element wird benutzt\"Warning message in if (nTrain * bag.fraction <= 2 * n.minobsinnode + 1) {:\n",
      "\"Bedingung hat Länge > 1 und nur das erste Element wird benutzt\"Warning message in if (nTrain * bag.fraction <= 2 * n.minobsinnode + 1) {:\n",
      "\"Bedingung hat Länge > 1 und nur das erste Element wird benutzt\"Warning message in if (nTrain * bag.fraction <= 2 * n.minobsinnode + 1) {:\n",
      "\"Bedingung hat Länge > 1 und nur das erste Element wird benutzt\"Warning message in if (nTrain * bag.fraction <= 2 * n.minobsinnode + 1) {:\n",
      "\"Bedingung hat Länge > 1 und nur das erste Element wird benutzt\"Warning message in if (nTrain * bag.fraction <= 2 * n.minobsinnode + 1) {:\n",
      "\"Bedingung hat Länge > 1 und nur das erste Element wird benutzt\"Warning message in if (nTrain * bag.fraction <= 2 * n.minobsinnode + 1) {:\n",
      "\"Bedingung hat Länge > 1 und nur das erste Element wird benutzt\"Warning message in if (nTrain * bag.fraction <= 2 * n.minobsinnode + 1) {:\n",
      "\"Bedingung hat Länge > 1 und nur das erste Element wird benutzt\""
     ]
    },
    {
     "name": "stdout",
     "output_type": "stream",
     "text": [
      "[1] 0.9002098\n"
     ]
    },
    {
     "name": "stderr",
     "output_type": "stream",
     "text": [
      "Warning message in if (nTrain * bag.fraction <= 2 * n.minobsinnode + 1) {:\n",
      "\"Bedingung hat Länge > 1 und nur das erste Element wird benutzt\"Warning message in if (nTrain * bag.fraction <= 2 * n.minobsinnode + 1) {:\n",
      "\"Bedingung hat Länge > 1 und nur das erste Element wird benutzt\"Warning message in if (nTrain * bag.fraction <= 2 * n.minobsinnode + 1) {:\n",
      "\"Bedingung hat Länge > 1 und nur das erste Element wird benutzt\"Warning message in if (nTrain * bag.fraction <= 2 * n.minobsinnode + 1) {:\n",
      "\"Bedingung hat Länge > 1 und nur das erste Element wird benutzt\"Warning message in if (nTrain * bag.fraction <= 2 * n.minobsinnode + 1) {:\n",
      "\"Bedingung hat Länge > 1 und nur das erste Element wird benutzt\"Warning message in if (nTrain * bag.fraction <= 2 * n.minobsinnode + 1) {:\n",
      "\"Bedingung hat Länge > 1 und nur das erste Element wird benutzt\"Warning message in if (nTrain * bag.fraction <= 2 * n.minobsinnode + 1) {:\n",
      "\"Bedingung hat Länge > 1 und nur das erste Element wird benutzt\"Warning message in if (nTrain * bag.fraction <= 2 * n.minobsinnode + 1) {:\n",
      "\"Bedingung hat Länge > 1 und nur das erste Element wird benutzt\"Warning message in if (nTrain * bag.fraction <= 2 * n.minobsinnode + 1) {:\n",
      "\"Bedingung hat Länge > 1 und nur das erste Element wird benutzt\"Warning message in if (nTrain * bag.fraction <= 2 * n.minobsinnode + 1) {:\n",
      "\"Bedingung hat Länge > 1 und nur das erste Element wird benutzt\""
     ]
    },
    {
     "name": "stdout",
     "output_type": "stream",
     "text": [
      "[1] 0.9034965\n"
     ]
    },
    {
     "name": "stderr",
     "output_type": "stream",
     "text": [
      "Warning message in if (nTrain * bag.fraction <= 2 * n.minobsinnode + 1) {:\n",
      "\"Bedingung hat Länge > 1 und nur das erste Element wird benutzt\"Warning message in if (nTrain * bag.fraction <= 2 * n.minobsinnode + 1) {:\n",
      "\"Bedingung hat Länge > 1 und nur das erste Element wird benutzt\"Warning message in if (nTrain * bag.fraction <= 2 * n.minobsinnode + 1) {:\n",
      "\"Bedingung hat Länge > 1 und nur das erste Element wird benutzt\"Warning message in if (nTrain * bag.fraction <= 2 * n.minobsinnode + 1) {:\n",
      "\"Bedingung hat Länge > 1 und nur das erste Element wird benutzt\"Warning message in if (nTrain * bag.fraction <= 2 * n.minobsinnode + 1) {:\n",
      "\"Bedingung hat Länge > 1 und nur das erste Element wird benutzt\"Warning message in if (nTrain * bag.fraction <= 2 * n.minobsinnode + 1) {:\n",
      "\"Bedingung hat Länge > 1 und nur das erste Element wird benutzt\"Warning message in if (nTrain * bag.fraction <= 2 * n.minobsinnode + 1) {:\n",
      "\"Bedingung hat Länge > 1 und nur das erste Element wird benutzt\"Warning message in if (nTrain * bag.fraction <= 2 * n.minobsinnode + 1) {:\n",
      "\"Bedingung hat Länge > 1 und nur das erste Element wird benutzt\"Warning message in if (nTrain * bag.fraction <= 2 * n.minobsinnode + 1) {:\n",
      "\"Bedingung hat Länge > 1 und nur das erste Element wird benutzt\"Warning message in if (nTrain * bag.fraction <= 2 * n.minobsinnode + 1) {:\n",
      "\"Bedingung hat Länge > 1 und nur das erste Element wird benutzt\""
     ]
    },
    {
     "name": "stdout",
     "output_type": "stream",
     "text": [
      "[1] 0.891958\n"
     ]
    },
    {
     "name": "stderr",
     "output_type": "stream",
     "text": [
      "Warning message in if (nTrain * bag.fraction <= 2 * n.minobsinnode + 1) {:\n",
      "\"Bedingung hat Länge > 1 und nur das erste Element wird benutzt\"Warning message in if (nTrain * bag.fraction <= 2 * n.minobsinnode + 1) {:\n",
      "\"Bedingung hat Länge > 1 und nur das erste Element wird benutzt\"Warning message in if (nTrain * bag.fraction <= 2 * n.minobsinnode + 1) {:\n",
      "\"Bedingung hat Länge > 1 und nur das erste Element wird benutzt\"Warning message in if (nTrain * bag.fraction <= 2 * n.minobsinnode + 1) {:\n",
      "\"Bedingung hat Länge > 1 und nur das erste Element wird benutzt\"Warning message in if (nTrain * bag.fraction <= 2 * n.minobsinnode + 1) {:\n",
      "\"Bedingung hat Länge > 1 und nur das erste Element wird benutzt\"Warning message in if (nTrain * bag.fraction <= 2 * n.minobsinnode + 1) {:\n",
      "\"Bedingung hat Länge > 1 und nur das erste Element wird benutzt\"Warning message in if (nTrain * bag.fraction <= 2 * n.minobsinnode + 1) {:\n",
      "\"Bedingung hat Länge > 1 und nur das erste Element wird benutzt\"Warning message in if (nTrain * bag.fraction <= 2 * n.minobsinnode + 1) {:\n",
      "\"Bedingung hat Länge > 1 und nur das erste Element wird benutzt\"Warning message in if (nTrain * bag.fraction <= 2 * n.minobsinnode + 1) {:\n",
      "\"Bedingung hat Länge > 1 und nur das erste Element wird benutzt\"Warning message in if (nTrain * bag.fraction <= 2 * n.minobsinnode + 1) {:\n",
      "\"Bedingung hat Länge > 1 und nur das erste Element wird benutzt\""
     ]
    },
    {
     "name": "stdout",
     "output_type": "stream",
     "text": [
      "[1] 0.8993007\n"
     ]
    },
    {
     "name": "stderr",
     "output_type": "stream",
     "text": [
      "Warning message in if (nTrain * bag.fraction <= 2 * n.minobsinnode + 1) {:\n",
      "\"Bedingung hat Länge > 1 und nur das erste Element wird benutzt\"Warning message in if (nTrain * bag.fraction <= 2 * n.minobsinnode + 1) {:\n",
      "\"Bedingung hat Länge > 1 und nur das erste Element wird benutzt\"Warning message in if (nTrain * bag.fraction <= 2 * n.minobsinnode + 1) {:\n",
      "\"Bedingung hat Länge > 1 und nur das erste Element wird benutzt\"Warning message in if (nTrain * bag.fraction <= 2 * n.minobsinnode + 1) {:\n",
      "\"Bedingung hat Länge > 1 und nur das erste Element wird benutzt\"Warning message in if (nTrain * bag.fraction <= 2 * n.minobsinnode + 1) {:\n",
      "\"Bedingung hat Länge > 1 und nur das erste Element wird benutzt\"Warning message in if (nTrain * bag.fraction <= 2 * n.minobsinnode + 1) {:\n",
      "\"Bedingung hat Länge > 1 und nur das erste Element wird benutzt\"Warning message in if (nTrain * bag.fraction <= 2 * n.minobsinnode + 1) {:\n",
      "\"Bedingung hat Länge > 1 und nur das erste Element wird benutzt\"Warning message in if (nTrain * bag.fraction <= 2 * n.minobsinnode + 1) {:\n",
      "\"Bedingung hat Länge > 1 und nur das erste Element wird benutzt\"Warning message in if (nTrain * bag.fraction <= 2 * n.minobsinnode + 1) {:\n",
      "\"Bedingung hat Länge > 1 und nur das erste Element wird benutzt\"Warning message in if (nTrain * bag.fraction <= 2 * n.minobsinnode + 1) {:\n",
      "\"Bedingung hat Länge > 1 und nur das erste Element wird benutzt\""
     ]
    },
    {
     "name": "stdout",
     "output_type": "stream",
     "text": [
      "[1] 0.8908991\n"
     ]
    },
    {
     "name": "stderr",
     "output_type": "stream",
     "text": [
      "Warning message in if (nTrain * bag.fraction <= 2 * n.minobsinnode + 1) {:\n",
      "\"Bedingung hat Länge > 1 und nur das erste Element wird benutzt\"Warning message in if (nTrain * bag.fraction <= 2 * n.minobsinnode + 1) {:\n",
      "\"Bedingung hat Länge > 1 und nur das erste Element wird benutzt\"Warning message in if (nTrain * bag.fraction <= 2 * n.minobsinnode + 1) {:\n",
      "\"Bedingung hat Länge > 1 und nur das erste Element wird benutzt\"Warning message in if (nTrain * bag.fraction <= 2 * n.minobsinnode + 1) {:\n",
      "\"Bedingung hat Länge > 1 und nur das erste Element wird benutzt\"Warning message in if (nTrain * bag.fraction <= 2 * n.minobsinnode + 1) {:\n",
      "\"Bedingung hat Länge > 1 und nur das erste Element wird benutzt\"Warning message in if (nTrain * bag.fraction <= 2 * n.minobsinnode + 1) {:\n",
      "\"Bedingung hat Länge > 1 und nur das erste Element wird benutzt\"Warning message in if (nTrain * bag.fraction <= 2 * n.minobsinnode + 1) {:\n",
      "\"Bedingung hat Länge > 1 und nur das erste Element wird benutzt\"Warning message in if (nTrain * bag.fraction <= 2 * n.minobsinnode + 1) {:\n",
      "\"Bedingung hat Länge > 1 und nur das erste Element wird benutzt\"Warning message in if (nTrain * bag.fraction <= 2 * n.minobsinnode + 1) {:\n",
      "\"Bedingung hat Länge > 1 und nur das erste Element wird benutzt\"Warning message in if (nTrain * bag.fraction <= 2 * n.minobsinnode + 1) {:\n",
      "\"Bedingung hat Länge > 1 und nur das erste Element wird benutzt\""
     ]
    },
    {
     "name": "stdout",
     "output_type": "stream",
     "text": [
      "[1] 0.9032368\n"
     ]
    },
    {
     "name": "stderr",
     "output_type": "stream",
     "text": [
      "Warning message in if (nTrain * bag.fraction <= 2 * n.minobsinnode + 1) {:\n",
      "\"Bedingung hat Länge > 1 und nur das erste Element wird benutzt\"Warning message in if (nTrain * bag.fraction <= 2 * n.minobsinnode + 1) {:\n",
      "\"Bedingung hat Länge > 1 und nur das erste Element wird benutzt\"Warning message in if (nTrain * bag.fraction <= 2 * n.minobsinnode + 1) {:\n",
      "\"Bedingung hat Länge > 1 und nur das erste Element wird benutzt\"Warning message in if (nTrain * bag.fraction <= 2 * n.minobsinnode + 1) {:\n",
      "\"Bedingung hat Länge > 1 und nur das erste Element wird benutzt\"Warning message in if (nTrain * bag.fraction <= 2 * n.minobsinnode + 1) {:\n",
      "\"Bedingung hat Länge > 1 und nur das erste Element wird benutzt\"Warning message in if (nTrain * bag.fraction <= 2 * n.minobsinnode + 1) {:\n",
      "\"Bedingung hat Länge > 1 und nur das erste Element wird benutzt\"Warning message in if (nTrain * bag.fraction <= 2 * n.minobsinnode + 1) {:\n",
      "\"Bedingung hat Länge > 1 und nur das erste Element wird benutzt\"Warning message in if (nTrain * bag.fraction <= 2 * n.minobsinnode + 1) {:\n",
      "\"Bedingung hat Länge > 1 und nur das erste Element wird benutzt\"Warning message in if (nTrain * bag.fraction <= 2 * n.minobsinnode + 1) {:\n",
      "\"Bedingung hat Länge > 1 und nur das erste Element wird benutzt\"Warning message in if (nTrain * bag.fraction <= 2 * n.minobsinnode + 1) {:\n",
      "\"Bedingung hat Länge > 1 und nur das erste Element wird benutzt\""
     ]
    },
    {
     "name": "stdout",
     "output_type": "stream",
     "text": [
      "[1] 0.9005694\n"
     ]
    },
    {
     "name": "stderr",
     "output_type": "stream",
     "text": [
      "Warning message in if (nTrain * bag.fraction <= 2 * n.minobsinnode + 1) {:\n",
      "\"Bedingung hat Länge > 1 und nur das erste Element wird benutzt\"Warning message in if (nTrain * bag.fraction <= 2 * n.minobsinnode + 1) {:\n",
      "\"Bedingung hat Länge > 1 und nur das erste Element wird benutzt\"Warning message in if (nTrain * bag.fraction <= 2 * n.minobsinnode + 1) {:\n",
      "\"Bedingung hat Länge > 1 und nur das erste Element wird benutzt\"Warning message in if (nTrain * bag.fraction <= 2 * n.minobsinnode + 1) {:\n",
      "\"Bedingung hat Länge > 1 und nur das erste Element wird benutzt\"Warning message in if (nTrain * bag.fraction <= 2 * n.minobsinnode + 1) {:\n",
      "\"Bedingung hat Länge > 1 und nur das erste Element wird benutzt\"Warning message in if (nTrain * bag.fraction <= 2 * n.minobsinnode + 1) {:\n",
      "\"Bedingung hat Länge > 1 und nur das erste Element wird benutzt\"Warning message in if (nTrain * bag.fraction <= 2 * n.minobsinnode + 1) {:\n",
      "\"Bedingung hat Länge > 1 und nur das erste Element wird benutzt\"Warning message in if (nTrain * bag.fraction <= 2 * n.minobsinnode + 1) {:\n",
      "\"Bedingung hat Länge > 1 und nur das erste Element wird benutzt\"Warning message in if (nTrain * bag.fraction <= 2 * n.minobsinnode + 1) {:\n",
      "\"Bedingung hat Länge > 1 und nur das erste Element wird benutzt\"Warning message in if (nTrain * bag.fraction <= 2 * n.minobsinnode + 1) {:\n",
      "\"Bedingung hat Länge > 1 und nur das erste Element wird benutzt\""
     ]
    },
    {
     "name": "stdout",
     "output_type": "stream",
     "text": [
      "[1] 0.8901399\n"
     ]
    },
    {
     "name": "stderr",
     "output_type": "stream",
     "text": [
      "Warning message in if (nTrain * bag.fraction <= 2 * n.minobsinnode + 1) {:\n",
      "\"Bedingung hat Länge > 1 und nur das erste Element wird benutzt\"Warning message in if (nTrain * bag.fraction <= 2 * n.minobsinnode + 1) {:\n",
      "\"Bedingung hat Länge > 1 und nur das erste Element wird benutzt\"Warning message in if (nTrain * bag.fraction <= 2 * n.minobsinnode + 1) {:\n",
      "\"Bedingung hat Länge > 1 und nur das erste Element wird benutzt\"Warning message in if (nTrain * bag.fraction <= 2 * n.minobsinnode + 1) {:\n",
      "\"Bedingung hat Länge > 1 und nur das erste Element wird benutzt\"Warning message in if (nTrain * bag.fraction <= 2 * n.minobsinnode + 1) {:\n",
      "\"Bedingung hat Länge > 1 und nur das erste Element wird benutzt\"Warning message in if (nTrain * bag.fraction <= 2 * n.minobsinnode + 1) {:\n",
      "\"Bedingung hat Länge > 1 und nur das erste Element wird benutzt\"Warning message in if (nTrain * bag.fraction <= 2 * n.minobsinnode + 1) {:\n",
      "\"Bedingung hat Länge > 1 und nur das erste Element wird benutzt\"Warning message in if (nTrain * bag.fraction <= 2 * n.minobsinnode + 1) {:\n",
      "\"Bedingung hat Länge > 1 und nur das erste Element wird benutzt\"Warning message in if (nTrain * bag.fraction <= 2 * n.minobsinnode + 1) {:\n",
      "\"Bedingung hat Länge > 1 und nur das erste Element wird benutzt\"Warning message in if (nTrain * bag.fraction <= 2 * n.minobsinnode + 1) {:\n",
      "\"Bedingung hat Länge > 1 und nur das erste Element wird benutzt\""
     ]
    },
    {
     "name": "stdout",
     "output_type": "stream",
     "text": [
      "[1] 0.8970929\n"
     ]
    },
    {
     "name": "stderr",
     "output_type": "stream",
     "text": [
      "Warning message in if (nTrain * bag.fraction <= 2 * n.minobsinnode + 1) {:\n",
      "\"Bedingung hat Länge > 1 und nur das erste Element wird benutzt\"Warning message in if (nTrain * bag.fraction <= 2 * n.minobsinnode + 1) {:\n",
      "\"Bedingung hat Länge > 1 und nur das erste Element wird benutzt\"Warning message in if (nTrain * bag.fraction <= 2 * n.minobsinnode + 1) {:\n",
      "\"Bedingung hat Länge > 1 und nur das erste Element wird benutzt\"Warning message in if (nTrain * bag.fraction <= 2 * n.minobsinnode + 1) {:\n",
      "\"Bedingung hat Länge > 1 und nur das erste Element wird benutzt\"Warning message in if (nTrain * bag.fraction <= 2 * n.minobsinnode + 1) {:\n",
      "\"Bedingung hat Länge > 1 und nur das erste Element wird benutzt\"Warning message in if (nTrain * bag.fraction <= 2 * n.minobsinnode + 1) {:\n",
      "\"Bedingung hat Länge > 1 und nur das erste Element wird benutzt\"Warning message in if (nTrain * bag.fraction <= 2 * n.minobsinnode + 1) {:\n",
      "\"Bedingung hat Länge > 1 und nur das erste Element wird benutzt\"Warning message in if (nTrain * bag.fraction <= 2 * n.minobsinnode + 1) {:\n",
      "\"Bedingung hat Länge > 1 und nur das erste Element wird benutzt\"Warning message in if (nTrain * bag.fraction <= 2 * n.minobsinnode + 1) {:\n",
      "\"Bedingung hat Länge > 1 und nur das erste Element wird benutzt\"Warning message in if (nTrain * bag.fraction <= 2 * n.minobsinnode + 1) {:\n",
      "\"Bedingung hat Länge > 1 und nur das erste Element wird benutzt\""
     ]
    },
    {
     "name": "stdout",
     "output_type": "stream",
     "text": [
      "[1] 0.8916983\n"
     ]
    },
    {
     "name": "stderr",
     "output_type": "stream",
     "text": [
      "Warning message in if (nTrain * bag.fraction <= 2 * n.minobsinnode + 1) {:\n",
      "\"Bedingung hat Länge > 1 und nur das erste Element wird benutzt\"Warning message in if (nTrain * bag.fraction <= 2 * n.minobsinnode + 1) {:\n",
      "\"Bedingung hat Länge > 1 und nur das erste Element wird benutzt\"Warning message in if (nTrain * bag.fraction <= 2 * n.minobsinnode + 1) {:\n",
      "\"Bedingung hat Länge > 1 und nur das erste Element wird benutzt\"Warning message in if (nTrain * bag.fraction <= 2 * n.minobsinnode + 1) {:\n",
      "\"Bedingung hat Länge > 1 und nur das erste Element wird benutzt\"Warning message in if (nTrain * bag.fraction <= 2 * n.minobsinnode + 1) {:\n",
      "\"Bedingung hat Länge > 1 und nur das erste Element wird benutzt\"Warning message in if (nTrain * bag.fraction <= 2 * n.minobsinnode + 1) {:\n",
      "\"Bedingung hat Länge > 1 und nur das erste Element wird benutzt\"Warning message in if (nTrain * bag.fraction <= 2 * n.minobsinnode + 1) {:\n",
      "\"Bedingung hat Länge > 1 und nur das erste Element wird benutzt\"Warning message in if (nTrain * bag.fraction <= 2 * n.minobsinnode + 1) {:\n",
      "\"Bedingung hat Länge > 1 und nur das erste Element wird benutzt\"Warning message in if (nTrain * bag.fraction <= 2 * n.minobsinnode + 1) {:\n",
      "\"Bedingung hat Länge > 1 und nur das erste Element wird benutzt\"Warning message in if (nTrain * bag.fraction <= 2 * n.minobsinnode + 1) {:\n",
      "\"Bedingung hat Länge > 1 und nur das erste Element wird benutzt\""
     ]
    },
    {
     "name": "stdout",
     "output_type": "stream",
     "text": [
      "[1] 0.8995005\n"
     ]
    },
    {
     "name": "stderr",
     "output_type": "stream",
     "text": [
      "Warning message in if (nTrain * bag.fraction <= 2 * n.minobsinnode + 1) {:\n",
      "\"Bedingung hat Länge > 1 und nur das erste Element wird benutzt\"Warning message in if (nTrain * bag.fraction <= 2 * n.minobsinnode + 1) {:\n",
      "\"Bedingung hat Länge > 1 und nur das erste Element wird benutzt\"Warning message in if (nTrain * bag.fraction <= 2 * n.minobsinnode + 1) {:\n",
      "\"Bedingung hat Länge > 1 und nur das erste Element wird benutzt\"Warning message in if (nTrain * bag.fraction <= 2 * n.minobsinnode + 1) {:\n",
      "\"Bedingung hat Länge > 1 und nur das erste Element wird benutzt\"Warning message in if (nTrain * bag.fraction <= 2 * n.minobsinnode + 1) {:\n",
      "\"Bedingung hat Länge > 1 und nur das erste Element wird benutzt\"Warning message in if (nTrain * bag.fraction <= 2 * n.minobsinnode + 1) {:\n",
      "\"Bedingung hat Länge > 1 und nur das erste Element wird benutzt\"Warning message in if (nTrain * bag.fraction <= 2 * n.minobsinnode + 1) {:\n",
      "\"Bedingung hat Länge > 1 und nur das erste Element wird benutzt\"Warning message in if (nTrain * bag.fraction <= 2 * n.minobsinnode + 1) {:\n",
      "\"Bedingung hat Länge > 1 und nur das erste Element wird benutzt\"Warning message in if (nTrain * bag.fraction <= 2 * n.minobsinnode + 1) {:\n",
      "\"Bedingung hat Länge > 1 und nur das erste Element wird benutzt\"Warning message in if (nTrain * bag.fraction <= 2 * n.minobsinnode + 1) {:\n",
      "\"Bedingung hat Länge > 1 und nur das erste Element wird benutzt\""
     ]
    },
    {
     "name": "stdout",
     "output_type": "stream",
     "text": [
      "[1] 0.8884116\n"
     ]
    },
    {
     "name": "stderr",
     "output_type": "stream",
     "text": [
      "Warning message in if (nTrain * bag.fraction <= 2 * n.minobsinnode + 1) {:\n",
      "\"Bedingung hat Länge > 1 und nur das erste Element wird benutzt\"Warning message in if (nTrain * bag.fraction <= 2 * n.minobsinnode + 1) {:\n",
      "\"Bedingung hat Länge > 1 und nur das erste Element wird benutzt\"Warning message in if (nTrain * bag.fraction <= 2 * n.minobsinnode + 1) {:\n",
      "\"Bedingung hat Länge > 1 und nur das erste Element wird benutzt\"Warning message in if (nTrain * bag.fraction <= 2 * n.minobsinnode + 1) {:\n",
      "\"Bedingung hat Länge > 1 und nur das erste Element wird benutzt\"Warning message in if (nTrain * bag.fraction <= 2 * n.minobsinnode + 1) {:\n",
      "\"Bedingung hat Länge > 1 und nur das erste Element wird benutzt\"Warning message in if (nTrain * bag.fraction <= 2 * n.minobsinnode + 1) {:\n",
      "\"Bedingung hat Länge > 1 und nur das erste Element wird benutzt\"Warning message in if (nTrain * bag.fraction <= 2 * n.minobsinnode + 1) {:\n",
      "\"Bedingung hat Länge > 1 und nur das erste Element wird benutzt\"Warning message in if (nTrain * bag.fraction <= 2 * n.minobsinnode + 1) {:\n",
      "\"Bedingung hat Länge > 1 und nur das erste Element wird benutzt\"Warning message in if (nTrain * bag.fraction <= 2 * n.minobsinnode + 1) {:\n",
      "\"Bedingung hat Länge > 1 und nur das erste Element wird benutzt\"Warning message in if (nTrain * bag.fraction <= 2 * n.minobsinnode + 1) {:\n",
      "\"Bedingung hat Länge > 1 und nur das erste Element wird benutzt\""
     ]
    },
    {
     "name": "stdout",
     "output_type": "stream",
     "text": [
      "[1] 0.8929171\n"
     ]
    },
    {
     "name": "stderr",
     "output_type": "stream",
     "text": [
      "Warning message in if (nTrain * bag.fraction <= 2 * n.minobsinnode + 1) {:\n",
      "\"Bedingung hat Länge > 1 und nur das erste Element wird benutzt\"Warning message in if (nTrain * bag.fraction <= 2 * n.minobsinnode + 1) {:\n",
      "\"Bedingung hat Länge > 1 und nur das erste Element wird benutzt\"Warning message in if (nTrain * bag.fraction <= 2 * n.minobsinnode + 1) {:\n",
      "\"Bedingung hat Länge > 1 und nur das erste Element wird benutzt\"Warning message in if (nTrain * bag.fraction <= 2 * n.minobsinnode + 1) {:\n",
      "\"Bedingung hat Länge > 1 und nur das erste Element wird benutzt\"Warning message in if (nTrain * bag.fraction <= 2 * n.minobsinnode + 1) {:\n",
      "\"Bedingung hat Länge > 1 und nur das erste Element wird benutzt\"Warning message in if (nTrain * bag.fraction <= 2 * n.minobsinnode + 1) {:\n",
      "\"Bedingung hat Länge > 1 und nur das erste Element wird benutzt\"Warning message in if (nTrain * bag.fraction <= 2 * n.minobsinnode + 1) {:\n",
      "\"Bedingung hat Länge > 1 und nur das erste Element wird benutzt\"Warning message in if (nTrain * bag.fraction <= 2 * n.minobsinnode + 1) {:\n",
      "\"Bedingung hat Länge > 1 und nur das erste Element wird benutzt\"Warning message in if (nTrain * bag.fraction <= 2 * n.minobsinnode + 1) {:\n",
      "\"Bedingung hat Länge > 1 und nur das erste Element wird benutzt\"Warning message in if (nTrain * bag.fraction <= 2 * n.minobsinnode + 1) {:\n",
      "\"Bedingung hat Länge > 1 und nur das erste Element wird benutzt\""
     ]
    },
    {
     "name": "stdout",
     "output_type": "stream",
     "text": [
      "[1] 0.8916384\n"
     ]
    },
    {
     "name": "stderr",
     "output_type": "stream",
     "text": [
      "Warning message in if (nTrain * bag.fraction <= 2 * n.minobsinnode + 1) {:\n",
      "\"Bedingung hat Länge > 1 und nur das erste Element wird benutzt\"Warning message in if (nTrain * bag.fraction <= 2 * n.minobsinnode + 1) {:\n",
      "\"Bedingung hat Länge > 1 und nur das erste Element wird benutzt\"Warning message in if (nTrain * bag.fraction <= 2 * n.minobsinnode + 1) {:\n",
      "\"Bedingung hat Länge > 1 und nur das erste Element wird benutzt\"Warning message in if (nTrain * bag.fraction <= 2 * n.minobsinnode + 1) {:\n",
      "\"Bedingung hat Länge > 1 und nur das erste Element wird benutzt\"Warning message in if (nTrain * bag.fraction <= 2 * n.minobsinnode + 1) {:\n",
      "\"Bedingung hat Länge > 1 und nur das erste Element wird benutzt\"Warning message in if (nTrain * bag.fraction <= 2 * n.minobsinnode + 1) {:\n",
      "\"Bedingung hat Länge > 1 und nur das erste Element wird benutzt\"Warning message in if (nTrain * bag.fraction <= 2 * n.minobsinnode + 1) {:\n",
      "\"Bedingung hat Länge > 1 und nur das erste Element wird benutzt\"Warning message in if (nTrain * bag.fraction <= 2 * n.minobsinnode + 1) {:\n",
      "\"Bedingung hat Länge > 1 und nur das erste Element wird benutzt\"Warning message in if (nTrain * bag.fraction <= 2 * n.minobsinnode + 1) {:\n",
      "\"Bedingung hat Länge > 1 und nur das erste Element wird benutzt\"Warning message in if (nTrain * bag.fraction <= 2 * n.minobsinnode + 1) {:\n",
      "\"Bedingung hat Länge > 1 und nur das erste Element wird benutzt\""
     ]
    },
    {
     "name": "stdout",
     "output_type": "stream",
     "text": [
      "[1] 0.8856543\n"
     ]
    },
    {
     "name": "stderr",
     "output_type": "stream",
     "text": [
      "Warning message in if (nTrain * bag.fraction <= 2 * n.minobsinnode + 1) {:\n",
      "\"Bedingung hat Länge > 1 und nur das erste Element wird benutzt\"Warning message in if (nTrain * bag.fraction <= 2 * n.minobsinnode + 1) {:\n",
      "\"Bedingung hat Länge > 1 und nur das erste Element wird benutzt\"Warning message in if (nTrain * bag.fraction <= 2 * n.minobsinnode + 1) {:\n",
      "\"Bedingung hat Länge > 1 und nur das erste Element wird benutzt\"Warning message in if (nTrain * bag.fraction <= 2 * n.minobsinnode + 1) {:\n",
      "\"Bedingung hat Länge > 1 und nur das erste Element wird benutzt\"Warning message in if (nTrain * bag.fraction <= 2 * n.minobsinnode + 1) {:\n",
      "\"Bedingung hat Länge > 1 und nur das erste Element wird benutzt\"Warning message in if (nTrain * bag.fraction <= 2 * n.minobsinnode + 1) {:\n",
      "\"Bedingung hat Länge > 1 und nur das erste Element wird benutzt\"Warning message in if (nTrain * bag.fraction <= 2 * n.minobsinnode + 1) {:\n",
      "\"Bedingung hat Länge > 1 und nur das erste Element wird benutzt\"Warning message in if (nTrain * bag.fraction <= 2 * n.minobsinnode + 1) {:\n",
      "\"Bedingung hat Länge > 1 und nur das erste Element wird benutzt\"Warning message in if (nTrain * bag.fraction <= 2 * n.minobsinnode + 1) {:\n",
      "\"Bedingung hat Länge > 1 und nur das erste Element wird benutzt\"Warning message in if (nTrain * bag.fraction <= 2 * n.minobsinnode + 1) {:\n",
      "\"Bedingung hat Länge > 1 und nur das erste Element wird benutzt\""
     ]
    },
    {
     "name": "stdout",
     "output_type": "stream",
     "text": [
      "[1] 0.891978\n"
     ]
    },
    {
     "name": "stderr",
     "output_type": "stream",
     "text": [
      "Warning message in if (nTrain * bag.fraction <= 2 * n.minobsinnode + 1) {:\n",
      "\"Bedingung hat Länge > 1 und nur das erste Element wird benutzt\"Warning message in if (nTrain * bag.fraction <= 2 * n.minobsinnode + 1) {:\n",
      "\"Bedingung hat Länge > 1 und nur das erste Element wird benutzt\"Warning message in if (nTrain * bag.fraction <= 2 * n.minobsinnode + 1) {:\n",
      "\"Bedingung hat Länge > 1 und nur das erste Element wird benutzt\"Warning message in if (nTrain * bag.fraction <= 2 * n.minobsinnode + 1) {:\n",
      "\"Bedingung hat Länge > 1 und nur das erste Element wird benutzt\"Warning message in if (nTrain * bag.fraction <= 2 * n.minobsinnode + 1) {:\n",
      "\"Bedingung hat Länge > 1 und nur das erste Element wird benutzt\"Warning message in if (nTrain * bag.fraction <= 2 * n.minobsinnode + 1) {:\n",
      "\"Bedingung hat Länge > 1 und nur das erste Element wird benutzt\"Warning message in if (nTrain * bag.fraction <= 2 * n.minobsinnode + 1) {:\n",
      "\"Bedingung hat Länge > 1 und nur das erste Element wird benutzt\"Warning message in if (nTrain * bag.fraction <= 2 * n.minobsinnode + 1) {:\n",
      "\"Bedingung hat Länge > 1 und nur das erste Element wird benutzt\"Warning message in if (nTrain * bag.fraction <= 2 * n.minobsinnode + 1) {:\n",
      "\"Bedingung hat Länge > 1 und nur das erste Element wird benutzt\"Warning message in if (nTrain * bag.fraction <= 2 * n.minobsinnode + 1) {:\n",
      "\"Bedingung hat Länge > 1 und nur das erste Element wird benutzt\""
     ]
    },
    {
     "name": "stdout",
     "output_type": "stream",
     "text": [
      "[1] 0.9024176\n"
     ]
    },
    {
     "name": "stderr",
     "output_type": "stream",
     "text": [
      "Warning message in if (nTrain * bag.fraction <= 2 * n.minobsinnode + 1) {:\n",
      "\"Bedingung hat Länge > 1 und nur das erste Element wird benutzt\"Warning message in if (nTrain * bag.fraction <= 2 * n.minobsinnode + 1) {:\n",
      "\"Bedingung hat Länge > 1 und nur das erste Element wird benutzt\"Warning message in if (nTrain * bag.fraction <= 2 * n.minobsinnode + 1) {:\n",
      "\"Bedingung hat Länge > 1 und nur das erste Element wird benutzt\"Warning message in if (nTrain * bag.fraction <= 2 * n.minobsinnode + 1) {:\n",
      "\"Bedingung hat Länge > 1 und nur das erste Element wird benutzt\"Warning message in if (nTrain * bag.fraction <= 2 * n.minobsinnode + 1) {:\n",
      "\"Bedingung hat Länge > 1 und nur das erste Element wird benutzt\"Warning message in if (nTrain * bag.fraction <= 2 * n.minobsinnode + 1) {:\n",
      "\"Bedingung hat Länge > 1 und nur das erste Element wird benutzt\"Warning message in if (nTrain * bag.fraction <= 2 * n.minobsinnode + 1) {:\n",
      "\"Bedingung hat Länge > 1 und nur das erste Element wird benutzt\"Warning message in if (nTrain * bag.fraction <= 2 * n.minobsinnode + 1) {:\n",
      "\"Bedingung hat Länge > 1 und nur das erste Element wird benutzt\"Warning message in if (nTrain * bag.fraction <= 2 * n.minobsinnode + 1) {:\n",
      "\"Bedingung hat Länge > 1 und nur das erste Element wird benutzt\"Warning message in if (nTrain * bag.fraction <= 2 * n.minobsinnode + 1) {:\n",
      "\"Bedingung hat Länge > 1 und nur das erste Element wird benutzt\""
     ]
    },
    {
     "name": "stdout",
     "output_type": "stream",
     "text": [
      "[1] 0.9078921\n"
     ]
    },
    {
     "name": "stderr",
     "output_type": "stream",
     "text": [
      "Warning message in if (nTrain * bag.fraction <= 2 * n.minobsinnode + 1) {:\n",
      "\"Bedingung hat Länge > 1 und nur das erste Element wird benutzt\"Warning message in if (nTrain * bag.fraction <= 2 * n.minobsinnode + 1) {:\n",
      "\"Bedingung hat Länge > 1 und nur das erste Element wird benutzt\"Warning message in if (nTrain * bag.fraction <= 2 * n.minobsinnode + 1) {:\n",
      "\"Bedingung hat Länge > 1 und nur das erste Element wird benutzt\"Warning message in if (nTrain * bag.fraction <= 2 * n.minobsinnode + 1) {:\n",
      "\"Bedingung hat Länge > 1 und nur das erste Element wird benutzt\"Warning message in if (nTrain * bag.fraction <= 2 * n.minobsinnode + 1) {:\n",
      "\"Bedingung hat Länge > 1 und nur das erste Element wird benutzt\"Warning message in if (nTrain * bag.fraction <= 2 * n.minobsinnode + 1) {:\n",
      "\"Bedingung hat Länge > 1 und nur das erste Element wird benutzt\"Warning message in if (nTrain * bag.fraction <= 2 * n.minobsinnode + 1) {:\n",
      "\"Bedingung hat Länge > 1 und nur das erste Element wird benutzt\"Warning message in if (nTrain * bag.fraction <= 2 * n.minobsinnode + 1) {:\n",
      "\"Bedingung hat Länge > 1 und nur das erste Element wird benutzt\"Warning message in if (nTrain * bag.fraction <= 2 * n.minobsinnode + 1) {:\n",
      "\"Bedingung hat Länge > 1 und nur das erste Element wird benutzt\"Warning message in if (nTrain * bag.fraction <= 2 * n.minobsinnode + 1) {:\n",
      "\"Bedingung hat Länge > 1 und nur das erste Element wird benutzt\""
     ]
    },
    {
     "name": "stdout",
     "output_type": "stream",
     "text": [
      "[1] 0.9041359\n"
     ]
    },
    {
     "name": "stderr",
     "output_type": "stream",
     "text": [
      "Warning message in if (nTrain * bag.fraction <= 2 * n.minobsinnode + 1) {:\n",
      "\"Bedingung hat Länge > 1 und nur das erste Element wird benutzt\"Warning message in if (nTrain * bag.fraction <= 2 * n.minobsinnode + 1) {:\n",
      "\"Bedingung hat Länge > 1 und nur das erste Element wird benutzt\"Warning message in if (nTrain * bag.fraction <= 2 * n.minobsinnode + 1) {:\n",
      "\"Bedingung hat Länge > 1 und nur das erste Element wird benutzt\"Warning message in if (nTrain * bag.fraction <= 2 * n.minobsinnode + 1) {:\n",
      "\"Bedingung hat Länge > 1 und nur das erste Element wird benutzt\"Warning message in if (nTrain * bag.fraction <= 2 * n.minobsinnode + 1) {:\n",
      "\"Bedingung hat Länge > 1 und nur das erste Element wird benutzt\"Warning message in if (nTrain * bag.fraction <= 2 * n.minobsinnode + 1) {:\n",
      "\"Bedingung hat Länge > 1 und nur das erste Element wird benutzt\"Warning message in if (nTrain * bag.fraction <= 2 * n.minobsinnode + 1) {:\n",
      "\"Bedingung hat Länge > 1 und nur das erste Element wird benutzt\"Warning message in if (nTrain * bag.fraction <= 2 * n.minobsinnode + 1) {:\n",
      "\"Bedingung hat Länge > 1 und nur das erste Element wird benutzt\"Warning message in if (nTrain * bag.fraction <= 2 * n.minobsinnode + 1) {:\n",
      "\"Bedingung hat Länge > 1 und nur das erste Element wird benutzt\"Warning message in if (nTrain * bag.fraction <= 2 * n.minobsinnode + 1) {:\n",
      "\"Bedingung hat Länge > 1 und nur das erste Element wird benutzt\""
     ]
    },
    {
     "name": "stdout",
     "output_type": "stream",
     "text": [
      "[1] 0.9100599\n"
     ]
    },
    {
     "name": "stderr",
     "output_type": "stream",
     "text": [
      "Warning message in if (nTrain * bag.fraction <= 2 * n.minobsinnode + 1) {:\n",
      "\"Bedingung hat Länge > 1 und nur das erste Element wird benutzt\"Warning message in if (nTrain * bag.fraction <= 2 * n.minobsinnode + 1) {:\n",
      "\"Bedingung hat Länge > 1 und nur das erste Element wird benutzt\"Warning message in if (nTrain * bag.fraction <= 2 * n.minobsinnode + 1) {:\n",
      "\"Bedingung hat Länge > 1 und nur das erste Element wird benutzt\"Warning message in if (nTrain * bag.fraction <= 2 * n.minobsinnode + 1) {:\n",
      "\"Bedingung hat Länge > 1 und nur das erste Element wird benutzt\"Warning message in if (nTrain * bag.fraction <= 2 * n.minobsinnode + 1) {:\n",
      "\"Bedingung hat Länge > 1 und nur das erste Element wird benutzt\"Warning message in if (nTrain * bag.fraction <= 2 * n.minobsinnode + 1) {:\n",
      "\"Bedingung hat Länge > 1 und nur das erste Element wird benutzt\"Warning message in if (nTrain * bag.fraction <= 2 * n.minobsinnode + 1) {:\n",
      "\"Bedingung hat Länge > 1 und nur das erste Element wird benutzt\"Warning message in if (nTrain * bag.fraction <= 2 * n.minobsinnode + 1) {:\n",
      "\"Bedingung hat Länge > 1 und nur das erste Element wird benutzt\"Warning message in if (nTrain * bag.fraction <= 2 * n.minobsinnode + 1) {:\n",
      "\"Bedingung hat Länge > 1 und nur das erste Element wird benutzt\"Warning message in if (nTrain * bag.fraction <= 2 * n.minobsinnode + 1) {:\n",
      "\"Bedingung hat Länge > 1 und nur das erste Element wird benutzt\""
     ]
    },
    {
     "name": "stdout",
     "output_type": "stream",
     "text": [
      "[1] 0.9116883\n"
     ]
    },
    {
     "name": "stderr",
     "output_type": "stream",
     "text": [
      "Warning message in if (nTrain * bag.fraction <= 2 * n.minobsinnode + 1) {:\n",
      "\"Bedingung hat Länge > 1 und nur das erste Element wird benutzt\"Warning message in if (nTrain * bag.fraction <= 2 * n.minobsinnode + 1) {:\n",
      "\"Bedingung hat Länge > 1 und nur das erste Element wird benutzt\"Warning message in if (nTrain * bag.fraction <= 2 * n.minobsinnode + 1) {:\n",
      "\"Bedingung hat Länge > 1 und nur das erste Element wird benutzt\"Warning message in if (nTrain * bag.fraction <= 2 * n.minobsinnode + 1) {:\n",
      "\"Bedingung hat Länge > 1 und nur das erste Element wird benutzt\"Warning message in if (nTrain * bag.fraction <= 2 * n.minobsinnode + 1) {:\n",
      "\"Bedingung hat Länge > 1 und nur das erste Element wird benutzt\"Warning message in if (nTrain * bag.fraction <= 2 * n.minobsinnode + 1) {:\n",
      "\"Bedingung hat Länge > 1 und nur das erste Element wird benutzt\"Warning message in if (nTrain * bag.fraction <= 2 * n.minobsinnode + 1) {:\n",
      "\"Bedingung hat Länge > 1 und nur das erste Element wird benutzt\"Warning message in if (nTrain * bag.fraction <= 2 * n.minobsinnode + 1) {:\n",
      "\"Bedingung hat Länge > 1 und nur das erste Element wird benutzt\"Warning message in if (nTrain * bag.fraction <= 2 * n.minobsinnode + 1) {:\n",
      "\"Bedingung hat Länge > 1 und nur das erste Element wird benutzt\"Warning message in if (nTrain * bag.fraction <= 2 * n.minobsinnode + 1) {:\n",
      "\"Bedingung hat Länge > 1 und nur das erste Element wird benutzt\""
     ]
    },
    {
     "name": "stdout",
     "output_type": "stream",
     "text": [
      "[1] 0.9004695\n"
     ]
    },
    {
     "name": "stderr",
     "output_type": "stream",
     "text": [
      "Warning message in if (nTrain * bag.fraction <= 2 * n.minobsinnode + 1) {:\n",
      "\"Bedingung hat Länge > 1 und nur das erste Element wird benutzt\"Warning message in if (nTrain * bag.fraction <= 2 * n.minobsinnode + 1) {:\n",
      "\"Bedingung hat Länge > 1 und nur das erste Element wird benutzt\"Warning message in if (nTrain * bag.fraction <= 2 * n.minobsinnode + 1) {:\n",
      "\"Bedingung hat Länge > 1 und nur das erste Element wird benutzt\"Warning message in if (nTrain * bag.fraction <= 2 * n.minobsinnode + 1) {:\n",
      "\"Bedingung hat Länge > 1 und nur das erste Element wird benutzt\"Warning message in if (nTrain * bag.fraction <= 2 * n.minobsinnode + 1) {:\n",
      "\"Bedingung hat Länge > 1 und nur das erste Element wird benutzt\"Warning message in if (nTrain * bag.fraction <= 2 * n.minobsinnode + 1) {:\n",
      "\"Bedingung hat Länge > 1 und nur das erste Element wird benutzt\"Warning message in if (nTrain * bag.fraction <= 2 * n.minobsinnode + 1) {:\n",
      "\"Bedingung hat Länge > 1 und nur das erste Element wird benutzt\"Warning message in if (nTrain * bag.fraction <= 2 * n.minobsinnode + 1) {:\n",
      "\"Bedingung hat Länge > 1 und nur das erste Element wird benutzt\"Warning message in if (nTrain * bag.fraction <= 2 * n.minobsinnode + 1) {:\n",
      "\"Bedingung hat Länge > 1 und nur das erste Element wird benutzt\"Warning message in if (nTrain * bag.fraction <= 2 * n.minobsinnode + 1) {:\n",
      "\"Bedingung hat Länge > 1 und nur das erste Element wird benutzt\""
     ]
    },
    {
     "name": "stdout",
     "output_type": "stream",
     "text": [
      "[1] 0.897992\n"
     ]
    },
    {
     "name": "stderr",
     "output_type": "stream",
     "text": [
      "Warning message in if (nTrain * bag.fraction <= 2 * n.minobsinnode + 1) {:\n",
      "\"Bedingung hat Länge > 1 und nur das erste Element wird benutzt\"Warning message in if (nTrain * bag.fraction <= 2 * n.minobsinnode + 1) {:\n",
      "\"Bedingung hat Länge > 1 und nur das erste Element wird benutzt\"Warning message in if (nTrain * bag.fraction <= 2 * n.minobsinnode + 1) {:\n",
      "\"Bedingung hat Länge > 1 und nur das erste Element wird benutzt\"Warning message in if (nTrain * bag.fraction <= 2 * n.minobsinnode + 1) {:\n",
      "\"Bedingung hat Länge > 1 und nur das erste Element wird benutzt\"Warning message in if (nTrain * bag.fraction <= 2 * n.minobsinnode + 1) {:\n",
      "\"Bedingung hat Länge > 1 und nur das erste Element wird benutzt\"Warning message in if (nTrain * bag.fraction <= 2 * n.minobsinnode + 1) {:\n",
      "\"Bedingung hat Länge > 1 und nur das erste Element wird benutzt\"Warning message in if (nTrain * bag.fraction <= 2 * n.minobsinnode + 1) {:\n",
      "\"Bedingung hat Länge > 1 und nur das erste Element wird benutzt\"Warning message in if (nTrain * bag.fraction <= 2 * n.minobsinnode + 1) {:\n",
      "\"Bedingung hat Länge > 1 und nur das erste Element wird benutzt\"Warning message in if (nTrain * bag.fraction <= 2 * n.minobsinnode + 1) {:\n",
      "\"Bedingung hat Länge > 1 und nur das erste Element wird benutzt\"Warning message in if (nTrain * bag.fraction <= 2 * n.minobsinnode + 1) {:\n",
      "\"Bedingung hat Länge > 1 und nur das erste Element wird benutzt\""
     ]
    },
    {
     "name": "stdout",
     "output_type": "stream",
     "text": [
      "[1] 0.8967632\n"
     ]
    },
    {
     "name": "stderr",
     "output_type": "stream",
     "text": [
      "Warning message in if (nTrain * bag.fraction <= 2 * n.minobsinnode + 1) {:\n",
      "\"Bedingung hat Länge > 1 und nur das erste Element wird benutzt\"Warning message in if (nTrain * bag.fraction <= 2 * n.minobsinnode + 1) {:\n",
      "\"Bedingung hat Länge > 1 und nur das erste Element wird benutzt\"Warning message in if (nTrain * bag.fraction <= 2 * n.minobsinnode + 1) {:\n",
      "\"Bedingung hat Länge > 1 und nur das erste Element wird benutzt\"Warning message in if (nTrain * bag.fraction <= 2 * n.minobsinnode + 1) {:\n",
      "\"Bedingung hat Länge > 1 und nur das erste Element wird benutzt\"Warning message in if (nTrain * bag.fraction <= 2 * n.minobsinnode + 1) {:\n",
      "\"Bedingung hat Länge > 1 und nur das erste Element wird benutzt\"Warning message in if (nTrain * bag.fraction <= 2 * n.minobsinnode + 1) {:\n",
      "\"Bedingung hat Länge > 1 und nur das erste Element wird benutzt\"Warning message in if (nTrain * bag.fraction <= 2 * n.minobsinnode + 1) {:\n",
      "\"Bedingung hat Länge > 1 und nur das erste Element wird benutzt\"Warning message in if (nTrain * bag.fraction <= 2 * n.minobsinnode + 1) {:\n",
      "\"Bedingung hat Länge > 1 und nur das erste Element wird benutzt\"Warning message in if (nTrain * bag.fraction <= 2 * n.minobsinnode + 1) {:\n",
      "\"Bedingung hat Länge > 1 und nur das erste Element wird benutzt\"Warning message in if (nTrain * bag.fraction <= 2 * n.minobsinnode + 1) {:\n",
      "\"Bedingung hat Länge > 1 und nur das erste Element wird benutzt\""
     ]
    },
    {
     "name": "stdout",
     "output_type": "stream",
     "text": [
      "[1] 0.8922078\n"
     ]
    },
    {
     "name": "stderr",
     "output_type": "stream",
     "text": [
      "Warning message in if (nTrain * bag.fraction <= 2 * n.minobsinnode + 1) {:\n",
      "\"Bedingung hat Länge > 1 und nur das erste Element wird benutzt\"Warning message in if (nTrain * bag.fraction <= 2 * n.minobsinnode + 1) {:\n",
      "\"Bedingung hat Länge > 1 und nur das erste Element wird benutzt\"Warning message in if (nTrain * bag.fraction <= 2 * n.minobsinnode + 1) {:\n",
      "\"Bedingung hat Länge > 1 und nur das erste Element wird benutzt\"Warning message in if (nTrain * bag.fraction <= 2 * n.minobsinnode + 1) {:\n",
      "\"Bedingung hat Länge > 1 und nur das erste Element wird benutzt\"Warning message in if (nTrain * bag.fraction <= 2 * n.minobsinnode + 1) {:\n",
      "\"Bedingung hat Länge > 1 und nur das erste Element wird benutzt\"Warning message in if (nTrain * bag.fraction <= 2 * n.minobsinnode + 1) {:\n",
      "\"Bedingung hat Länge > 1 und nur das erste Element wird benutzt\"Warning message in if (nTrain * bag.fraction <= 2 * n.minobsinnode + 1) {:\n",
      "\"Bedingung hat Länge > 1 und nur das erste Element wird benutzt\"Warning message in if (nTrain * bag.fraction <= 2 * n.minobsinnode + 1) {:\n",
      "\"Bedingung hat Länge > 1 und nur das erste Element wird benutzt\"Warning message in if (nTrain * bag.fraction <= 2 * n.minobsinnode + 1) {:\n",
      "\"Bedingung hat Länge > 1 und nur das erste Element wird benutzt\"Warning message in if (nTrain * bag.fraction <= 2 * n.minobsinnode + 1) {:\n",
      "\"Bedingung hat Länge > 1 und nur das erste Element wird benutzt\""
     ]
    },
    {
     "name": "stdout",
     "output_type": "stream",
     "text": [
      "[1] 0.9078122\n"
     ]
    },
    {
     "name": "stderr",
     "output_type": "stream",
     "text": [
      "Warning message in if (nTrain * bag.fraction <= 2 * n.minobsinnode + 1) {:\n",
      "\"Bedingung hat Länge > 1 und nur das erste Element wird benutzt\"Warning message in if (nTrain * bag.fraction <= 2 * n.minobsinnode + 1) {:\n",
      "\"Bedingung hat Länge > 1 und nur das erste Element wird benutzt\"Warning message in if (nTrain * bag.fraction <= 2 * n.minobsinnode + 1) {:\n",
      "\"Bedingung hat Länge > 1 und nur das erste Element wird benutzt\"Warning message in if (nTrain * bag.fraction <= 2 * n.minobsinnode + 1) {:\n",
      "\"Bedingung hat Länge > 1 und nur das erste Element wird benutzt\"Warning message in if (nTrain * bag.fraction <= 2 * n.minobsinnode + 1) {:\n",
      "\"Bedingung hat Länge > 1 und nur das erste Element wird benutzt\"Warning message in if (nTrain * bag.fraction <= 2 * n.minobsinnode + 1) {:\n",
      "\"Bedingung hat Länge > 1 und nur das erste Element wird benutzt\"Warning message in if (nTrain * bag.fraction <= 2 * n.minobsinnode + 1) {:\n",
      "\"Bedingung hat Länge > 1 und nur das erste Element wird benutzt\"Warning message in if (nTrain * bag.fraction <= 2 * n.minobsinnode + 1) {:\n",
      "\"Bedingung hat Länge > 1 und nur das erste Element wird benutzt\"Warning message in if (nTrain * bag.fraction <= 2 * n.minobsinnode + 1) {:\n",
      "\"Bedingung hat Länge > 1 und nur das erste Element wird benutzt\"Warning message in if (nTrain * bag.fraction <= 2 * n.minobsinnode + 1) {:\n",
      "\"Bedingung hat Länge > 1 und nur das erste Element wird benutzt\""
     ]
    },
    {
     "name": "stdout",
     "output_type": "stream",
     "text": [
      "[1] 0.9047552\n"
     ]
    },
    {
     "name": "stderr",
     "output_type": "stream",
     "text": [
      "Warning message in if (nTrain * bag.fraction <= 2 * n.minobsinnode + 1) {:\n",
      "\"Bedingung hat Länge > 1 und nur das erste Element wird benutzt\"Warning message in if (nTrain * bag.fraction <= 2 * n.minobsinnode + 1) {:\n",
      "\"Bedingung hat Länge > 1 und nur das erste Element wird benutzt\"Warning message in if (nTrain * bag.fraction <= 2 * n.minobsinnode + 1) {:\n",
      "\"Bedingung hat Länge > 1 und nur das erste Element wird benutzt\"Warning message in if (nTrain * bag.fraction <= 2 * n.minobsinnode + 1) {:\n",
      "\"Bedingung hat Länge > 1 und nur das erste Element wird benutzt\"Warning message in if (nTrain * bag.fraction <= 2 * n.minobsinnode + 1) {:\n",
      "\"Bedingung hat Länge > 1 und nur das erste Element wird benutzt\"Warning message in if (nTrain * bag.fraction <= 2 * n.minobsinnode + 1) {:\n",
      "\"Bedingung hat Länge > 1 und nur das erste Element wird benutzt\"Warning message in if (nTrain * bag.fraction <= 2 * n.minobsinnode + 1) {:\n",
      "\"Bedingung hat Länge > 1 und nur das erste Element wird benutzt\"Warning message in if (nTrain * bag.fraction <= 2 * n.minobsinnode + 1) {:\n",
      "\"Bedingung hat Länge > 1 und nur das erste Element wird benutzt\"Warning message in if (nTrain * bag.fraction <= 2 * n.minobsinnode + 1) {:\n",
      "\"Bedingung hat Länge > 1 und nur das erste Element wird benutzt\"Warning message in if (nTrain * bag.fraction <= 2 * n.minobsinnode + 1) {:\n",
      "\"Bedingung hat Länge > 1 und nur das erste Element wird benutzt\""
     ]
    },
    {
     "name": "stdout",
     "output_type": "stream",
     "text": [
      "[1] 0.8891209\n"
     ]
    },
    {
     "name": "stderr",
     "output_type": "stream",
     "text": [
      "Warning message in if (nTrain * bag.fraction <= 2 * n.minobsinnode + 1) {:\n",
      "\"Bedingung hat Länge > 1 und nur das erste Element wird benutzt\"Warning message in if (nTrain * bag.fraction <= 2 * n.minobsinnode + 1) {:\n",
      "\"Bedingung hat Länge > 1 und nur das erste Element wird benutzt\"Warning message in if (nTrain * bag.fraction <= 2 * n.minobsinnode + 1) {:\n",
      "\"Bedingung hat Länge > 1 und nur das erste Element wird benutzt\"Warning message in if (nTrain * bag.fraction <= 2 * n.minobsinnode + 1) {:\n",
      "\"Bedingung hat Länge > 1 und nur das erste Element wird benutzt\"Warning message in if (nTrain * bag.fraction <= 2 * n.minobsinnode + 1) {:\n",
      "\"Bedingung hat Länge > 1 und nur das erste Element wird benutzt\"Warning message in if (nTrain * bag.fraction <= 2 * n.minobsinnode + 1) {:\n",
      "\"Bedingung hat Länge > 1 und nur das erste Element wird benutzt\"Warning message in if (nTrain * bag.fraction <= 2 * n.minobsinnode + 1) {:\n",
      "\"Bedingung hat Länge > 1 und nur das erste Element wird benutzt\"Warning message in if (nTrain * bag.fraction <= 2 * n.minobsinnode + 1) {:\n",
      "\"Bedingung hat Länge > 1 und nur das erste Element wird benutzt\"Warning message in if (nTrain * bag.fraction <= 2 * n.minobsinnode + 1) {:\n",
      "\"Bedingung hat Länge > 1 und nur das erste Element wird benutzt\"Warning message in if (nTrain * bag.fraction <= 2 * n.minobsinnode + 1) {:\n",
      "\"Bedingung hat Länge > 1 und nur das erste Element wird benutzt\""
     ]
    },
    {
     "name": "stdout",
     "output_type": "stream",
     "text": [
      "[1] 0.9008791\n"
     ]
    },
    {
     "name": "stderr",
     "output_type": "stream",
     "text": [
      "Warning message in if (nTrain * bag.fraction <= 2 * n.minobsinnode + 1) {:\n",
      "\"Bedingung hat Länge > 1 und nur das erste Element wird benutzt\"Warning message in if (nTrain * bag.fraction <= 2 * n.minobsinnode + 1) {:\n",
      "\"Bedingung hat Länge > 1 und nur das erste Element wird benutzt\"Warning message in if (nTrain * bag.fraction <= 2 * n.minobsinnode + 1) {:\n",
      "\"Bedingung hat Länge > 1 und nur das erste Element wird benutzt\"Warning message in if (nTrain * bag.fraction <= 2 * n.minobsinnode + 1) {:\n",
      "\"Bedingung hat Länge > 1 und nur das erste Element wird benutzt\"Warning message in if (nTrain * bag.fraction <= 2 * n.minobsinnode + 1) {:\n",
      "\"Bedingung hat Länge > 1 und nur das erste Element wird benutzt\"Warning message in if (nTrain * bag.fraction <= 2 * n.minobsinnode + 1) {:\n",
      "\"Bedingung hat Länge > 1 und nur das erste Element wird benutzt\"Warning message in if (nTrain * bag.fraction <= 2 * n.minobsinnode + 1) {:\n",
      "\"Bedingung hat Länge > 1 und nur das erste Element wird benutzt\"Warning message in if (nTrain * bag.fraction <= 2 * n.minobsinnode + 1) {:\n",
      "\"Bedingung hat Länge > 1 und nur das erste Element wird benutzt\"Warning message in if (nTrain * bag.fraction <= 2 * n.minobsinnode + 1) {:\n",
      "\"Bedingung hat Länge > 1 und nur das erste Element wird benutzt\"Warning message in if (nTrain * bag.fraction <= 2 * n.minobsinnode + 1) {:\n",
      "\"Bedingung hat Länge > 1 und nur das erste Element wird benutzt\""
     ]
    },
    {
     "name": "stdout",
     "output_type": "stream",
     "text": [
      "[1] 0.8961538\n"
     ]
    },
    {
     "name": "stderr",
     "output_type": "stream",
     "text": [
      "Warning message in if (nTrain * bag.fraction <= 2 * n.minobsinnode + 1) {:\n",
      "\"Bedingung hat Länge > 1 und nur das erste Element wird benutzt\"Warning message in if (nTrain * bag.fraction <= 2 * n.minobsinnode + 1) {:\n",
      "\"Bedingung hat Länge > 1 und nur das erste Element wird benutzt\"Warning message in if (nTrain * bag.fraction <= 2 * n.minobsinnode + 1) {:\n",
      "\"Bedingung hat Länge > 1 und nur das erste Element wird benutzt\"Warning message in if (nTrain * bag.fraction <= 2 * n.minobsinnode + 1) {:\n",
      "\"Bedingung hat Länge > 1 und nur das erste Element wird benutzt\"Warning message in if (nTrain * bag.fraction <= 2 * n.minobsinnode + 1) {:\n",
      "\"Bedingung hat Länge > 1 und nur das erste Element wird benutzt\"Warning message in if (nTrain * bag.fraction <= 2 * n.minobsinnode + 1) {:\n",
      "\"Bedingung hat Länge > 1 und nur das erste Element wird benutzt\"Warning message in if (nTrain * bag.fraction <= 2 * n.minobsinnode + 1) {:\n",
      "\"Bedingung hat Länge > 1 und nur das erste Element wird benutzt\"Warning message in if (nTrain * bag.fraction <= 2 * n.minobsinnode + 1) {:\n",
      "\"Bedingung hat Länge > 1 und nur das erste Element wird benutzt\"Warning message in if (nTrain * bag.fraction <= 2 * n.minobsinnode + 1) {:\n",
      "\"Bedingung hat Länge > 1 und nur das erste Element wird benutzt\"Warning message in if (nTrain * bag.fraction <= 2 * n.minobsinnode + 1) {:\n",
      "\"Bedingung hat Länge > 1 und nur das erste Element wird benutzt\""
     ]
    },
    {
     "name": "stdout",
     "output_type": "stream",
     "text": [
      "[1] 0.8917982\n"
     ]
    },
    {
     "name": "stderr",
     "output_type": "stream",
     "text": [
      "Warning message in if (nTrain * bag.fraction <= 2 * n.minobsinnode + 1) {:\n",
      "\"Bedingung hat Länge > 1 und nur das erste Element wird benutzt\"Warning message in if (nTrain * bag.fraction <= 2 * n.minobsinnode + 1) {:\n",
      "\"Bedingung hat Länge > 1 und nur das erste Element wird benutzt\"Warning message in if (nTrain * bag.fraction <= 2 * n.minobsinnode + 1) {:\n",
      "\"Bedingung hat Länge > 1 und nur das erste Element wird benutzt\"Warning message in if (nTrain * bag.fraction <= 2 * n.minobsinnode + 1) {:\n",
      "\"Bedingung hat Länge > 1 und nur das erste Element wird benutzt\"Warning message in if (nTrain * bag.fraction <= 2 * n.minobsinnode + 1) {:\n",
      "\"Bedingung hat Länge > 1 und nur das erste Element wird benutzt\"Warning message in if (nTrain * bag.fraction <= 2 * n.minobsinnode + 1) {:\n",
      "\"Bedingung hat Länge > 1 und nur das erste Element wird benutzt\"Warning message in if (nTrain * bag.fraction <= 2 * n.minobsinnode + 1) {:\n",
      "\"Bedingung hat Länge > 1 und nur das erste Element wird benutzt\"Warning message in if (nTrain * bag.fraction <= 2 * n.minobsinnode + 1) {:\n",
      "\"Bedingung hat Länge > 1 und nur das erste Element wird benutzt\"Warning message in if (nTrain * bag.fraction <= 2 * n.minobsinnode + 1) {:\n",
      "\"Bedingung hat Länge > 1 und nur das erste Element wird benutzt\"Warning message in if (nTrain * bag.fraction <= 2 * n.minobsinnode + 1) {:\n",
      "\"Bedingung hat Länge > 1 und nur das erste Element wird benutzt\""
     ]
    },
    {
     "name": "stdout",
     "output_type": "stream",
     "text": [
      "[1] 0.8924376\n"
     ]
    },
    {
     "name": "stderr",
     "output_type": "stream",
     "text": [
      "Warning message in if (nTrain * bag.fraction <= 2 * n.minobsinnode + 1) {:\n",
      "\"Bedingung hat Länge > 1 und nur das erste Element wird benutzt\"Warning message in if (nTrain * bag.fraction <= 2 * n.minobsinnode + 1) {:\n",
      "\"Bedingung hat Länge > 1 und nur das erste Element wird benutzt\"Warning message in if (nTrain * bag.fraction <= 2 * n.minobsinnode + 1) {:\n",
      "\"Bedingung hat Länge > 1 und nur das erste Element wird benutzt\"Warning message in if (nTrain * bag.fraction <= 2 * n.minobsinnode + 1) {:\n",
      "\"Bedingung hat Länge > 1 und nur das erste Element wird benutzt\"Warning message in if (nTrain * bag.fraction <= 2 * n.minobsinnode + 1) {:\n",
      "\"Bedingung hat Länge > 1 und nur das erste Element wird benutzt\"Warning message in if (nTrain * bag.fraction <= 2 * n.minobsinnode + 1) {:\n",
      "\"Bedingung hat Länge > 1 und nur das erste Element wird benutzt\"Warning message in if (nTrain * bag.fraction <= 2 * n.minobsinnode + 1) {:\n",
      "\"Bedingung hat Länge > 1 und nur das erste Element wird benutzt\"Warning message in if (nTrain * bag.fraction <= 2 * n.minobsinnode + 1) {:\n",
      "\"Bedingung hat Länge > 1 und nur das erste Element wird benutzt\"Warning message in if (nTrain * bag.fraction <= 2 * n.minobsinnode + 1) {:\n",
      "\"Bedingung hat Länge > 1 und nur das erste Element wird benutzt\"Warning message in if (nTrain * bag.fraction <= 2 * n.minobsinnode + 1) {:\n",
      "\"Bedingung hat Länge > 1 und nur das erste Element wird benutzt\""
     ]
    },
    {
     "name": "stdout",
     "output_type": "stream",
     "text": [
      "[1] 0.902028\n"
     ]
    },
    {
     "name": "stderr",
     "output_type": "stream",
     "text": [
      "Warning message in if (nTrain * bag.fraction <= 2 * n.minobsinnode + 1) {:\n",
      "\"Bedingung hat Länge > 1 und nur das erste Element wird benutzt\"Warning message in if (nTrain * bag.fraction <= 2 * n.minobsinnode + 1) {:\n",
      "\"Bedingung hat Länge > 1 und nur das erste Element wird benutzt\"Warning message in if (nTrain * bag.fraction <= 2 * n.minobsinnode + 1) {:\n",
      "\"Bedingung hat Länge > 1 und nur das erste Element wird benutzt\"Warning message in if (nTrain * bag.fraction <= 2 * n.minobsinnode + 1) {:\n",
      "\"Bedingung hat Länge > 1 und nur das erste Element wird benutzt\"Warning message in if (nTrain * bag.fraction <= 2 * n.minobsinnode + 1) {:\n",
      "\"Bedingung hat Länge > 1 und nur das erste Element wird benutzt\"Warning message in if (nTrain * bag.fraction <= 2 * n.minobsinnode + 1) {:\n",
      "\"Bedingung hat Länge > 1 und nur das erste Element wird benutzt\"Warning message in if (nTrain * bag.fraction <= 2 * n.minobsinnode + 1) {:\n",
      "\"Bedingung hat Länge > 1 und nur das erste Element wird benutzt\"Warning message in if (nTrain * bag.fraction <= 2 * n.minobsinnode + 1) {:\n",
      "\"Bedingung hat Länge > 1 und nur das erste Element wird benutzt\"Warning message in if (nTrain * bag.fraction <= 2 * n.minobsinnode + 1) {:\n",
      "\"Bedingung hat Länge > 1 und nur das erste Element wird benutzt\"Warning message in if (nTrain * bag.fraction <= 2 * n.minobsinnode + 1) {:\n",
      "\"Bedingung hat Länge > 1 und nur das erste Element wird benutzt\""
     ]
    },
    {
     "name": "stdout",
     "output_type": "stream",
     "text": [
      "[1] 0.8982018\n"
     ]
    },
    {
     "name": "stderr",
     "output_type": "stream",
     "text": [
      "Warning message in if (nTrain * bag.fraction <= 2 * n.minobsinnode + 1) {:\n",
      "\"Bedingung hat Länge > 1 und nur das erste Element wird benutzt\"Warning message in if (nTrain * bag.fraction <= 2 * n.minobsinnode + 1) {:\n",
      "\"Bedingung hat Länge > 1 und nur das erste Element wird benutzt\"Warning message in if (nTrain * bag.fraction <= 2 * n.minobsinnode + 1) {:\n",
      "\"Bedingung hat Länge > 1 und nur das erste Element wird benutzt\"Warning message in if (nTrain * bag.fraction <= 2 * n.minobsinnode + 1) {:\n",
      "\"Bedingung hat Länge > 1 und nur das erste Element wird benutzt\"Warning message in if (nTrain * bag.fraction <= 2 * n.minobsinnode + 1) {:\n",
      "\"Bedingung hat Länge > 1 und nur das erste Element wird benutzt\"Warning message in if (nTrain * bag.fraction <= 2 * n.minobsinnode + 1) {:\n",
      "\"Bedingung hat Länge > 1 und nur das erste Element wird benutzt\"Warning message in if (nTrain * bag.fraction <= 2 * n.minobsinnode + 1) {:\n",
      "\"Bedingung hat Länge > 1 und nur das erste Element wird benutzt\"Warning message in if (nTrain * bag.fraction <= 2 * n.minobsinnode + 1) {:\n",
      "\"Bedingung hat Länge > 1 und nur das erste Element wird benutzt\"Warning message in if (nTrain * bag.fraction <= 2 * n.minobsinnode + 1) {:\n",
      "\"Bedingung hat Länge > 1 und nur das erste Element wird benutzt\"Warning message in if (nTrain * bag.fraction <= 2 * n.minobsinnode + 1) {:\n",
      "\"Bedingung hat Länge > 1 und nur das erste Element wird benutzt\""
     ]
    },
    {
     "name": "stdout",
     "output_type": "stream",
     "text": [
      "[1] 0.892957\n"
     ]
    },
    {
     "name": "stderr",
     "output_type": "stream",
     "text": [
      "Warning message in if (nTrain * bag.fraction <= 2 * n.minobsinnode + 1) {:\n",
      "\"Bedingung hat Länge > 1 und nur das erste Element wird benutzt\"Warning message in if (nTrain * bag.fraction <= 2 * n.minobsinnode + 1) {:\n",
      "\"Bedingung hat Länge > 1 und nur das erste Element wird benutzt\"Warning message in if (nTrain * bag.fraction <= 2 * n.minobsinnode + 1) {:\n",
      "\"Bedingung hat Länge > 1 und nur das erste Element wird benutzt\"Warning message in if (nTrain * bag.fraction <= 2 * n.minobsinnode + 1) {:\n",
      "\"Bedingung hat Länge > 1 und nur das erste Element wird benutzt\"Warning message in if (nTrain * bag.fraction <= 2 * n.minobsinnode + 1) {:\n",
      "\"Bedingung hat Länge > 1 und nur das erste Element wird benutzt\"Warning message in if (nTrain * bag.fraction <= 2 * n.minobsinnode + 1) {:\n",
      "\"Bedingung hat Länge > 1 und nur das erste Element wird benutzt\"Warning message in if (nTrain * bag.fraction <= 2 * n.minobsinnode + 1) {:\n",
      "\"Bedingung hat Länge > 1 und nur das erste Element wird benutzt\"Warning message in if (nTrain * bag.fraction <= 2 * n.minobsinnode + 1) {:\n",
      "\"Bedingung hat Länge > 1 und nur das erste Element wird benutzt\"Warning message in if (nTrain * bag.fraction <= 2 * n.minobsinnode + 1) {:\n",
      "\"Bedingung hat Länge > 1 und nur das erste Element wird benutzt\"Warning message in if (nTrain * bag.fraction <= 2 * n.minobsinnode + 1) {:\n",
      "\"Bedingung hat Länge > 1 und nur das erste Element wird benutzt\""
     ]
    },
    {
     "name": "stdout",
     "output_type": "stream",
     "text": [
      "[1] 0.8873526\n"
     ]
    },
    {
     "name": "stderr",
     "output_type": "stream",
     "text": [
      "Warning message in if (nTrain * bag.fraction <= 2 * n.minobsinnode + 1) {:\n",
      "\"Bedingung hat Länge > 1 und nur das erste Element wird benutzt\"Warning message in if (nTrain * bag.fraction <= 2 * n.minobsinnode + 1) {:\n",
      "\"Bedingung hat Länge > 1 und nur das erste Element wird benutzt\"Warning message in if (nTrain * bag.fraction <= 2 * n.minobsinnode + 1) {:\n",
      "\"Bedingung hat Länge > 1 und nur das erste Element wird benutzt\"Warning message in if (nTrain * bag.fraction <= 2 * n.minobsinnode + 1) {:\n",
      "\"Bedingung hat Länge > 1 und nur das erste Element wird benutzt\"Warning message in if (nTrain * bag.fraction <= 2 * n.minobsinnode + 1) {:\n",
      "\"Bedingung hat Länge > 1 und nur das erste Element wird benutzt\"Warning message in if (nTrain * bag.fraction <= 2 * n.minobsinnode + 1) {:\n",
      "\"Bedingung hat Länge > 1 und nur das erste Element wird benutzt\"Warning message in if (nTrain * bag.fraction <= 2 * n.minobsinnode + 1) {:\n",
      "\"Bedingung hat Länge > 1 und nur das erste Element wird benutzt\"Warning message in if (nTrain * bag.fraction <= 2 * n.minobsinnode + 1) {:\n",
      "\"Bedingung hat Länge > 1 und nur das erste Element wird benutzt\"Warning message in if (nTrain * bag.fraction <= 2 * n.minobsinnode + 1) {:\n",
      "\"Bedingung hat Länge > 1 und nur das erste Element wird benutzt\"Warning message in if (nTrain * bag.fraction <= 2 * n.minobsinnode + 1) {:\n",
      "\"Bedingung hat Länge > 1 und nur das erste Element wird benutzt\""
     ]
    },
    {
     "name": "stdout",
     "output_type": "stream",
     "text": [
      "[1] 0.886034\n"
     ]
    },
    {
     "name": "stderr",
     "output_type": "stream",
     "text": [
      "Warning message in if (nTrain * bag.fraction <= 2 * n.minobsinnode + 1) {:\n",
      "\"Bedingung hat Länge > 1 und nur das erste Element wird benutzt\"Warning message in if (nTrain * bag.fraction <= 2 * n.minobsinnode + 1) {:\n",
      "\"Bedingung hat Länge > 1 und nur das erste Element wird benutzt\"Warning message in if (nTrain * bag.fraction <= 2 * n.minobsinnode + 1) {:\n",
      "\"Bedingung hat Länge > 1 und nur das erste Element wird benutzt\"Warning message in if (nTrain * bag.fraction <= 2 * n.minobsinnode + 1) {:\n",
      "\"Bedingung hat Länge > 1 und nur das erste Element wird benutzt\"Warning message in if (nTrain * bag.fraction <= 2 * n.minobsinnode + 1) {:\n",
      "\"Bedingung hat Länge > 1 und nur das erste Element wird benutzt\"Warning message in if (nTrain * bag.fraction <= 2 * n.minobsinnode + 1) {:\n",
      "\"Bedingung hat Länge > 1 und nur das erste Element wird benutzt\"Warning message in if (nTrain * bag.fraction <= 2 * n.minobsinnode + 1) {:\n",
      "\"Bedingung hat Länge > 1 und nur das erste Element wird benutzt\"Warning message in if (nTrain * bag.fraction <= 2 * n.minobsinnode + 1) {:\n",
      "\"Bedingung hat Länge > 1 und nur das erste Element wird benutzt\"Warning message in if (nTrain * bag.fraction <= 2 * n.minobsinnode + 1) {:\n",
      "\"Bedingung hat Länge > 1 und nur das erste Element wird benutzt\"Warning message in if (nTrain * bag.fraction <= 2 * n.minobsinnode + 1) {:\n",
      "\"Bedingung hat Länge > 1 und nur das erste Element wird benutzt\""
     ]
    },
    {
     "name": "stdout",
     "output_type": "stream",
     "text": [
      "[1] 0.9026074\n"
     ]
    },
    {
     "name": "stderr",
     "output_type": "stream",
     "text": [
      "Warning message in if (nTrain * bag.fraction <= 2 * n.minobsinnode + 1) {:\n",
      "\"Bedingung hat Länge > 1 und nur das erste Element wird benutzt\"Warning message in if (nTrain * bag.fraction <= 2 * n.minobsinnode + 1) {:\n",
      "\"Bedingung hat Länge > 1 und nur das erste Element wird benutzt\"Warning message in if (nTrain * bag.fraction <= 2 * n.minobsinnode + 1) {:\n",
      "\"Bedingung hat Länge > 1 und nur das erste Element wird benutzt\"Warning message in if (nTrain * bag.fraction <= 2 * n.minobsinnode + 1) {:\n",
      "\"Bedingung hat Länge > 1 und nur das erste Element wird benutzt\"Warning message in if (nTrain * bag.fraction <= 2 * n.minobsinnode + 1) {:\n",
      "\"Bedingung hat Länge > 1 und nur das erste Element wird benutzt\"Warning message in if (nTrain * bag.fraction <= 2 * n.minobsinnode + 1) {:\n",
      "\"Bedingung hat Länge > 1 und nur das erste Element wird benutzt\"Warning message in if (nTrain * bag.fraction <= 2 * n.minobsinnode + 1) {:\n",
      "\"Bedingung hat Länge > 1 und nur das erste Element wird benutzt\"Warning message in if (nTrain * bag.fraction <= 2 * n.minobsinnode + 1) {:\n",
      "\"Bedingung hat Länge > 1 und nur das erste Element wird benutzt\"Warning message in if (nTrain * bag.fraction <= 2 * n.minobsinnode + 1) {:\n",
      "\"Bedingung hat Länge > 1 und nur das erste Element wird benutzt\"Warning message in if (nTrain * bag.fraction <= 2 * n.minobsinnode + 1) {:\n",
      "\"Bedingung hat Länge > 1 und nur das erste Element wird benutzt\""
     ]
    },
    {
     "name": "stdout",
     "output_type": "stream",
     "text": [
      "[1] 0.8992807\n"
     ]
    },
    {
     "name": "stderr",
     "output_type": "stream",
     "text": [
      "Warning message in if (nTrain * bag.fraction <= 2 * n.minobsinnode + 1) {:\n",
      "\"Bedingung hat Länge > 1 und nur das erste Element wird benutzt\"Warning message in if (nTrain * bag.fraction <= 2 * n.minobsinnode + 1) {:\n",
      "\"Bedingung hat Länge > 1 und nur das erste Element wird benutzt\"Warning message in if (nTrain * bag.fraction <= 2 * n.minobsinnode + 1) {:\n",
      "\"Bedingung hat Länge > 1 und nur das erste Element wird benutzt\"Warning message in if (nTrain * bag.fraction <= 2 * n.minobsinnode + 1) {:\n",
      "\"Bedingung hat Länge > 1 und nur das erste Element wird benutzt\"Warning message in if (nTrain * bag.fraction <= 2 * n.minobsinnode + 1) {:\n",
      "\"Bedingung hat Länge > 1 und nur das erste Element wird benutzt\"Warning message in if (nTrain * bag.fraction <= 2 * n.minobsinnode + 1) {:\n",
      "\"Bedingung hat Länge > 1 und nur das erste Element wird benutzt\"Warning message in if (nTrain * bag.fraction <= 2 * n.minobsinnode + 1) {:\n",
      "\"Bedingung hat Länge > 1 und nur das erste Element wird benutzt\"Warning message in if (nTrain * bag.fraction <= 2 * n.minobsinnode + 1) {:\n",
      "\"Bedingung hat Länge > 1 und nur das erste Element wird benutzt\"Warning message in if (nTrain * bag.fraction <= 2 * n.minobsinnode + 1) {:\n",
      "\"Bedingung hat Länge > 1 und nur das erste Element wird benutzt\"Warning message in if (nTrain * bag.fraction <= 2 * n.minobsinnode + 1) {:\n",
      "\"Bedingung hat Länge > 1 und nur das erste Element wird benutzt\""
     ]
    },
    {
     "name": "stdout",
     "output_type": "stream",
     "text": [
      "[1] 0.9051049\n"
     ]
    },
    {
     "name": "stderr",
     "output_type": "stream",
     "text": [
      "Warning message in if (nTrain * bag.fraction <= 2 * n.minobsinnode + 1) {:\n",
      "\"Bedingung hat Länge > 1 und nur das erste Element wird benutzt\"Warning message in if (nTrain * bag.fraction <= 2 * n.minobsinnode + 1) {:\n",
      "\"Bedingung hat Länge > 1 und nur das erste Element wird benutzt\"Warning message in if (nTrain * bag.fraction <= 2 * n.minobsinnode + 1) {:\n",
      "\"Bedingung hat Länge > 1 und nur das erste Element wird benutzt\"Warning message in if (nTrain * bag.fraction <= 2 * n.minobsinnode + 1) {:\n",
      "\"Bedingung hat Länge > 1 und nur das erste Element wird benutzt\"Warning message in if (nTrain * bag.fraction <= 2 * n.minobsinnode + 1) {:\n",
      "\"Bedingung hat Länge > 1 und nur das erste Element wird benutzt\"Warning message in if (nTrain * bag.fraction <= 2 * n.minobsinnode + 1) {:\n",
      "\"Bedingung hat Länge > 1 und nur das erste Element wird benutzt\"Warning message in if (nTrain * bag.fraction <= 2 * n.minobsinnode + 1) {:\n",
      "\"Bedingung hat Länge > 1 und nur das erste Element wird benutzt\"Warning message in if (nTrain * bag.fraction <= 2 * n.minobsinnode + 1) {:\n",
      "\"Bedingung hat Länge > 1 und nur das erste Element wird benutzt\"Warning message in if (nTrain * bag.fraction <= 2 * n.minobsinnode + 1) {:\n",
      "\"Bedingung hat Länge > 1 und nur das erste Element wird benutzt\"Warning message in if (nTrain * bag.fraction <= 2 * n.minobsinnode + 1) {:\n",
      "\"Bedingung hat Länge > 1 und nur das erste Element wird benutzt\""
     ]
    },
    {
     "name": "stdout",
     "output_type": "stream",
     "text": [
      "[1] 0.8881019\n"
     ]
    },
    {
     "name": "stderr",
     "output_type": "stream",
     "text": [
      "Warning message in if (nTrain * bag.fraction <= 2 * n.minobsinnode + 1) {:\n",
      "\"Bedingung hat Länge > 1 und nur das erste Element wird benutzt\"Warning message in if (nTrain * bag.fraction <= 2 * n.minobsinnode + 1) {:\n",
      "\"Bedingung hat Länge > 1 und nur das erste Element wird benutzt\"Warning message in if (nTrain * bag.fraction <= 2 * n.minobsinnode + 1) {:\n",
      "\"Bedingung hat Länge > 1 und nur das erste Element wird benutzt\"Warning message in if (nTrain * bag.fraction <= 2 * n.minobsinnode + 1) {:\n",
      "\"Bedingung hat Länge > 1 und nur das erste Element wird benutzt\"Warning message in if (nTrain * bag.fraction <= 2 * n.minobsinnode + 1) {:\n",
      "\"Bedingung hat Länge > 1 und nur das erste Element wird benutzt\"Warning message in if (nTrain * bag.fraction <= 2 * n.minobsinnode + 1) {:\n",
      "\"Bedingung hat Länge > 1 und nur das erste Element wird benutzt\"Warning message in if (nTrain * bag.fraction <= 2 * n.minobsinnode + 1) {:\n",
      "\"Bedingung hat Länge > 1 und nur das erste Element wird benutzt\"Warning message in if (nTrain * bag.fraction <= 2 * n.minobsinnode + 1) {:\n",
      "\"Bedingung hat Länge > 1 und nur das erste Element wird benutzt\"Warning message in if (nTrain * bag.fraction <= 2 * n.minobsinnode + 1) {:\n",
      "\"Bedingung hat Länge > 1 und nur das erste Element wird benutzt\"Warning message in if (nTrain * bag.fraction <= 2 * n.minobsinnode + 1) {:\n",
      "\"Bedingung hat Länge > 1 und nur das erste Element wird benutzt\""
     ]
    },
    {
     "name": "stdout",
     "output_type": "stream",
     "text": [
      "[1] 0.9015185\n"
     ]
    },
    {
     "name": "stderr",
     "output_type": "stream",
     "text": [
      "Warning message in if (nTrain * bag.fraction <= 2 * n.minobsinnode + 1) {:\n",
      "\"Bedingung hat Länge > 1 und nur das erste Element wird benutzt\"Warning message in if (nTrain * bag.fraction <= 2 * n.minobsinnode + 1) {:\n",
      "\"Bedingung hat Länge > 1 und nur das erste Element wird benutzt\"Warning message in if (nTrain * bag.fraction <= 2 * n.minobsinnode + 1) {:\n",
      "\"Bedingung hat Länge > 1 und nur das erste Element wird benutzt\"Warning message in if (nTrain * bag.fraction <= 2 * n.minobsinnode + 1) {:\n",
      "\"Bedingung hat Länge > 1 und nur das erste Element wird benutzt\"Warning message in if (nTrain * bag.fraction <= 2 * n.minobsinnode + 1) {:\n",
      "\"Bedingung hat Länge > 1 und nur das erste Element wird benutzt\"Warning message in if (nTrain * bag.fraction <= 2 * n.minobsinnode + 1) {:\n",
      "\"Bedingung hat Länge > 1 und nur das erste Element wird benutzt\"Warning message in if (nTrain * bag.fraction <= 2 * n.minobsinnode + 1) {:\n",
      "\"Bedingung hat Länge > 1 und nur das erste Element wird benutzt\"Warning message in if (nTrain * bag.fraction <= 2 * n.minobsinnode + 1) {:\n",
      "\"Bedingung hat Länge > 1 und nur das erste Element wird benutzt\"Warning message in if (nTrain * bag.fraction <= 2 * n.minobsinnode + 1) {:\n",
      "\"Bedingung hat Länge > 1 und nur das erste Element wird benutzt\"Warning message in if (nTrain * bag.fraction <= 2 * n.minobsinnode + 1) {:\n",
      "\"Bedingung hat Länge > 1 und nur das erste Element wird benutzt\""
     ]
    },
    {
     "name": "stdout",
     "output_type": "stream",
     "text": [
      "[1] 0.8967333\n"
     ]
    },
    {
     "name": "stderr",
     "output_type": "stream",
     "text": [
      "Warning message in if (nTrain * bag.fraction <= 2 * n.minobsinnode + 1) {:\n",
      "\"Bedingung hat Länge > 1 und nur das erste Element wird benutzt\"Warning message in if (nTrain * bag.fraction <= 2 * n.minobsinnode + 1) {:\n",
      "\"Bedingung hat Länge > 1 und nur das erste Element wird benutzt\"Warning message in if (nTrain * bag.fraction <= 2 * n.minobsinnode + 1) {:\n",
      "\"Bedingung hat Länge > 1 und nur das erste Element wird benutzt\"Warning message in if (nTrain * bag.fraction <= 2 * n.minobsinnode + 1) {:\n",
      "\"Bedingung hat Länge > 1 und nur das erste Element wird benutzt\"Warning message in if (nTrain * bag.fraction <= 2 * n.minobsinnode + 1) {:\n",
      "\"Bedingung hat Länge > 1 und nur das erste Element wird benutzt\"Warning message in if (nTrain * bag.fraction <= 2 * n.minobsinnode + 1) {:\n",
      "\"Bedingung hat Länge > 1 und nur das erste Element wird benutzt\"Warning message in if (nTrain * bag.fraction <= 2 * n.minobsinnode + 1) {:\n",
      "\"Bedingung hat Länge > 1 und nur das erste Element wird benutzt\"Warning message in if (nTrain * bag.fraction <= 2 * n.minobsinnode + 1) {:\n",
      "\"Bedingung hat Länge > 1 und nur das erste Element wird benutzt\"Warning message in if (nTrain * bag.fraction <= 2 * n.minobsinnode + 1) {:\n",
      "\"Bedingung hat Länge > 1 und nur das erste Element wird benutzt\"Warning message in if (nTrain * bag.fraction <= 2 * n.minobsinnode + 1) {:\n",
      "\"Bedingung hat Länge > 1 und nur das erste Element wird benutzt\""
     ]
    },
    {
     "name": "stdout",
     "output_type": "stream",
     "text": [
      "[1] 0.9051249\n"
     ]
    },
    {
     "name": "stderr",
     "output_type": "stream",
     "text": [
      "Warning message in if (nTrain * bag.fraction <= 2 * n.minobsinnode + 1) {:\n",
      "\"Bedingung hat Länge > 1 und nur das erste Element wird benutzt\"Warning message in if (nTrain * bag.fraction <= 2 * n.minobsinnode + 1) {:\n",
      "\"Bedingung hat Länge > 1 und nur das erste Element wird benutzt\"Warning message in if (nTrain * bag.fraction <= 2 * n.minobsinnode + 1) {:\n",
      "\"Bedingung hat Länge > 1 und nur das erste Element wird benutzt\"Warning message in if (nTrain * bag.fraction <= 2 * n.minobsinnode + 1) {:\n",
      "\"Bedingung hat Länge > 1 und nur das erste Element wird benutzt\"Warning message in if (nTrain * bag.fraction <= 2 * n.minobsinnode + 1) {:\n",
      "\"Bedingung hat Länge > 1 und nur das erste Element wird benutzt\"Warning message in if (nTrain * bag.fraction <= 2 * n.minobsinnode + 1) {:\n",
      "\"Bedingung hat Länge > 1 und nur das erste Element wird benutzt\"Warning message in if (nTrain * bag.fraction <= 2 * n.minobsinnode + 1) {:\n",
      "\"Bedingung hat Länge > 1 und nur das erste Element wird benutzt\"Warning message in if (nTrain * bag.fraction <= 2 * n.minobsinnode + 1) {:\n",
      "\"Bedingung hat Länge > 1 und nur das erste Element wird benutzt\"Warning message in if (nTrain * bag.fraction <= 2 * n.minobsinnode + 1) {:\n",
      "\"Bedingung hat Länge > 1 und nur das erste Element wird benutzt\"Warning message in if (nTrain * bag.fraction <= 2 * n.minobsinnode + 1) {:\n",
      "\"Bedingung hat Länge > 1 und nur das erste Element wird benutzt\""
     ]
    },
    {
     "name": "stdout",
     "output_type": "stream",
     "text": [
      "[1] 0.8921179\n"
     ]
    },
    {
     "name": "stderr",
     "output_type": "stream",
     "text": [
      "Warning message in if (nTrain * bag.fraction <= 2 * n.minobsinnode + 1) {:\n",
      "\"Bedingung hat Länge > 1 und nur das erste Element wird benutzt\"Warning message in if (nTrain * bag.fraction <= 2 * n.minobsinnode + 1) {:\n",
      "\"Bedingung hat Länge > 1 und nur das erste Element wird benutzt\"Warning message in if (nTrain * bag.fraction <= 2 * n.minobsinnode + 1) {:\n",
      "\"Bedingung hat Länge > 1 und nur das erste Element wird benutzt\"Warning message in if (nTrain * bag.fraction <= 2 * n.minobsinnode + 1) {:\n",
      "\"Bedingung hat Länge > 1 und nur das erste Element wird benutzt\"Warning message in if (nTrain * bag.fraction <= 2 * n.minobsinnode + 1) {:\n",
      "\"Bedingung hat Länge > 1 und nur das erste Element wird benutzt\"Warning message in if (nTrain * bag.fraction <= 2 * n.minobsinnode + 1) {:\n",
      "\"Bedingung hat Länge > 1 und nur das erste Element wird benutzt\"Warning message in if (nTrain * bag.fraction <= 2 * n.minobsinnode + 1) {:\n",
      "\"Bedingung hat Länge > 1 und nur das erste Element wird benutzt\"Warning message in if (nTrain * bag.fraction <= 2 * n.minobsinnode + 1) {:\n",
      "\"Bedingung hat Länge > 1 und nur das erste Element wird benutzt\"Warning message in if (nTrain * bag.fraction <= 2 * n.minobsinnode + 1) {:\n",
      "\"Bedingung hat Länge > 1 und nur das erste Element wird benutzt\"Warning message in if (nTrain * bag.fraction <= 2 * n.minobsinnode + 1) {:\n",
      "\"Bedingung hat Länge > 1 und nur das erste Element wird benutzt\""
     ]
    },
    {
     "name": "stdout",
     "output_type": "stream",
     "text": [
      "[1] 0.8950749\n"
     ]
    },
    {
     "name": "stderr",
     "output_type": "stream",
     "text": [
      "Warning message in if (nTrain * bag.fraction <= 2 * n.minobsinnode + 1) {:\n",
      "\"Bedingung hat Länge > 1 und nur das erste Element wird benutzt\"Warning message in if (nTrain * bag.fraction <= 2 * n.minobsinnode + 1) {:\n",
      "\"Bedingung hat Länge > 1 und nur das erste Element wird benutzt\"Warning message in if (nTrain * bag.fraction <= 2 * n.minobsinnode + 1) {:\n",
      "\"Bedingung hat Länge > 1 und nur das erste Element wird benutzt\"Warning message in if (nTrain * bag.fraction <= 2 * n.minobsinnode + 1) {:\n",
      "\"Bedingung hat Länge > 1 und nur das erste Element wird benutzt\"Warning message in if (nTrain * bag.fraction <= 2 * n.minobsinnode + 1) {:\n",
      "\"Bedingung hat Länge > 1 und nur das erste Element wird benutzt\"Warning message in if (nTrain * bag.fraction <= 2 * n.minobsinnode + 1) {:\n",
      "\"Bedingung hat Länge > 1 und nur das erste Element wird benutzt\"Warning message in if (nTrain * bag.fraction <= 2 * n.minobsinnode + 1) {:\n",
      "\"Bedingung hat Länge > 1 und nur das erste Element wird benutzt\"Warning message in if (nTrain * bag.fraction <= 2 * n.minobsinnode + 1) {:\n",
      "\"Bedingung hat Länge > 1 und nur das erste Element wird benutzt\"Warning message in if (nTrain * bag.fraction <= 2 * n.minobsinnode + 1) {:\n",
      "\"Bedingung hat Länge > 1 und nur das erste Element wird benutzt\"Warning message in if (nTrain * bag.fraction <= 2 * n.minobsinnode + 1) {:\n",
      "\"Bedingung hat Länge > 1 und nur das erste Element wird benutzt\""
     ]
    },
    {
     "name": "stdout",
     "output_type": "stream",
     "text": [
      "[1] 0.9034865\n"
     ]
    },
    {
     "name": "stderr",
     "output_type": "stream",
     "text": [
      "Warning message in if (nTrain * bag.fraction <= 2 * n.minobsinnode + 1) {:\n",
      "\"Bedingung hat Länge > 1 und nur das erste Element wird benutzt\"Warning message in if (nTrain * bag.fraction <= 2 * n.minobsinnode + 1) {:\n",
      "\"Bedingung hat Länge > 1 und nur das erste Element wird benutzt\"Warning message in if (nTrain * bag.fraction <= 2 * n.minobsinnode + 1) {:\n",
      "\"Bedingung hat Länge > 1 und nur das erste Element wird benutzt\"Warning message in if (nTrain * bag.fraction <= 2 * n.minobsinnode + 1) {:\n",
      "\"Bedingung hat Länge > 1 und nur das erste Element wird benutzt\"Warning message in if (nTrain * bag.fraction <= 2 * n.minobsinnode + 1) {:\n",
      "\"Bedingung hat Länge > 1 und nur das erste Element wird benutzt\"Warning message in if (nTrain * bag.fraction <= 2 * n.minobsinnode + 1) {:\n",
      "\"Bedingung hat Länge > 1 und nur das erste Element wird benutzt\"Warning message in if (nTrain * bag.fraction <= 2 * n.minobsinnode + 1) {:\n",
      "\"Bedingung hat Länge > 1 und nur das erste Element wird benutzt\"Warning message in if (nTrain * bag.fraction <= 2 * n.minobsinnode + 1) {:\n",
      "\"Bedingung hat Länge > 1 und nur das erste Element wird benutzt\"Warning message in if (nTrain * bag.fraction <= 2 * n.minobsinnode + 1) {:\n",
      "\"Bedingung hat Länge > 1 und nur das erste Element wird benutzt\"Warning message in if (nTrain * bag.fraction <= 2 * n.minobsinnode + 1) {:\n",
      "\"Bedingung hat Länge > 1 und nur das erste Element wird benutzt\""
     ]
    },
    {
     "name": "stdout",
     "output_type": "stream",
     "text": [
      "[1] 0.9029271\n"
     ]
    },
    {
     "name": "stderr",
     "output_type": "stream",
     "text": [
      "Warning message in if (nTrain * bag.fraction <= 2 * n.minobsinnode + 1) {:\n",
      "\"Bedingung hat Länge > 1 und nur das erste Element wird benutzt\"Warning message in if (nTrain * bag.fraction <= 2 * n.minobsinnode + 1) {:\n",
      "\"Bedingung hat Länge > 1 und nur das erste Element wird benutzt\"Warning message in if (nTrain * bag.fraction <= 2 * n.minobsinnode + 1) {:\n",
      "\"Bedingung hat Länge > 1 und nur das erste Element wird benutzt\"Warning message in if (nTrain * bag.fraction <= 2 * n.minobsinnode + 1) {:\n",
      "\"Bedingung hat Länge > 1 und nur das erste Element wird benutzt\"Warning message in if (nTrain * bag.fraction <= 2 * n.minobsinnode + 1) {:\n",
      "\"Bedingung hat Länge > 1 und nur das erste Element wird benutzt\"Warning message in if (nTrain * bag.fraction <= 2 * n.minobsinnode + 1) {:\n",
      "\"Bedingung hat Länge > 1 und nur das erste Element wird benutzt\"Warning message in if (nTrain * bag.fraction <= 2 * n.minobsinnode + 1) {:\n",
      "\"Bedingung hat Länge > 1 und nur das erste Element wird benutzt\"Warning message in if (nTrain * bag.fraction <= 2 * n.minobsinnode + 1) {:\n",
      "\"Bedingung hat Länge > 1 und nur das erste Element wird benutzt\"Warning message in if (nTrain * bag.fraction <= 2 * n.minobsinnode + 1) {:\n",
      "\"Bedingung hat Länge > 1 und nur das erste Element wird benutzt\"Warning message in if (nTrain * bag.fraction <= 2 * n.minobsinnode + 1) {:\n",
      "\"Bedingung hat Länge > 1 und nur das erste Element wird benutzt\""
     ]
    },
    {
     "name": "stdout",
     "output_type": "stream",
     "text": [
      "[1] 0.91004\n"
     ]
    },
    {
     "name": "stderr",
     "output_type": "stream",
     "text": [
      "Warning message in if (nTrain * bag.fraction <= 2 * n.minobsinnode + 1) {:\n",
      "\"Bedingung hat Länge > 1 und nur das erste Element wird benutzt\"Warning message in if (nTrain * bag.fraction <= 2 * n.minobsinnode + 1) {:\n",
      "\"Bedingung hat Länge > 1 und nur das erste Element wird benutzt\"Warning message in if (nTrain * bag.fraction <= 2 * n.minobsinnode + 1) {:\n",
      "\"Bedingung hat Länge > 1 und nur das erste Element wird benutzt\"Warning message in if (nTrain * bag.fraction <= 2 * n.minobsinnode + 1) {:\n",
      "\"Bedingung hat Länge > 1 und nur das erste Element wird benutzt\"Warning message in if (nTrain * bag.fraction <= 2 * n.minobsinnode + 1) {:\n",
      "\"Bedingung hat Länge > 1 und nur das erste Element wird benutzt\"Warning message in if (nTrain * bag.fraction <= 2 * n.minobsinnode + 1) {:\n",
      "\"Bedingung hat Länge > 1 und nur das erste Element wird benutzt\"Warning message in if (nTrain * bag.fraction <= 2 * n.minobsinnode + 1) {:\n",
      "\"Bedingung hat Länge > 1 und nur das erste Element wird benutzt\"Warning message in if (nTrain * bag.fraction <= 2 * n.minobsinnode + 1) {:\n",
      "\"Bedingung hat Länge > 1 und nur das erste Element wird benutzt\"Warning message in if (nTrain * bag.fraction <= 2 * n.minobsinnode + 1) {:\n",
      "\"Bedingung hat Länge > 1 und nur das erste Element wird benutzt\"Warning message in if (nTrain * bag.fraction <= 2 * n.minobsinnode + 1) {:\n",
      "\"Bedingung hat Länge > 1 und nur das erste Element wird benutzt\""
     ]
    },
    {
     "name": "stdout",
     "output_type": "stream",
     "text": [
      "[1] 0.8988112\n"
     ]
    },
    {
     "name": "stderr",
     "output_type": "stream",
     "text": [
      "Warning message in if (nTrain * bag.fraction <= 2 * n.minobsinnode + 1) {:\n",
      "\"Bedingung hat Länge > 1 und nur das erste Element wird benutzt\"Warning message in if (nTrain * bag.fraction <= 2 * n.minobsinnode + 1) {:\n",
      "\"Bedingung hat Länge > 1 und nur das erste Element wird benutzt\"Warning message in if (nTrain * bag.fraction <= 2 * n.minobsinnode + 1) {:\n",
      "\"Bedingung hat Länge > 1 und nur das erste Element wird benutzt\"Warning message in if (nTrain * bag.fraction <= 2 * n.minobsinnode + 1) {:\n",
      "\"Bedingung hat Länge > 1 und nur das erste Element wird benutzt\"Warning message in if (nTrain * bag.fraction <= 2 * n.minobsinnode + 1) {:\n",
      "\"Bedingung hat Länge > 1 und nur das erste Element wird benutzt\"Warning message in if (nTrain * bag.fraction <= 2 * n.minobsinnode + 1) {:\n",
      "\"Bedingung hat Länge > 1 und nur das erste Element wird benutzt\"Warning message in if (nTrain * bag.fraction <= 2 * n.minobsinnode + 1) {:\n",
      "\"Bedingung hat Länge > 1 und nur das erste Element wird benutzt\"Warning message in if (nTrain * bag.fraction <= 2 * n.minobsinnode + 1) {:\n",
      "\"Bedingung hat Länge > 1 und nur das erste Element wird benutzt\"Warning message in if (nTrain * bag.fraction <= 2 * n.minobsinnode + 1) {:\n",
      "\"Bedingung hat Länge > 1 und nur das erste Element wird benutzt\"Warning message in if (nTrain * bag.fraction <= 2 * n.minobsinnode + 1) {:\n",
      "\"Bedingung hat Länge > 1 und nur das erste Element wird benutzt\""
     ]
    },
    {
     "name": "stdout",
     "output_type": "stream",
     "text": [
      "[1] 0.9135564\n"
     ]
    },
    {
     "name": "stderr",
     "output_type": "stream",
     "text": [
      "Warning message in if (nTrain * bag.fraction <= 2 * n.minobsinnode + 1) {:\n",
      "\"Bedingung hat Länge > 1 und nur das erste Element wird benutzt\"Warning message in if (nTrain * bag.fraction <= 2 * n.minobsinnode + 1) {:\n",
      "\"Bedingung hat Länge > 1 und nur das erste Element wird benutzt\"Warning message in if (nTrain * bag.fraction <= 2 * n.minobsinnode + 1) {:\n",
      "\"Bedingung hat Länge > 1 und nur das erste Element wird benutzt\"Warning message in if (nTrain * bag.fraction <= 2 * n.minobsinnode + 1) {:\n",
      "\"Bedingung hat Länge > 1 und nur das erste Element wird benutzt\"Warning message in if (nTrain * bag.fraction <= 2 * n.minobsinnode + 1) {:\n",
      "\"Bedingung hat Länge > 1 und nur das erste Element wird benutzt\"Warning message in if (nTrain * bag.fraction <= 2 * n.minobsinnode + 1) {:\n",
      "\"Bedingung hat Länge > 1 und nur das erste Element wird benutzt\"Warning message in if (nTrain * bag.fraction <= 2 * n.minobsinnode + 1) {:\n",
      "\"Bedingung hat Länge > 1 und nur das erste Element wird benutzt\"Warning message in if (nTrain * bag.fraction <= 2 * n.minobsinnode + 1) {:\n",
      "\"Bedingung hat Länge > 1 und nur das erste Element wird benutzt\"Warning message in if (nTrain * bag.fraction <= 2 * n.minobsinnode + 1) {:\n",
      "\"Bedingung hat Länge > 1 und nur das erste Element wird benutzt\"Warning message in if (nTrain * bag.fraction <= 2 * n.minobsinnode + 1) {:\n",
      "\"Bedingung hat Länge > 1 und nur das erste Element wird benutzt\""
     ]
    },
    {
     "name": "stdout",
     "output_type": "stream",
     "text": [
      "[1] 0.8975025\n"
     ]
    },
    {
     "name": "stderr",
     "output_type": "stream",
     "text": [
      "Warning message in if (nTrain * bag.fraction <= 2 * n.minobsinnode + 1) {:\n",
      "\"Bedingung hat Länge > 1 und nur das erste Element wird benutzt\"Warning message in if (nTrain * bag.fraction <= 2 * n.minobsinnode + 1) {:\n",
      "\"Bedingung hat Länge > 1 und nur das erste Element wird benutzt\"Warning message in if (nTrain * bag.fraction <= 2 * n.minobsinnode + 1) {:\n",
      "\"Bedingung hat Länge > 1 und nur das erste Element wird benutzt\"Warning message in if (nTrain * bag.fraction <= 2 * n.minobsinnode + 1) {:\n",
      "\"Bedingung hat Länge > 1 und nur das erste Element wird benutzt\"Warning message in if (nTrain * bag.fraction <= 2 * n.minobsinnode + 1) {:\n",
      "\"Bedingung hat Länge > 1 und nur das erste Element wird benutzt\"Warning message in if (nTrain * bag.fraction <= 2 * n.minobsinnode + 1) {:\n",
      "\"Bedingung hat Länge > 1 und nur das erste Element wird benutzt\"Warning message in if (nTrain * bag.fraction <= 2 * n.minobsinnode + 1) {:\n",
      "\"Bedingung hat Länge > 1 und nur das erste Element wird benutzt\"Warning message in if (nTrain * bag.fraction <= 2 * n.minobsinnode + 1) {:\n",
      "\"Bedingung hat Länge > 1 und nur das erste Element wird benutzt\"Warning message in if (nTrain * bag.fraction <= 2 * n.minobsinnode + 1) {:\n",
      "\"Bedingung hat Länge > 1 und nur das erste Element wird benutzt\"Warning message in if (nTrain * bag.fraction <= 2 * n.minobsinnode + 1) {:\n",
      "\"Bedingung hat Länge > 1 und nur das erste Element wird benutzt\""
     ]
    },
    {
     "name": "stdout",
     "output_type": "stream",
     "text": [
      "[1] 0.9028871\n"
     ]
    },
    {
     "name": "stderr",
     "output_type": "stream",
     "text": [
      "Warning message in if (nTrain * bag.fraction <= 2 * n.minobsinnode + 1) {:\n",
      "\"Bedingung hat Länge > 1 und nur das erste Element wird benutzt\"Warning message in if (nTrain * bag.fraction <= 2 * n.minobsinnode + 1) {:\n",
      "\"Bedingung hat Länge > 1 und nur das erste Element wird benutzt\"Warning message in if (nTrain * bag.fraction <= 2 * n.minobsinnode + 1) {:\n",
      "\"Bedingung hat Länge > 1 und nur das erste Element wird benutzt\"Warning message in if (nTrain * bag.fraction <= 2 * n.minobsinnode + 1) {:\n",
      "\"Bedingung hat Länge > 1 und nur das erste Element wird benutzt\"Warning message in if (nTrain * bag.fraction <= 2 * n.minobsinnode + 1) {:\n",
      "\"Bedingung hat Länge > 1 und nur das erste Element wird benutzt\"Warning message in if (nTrain * bag.fraction <= 2 * n.minobsinnode + 1) {:\n",
      "\"Bedingung hat Länge > 1 und nur das erste Element wird benutzt\"Warning message in if (nTrain * bag.fraction <= 2 * n.minobsinnode + 1) {:\n",
      "\"Bedingung hat Länge > 1 und nur das erste Element wird benutzt\"Warning message in if (nTrain * bag.fraction <= 2 * n.minobsinnode + 1) {:\n",
      "\"Bedingung hat Länge > 1 und nur das erste Element wird benutzt\"Warning message in if (nTrain * bag.fraction <= 2 * n.minobsinnode + 1) {:\n",
      "\"Bedingung hat Länge > 1 und nur das erste Element wird benutzt\"Warning message in if (nTrain * bag.fraction <= 2 * n.minobsinnode + 1) {:\n",
      "\"Bedingung hat Länge > 1 und nur das erste Element wird benutzt\""
     ]
    },
    {
     "name": "stdout",
     "output_type": "stream",
     "text": [
      "[1] 0.9007892\n"
     ]
    },
    {
     "name": "stderr",
     "output_type": "stream",
     "text": [
      "Warning message in if (nTrain * bag.fraction <= 2 * n.minobsinnode + 1) {:\n",
      "\"Bedingung hat Länge > 1 und nur das erste Element wird benutzt\"Warning message in if (nTrain * bag.fraction <= 2 * n.minobsinnode + 1) {:\n",
      "\"Bedingung hat Länge > 1 und nur das erste Element wird benutzt\"Warning message in if (nTrain * bag.fraction <= 2 * n.minobsinnode + 1) {:\n",
      "\"Bedingung hat Länge > 1 und nur das erste Element wird benutzt\"Warning message in if (nTrain * bag.fraction <= 2 * n.minobsinnode + 1) {:\n",
      "\"Bedingung hat Länge > 1 und nur das erste Element wird benutzt\"Warning message in if (nTrain * bag.fraction <= 2 * n.minobsinnode + 1) {:\n",
      "\"Bedingung hat Länge > 1 und nur das erste Element wird benutzt\"Warning message in if (nTrain * bag.fraction <= 2 * n.minobsinnode + 1) {:\n",
      "\"Bedingung hat Länge > 1 und nur das erste Element wird benutzt\"Warning message in if (nTrain * bag.fraction <= 2 * n.minobsinnode + 1) {:\n",
      "\"Bedingung hat Länge > 1 und nur das erste Element wird benutzt\"Warning message in if (nTrain * bag.fraction <= 2 * n.minobsinnode + 1) {:\n",
      "\"Bedingung hat Länge > 1 und nur das erste Element wird benutzt\"Warning message in if (nTrain * bag.fraction <= 2 * n.minobsinnode + 1) {:\n",
      "\"Bedingung hat Länge > 1 und nur das erste Element wird benutzt\"Warning message in if (nTrain * bag.fraction <= 2 * n.minobsinnode + 1) {:\n",
      "\"Bedingung hat Länge > 1 und nur das erste Element wird benutzt\""
     ]
    },
    {
     "name": "stdout",
     "output_type": "stream",
     "text": [
      "[1] 0.8980619\n"
     ]
    },
    {
     "name": "stderr",
     "output_type": "stream",
     "text": [
      "Warning message in if (nTrain * bag.fraction <= 2 * n.minobsinnode + 1) {:\n",
      "\"Bedingung hat Länge > 1 und nur das erste Element wird benutzt\"Warning message in if (nTrain * bag.fraction <= 2 * n.minobsinnode + 1) {:\n",
      "\"Bedingung hat Länge > 1 und nur das erste Element wird benutzt\"Warning message in if (nTrain * bag.fraction <= 2 * n.minobsinnode + 1) {:\n",
      "\"Bedingung hat Länge > 1 und nur das erste Element wird benutzt\"Warning message in if (nTrain * bag.fraction <= 2 * n.minobsinnode + 1) {:\n",
      "\"Bedingung hat Länge > 1 und nur das erste Element wird benutzt\"Warning message in if (nTrain * bag.fraction <= 2 * n.minobsinnode + 1) {:\n",
      "\"Bedingung hat Länge > 1 und nur das erste Element wird benutzt\"Warning message in if (nTrain * bag.fraction <= 2 * n.minobsinnode + 1) {:\n",
      "\"Bedingung hat Länge > 1 und nur das erste Element wird benutzt\"Warning message in if (nTrain * bag.fraction <= 2 * n.minobsinnode + 1) {:\n",
      "\"Bedingung hat Länge > 1 und nur das erste Element wird benutzt\"Warning message in if (nTrain * bag.fraction <= 2 * n.minobsinnode + 1) {:\n",
      "\"Bedingung hat Länge > 1 und nur das erste Element wird benutzt\"Warning message in if (nTrain * bag.fraction <= 2 * n.minobsinnode + 1) {:\n",
      "\"Bedingung hat Länge > 1 und nur das erste Element wird benutzt\"Warning message in if (nTrain * bag.fraction <= 2 * n.minobsinnode + 1) {:\n",
      "\"Bedingung hat Länge > 1 und nur das erste Element wird benutzt\""
     ]
    },
    {
     "name": "stdout",
     "output_type": "stream",
     "text": [
      "[1] 0.9066933\n"
     ]
    },
    {
     "name": "stderr",
     "output_type": "stream",
     "text": [
      "Warning message in if (nTrain * bag.fraction <= 2 * n.minobsinnode + 1) {:\n",
      "\"Bedingung hat Länge > 1 und nur das erste Element wird benutzt\"Warning message in if (nTrain * bag.fraction <= 2 * n.minobsinnode + 1) {:\n",
      "\"Bedingung hat Länge > 1 und nur das erste Element wird benutzt\"Warning message in if (nTrain * bag.fraction <= 2 * n.minobsinnode + 1) {:\n",
      "\"Bedingung hat Länge > 1 und nur das erste Element wird benutzt\"Warning message in if (nTrain * bag.fraction <= 2 * n.minobsinnode + 1) {:\n",
      "\"Bedingung hat Länge > 1 und nur das erste Element wird benutzt\"Warning message in if (nTrain * bag.fraction <= 2 * n.minobsinnode + 1) {:\n",
      "\"Bedingung hat Länge > 1 und nur das erste Element wird benutzt\"Warning message in if (nTrain * bag.fraction <= 2 * n.minobsinnode + 1) {:\n",
      "\"Bedingung hat Länge > 1 und nur das erste Element wird benutzt\"Warning message in if (nTrain * bag.fraction <= 2 * n.minobsinnode + 1) {:\n",
      "\"Bedingung hat Länge > 1 und nur das erste Element wird benutzt\"Warning message in if (nTrain * bag.fraction <= 2 * n.minobsinnode + 1) {:\n",
      "\"Bedingung hat Länge > 1 und nur das erste Element wird benutzt\"Warning message in if (nTrain * bag.fraction <= 2 * n.minobsinnode + 1) {:\n",
      "\"Bedingung hat Länge > 1 und nur das erste Element wird benutzt\"Warning message in if (nTrain * bag.fraction <= 2 * n.minobsinnode + 1) {:\n",
      "\"Bedingung hat Länge > 1 und nur das erste Element wird benutzt\""
     ]
    },
    {
     "name": "stdout",
     "output_type": "stream",
     "text": [
      "[1] 0.8986613\n"
     ]
    },
    {
     "name": "stderr",
     "output_type": "stream",
     "text": [
      "Warning message in if (nTrain * bag.fraction <= 2 * n.minobsinnode + 1) {:\n",
      "\"Bedingung hat Länge > 1 und nur das erste Element wird benutzt\"Warning message in if (nTrain * bag.fraction <= 2 * n.minobsinnode + 1) {:\n",
      "\"Bedingung hat Länge > 1 und nur das erste Element wird benutzt\"Warning message in if (nTrain * bag.fraction <= 2 * n.minobsinnode + 1) {:\n",
      "\"Bedingung hat Länge > 1 und nur das erste Element wird benutzt\"Warning message in if (nTrain * bag.fraction <= 2 * n.minobsinnode + 1) {:\n",
      "\"Bedingung hat Länge > 1 und nur das erste Element wird benutzt\"Warning message in if (nTrain * bag.fraction <= 2 * n.minobsinnode + 1) {:\n",
      "\"Bedingung hat Länge > 1 und nur das erste Element wird benutzt\"Warning message in if (nTrain * bag.fraction <= 2 * n.minobsinnode + 1) {:\n",
      "\"Bedingung hat Länge > 1 und nur das erste Element wird benutzt\"Warning message in if (nTrain * bag.fraction <= 2 * n.minobsinnode + 1) {:\n",
      "\"Bedingung hat Länge > 1 und nur das erste Element wird benutzt\"Warning message in if (nTrain * bag.fraction <= 2 * n.minobsinnode + 1) {:\n",
      "\"Bedingung hat Länge > 1 und nur das erste Element wird benutzt\"Warning message in if (nTrain * bag.fraction <= 2 * n.minobsinnode + 1) {:\n",
      "\"Bedingung hat Länge > 1 und nur das erste Element wird benutzt\"Warning message in if (nTrain * bag.fraction <= 2 * n.minobsinnode + 1) {:\n",
      "\"Bedingung hat Länge > 1 und nur das erste Element wird benutzt\""
     ]
    },
    {
     "name": "stdout",
     "output_type": "stream",
     "text": [
      "[1] 0.9013487\n"
     ]
    },
    {
     "name": "stderr",
     "output_type": "stream",
     "text": [
      "Warning message in if (nTrain * bag.fraction <= 2 * n.minobsinnode + 1) {:\n",
      "\"Bedingung hat Länge > 1 und nur das erste Element wird benutzt\"Warning message in if (nTrain * bag.fraction <= 2 * n.minobsinnode + 1) {:\n",
      "\"Bedingung hat Länge > 1 und nur das erste Element wird benutzt\"Warning message in if (nTrain * bag.fraction <= 2 * n.minobsinnode + 1) {:\n",
      "\"Bedingung hat Länge > 1 und nur das erste Element wird benutzt\"Warning message in if (nTrain * bag.fraction <= 2 * n.minobsinnode + 1) {:\n",
      "\"Bedingung hat Länge > 1 und nur das erste Element wird benutzt\"Warning message in if (nTrain * bag.fraction <= 2 * n.minobsinnode + 1) {:\n",
      "\"Bedingung hat Länge > 1 und nur das erste Element wird benutzt\"Warning message in if (nTrain * bag.fraction <= 2 * n.minobsinnode + 1) {:\n",
      "\"Bedingung hat Länge > 1 und nur das erste Element wird benutzt\"Warning message in if (nTrain * bag.fraction <= 2 * n.minobsinnode + 1) {:\n",
      "\"Bedingung hat Länge > 1 und nur das erste Element wird benutzt\"Warning message in if (nTrain * bag.fraction <= 2 * n.minobsinnode + 1) {:\n",
      "\"Bedingung hat Länge > 1 und nur das erste Element wird benutzt\"Warning message in if (nTrain * bag.fraction <= 2 * n.minobsinnode + 1) {:\n",
      "\"Bedingung hat Länge > 1 und nur das erste Element wird benutzt\"Warning message in if (nTrain * bag.fraction <= 2 * n.minobsinnode + 1) {:\n",
      "\"Bedingung hat Länge > 1 und nur das erste Element wird benutzt\""
     ]
    },
    {
     "name": "stdout",
     "output_type": "stream",
     "text": [
      "[1] 0.8970529\n"
     ]
    },
    {
     "name": "stderr",
     "output_type": "stream",
     "text": [
      "Warning message in if (nTrain * bag.fraction <= 2 * n.minobsinnode + 1) {:\n",
      "\"Bedingung hat Länge > 1 und nur das erste Element wird benutzt\"Warning message in if (nTrain * bag.fraction <= 2 * n.minobsinnode + 1) {:\n",
      "\"Bedingung hat Länge > 1 und nur das erste Element wird benutzt\"Warning message in if (nTrain * bag.fraction <= 2 * n.minobsinnode + 1) {:\n",
      "\"Bedingung hat Länge > 1 und nur das erste Element wird benutzt\"Warning message in if (nTrain * bag.fraction <= 2 * n.minobsinnode + 1) {:\n",
      "\"Bedingung hat Länge > 1 und nur das erste Element wird benutzt\"Warning message in if (nTrain * bag.fraction <= 2 * n.minobsinnode + 1) {:\n",
      "\"Bedingung hat Länge > 1 und nur das erste Element wird benutzt\"Warning message in if (nTrain * bag.fraction <= 2 * n.minobsinnode + 1) {:\n",
      "\"Bedingung hat Länge > 1 und nur das erste Element wird benutzt\"Warning message in if (nTrain * bag.fraction <= 2 * n.minobsinnode + 1) {:\n",
      "\"Bedingung hat Länge > 1 und nur das erste Element wird benutzt\"Warning message in if (nTrain * bag.fraction <= 2 * n.minobsinnode + 1) {:\n",
      "\"Bedingung hat Länge > 1 und nur das erste Element wird benutzt\"Warning message in if (nTrain * bag.fraction <= 2 * n.minobsinnode + 1) {:\n",
      "\"Bedingung hat Länge > 1 und nur das erste Element wird benutzt\"Warning message in if (nTrain * bag.fraction <= 2 * n.minobsinnode + 1) {:\n",
      "\"Bedingung hat Länge > 1 und nur das erste Element wird benutzt\""
     ]
    },
    {
     "name": "stdout",
     "output_type": "stream",
     "text": [
      "[1] 0.8906593\n"
     ]
    },
    {
     "name": "stderr",
     "output_type": "stream",
     "text": [
      "Warning message in if (nTrain * bag.fraction <= 2 * n.minobsinnode + 1) {:\n",
      "\"Bedingung hat Länge > 1 und nur das erste Element wird benutzt\"Warning message in if (nTrain * bag.fraction <= 2 * n.minobsinnode + 1) {:\n",
      "\"Bedingung hat Länge > 1 und nur das erste Element wird benutzt\"Warning message in if (nTrain * bag.fraction <= 2 * n.minobsinnode + 1) {:\n",
      "\"Bedingung hat Länge > 1 und nur das erste Element wird benutzt\"Warning message in if (nTrain * bag.fraction <= 2 * n.minobsinnode + 1) {:\n",
      "\"Bedingung hat Länge > 1 und nur das erste Element wird benutzt\"Warning message in if (nTrain * bag.fraction <= 2 * n.minobsinnode + 1) {:\n",
      "\"Bedingung hat Länge > 1 und nur das erste Element wird benutzt\"Warning message in if (nTrain * bag.fraction <= 2 * n.minobsinnode + 1) {:\n",
      "\"Bedingung hat Länge > 1 und nur das erste Element wird benutzt\"Warning message in if (nTrain * bag.fraction <= 2 * n.minobsinnode + 1) {:\n",
      "\"Bedingung hat Länge > 1 und nur das erste Element wird benutzt\"Warning message in if (nTrain * bag.fraction <= 2 * n.minobsinnode + 1) {:\n",
      "\"Bedingung hat Länge > 1 und nur das erste Element wird benutzt\"Warning message in if (nTrain * bag.fraction <= 2 * n.minobsinnode + 1) {:\n",
      "\"Bedingung hat Länge > 1 und nur das erste Element wird benutzt\"Warning message in if (nTrain * bag.fraction <= 2 * n.minobsinnode + 1) {:\n",
      "\"Bedingung hat Länge > 1 und nur das erste Element wird benutzt\""
     ]
    },
    {
     "name": "stdout",
     "output_type": "stream",
     "text": [
      "[1] 0.8961339\n"
     ]
    },
    {
     "name": "stderr",
     "output_type": "stream",
     "text": [
      "Warning message in if (nTrain * bag.fraction <= 2 * n.minobsinnode + 1) {:\n",
      "\"Bedingung hat Länge > 1 und nur das erste Element wird benutzt\"Warning message in if (nTrain * bag.fraction <= 2 * n.minobsinnode + 1) {:\n",
      "\"Bedingung hat Länge > 1 und nur das erste Element wird benutzt\"Warning message in if (nTrain * bag.fraction <= 2 * n.minobsinnode + 1) {:\n",
      "\"Bedingung hat Länge > 1 und nur das erste Element wird benutzt\"Warning message in if (nTrain * bag.fraction <= 2 * n.minobsinnode + 1) {:\n",
      "\"Bedingung hat Länge > 1 und nur das erste Element wird benutzt\"Warning message in if (nTrain * bag.fraction <= 2 * n.minobsinnode + 1) {:\n",
      "\"Bedingung hat Länge > 1 und nur das erste Element wird benutzt\"Warning message in if (nTrain * bag.fraction <= 2 * n.minobsinnode + 1) {:\n",
      "\"Bedingung hat Länge > 1 und nur das erste Element wird benutzt\"Warning message in if (nTrain * bag.fraction <= 2 * n.minobsinnode + 1) {:\n",
      "\"Bedingung hat Länge > 1 und nur das erste Element wird benutzt\"Warning message in if (nTrain * bag.fraction <= 2 * n.minobsinnode + 1) {:\n",
      "\"Bedingung hat Länge > 1 und nur das erste Element wird benutzt\"Warning message in if (nTrain * bag.fraction <= 2 * n.minobsinnode + 1) {:\n",
      "\"Bedingung hat Länge > 1 und nur das erste Element wird benutzt\"Warning message in if (nTrain * bag.fraction <= 2 * n.minobsinnode + 1) {:\n",
      "\"Bedingung hat Länge > 1 und nur das erste Element wird benutzt\""
     ]
    },
    {
     "name": "stdout",
     "output_type": "stream",
     "text": [
      "[1] 0.8986613\n"
     ]
    },
    {
     "name": "stderr",
     "output_type": "stream",
     "text": [
      "Warning message in if (nTrain * bag.fraction <= 2 * n.minobsinnode + 1) {:\n",
      "\"Bedingung hat Länge > 1 und nur das erste Element wird benutzt\"Warning message in if (nTrain * bag.fraction <= 2 * n.minobsinnode + 1) {:\n",
      "\"Bedingung hat Länge > 1 und nur das erste Element wird benutzt\"Warning message in if (nTrain * bag.fraction <= 2 * n.minobsinnode + 1) {:\n",
      "\"Bedingung hat Länge > 1 und nur das erste Element wird benutzt\"Warning message in if (nTrain * bag.fraction <= 2 * n.minobsinnode + 1) {:\n",
      "\"Bedingung hat Länge > 1 und nur das erste Element wird benutzt\"Warning message in if (nTrain * bag.fraction <= 2 * n.minobsinnode + 1) {:\n",
      "\"Bedingung hat Länge > 1 und nur das erste Element wird benutzt\"Warning message in if (nTrain * bag.fraction <= 2 * n.minobsinnode + 1) {:\n",
      "\"Bedingung hat Länge > 1 und nur das erste Element wird benutzt\"Warning message in if (nTrain * bag.fraction <= 2 * n.minobsinnode + 1) {:\n",
      "\"Bedingung hat Länge > 1 und nur das erste Element wird benutzt\"Warning message in if (nTrain * bag.fraction <= 2 * n.minobsinnode + 1) {:\n",
      "\"Bedingung hat Länge > 1 und nur das erste Element wird benutzt\"Warning message in if (nTrain * bag.fraction <= 2 * n.minobsinnode + 1) {:\n",
      "\"Bedingung hat Länge > 1 und nur das erste Element wird benutzt\"Warning message in if (nTrain * bag.fraction <= 2 * n.minobsinnode + 1) {:\n",
      "\"Bedingung hat Länge > 1 und nur das erste Element wird benutzt\""
     ]
    },
    {
     "name": "stdout",
     "output_type": "stream",
     "text": [
      "[1] 0.8944655\n"
     ]
    },
    {
     "name": "stderr",
     "output_type": "stream",
     "text": [
      "Warning message in if (nTrain * bag.fraction <= 2 * n.minobsinnode + 1) {:\n",
      "\"Bedingung hat Länge > 1 und nur das erste Element wird benutzt\"Warning message in if (nTrain * bag.fraction <= 2 * n.minobsinnode + 1) {:\n",
      "\"Bedingung hat Länge > 1 und nur das erste Element wird benutzt\"Warning message in if (nTrain * bag.fraction <= 2 * n.minobsinnode + 1) {:\n",
      "\"Bedingung hat Länge > 1 und nur das erste Element wird benutzt\"Warning message in if (nTrain * bag.fraction <= 2 * n.minobsinnode + 1) {:\n",
      "\"Bedingung hat Länge > 1 und nur das erste Element wird benutzt\"Warning message in if (nTrain * bag.fraction <= 2 * n.minobsinnode + 1) {:\n",
      "\"Bedingung hat Länge > 1 und nur das erste Element wird benutzt\"Warning message in if (nTrain * bag.fraction <= 2 * n.minobsinnode + 1) {:\n",
      "\"Bedingung hat Länge > 1 und nur das erste Element wird benutzt\"Warning message in if (nTrain * bag.fraction <= 2 * n.minobsinnode + 1) {:\n",
      "\"Bedingung hat Länge > 1 und nur das erste Element wird benutzt\"Warning message in if (nTrain * bag.fraction <= 2 * n.minobsinnode + 1) {:\n",
      "\"Bedingung hat Länge > 1 und nur das erste Element wird benutzt\"Warning message in if (nTrain * bag.fraction <= 2 * n.minobsinnode + 1) {:\n",
      "\"Bedingung hat Länge > 1 und nur das erste Element wird benutzt\"Warning message in if (nTrain * bag.fraction <= 2 * n.minobsinnode + 1) {:\n",
      "\"Bedingung hat Länge > 1 und nur das erste Element wird benutzt\""
     ]
    },
    {
     "name": "stdout",
     "output_type": "stream",
     "text": [
      "[1] 0.897013\n"
     ]
    },
    {
     "name": "stderr",
     "output_type": "stream",
     "text": [
      "Warning message in if (nTrain * bag.fraction <= 2 * n.minobsinnode + 1) {:\n",
      "\"Bedingung hat Länge > 1 und nur das erste Element wird benutzt\"Warning message in if (nTrain * bag.fraction <= 2 * n.minobsinnode + 1) {:\n",
      "\"Bedingung hat Länge > 1 und nur das erste Element wird benutzt\"Warning message in if (nTrain * bag.fraction <= 2 * n.minobsinnode + 1) {:\n",
      "\"Bedingung hat Länge > 1 und nur das erste Element wird benutzt\"Warning message in if (nTrain * bag.fraction <= 2 * n.minobsinnode + 1) {:\n",
      "\"Bedingung hat Länge > 1 und nur das erste Element wird benutzt\"Warning message in if (nTrain * bag.fraction <= 2 * n.minobsinnode + 1) {:\n",
      "\"Bedingung hat Länge > 1 und nur das erste Element wird benutzt\"Warning message in if (nTrain * bag.fraction <= 2 * n.minobsinnode + 1) {:\n",
      "\"Bedingung hat Länge > 1 und nur das erste Element wird benutzt\"Warning message in if (nTrain * bag.fraction <= 2 * n.minobsinnode + 1) {:\n",
      "\"Bedingung hat Länge > 1 und nur das erste Element wird benutzt\"Warning message in if (nTrain * bag.fraction <= 2 * n.minobsinnode + 1) {:\n",
      "\"Bedingung hat Länge > 1 und nur das erste Element wird benutzt\"Warning message in if (nTrain * bag.fraction <= 2 * n.minobsinnode + 1) {:\n",
      "\"Bedingung hat Länge > 1 und nur das erste Element wird benutzt\"Warning message in if (nTrain * bag.fraction <= 2 * n.minobsinnode + 1) {:\n",
      "\"Bedingung hat Länge > 1 und nur das erste Element wird benutzt\""
     ]
    },
    {
     "name": "stdout",
     "output_type": "stream",
     "text": [
      "[1] 0.8886314\n"
     ]
    },
    {
     "name": "stderr",
     "output_type": "stream",
     "text": [
      "Warning message in if (nTrain * bag.fraction <= 2 * n.minobsinnode + 1) {:\n",
      "\"Bedingung hat Länge > 1 und nur das erste Element wird benutzt\"Warning message in if (nTrain * bag.fraction <= 2 * n.minobsinnode + 1) {:\n",
      "\"Bedingung hat Länge > 1 und nur das erste Element wird benutzt\"Warning message in if (nTrain * bag.fraction <= 2 * n.minobsinnode + 1) {:\n",
      "\"Bedingung hat Länge > 1 und nur das erste Element wird benutzt\"Warning message in if (nTrain * bag.fraction <= 2 * n.minobsinnode + 1) {:\n",
      "\"Bedingung hat Länge > 1 und nur das erste Element wird benutzt\"Warning message in if (nTrain * bag.fraction <= 2 * n.minobsinnode + 1) {:\n",
      "\"Bedingung hat Länge > 1 und nur das erste Element wird benutzt\"Warning message in if (nTrain * bag.fraction <= 2 * n.minobsinnode + 1) {:\n",
      "\"Bedingung hat Länge > 1 und nur das erste Element wird benutzt\"Warning message in if (nTrain * bag.fraction <= 2 * n.minobsinnode + 1) {:\n",
      "\"Bedingung hat Länge > 1 und nur das erste Element wird benutzt\"Warning message in if (nTrain * bag.fraction <= 2 * n.minobsinnode + 1) {:\n",
      "\"Bedingung hat Länge > 1 und nur das erste Element wird benutzt\"Warning message in if (nTrain * bag.fraction <= 2 * n.minobsinnode + 1) {:\n",
      "\"Bedingung hat Länge > 1 und nur das erste Element wird benutzt\"Warning message in if (nTrain * bag.fraction <= 2 * n.minobsinnode + 1) {:\n",
      "\"Bedingung hat Länge > 1 und nur das erste Element wird benutzt\""
     ]
    },
    {
     "name": "stdout",
     "output_type": "stream",
     "text": [
      "[1] 0.8980619\n"
     ]
    },
    {
     "name": "stderr",
     "output_type": "stream",
     "text": [
      "Warning message in if (nTrain * bag.fraction <= 2 * n.minobsinnode + 1) {:\n",
      "\"Bedingung hat Länge > 1 und nur das erste Element wird benutzt\"Warning message in if (nTrain * bag.fraction <= 2 * n.minobsinnode + 1) {:\n",
      "\"Bedingung hat Länge > 1 und nur das erste Element wird benutzt\"Warning message in if (nTrain * bag.fraction <= 2 * n.minobsinnode + 1) {:\n",
      "\"Bedingung hat Länge > 1 und nur das erste Element wird benutzt\"Warning message in if (nTrain * bag.fraction <= 2 * n.minobsinnode + 1) {:\n",
      "\"Bedingung hat Länge > 1 und nur das erste Element wird benutzt\"Warning message in if (nTrain * bag.fraction <= 2 * n.minobsinnode + 1) {:\n",
      "\"Bedingung hat Länge > 1 und nur das erste Element wird benutzt\"Warning message in if (nTrain * bag.fraction <= 2 * n.minobsinnode + 1) {:\n",
      "\"Bedingung hat Länge > 1 und nur das erste Element wird benutzt\"Warning message in if (nTrain * bag.fraction <= 2 * n.minobsinnode + 1) {:\n",
      "\"Bedingung hat Länge > 1 und nur das erste Element wird benutzt\"Warning message in if (nTrain * bag.fraction <= 2 * n.minobsinnode + 1) {:\n",
      "\"Bedingung hat Länge > 1 und nur das erste Element wird benutzt\"Warning message in if (nTrain * bag.fraction <= 2 * n.minobsinnode + 1) {:\n",
      "\"Bedingung hat Länge > 1 und nur das erste Element wird benutzt\"Warning message in if (nTrain * bag.fraction <= 2 * n.minobsinnode + 1) {:\n",
      "\"Bedingung hat Länge > 1 und nur das erste Element wird benutzt\""
     ]
    },
    {
     "name": "stdout",
     "output_type": "stream",
     "text": [
      "[1] 0.8989211\n"
     ]
    },
    {
     "name": "stderr",
     "output_type": "stream",
     "text": [
      "Warning message in if (nTrain * bag.fraction <= 2 * n.minobsinnode + 1) {:\n",
      "\"Bedingung hat Länge > 1 und nur das erste Element wird benutzt\"Warning message in if (nTrain * bag.fraction <= 2 * n.minobsinnode + 1) {:\n",
      "\"Bedingung hat Länge > 1 und nur das erste Element wird benutzt\"Warning message in if (nTrain * bag.fraction <= 2 * n.minobsinnode + 1) {:\n",
      "\"Bedingung hat Länge > 1 und nur das erste Element wird benutzt\"Warning message in if (nTrain * bag.fraction <= 2 * n.minobsinnode + 1) {:\n",
      "\"Bedingung hat Länge > 1 und nur das erste Element wird benutzt\"Warning message in if (nTrain * bag.fraction <= 2 * n.minobsinnode + 1) {:\n",
      "\"Bedingung hat Länge > 1 und nur das erste Element wird benutzt\"Warning message in if (nTrain * bag.fraction <= 2 * n.minobsinnode + 1) {:\n",
      "\"Bedingung hat Länge > 1 und nur das erste Element wird benutzt\"Warning message in if (nTrain * bag.fraction <= 2 * n.minobsinnode + 1) {:\n",
      "\"Bedingung hat Länge > 1 und nur das erste Element wird benutzt\"Warning message in if (nTrain * bag.fraction <= 2 * n.minobsinnode + 1) {:\n",
      "\"Bedingung hat Länge > 1 und nur das erste Element wird benutzt\"Warning message in if (nTrain * bag.fraction <= 2 * n.minobsinnode + 1) {:\n",
      "\"Bedingung hat Länge > 1 und nur das erste Element wird benutzt\"Warning message in if (nTrain * bag.fraction <= 2 * n.minobsinnode + 1) {:\n",
      "\"Bedingung hat Länge > 1 und nur das erste Element wird benutzt\""
     ]
    },
    {
     "name": "stdout",
     "output_type": "stream",
     "text": [
      "[1] 0.881958\n"
     ]
    },
    {
     "name": "stderr",
     "output_type": "stream",
     "text": [
      "Warning message in if (nTrain * bag.fraction <= 2 * n.minobsinnode + 1) {:\n",
      "\"Bedingung hat Länge > 1 und nur das erste Element wird benutzt\"Warning message in if (nTrain * bag.fraction <= 2 * n.minobsinnode + 1) {:\n",
      "\"Bedingung hat Länge > 1 und nur das erste Element wird benutzt\"Warning message in if (nTrain * bag.fraction <= 2 * n.minobsinnode + 1) {:\n",
      "\"Bedingung hat Länge > 1 und nur das erste Element wird benutzt\"Warning message in if (nTrain * bag.fraction <= 2 * n.minobsinnode + 1) {:\n",
      "\"Bedingung hat Länge > 1 und nur das erste Element wird benutzt\"Warning message in if (nTrain * bag.fraction <= 2 * n.minobsinnode + 1) {:\n",
      "\"Bedingung hat Länge > 1 und nur das erste Element wird benutzt\"Warning message in if (nTrain * bag.fraction <= 2 * n.minobsinnode + 1) {:\n",
      "\"Bedingung hat Länge > 1 und nur das erste Element wird benutzt\"Warning message in if (nTrain * bag.fraction <= 2 * n.minobsinnode + 1) {:\n",
      "\"Bedingung hat Länge > 1 und nur das erste Element wird benutzt\"Warning message in if (nTrain * bag.fraction <= 2 * n.minobsinnode + 1) {:\n",
      "\"Bedingung hat Länge > 1 und nur das erste Element wird benutzt\"Warning message in if (nTrain * bag.fraction <= 2 * n.minobsinnode + 1) {:\n",
      "\"Bedingung hat Länge > 1 und nur das erste Element wird benutzt\"Warning message in if (nTrain * bag.fraction <= 2 * n.minobsinnode + 1) {:\n",
      "\"Bedingung hat Länge > 1 und nur das erste Element wird benutzt\""
     ]
    },
    {
     "name": "stdout",
     "output_type": "stream",
     "text": [
      "[1] 0.8967532\n"
     ]
    },
    {
     "name": "stderr",
     "output_type": "stream",
     "text": [
      "Warning message in if (nTrain * bag.fraction <= 2 * n.minobsinnode + 1) {:\n",
      "\"Bedingung hat Länge > 1 und nur das erste Element wird benutzt\"Warning message in if (nTrain * bag.fraction <= 2 * n.minobsinnode + 1) {:\n",
      "\"Bedingung hat Länge > 1 und nur das erste Element wird benutzt\"Warning message in if (nTrain * bag.fraction <= 2 * n.minobsinnode + 1) {:\n",
      "\"Bedingung hat Länge > 1 und nur das erste Element wird benutzt\"Warning message in if (nTrain * bag.fraction <= 2 * n.minobsinnode + 1) {:\n",
      "\"Bedingung hat Länge > 1 und nur das erste Element wird benutzt\"Warning message in if (nTrain * bag.fraction <= 2 * n.minobsinnode + 1) {:\n",
      "\"Bedingung hat Länge > 1 und nur das erste Element wird benutzt\"Warning message in if (nTrain * bag.fraction <= 2 * n.minobsinnode + 1) {:\n",
      "\"Bedingung hat Länge > 1 und nur das erste Element wird benutzt\"Warning message in if (nTrain * bag.fraction <= 2 * n.minobsinnode + 1) {:\n",
      "\"Bedingung hat Länge > 1 und nur das erste Element wird benutzt\"Warning message in if (nTrain * bag.fraction <= 2 * n.minobsinnode + 1) {:\n",
      "\"Bedingung hat Länge > 1 und nur das erste Element wird benutzt\"Warning message in if (nTrain * bag.fraction <= 2 * n.minobsinnode + 1) {:\n",
      "\"Bedingung hat Länge > 1 und nur das erste Element wird benutzt\"Warning message in if (nTrain * bag.fraction <= 2 * n.minobsinnode + 1) {:\n",
      "\"Bedingung hat Länge > 1 und nur das erste Element wird benutzt\""
     ]
    },
    {
     "name": "stdout",
     "output_type": "stream",
     "text": [
      "[1] 0.8829371\n"
     ]
    },
    {
     "name": "stderr",
     "output_type": "stream",
     "text": [
      "Warning message in if (nTrain * bag.fraction <= 2 * n.minobsinnode + 1) {:\n",
      "\"Bedingung hat Länge > 1 und nur das erste Element wird benutzt\"Warning message in if (nTrain * bag.fraction <= 2 * n.minobsinnode + 1) {:\n",
      "\"Bedingung hat Länge > 1 und nur das erste Element wird benutzt\"Warning message in if (nTrain * bag.fraction <= 2 * n.minobsinnode + 1) {:\n",
      "\"Bedingung hat Länge > 1 und nur das erste Element wird benutzt\"Warning message in if (nTrain * bag.fraction <= 2 * n.minobsinnode + 1) {:\n",
      "\"Bedingung hat Länge > 1 und nur das erste Element wird benutzt\"Warning message in if (nTrain * bag.fraction <= 2 * n.minobsinnode + 1) {:\n",
      "\"Bedingung hat Länge > 1 und nur das erste Element wird benutzt\"Warning message in if (nTrain * bag.fraction <= 2 * n.minobsinnode + 1) {:\n",
      "\"Bedingung hat Länge > 1 und nur das erste Element wird benutzt\"Warning message in if (nTrain * bag.fraction <= 2 * n.minobsinnode + 1) {:\n",
      "\"Bedingung hat Länge > 1 und nur das erste Element wird benutzt\"Warning message in if (nTrain * bag.fraction <= 2 * n.minobsinnode + 1) {:\n",
      "\"Bedingung hat Länge > 1 und nur das erste Element wird benutzt\"Warning message in if (nTrain * bag.fraction <= 2 * n.minobsinnode + 1) {:\n",
      "\"Bedingung hat Länge > 1 und nur das erste Element wird benutzt\"Warning message in if (nTrain * bag.fraction <= 2 * n.minobsinnode + 1) {:\n",
      "\"Bedingung hat Länge > 1 und nur das erste Element wird benutzt\""
     ]
    },
    {
     "name": "stdout",
     "output_type": "stream",
     "text": [
      "[1] 0.8983117\n"
     ]
    },
    {
     "name": "stderr",
     "output_type": "stream",
     "text": [
      "Warning message in if (nTrain * bag.fraction <= 2 * n.minobsinnode + 1) {:\n",
      "\"Bedingung hat Länge > 1 und nur das erste Element wird benutzt\"Warning message in if (nTrain * bag.fraction <= 2 * n.minobsinnode + 1) {:\n",
      "\"Bedingung hat Länge > 1 und nur das erste Element wird benutzt\"Warning message in if (nTrain * bag.fraction <= 2 * n.minobsinnode + 1) {:\n",
      "\"Bedingung hat Länge > 1 und nur das erste Element wird benutzt\"Warning message in if (nTrain * bag.fraction <= 2 * n.minobsinnode + 1) {:\n",
      "\"Bedingung hat Länge > 1 und nur das erste Element wird benutzt\"Warning message in if (nTrain * bag.fraction <= 2 * n.minobsinnode + 1) {:\n",
      "\"Bedingung hat Länge > 1 und nur das erste Element wird benutzt\"Warning message in if (nTrain * bag.fraction <= 2 * n.minobsinnode + 1) {:\n",
      "\"Bedingung hat Länge > 1 und nur das erste Element wird benutzt\"Warning message in if (nTrain * bag.fraction <= 2 * n.minobsinnode + 1) {:\n",
      "\"Bedingung hat Länge > 1 und nur das erste Element wird benutzt\"Warning message in if (nTrain * bag.fraction <= 2 * n.minobsinnode + 1) {:\n",
      "\"Bedingung hat Länge > 1 und nur das erste Element wird benutzt\"Warning message in if (nTrain * bag.fraction <= 2 * n.minobsinnode + 1) {:\n",
      "\"Bedingung hat Länge > 1 und nur das erste Element wird benutzt\"Warning message in if (nTrain * bag.fraction <= 2 * n.minobsinnode + 1) {:\n",
      "\"Bedingung hat Länge > 1 und nur das erste Element wird benutzt\""
     ]
    },
    {
     "name": "stdout",
     "output_type": "stream",
     "text": [
      "[1] 0.8884915\n"
     ]
    },
    {
     "name": "stderr",
     "output_type": "stream",
     "text": [
      "Warning message in if (nTrain * bag.fraction <= 2 * n.minobsinnode + 1) {:\n",
      "\"Bedingung hat Länge > 1 und nur das erste Element wird benutzt\"Warning message in if (nTrain * bag.fraction <= 2 * n.minobsinnode + 1) {:\n",
      "\"Bedingung hat Länge > 1 und nur das erste Element wird benutzt\"Warning message in if (nTrain * bag.fraction <= 2 * n.minobsinnode + 1) {:\n",
      "\"Bedingung hat Länge > 1 und nur das erste Element wird benutzt\"Warning message in if (nTrain * bag.fraction <= 2 * n.minobsinnode + 1) {:\n",
      "\"Bedingung hat Länge > 1 und nur das erste Element wird benutzt\"Warning message in if (nTrain * bag.fraction <= 2 * n.minobsinnode + 1) {:\n",
      "\"Bedingung hat Länge > 1 und nur das erste Element wird benutzt\"Warning message in if (nTrain * bag.fraction <= 2 * n.minobsinnode + 1) {:\n",
      "\"Bedingung hat Länge > 1 und nur das erste Element wird benutzt\"Warning message in if (nTrain * bag.fraction <= 2 * n.minobsinnode + 1) {:\n",
      "\"Bedingung hat Länge > 1 und nur das erste Element wird benutzt\"Warning message in if (nTrain * bag.fraction <= 2 * n.minobsinnode + 1) {:\n",
      "\"Bedingung hat Länge > 1 und nur das erste Element wird benutzt\"Warning message in if (nTrain * bag.fraction <= 2 * n.minobsinnode + 1) {:\n",
      "\"Bedingung hat Länge > 1 und nur das erste Element wird benutzt\"Warning message in if (nTrain * bag.fraction <= 2 * n.minobsinnode + 1) {:\n",
      "\"Bedingung hat Länge > 1 und nur das erste Element wird benutzt\""
     ]
    },
    {
     "name": "stdout",
     "output_type": "stream",
     "text": [
      "[1] 0.893017\n"
     ]
    },
    {
     "name": "stderr",
     "output_type": "stream",
     "text": [
      "Warning message in if (nTrain * bag.fraction <= 2 * n.minobsinnode + 1) {:\n",
      "\"Bedingung hat Länge > 1 und nur das erste Element wird benutzt\"Warning message in if (nTrain * bag.fraction <= 2 * n.minobsinnode + 1) {:\n",
      "\"Bedingung hat Länge > 1 und nur das erste Element wird benutzt\"Warning message in if (nTrain * bag.fraction <= 2 * n.minobsinnode + 1) {:\n",
      "\"Bedingung hat Länge > 1 und nur das erste Element wird benutzt\"Warning message in if (nTrain * bag.fraction <= 2 * n.minobsinnode + 1) {:\n",
      "\"Bedingung hat Länge > 1 und nur das erste Element wird benutzt\"Warning message in if (nTrain * bag.fraction <= 2 * n.minobsinnode + 1) {:\n",
      "\"Bedingung hat Länge > 1 und nur das erste Element wird benutzt\"Warning message in if (nTrain * bag.fraction <= 2 * n.minobsinnode + 1) {:\n",
      "\"Bedingung hat Länge > 1 und nur das erste Element wird benutzt\"Warning message in if (nTrain * bag.fraction <= 2 * n.minobsinnode + 1) {:\n",
      "\"Bedingung hat Länge > 1 und nur das erste Element wird benutzt\"Warning message in if (nTrain * bag.fraction <= 2 * n.minobsinnode + 1) {:\n",
      "\"Bedingung hat Länge > 1 und nur das erste Element wird benutzt\"Warning message in if (nTrain * bag.fraction <= 2 * n.minobsinnode + 1) {:\n",
      "\"Bedingung hat Länge > 1 und nur das erste Element wird benutzt\"Warning message in if (nTrain * bag.fraction <= 2 * n.minobsinnode + 1) {:\n",
      "\"Bedingung hat Länge > 1 und nur das erste Element wird benutzt\""
     ]
    },
    {
     "name": "stdout",
     "output_type": "stream",
     "text": [
      "[1] 0.8889011\n"
     ]
    },
    {
     "name": "stderr",
     "output_type": "stream",
     "text": [
      "Warning message in if (nTrain * bag.fraction <= 2 * n.minobsinnode + 1) {:\n",
      "\"Bedingung hat Länge > 1 und nur das erste Element wird benutzt\"Warning message in if (nTrain * bag.fraction <= 2 * n.minobsinnode + 1) {:\n",
      "\"Bedingung hat Länge > 1 und nur das erste Element wird benutzt\"Warning message in if (nTrain * bag.fraction <= 2 * n.minobsinnode + 1) {:\n",
      "\"Bedingung hat Länge > 1 und nur das erste Element wird benutzt\"Warning message in if (nTrain * bag.fraction <= 2 * n.minobsinnode + 1) {:\n",
      "\"Bedingung hat Länge > 1 und nur das erste Element wird benutzt\"Warning message in if (nTrain * bag.fraction <= 2 * n.minobsinnode + 1) {:\n",
      "\"Bedingung hat Länge > 1 und nur das erste Element wird benutzt\"Warning message in if (nTrain * bag.fraction <= 2 * n.minobsinnode + 1) {:\n",
      "\"Bedingung hat Länge > 1 und nur das erste Element wird benutzt\"Warning message in if (nTrain * bag.fraction <= 2 * n.minobsinnode + 1) {:\n",
      "\"Bedingung hat Länge > 1 und nur das erste Element wird benutzt\"Warning message in if (nTrain * bag.fraction <= 2 * n.minobsinnode + 1) {:\n",
      "\"Bedingung hat Länge > 1 und nur das erste Element wird benutzt\"Warning message in if (nTrain * bag.fraction <= 2 * n.minobsinnode + 1) {:\n",
      "\"Bedingung hat Länge > 1 und nur das erste Element wird benutzt\"Warning message in if (nTrain * bag.fraction <= 2 * n.minobsinnode + 1) {:\n",
      "\"Bedingung hat Länge > 1 und nur das erste Element wird benutzt\""
     ]
    },
    {
     "name": "stdout",
     "output_type": "stream",
     "text": [
      "[1] 0.8926573\n"
     ]
    },
    {
     "name": "stderr",
     "output_type": "stream",
     "text": [
      "Warning message in if (nTrain * bag.fraction <= 2 * n.minobsinnode + 1) {:\n",
      "\"Bedingung hat Länge > 1 und nur das erste Element wird benutzt\"Warning message in if (nTrain * bag.fraction <= 2 * n.minobsinnode + 1) {:\n",
      "\"Bedingung hat Länge > 1 und nur das erste Element wird benutzt\"Warning message in if (nTrain * bag.fraction <= 2 * n.minobsinnode + 1) {:\n",
      "\"Bedingung hat Länge > 1 und nur das erste Element wird benutzt\"Warning message in if (nTrain * bag.fraction <= 2 * n.minobsinnode + 1) {:\n",
      "\"Bedingung hat Länge > 1 und nur das erste Element wird benutzt\"Warning message in if (nTrain * bag.fraction <= 2 * n.minobsinnode + 1) {:\n",
      "\"Bedingung hat Länge > 1 und nur das erste Element wird benutzt\"Warning message in if (nTrain * bag.fraction <= 2 * n.minobsinnode + 1) {:\n",
      "\"Bedingung hat Länge > 1 und nur das erste Element wird benutzt\"Warning message in if (nTrain * bag.fraction <= 2 * n.minobsinnode + 1) {:\n",
      "\"Bedingung hat Länge > 1 und nur das erste Element wird benutzt\"Warning message in if (nTrain * bag.fraction <= 2 * n.minobsinnode + 1) {:\n",
      "\"Bedingung hat Länge > 1 und nur das erste Element wird benutzt\"Warning message in if (nTrain * bag.fraction <= 2 * n.minobsinnode + 1) {:\n",
      "\"Bedingung hat Länge > 1 und nur das erste Element wird benutzt\"Warning message in if (nTrain * bag.fraction <= 2 * n.minobsinnode + 1) {:\n",
      "\"Bedingung hat Länge > 1 und nur das erste Element wird benutzt\""
     ]
    },
    {
     "name": "stdout",
     "output_type": "stream",
     "text": [
      "[1] 0.8876224\n",
      "# A tibble: 150 x 4\n",
      "     auc n.trees interaction.depth n.minobsinnode\n",
      "   <dbl>   <dbl>             <dbl>          <dbl>\n",
      " 1 0.920      10                10              5\n",
      " 2 0.920      50                 1             25\n",
      " 3 0.919     100                 1              5\n",
      " 4 0.918      50                 2             25\n",
      " 5 0.917      50                 1             10\n",
      " 6 0.916      50                 1              1\n",
      " 7 0.915      50                 1              5\n",
      " 8 0.914      50                 6              5\n",
      " 9 0.914     200                 1             25\n",
      "10 0.913     100                 1              1\n",
      "# ... with 140 more rows\n"
     ]
    }
   ],
   "source": [
    "library(caret)\n",
    "library(MLmetrics)\n",
    "library(tidyverse)\n",
    "library(magrittr)\n",
    "library(gbm)\n",
    "source(\"helpers.r\")\n",
    "\n",
    "\n",
    "df <- get_training_df_clean()\n",
    "\n",
    "\n",
    "set.seed(25)\n",
    "number_of_folds <- 10\n",
    "folds <- createFolds(df$target, k = number_of_folds)\n",
    "\n",
    "\n",
    "\n",
    "\n",
    "\n",
    "calculate_auc <- function(fold_index, n.trees, interaction.depth, n.minobsinnodes) {\n",
    "\n",
    "  \n",
    "  training <- df[-folds[[fold_index]],]\n",
    "  test <- df[folds[[fold_index]],]\n",
    "  \n",
    "  training$target <- ifelse(training$target == \"no_disease\", 0, 1)\n",
    "  \n",
    "  fit <- gbm(target ~ ., data = training, distribution = \"bernoulli\",\n",
    "             n.trees = n.trees, interaction.depth = interaction.depth,\n",
    "             n.minobsinnode = n.minobsinnodes)\n",
    "  \n",
    "\n",
    "\n",
    "  y_probabilities <- predict(fit, test, type = \"response\", n.trees = n.trees)\n",
    "  \n",
    "  y_true <- ifelse(test$target == \"no_disease\", 0, 1)\n",
    "  \n",
    "  \n",
    "\n",
    "  \n",
    "  return(AUC(y_true = y_true, y_pred = y_probabilities))\n",
    "}\n",
    "\n",
    "\n",
    "f <- function(n.trees, interaction.depth, n.minobsinnodes) {\n",
    "\n",
    "\n",
    "  \n",
    "  auc <- vector(mode = \"numeric\", length = number_of_folds)\n",
    "\n",
    "  \n",
    "  for(i in 1:number_of_folds) {\n",
    "    auc[i] <-  calculate_auc(i, n.trees, interaction.depth, n.minobsinnodes)\n",
    "  }\n",
    "\n",
    "\n",
    "\n",
    "  return(mean(auc))\n",
    "  \n",
    "}\n",
    "\n",
    "\n",
    "result <- tibble(auc = vector(mode = \"numeric\"),\n",
    "                 n.trees = vector(mode = \"numeric\"),\n",
    "                 interaction.depth = vector(mode = \"numeric\"),\n",
    "                 n.minobsinnode = vector(mode = \"numeric\"))\n",
    "\n",
    "\n",
    "n.treess = c(10, 50, 100, 150, 200)\n",
    "interaction.depths = c(1, 2, 4, 6, 8, 10)\n",
    "n.minobsinnodes = c(1, 5, 10, 15, 25)\n",
    "\n",
    "for(n.trees in n.treess) {\n",
    "  for(interaction.depth in interaction.depths){\n",
    "    for(n.minobsinnode in n.minobsinnodes) {\n",
    "\n",
    "      \n",
    "        \n",
    "         auc <- f(n.trees, interaction.depth, n.minobsinnodes)\n",
    "        result %<>%\n",
    "          add_row(auc = auc,\n",
    "                  n.trees = n.trees,\n",
    "                  interaction.depth = interaction.depth,\n",
    "                  n.minobsinnode = n.minobsinnode)\n",
    "\n",
    "        print(auc)\n",
    "      }\n",
    "    }\n",
    "  }\n",
    "\n",
    "\n",
    "\n",
    "\n",
    "print(result %>%\n",
    "        arrange(desc(auc)))\n",
    "\n",
    "\n",
    "\n"
   ]
  }
 ],
 "metadata": {
  "kernelspec": {
   "display_name": "R",
   "language": "R",
   "name": "ir"
  },
  "language_info": {
   "codemirror_mode": "r",
   "file_extension": ".r",
   "mimetype": "text/x-r-source",
   "name": "R",
   "pygments_lexer": "r",
   "version": "3.6.0"
  }
 },
 "nbformat": 4,
 "nbformat_minor": 2
}
