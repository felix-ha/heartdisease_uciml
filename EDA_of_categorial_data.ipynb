{
 "cells": [
  {
   "cell_type": "markdown",
   "metadata": {},
   "source": [
    "# EDA of categorial data\n",
    "\n",
    "Summary:  There is no evidence for`fbs`and  `restecg`, but for `sex`, `exang`, `cp`, `slope`, `thal`."
   ]
  },
  {
   "cell_type": "code",
   "execution_count": 1,
   "metadata": {},
   "outputs": [
    {
     "name": "stderr",
     "output_type": "stream",
     "text": [
      "Warning message:\n",
      "\"package 'tidyverse' was built under R version 3.6.1\"Registered S3 methods overwritten by 'ggplot2':\n",
      "  method         from \n",
      "  [.quosures     rlang\n",
      "  c.quosures     rlang\n",
      "  print.quosures rlang\n",
      "-- Attaching packages --------------------------------------- tidyverse 1.2.1 --\n",
      "v ggplot2 3.1.1       v purrr   0.3.2  \n",
      "v tibble  2.1.1       v dplyr   0.8.0.1\n",
      "v tidyr   0.8.3       v stringr 1.4.0  \n",
      "v readr   1.3.1       v forcats 0.4.0  \n",
      "-- Conflicts ------------------------------------------ tidyverse_conflicts() --\n",
      "x dplyr::filter() masks stats::filter()\n",
      "x dplyr::lag()    masks stats::lag()\n",
      "Warning message:\n",
      "\"package 'caret' was built under R version 3.6.1\"Loading required package: lattice\n",
      "\n",
      "Attaching package: 'caret'\n",
      "\n",
      "The following object is masked from 'package:purrr':\n",
      "\n",
      "    lift\n",
      "\n",
      "Parsed with column specification:\n",
      "cols(\n",
      "  age = col_double(),\n",
      "  sex = col_double(),\n",
      "  cp = col_double(),\n",
      "  trestbps = col_double(),\n",
      "  chol = col_double(),\n",
      "  fbs = col_double(),\n",
      "  restecg = col_double(),\n",
      "  thalach = col_double(),\n",
      "  exang = col_double(),\n",
      "  oldpeak = col_double(),\n",
      "  slope = col_double(),\n",
      "  ca = col_double(),\n",
      "  thal = col_double(),\n",
      "  target = col_double()\n",
      ")\n"
     ]
    }
   ],
   "source": [
    "source(\"helpers.r\")\n",
    "df <- get_training_df()"
   ]
  },
  {
   "cell_type": "markdown",
   "metadata": {},
   "source": [
    "## `sex`"
   ]
  },
  {
   "cell_type": "code",
   "execution_count": 2,
   "metadata": {},
   "outputs": [
    {
     "data": {
      "text/html": [
       "<table>\n",
       "<thead><tr><th scope=col>sex</th><th scope=col>n</th></tr></thead>\n",
       "<tbody>\n",
       "\t<tr><td>Female</td><td> 77   </td></tr>\n",
       "\t<tr><td>Male  </td><td>166   </td></tr>\n",
       "</tbody>\n",
       "</table>\n"
      ],
      "text/latex": [
       "\\begin{tabular}{r|ll}\n",
       " sex & n\\\\\n",
       "\\hline\n",
       "\t Female &  77   \\\\\n",
       "\t Male   & 166   \\\\\n",
       "\\end{tabular}\n"
      ],
      "text/markdown": [
       "\n",
       "| sex | n |\n",
       "|---|---|\n",
       "| Female |  77    |\n",
       "| Male   | 166    |\n",
       "\n"
      ],
      "text/plain": [
       "  sex    n  \n",
       "1 Female  77\n",
       "2 Male   166"
      ]
     },
     "metadata": {},
     "output_type": "display_data"
    }
   ],
   "source": [
    "df %>% count(sex)"
   ]
  },
  {
   "cell_type": "code",
   "execution_count": 3,
   "metadata": {},
   "outputs": [
    {
     "data": {
      "text/plain": [
       "        \n",
       "         no_disease disease\n",
       "  Female         20      57\n",
       "  Male           91      75"
      ]
     },
     "metadata": {},
     "output_type": "display_data"
    }
   ],
   "source": [
    "(table_absolute <- table(df$sex, df$target))"
   ]
  },
  {
   "cell_type": "code",
   "execution_count": 4,
   "metadata": {},
   "outputs": [
    {
     "data": {
      "text/plain": [
       "        \n",
       "         no_disease disease\n",
       "  Female       0.08    0.23\n",
       "  Male         0.37    0.31"
      ]
     },
     "metadata": {},
     "output_type": "display_data"
    }
   ],
   "source": [
    "round((table_relative <- prop.table(table_absolute)), 2)"
   ]
  },
  {
   "cell_type": "code",
   "execution_count": 5,
   "metadata": {},
   "outputs": [
    {
     "data": {
      "text/plain": [
       "        \n",
       "         no_disease disease\n",
       "  Female       0.26    0.74\n",
       "  Male         0.55    0.45"
      ]
     },
     "metadata": {},
     "output_type": "display_data"
    }
   ],
   "source": [
    "round((table_relative <- prop.table(table_absolute, 1)), 2)"
   ]
  },
  {
   "cell_type": "markdown",
   "metadata": {},
   "source": [
    "Female could be a predictor. "
   ]
  },
  {
   "cell_type": "markdown",
   "metadata": {},
   "source": [
    "## `fbs`  fasting blood sugar > 120 mg/dl"
   ]
  },
  {
   "cell_type": "code",
   "execution_count": 6,
   "metadata": {},
   "outputs": [
    {
     "data": {
      "text/html": [
       "<table>\n",
       "<thead><tr><th scope=col>fbs</th><th scope=col>n</th></tr></thead>\n",
       "<tbody>\n",
       "\t<tr><td>no </td><td>202</td></tr>\n",
       "\t<tr><td>yes</td><td> 41</td></tr>\n",
       "</tbody>\n",
       "</table>\n"
      ],
      "text/latex": [
       "\\begin{tabular}{r|ll}\n",
       " fbs & n\\\\\n",
       "\\hline\n",
       "\t no  & 202\\\\\n",
       "\t yes &  41\\\\\n",
       "\\end{tabular}\n"
      ],
      "text/markdown": [
       "\n",
       "| fbs | n |\n",
       "|---|---|\n",
       "| no  | 202 |\n",
       "| yes |  41 |\n",
       "\n"
      ],
      "text/plain": [
       "  fbs n  \n",
       "1 no  202\n",
       "2 yes  41"
      ]
     },
     "metadata": {},
     "output_type": "display_data"
    }
   ],
   "source": [
    "df %>% count(fbs)"
   ]
  },
  {
   "cell_type": "code",
   "execution_count": 7,
   "metadata": {},
   "outputs": [
    {
     "data": {
      "text/plain": [
       "     \n",
       "      no_disease disease\n",
       "  no          91     111\n",
       "  yes         20      21"
      ]
     },
     "metadata": {},
     "output_type": "display_data"
    }
   ],
   "source": [
    "(table_absolute <- table(df$fbs, df$target))"
   ]
  },
  {
   "cell_type": "code",
   "execution_count": 8,
   "metadata": {},
   "outputs": [
    {
     "data": {
      "text/plain": [
       "     \n",
       "      no_disease disease\n",
       "  no        0.37    0.46\n",
       "  yes       0.08    0.09"
      ]
     },
     "metadata": {},
     "output_type": "display_data"
    }
   ],
   "source": [
    "round((table_relative <- prop.table(table_absolute)), 2)"
   ]
  },
  {
   "cell_type": "code",
   "execution_count": 9,
   "metadata": {},
   "outputs": [
    {
     "data": {
      "text/plain": [
       "     \n",
       "      no_disease disease\n",
       "  no        0.45    0.55\n",
       "  yes       0.49    0.51"
      ]
     },
     "metadata": {},
     "output_type": "display_data"
    }
   ],
   "source": [
    "round((table_relative <- prop.table(table_absolute, 1)), 2)"
   ]
  },
  {
   "cell_type": "markdown",
   "metadata": {},
   "source": [
    "No evidence for fbs. "
   ]
  },
  {
   "cell_type": "markdown",
   "metadata": {},
   "source": [
    "## `exang`  exercise induced angina"
   ]
  },
  {
   "cell_type": "code",
   "execution_count": 10,
   "metadata": {},
   "outputs": [
    {
     "data": {
      "text/html": [
       "<table>\n",
       "<thead><tr><th scope=col>exang</th><th scope=col>n</th></tr></thead>\n",
       "<tbody>\n",
       "\t<tr><td>no </td><td>162</td></tr>\n",
       "\t<tr><td>yes</td><td> 81</td></tr>\n",
       "</tbody>\n",
       "</table>\n"
      ],
      "text/latex": [
       "\\begin{tabular}{r|ll}\n",
       " exang & n\\\\\n",
       "\\hline\n",
       "\t no  & 162\\\\\n",
       "\t yes &  81\\\\\n",
       "\\end{tabular}\n"
      ],
      "text/markdown": [
       "\n",
       "| exang | n |\n",
       "|---|---|\n",
       "| no  | 162 |\n",
       "| yes |  81 |\n",
       "\n"
      ],
      "text/plain": [
       "  exang n  \n",
       "1 no    162\n",
       "2 yes    81"
      ]
     },
     "metadata": {},
     "output_type": "display_data"
    }
   ],
   "source": [
    "df %>% count(exang)"
   ]
  },
  {
   "cell_type": "code",
   "execution_count": 11,
   "metadata": {},
   "outputs": [
    {
     "data": {
      "text/plain": [
       "     \n",
       "      no_disease disease\n",
       "  no          49     113\n",
       "  yes         62      19"
      ]
     },
     "metadata": {},
     "output_type": "display_data"
    }
   ],
   "source": [
    "(table_absolute <- table(df$exang, df$target))"
   ]
  },
  {
   "cell_type": "code",
   "execution_count": 12,
   "metadata": {},
   "outputs": [
    {
     "data": {
      "text/plain": [
       "     \n",
       "      no_disease disease\n",
       "  no        0.20    0.47\n",
       "  yes       0.26    0.08"
      ]
     },
     "metadata": {},
     "output_type": "display_data"
    }
   ],
   "source": [
    "round((table_relative <- prop.table(table_absolute)), 2)"
   ]
  },
  {
   "cell_type": "code",
   "execution_count": 13,
   "metadata": {},
   "outputs": [
    {
     "data": {
      "text/plain": [
       "     \n",
       "      no_disease disease\n",
       "  no        0.30    0.70\n",
       "  yes       0.77    0.23"
      ]
     },
     "metadata": {},
     "output_type": "display_data"
    }
   ],
   "source": [
    "round((table_relative <- prop.table(table_absolute, 1)), 2)"
   ]
  },
  {
   "cell_type": "markdown",
   "metadata": {},
   "source": [
    "exang could be a predictor. "
   ]
  },
  {
   "cell_type": "markdown",
   "metadata": {},
   "source": [
    "## restecg: resting electrocardiographic results"
   ]
  },
  {
   "cell_type": "code",
   "execution_count": 14,
   "metadata": {},
   "outputs": [
    {
     "data": {
      "text/html": [
       "<table>\n",
       "<thead><tr><th scope=col>restecg</th><th scope=col>n</th></tr></thead>\n",
       "<tbody>\n",
       "\t<tr><td>normal         </td><td>115            </td></tr>\n",
       "\t<tr><td>ST-T_abnormalty</td><td>124            </td></tr>\n",
       "\t<tr><td>hypertrophy    </td><td>  4            </td></tr>\n",
       "</tbody>\n",
       "</table>\n"
      ],
      "text/latex": [
       "\\begin{tabular}{r|ll}\n",
       " restecg & n\\\\\n",
       "\\hline\n",
       "\t normal          & 115            \\\\\n",
       "\t ST-T\\_abnormalty & 124              \\\\\n",
       "\t hypertrophy     &   4            \\\\\n",
       "\\end{tabular}\n"
      ],
      "text/markdown": [
       "\n",
       "| restecg | n |\n",
       "|---|---|\n",
       "| normal          | 115             |\n",
       "| ST-T_abnormalty | 124             |\n",
       "| hypertrophy     |   4             |\n",
       "\n"
      ],
      "text/plain": [
       "  restecg         n  \n",
       "1 normal          115\n",
       "2 ST-T_abnormalty 124\n",
       "3 hypertrophy       4"
      ]
     },
     "metadata": {},
     "output_type": "display_data"
    }
   ],
   "source": [
    "df %>% count(restecg)"
   ]
  },
  {
   "cell_type": "code",
   "execution_count": 15,
   "metadata": {},
   "outputs": [
    {
     "data": {
      "text/plain": [
       "                 \n",
       "                  no_disease disease\n",
       "  normal                  61      54\n",
       "  ST-T_abnormalty         47      77\n",
       "  hypertrophy              3       1"
      ]
     },
     "metadata": {},
     "output_type": "display_data"
    }
   ],
   "source": [
    "(table_absolute <- table(df$restecg, df$target))"
   ]
  },
  {
   "cell_type": "code",
   "execution_count": 16,
   "metadata": {},
   "outputs": [
    {
     "data": {
      "text/plain": [
       "                 \n",
       "                  no_disease disease\n",
       "  normal                0.25    0.22\n",
       "  ST-T_abnormalty       0.19    0.32\n",
       "  hypertrophy           0.01    0.00"
      ]
     },
     "metadata": {},
     "output_type": "display_data"
    }
   ],
   "source": [
    "round((table_relative <- prop.table(table_absolute)), 2)"
   ]
  },
  {
   "cell_type": "code",
   "execution_count": 17,
   "metadata": {},
   "outputs": [
    {
     "data": {
      "text/plain": [
       "                 \n",
       "                  no_disease disease\n",
       "  normal                0.53    0.47\n",
       "  ST-T_abnormalty       0.38    0.62\n",
       "  hypertrophy           0.75    0.25"
      ]
     },
     "metadata": {},
     "output_type": "display_data"
    }
   ],
   "source": [
    "round((table_relative <- prop.table(table_absolute, 1)), 2)"
   ]
  },
  {
   "cell_type": "markdown",
   "metadata": {},
   "source": [
    "No evidence for restecg."
   ]
  },
  {
   "cell_type": "markdown",
   "metadata": {},
   "source": [
    "## `cp`: chest pain type"
   ]
  },
  {
   "cell_type": "code",
   "execution_count": 18,
   "metadata": {},
   "outputs": [
    {
     "data": {
      "text/html": [
       "<table>\n",
       "<thead><tr><th scope=col>cp</th><th scope=col>n</th></tr></thead>\n",
       "<tbody>\n",
       "\t<tr><td>typical_angina  </td><td>114             </td></tr>\n",
       "\t<tr><td>atypical_angina </td><td> 41             </td></tr>\n",
       "\t<tr><td>non-anginal_pain</td><td> 69             </td></tr>\n",
       "\t<tr><td>asymptomatic    </td><td> 19             </td></tr>\n",
       "</tbody>\n",
       "</table>\n"
      ],
      "text/latex": [
       "\\begin{tabular}{r|ll}\n",
       " cp & n\\\\\n",
       "\\hline\n",
       "\t typical\\_angina   & 114               \\\\\n",
       "\t atypical\\_angina  &  41               \\\\\n",
       "\t non-anginal\\_pain &  69               \\\\\n",
       "\t asymptomatic     &  19             \\\\\n",
       "\\end{tabular}\n"
      ],
      "text/markdown": [
       "\n",
       "| cp | n |\n",
       "|---|---|\n",
       "| typical_angina   | 114              |\n",
       "| atypical_angina  |  41              |\n",
       "| non-anginal_pain |  69              |\n",
       "| asymptomatic     |  19              |\n",
       "\n"
      ],
      "text/plain": [
       "  cp               n  \n",
       "1 typical_angina   114\n",
       "2 atypical_angina   41\n",
       "3 non-anginal_pain  69\n",
       "4 asymptomatic      19"
      ]
     },
     "metadata": {},
     "output_type": "display_data"
    }
   ],
   "source": [
    "df %>% count(cp)"
   ]
  },
  {
   "cell_type": "code",
   "execution_count": 19,
   "metadata": {},
   "outputs": [
    {
     "data": {
      "text/plain": [
       "                  \n",
       "                   no_disease disease\n",
       "  typical_angina           84      30\n",
       "  atypical_angina           8      33\n",
       "  non-anginal_pain         14      55\n",
       "  asymptomatic              5      14"
      ]
     },
     "metadata": {},
     "output_type": "display_data"
    }
   ],
   "source": [
    "(table_absolute <- table(df$cp, df$target))"
   ]
  },
  {
   "cell_type": "code",
   "execution_count": 20,
   "metadata": {
    "scrolled": true
   },
   "outputs": [
    {
     "data": {
      "text/plain": [
       "                  \n",
       "                   no_disease disease\n",
       "  typical_angina         0.35    0.12\n",
       "  atypical_angina        0.03    0.14\n",
       "  non-anginal_pain       0.06    0.23\n",
       "  asymptomatic           0.02    0.06"
      ]
     },
     "metadata": {},
     "output_type": "display_data"
    }
   ],
   "source": [
    "round((table_relative <- prop.table(table_absolute)), 2)"
   ]
  },
  {
   "cell_type": "code",
   "execution_count": 21,
   "metadata": {
    "scrolled": true
   },
   "outputs": [
    {
     "data": {
      "text/plain": [
       "                  \n",
       "                   no_disease disease\n",
       "  typical_angina         0.74    0.26\n",
       "  atypical_angina        0.20    0.80\n",
       "  non-anginal_pain       0.20    0.80\n",
       "  asymptomatic           0.26    0.74"
      ]
     },
     "metadata": {},
     "output_type": "display_data"
    }
   ],
   "source": [
    "round((table_relative <- prop.table(table_absolute, 1)), 2)"
   ]
  },
  {
   "cell_type": "markdown",
   "metadata": {},
   "source": [
    "cp could be a predictor. "
   ]
  },
  {
   "cell_type": "markdown",
   "metadata": {},
   "source": [
    "## `slope`: the slope of the peak exercise ST segment"
   ]
  },
  {
   "cell_type": "code",
   "execution_count": 22,
   "metadata": {},
   "outputs": [
    {
     "data": {
      "text/html": [
       "<table>\n",
       "<thead><tr><th scope=col>slope</th><th scope=col>n</th></tr></thead>\n",
       "<tbody>\n",
       "\t<tr><td>upsloping  </td><td> 20        </td></tr>\n",
       "\t<tr><td>flat       </td><td>109        </td></tr>\n",
       "\t<tr><td>downsloping</td><td>114        </td></tr>\n",
       "</tbody>\n",
       "</table>\n"
      ],
      "text/latex": [
       "\\begin{tabular}{r|ll}\n",
       " slope & n\\\\\n",
       "\\hline\n",
       "\t upsloping   &  20        \\\\\n",
       "\t flat        & 109        \\\\\n",
       "\t downsloping & 114        \\\\\n",
       "\\end{tabular}\n"
      ],
      "text/markdown": [
       "\n",
       "| slope | n |\n",
       "|---|---|\n",
       "| upsloping   |  20         |\n",
       "| flat        | 109         |\n",
       "| downsloping | 114         |\n",
       "\n"
      ],
      "text/plain": [
       "  slope       n  \n",
       "1 upsloping    20\n",
       "2 flat        109\n",
       "3 downsloping 114"
      ]
     },
     "metadata": {},
     "output_type": "display_data"
    }
   ],
   "source": [
    "df %>% count(slope)"
   ]
  },
  {
   "cell_type": "code",
   "execution_count": 23,
   "metadata": {},
   "outputs": [
    {
     "data": {
      "text/plain": [
       "             \n",
       "              no_disease disease\n",
       "  upsloping           11       9\n",
       "  flat                73      36\n",
       "  downsloping         27      87"
      ]
     },
     "metadata": {},
     "output_type": "display_data"
    }
   ],
   "source": [
    "(table_absolute <- table(df$slope, df$target))"
   ]
  },
  {
   "cell_type": "code",
   "execution_count": 24,
   "metadata": {},
   "outputs": [
    {
     "data": {
      "text/plain": [
       "             \n",
       "              no_disease disease\n",
       "  upsloping         0.05    0.04\n",
       "  flat              0.30    0.15\n",
       "  downsloping       0.11    0.36"
      ]
     },
     "metadata": {},
     "output_type": "display_data"
    }
   ],
   "source": [
    "round((table_relative <- prop.table(table_absolute)), 2)"
   ]
  },
  {
   "cell_type": "code",
   "execution_count": 25,
   "metadata": {},
   "outputs": [
    {
     "data": {
      "text/plain": [
       "             \n",
       "              no_disease disease\n",
       "  upsloping         0.55    0.45\n",
       "  flat              0.67    0.33\n",
       "  downsloping       0.24    0.76"
      ]
     },
     "metadata": {},
     "output_type": "display_data"
    }
   ],
   "source": [
    "round((table_relative <- prop.table(table_absolute, 1)), 2)"
   ]
  },
  {
   "cell_type": "markdown",
   "metadata": {},
   "source": [
    "cp could be a predictor."
   ]
  },
  {
   "cell_type": "markdown",
   "metadata": {},
   "source": [
    "## `thal`:"
   ]
  },
  {
   "cell_type": "code",
   "execution_count": 26,
   "metadata": {},
   "outputs": [
    {
     "data": {
      "text/html": [
       "<table>\n",
       "<thead><tr><th scope=col>thal</th><th scope=col>n</th></tr></thead>\n",
       "<tbody>\n",
       "\t<tr><td>normal           </td><td>  2              </td></tr>\n",
       "\t<tr><td>fixed_defect     </td><td> 16              </td></tr>\n",
       "\t<tr><td>reversable_defect</td><td>131              </td></tr>\n",
       "\t<tr><td>?                </td><td> 94              </td></tr>\n",
       "</tbody>\n",
       "</table>\n"
      ],
      "text/latex": [
       "\\begin{tabular}{r|ll}\n",
       " thal & n\\\\\n",
       "\\hline\n",
       "\t normal            &   2              \\\\\n",
       "\t fixed\\_defect      &  16                \\\\\n",
       "\t reversable\\_defect & 131                \\\\\n",
       "\t ?                 &  94              \\\\\n",
       "\\end{tabular}\n"
      ],
      "text/markdown": [
       "\n",
       "| thal | n |\n",
       "|---|---|\n",
       "| normal            |   2               |\n",
       "| fixed_defect      |  16               |\n",
       "| reversable_defect | 131               |\n",
       "| ?                 |  94               |\n",
       "\n"
      ],
      "text/plain": [
       "  thal              n  \n",
       "1 normal              2\n",
       "2 fixed_defect       16\n",
       "3 reversable_defect 131\n",
       "4 ?                  94"
      ]
     },
     "metadata": {},
     "output_type": "display_data"
    }
   ],
   "source": [
    "df %>% count(thal)"
   ]
  },
  {
   "cell_type": "code",
   "execution_count": 27,
   "metadata": {},
   "outputs": [
    {
     "data": {
      "text/plain": [
       "                   \n",
       "                    no_disease disease\n",
       "  normal                     1       1\n",
       "  fixed_defect              11       5\n",
       "  reversable_defect         28     103\n",
       "  ?                         71      23"
      ]
     },
     "metadata": {},
     "output_type": "display_data"
    }
   ],
   "source": [
    "(table_absolute <- table(df$thal, df$target))"
   ]
  },
  {
   "cell_type": "code",
   "execution_count": 28,
   "metadata": {},
   "outputs": [
    {
     "data": {
      "text/plain": [
       "                   \n",
       "                    no_disease disease\n",
       "  normal                  0.00    0.00\n",
       "  fixed_defect            0.05    0.02\n",
       "  reversable_defect       0.12    0.42\n",
       "  ?                       0.29    0.09"
      ]
     },
     "metadata": {},
     "output_type": "display_data"
    }
   ],
   "source": [
    "round((table_relative <- prop.table(table_absolute)), 2)"
   ]
  },
  {
   "cell_type": "code",
   "execution_count": 29,
   "metadata": {},
   "outputs": [
    {
     "data": {
      "text/plain": [
       "                   \n",
       "                    no_disease disease\n",
       "  normal                  0.50    0.50\n",
       "  fixed_defect            0.69    0.31\n",
       "  reversable_defect       0.21    0.79\n",
       "  ?                       0.76    0.24"
      ]
     },
     "metadata": {},
     "output_type": "display_data"
    }
   ],
   "source": [
    "round((table_relative <- prop.table(table_absolute, 1)), 2)"
   ]
  },
  {
   "cell_type": "markdown",
   "metadata": {},
   "source": [
    "thal could be a predictor. This will be interesting, because i suspect that `thal` is wrong encoded. "
   ]
  }
 ],
 "metadata": {
  "kernelspec": {
   "display_name": "R",
   "language": "R",
   "name": "ir"
  },
  "language_info": {
   "codemirror_mode": "r",
   "file_extension": ".r",
   "mimetype": "text/x-r-source",
   "name": "R",
   "pygments_lexer": "r",
   "version": "3.6.0"
  }
 },
 "nbformat": 4,
 "nbformat_minor": 2
}
