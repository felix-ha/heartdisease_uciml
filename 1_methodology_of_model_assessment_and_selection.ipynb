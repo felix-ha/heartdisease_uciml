{
 "cells": [
  {
   "cell_type": "markdown",
   "metadata": {},
   "source": [
    "# Methodology of model assessment and selection\n",
    "\n",
    "To compare two or more models i will use auc as a metric. To estimate this quantity with confidence i use k-fold cross validation: \n",
    "\n",
    "The data set is split with a ratio of 80 to 20 into a training and a test set. The test will be untouched until the very and of the analysis. The training set then is used for the crossvalidation loop. \n",
    "\n",
    "I implemented this with the help of the *caret* package in the *helpers* script. Note that the *helpers* script loads *tidyverse* and *caret* implicit.\n"
   ]
  },
  {
   "cell_type": "code",
   "execution_count": 1,
   "metadata": {},
   "outputs": [
    {
     "name": "stderr",
     "output_type": "stream",
     "text": [
      "Warning message:\n",
      "\"package 'tidyverse' was built under R version 3.6.1\"Registered S3 methods overwritten by 'ggplot2':\n",
      "  method         from \n",
      "  [.quosures     rlang\n",
      "  c.quosures     rlang\n",
      "  print.quosures rlang\n",
      "-- Attaching packages --------------------------------------- tidyverse 1.2.1 --\n",
      "v ggplot2 3.1.1       v purrr   0.3.2  \n",
      "v tibble  2.1.1       v dplyr   0.8.0.1\n",
      "v tidyr   0.8.3       v stringr 1.4.0  \n",
      "v readr   1.3.1       v forcats 0.4.0  \n",
      "-- Conflicts ------------------------------------------ tidyverse_conflicts() --\n",
      "x dplyr::filter() masks stats::filter()\n",
      "x dplyr::lag()    masks stats::lag()\n",
      "Warning message:\n",
      "\"package 'caret' was built under R version 3.6.1\"Loading required package: lattice\n",
      "\n",
      "Attaching package: 'caret'\n",
      "\n",
      "The following object is masked from 'package:purrr':\n",
      "\n",
      "    lift\n",
      "\n",
      "Parsed with column specification:\n",
      "cols(\n",
      "  age = col_double(),\n",
      "  sex = col_double(),\n",
      "  cp = col_double(),\n",
      "  trestbps = col_double(),\n",
      "  chol = col_double(),\n",
      "  fbs = col_double(),\n",
      "  restecg = col_double(),\n",
      "  thalach = col_double(),\n",
      "  exang = col_double(),\n",
      "  oldpeak = col_double(),\n",
      "  slope = col_double(),\n",
      "  ca = col_double(),\n",
      "  thal = col_double(),\n",
      "  target = col_double()\n",
      ")\n"
     ]
    },
    {
     "name": "stdout",
     "output_type": "stream",
     "text": [
      "Observations: 243\n",
      "Variables: 14\n",
      "$ age      <dbl> 63, 37, 41, 56, 57, 56, 44, 52, 57, 54, 48, 49, 64, 58, 50...\n",
      "$ thalach  <dbl> 150, 187, 172, 178, 163, 153, 173, 162, 174, 160, 139, 171...\n",
      "$ trestbps <dbl> 145, 130, 130, 120, 120, 140, 120, 172, 150, 140, 130, 130...\n",
      "$ oldpeak  <dbl> 2.3, 3.5, 1.4, 0.8, 0.6, 1.3, 0.0, 0.5, 1.6, 1.2, 0.2, 0.6...\n",
      "$ ca       <dbl> 0, 0, 0, 0, 0, 0, 0, 0, 0, 0, 0, 0, 0, 0, 0, 0, 0, 0, 0, 0...\n",
      "$ chol     <dbl> 233, 250, 204, 236, 354, 294, 263, 199, 168, 239, 275, 266...\n",
      "$ restecg  <fct> normal, ST-T_abnormalty, normal, ST-T_abnormalty, ST-T_abn...\n",
      "$ fbs      <fct> yes, no, no, no, no, no, no, yes, no, no, no, no, no, yes,...\n",
      "$ sex      <fct> Male, Male, Female, Male, Female, Female, Male, Male, Male...\n",
      "$ exang    <fct> no, no, no, no, yes, no, no, no, no, no, no, no, yes, no, ...\n",
      "$ cp       <fct> asymptomatic, non-anginal_pain, atypical_angina, atypical_...\n",
      "$ slope    <fct> upsloping, upsloping, downsloping, downsloping, downslopin...\n",
      "$ target   <fct> disease, disease, disease, disease, disease, disease, dise...\n",
      "$ thal     <fct> fixed_defect, reversable_defect, reversable_defect, revers...\n"
     ]
    }
   ],
   "source": [
    "source(\"helpers.r\")\n",
    "df <- get_training_df()\n",
    "glimpse(df)"
   ]
  },
  {
   "cell_type": "markdown",
   "metadata": {},
   "source": [
    "The k-fold cross validation is now set up with $k = 10$. A tibble that stores the results is also prepared."
   ]
  },
  {
   "cell_type": "code",
   "execution_count": 2,
   "metadata": {},
   "outputs": [
    {
     "name": "stderr",
     "output_type": "stream",
     "text": [
      "Warning message:\n",
      "\"package 'MLmetrics' was built under R version 3.6.1\"\n",
      "Attaching package: 'MLmetrics'\n",
      "\n",
      "The following objects are masked from 'package:caret':\n",
      "\n",
      "    MAE, RMSE\n",
      "\n",
      "The following object is masked from 'package:base':\n",
      "\n",
      "    Recall\n",
      "\n",
      "\n",
      "Attaching package: 'magrittr'\n",
      "\n",
      "The following object is masked from 'package:purrr':\n",
      "\n",
      "    set_names\n",
      "\n",
      "The following object is masked from 'package:tidyr':\n",
      "\n",
      "    extract\n",
      "\n"
     ]
    },
    {
     "data": {
      "text/html": [
       "<table>\n",
       "<thead><tr><th scope=col>model</th><th scope=col>mean</th><th scope=col>median</th><th scope=col>sd</th></tr></thead>\n",
       "<tbody>\n",
       "\t<tr><td>logistic regression</td><td>0.8936314          </td><td>0.8921079          </td><td>0.06699914         </td></tr>\n",
       "</tbody>\n",
       "</table>\n"
      ],
      "text/latex": [
       "\\begin{tabular}{r|llll}\n",
       " model & mean & median & sd\\\\\n",
       "\\hline\n",
       "\t logistic regression & 0.8936314           & 0.8921079           & 0.06699914         \\\\\n",
       "\\end{tabular}\n"
      ],
      "text/markdown": [
       "\n",
       "| model | mean | median | sd |\n",
       "|---|---|---|---|\n",
       "| logistic regression | 0.8936314           | 0.8921079           | 0.06699914          |\n",
       "\n"
      ],
      "text/plain": [
       "  model               mean      median    sd        \n",
       "1 logistic regression 0.8936314 0.8921079 0.06699914"
      ]
     },
     "metadata": {},
     "output_type": "display_data"
    }
   ],
   "source": [
    "library(MLmetrics)\n",
    "library(magrittr)\n",
    "\n",
    "set.seed(25)\n",
    "number_of_folds <- 10\n",
    "folds <- createFolds(df$target, k = number_of_folds)\n",
    "model_result <- tibble(model = vector(\"character\"),\n",
    "                       auc = vector(\"numeric\"))\n",
    "\n",
    "for(fold_index in c(1:number_of_folds)){\n",
    "    training <- df[-folds[[fold_index]],]\n",
    "    test <- df[folds[[fold_index]],]\n",
    "    \n",
    "    y_true <- ifelse(test$target == \"no_disease\", 0, 1)\n",
    "    \n",
    "    fit <- glm(target ~ ., data=training, family =binomial(link = \"logit\"))\n",
    "    y_probabilities <- unname(predict(fit, test,  type=\"response\"))\n",
    "\n",
    "    auc <- AUC(y_true = y_true, y_pred = y_probabilities)\n",
    "    \n",
    "    model_result %<>%\n",
    "      add_row(model = \"logistic regression\", auc = auc)\n",
    " \n",
    "  }\n",
    "\n",
    "model_result %>%\n",
    "    group_by(model) %>%\n",
    "    summarize(mean = mean(auc),\n",
    "              median = median(auc),\n",
    "              sd = sd(auc))\n",
    "                 "
   ]
  },
  {
   "cell_type": "markdown",
   "metadata": {},
   "source": [
    "Note that i already created the tibble that is used to store the result with a column for different models. Now let's extend the cross validation loop to compare two different models:"
   ]
  },
  {
   "cell_type": "code",
   "execution_count": 3,
   "metadata": {},
   "outputs": [
    {
     "data": {
      "text/html": [
       "<table>\n",
       "<thead><tr><th scope=col>model</th><th scope=col>mean</th><th scope=col>median</th><th scope=col>sd</th></tr></thead>\n",
       "<tbody>\n",
       "\t<tr><td>decision tree      </td><td>0.8191850          </td><td>0.8198052          </td><td>0.06599059         </td></tr>\n",
       "\t<tr><td>logistic regression</td><td>0.8936314          </td><td>0.8921079          </td><td>0.06699914         </td></tr>\n",
       "</tbody>\n",
       "</table>\n"
      ],
      "text/latex": [
       "\\begin{tabular}{r|llll}\n",
       " model & mean & median & sd\\\\\n",
       "\\hline\n",
       "\t decision tree       & 0.8191850           & 0.8198052           & 0.06599059         \\\\\n",
       "\t logistic regression & 0.8936314           & 0.8921079           & 0.06699914         \\\\\n",
       "\\end{tabular}\n"
      ],
      "text/markdown": [
       "\n",
       "| model | mean | median | sd |\n",
       "|---|---|---|---|\n",
       "| decision tree       | 0.8191850           | 0.8198052           | 0.06599059          |\n",
       "| logistic regression | 0.8936314           | 0.8921079           | 0.06699914          |\n",
       "\n"
      ],
      "text/plain": [
       "  model               mean      median    sd        \n",
       "1 decision tree       0.8191850 0.8198052 0.06599059\n",
       "2 logistic regression 0.8936314 0.8921079 0.06699914"
      ]
     },
     "metadata": {},
     "output_type": "display_data"
    }
   ],
   "source": [
    "library(rpart)\n",
    "model_result <- tibble(model = vector(\"character\"),\n",
    "                       auc = vector(\"numeric\"))\n",
    "models <- c(\"logistic regression\", \"decision tree\")\n",
    "\n",
    "for(model in models){\n",
    "    for(fold_index in c(1:number_of_folds)){\n",
    "        training <- df[-folds[[fold_index]],]\n",
    "        test <- df[folds[[fold_index]],]\n",
    "\n",
    "        y_true <- ifelse(test$target == \"no_disease\", 0, 1)\n",
    "\n",
    "        if (model == \"logistic regression\") {\n",
    "          fit <- glm(target ~., data=training, family =binomial(link = \"logit\"))\n",
    "          y_probabilities <- unname(predict(fit, test,  type=\"response\"))\n",
    "        }\n",
    "        if (model == \"decision tree\"){\n",
    "          fit <- rpart(target ~., data=training, method = \"class\")\n",
    "          y_probabilities <- unname(predict(fit, test)[,2])\n",
    "        }\n",
    "\n",
    "        auc <- AUC(y_true = y_true, y_pred = y_probabilities)\n",
    "\n",
    "        model_result %<>%\n",
    "          add_row(model = model, auc = auc)\n",
    "\n",
    "      }\n",
    "}\n",
    "\n",
    "model_result %>%\n",
    "    group_by(model) %>%\n",
    "    summarize(mean = mean(auc),\n",
    "              median = median(auc),\n",
    "              sd = sd(auc))"
   ]
  },
  {
   "cell_type": "markdown",
   "metadata": {},
   "source": [
    "We can also visual inspect, that the logistic regression performs probably better than the decision tree:"
   ]
  },
  {
   "cell_type": "code",
   "execution_count": 4,
   "metadata": {},
   "outputs": [
    {
     "data": {
      "image/png": "[encoded data removed]",
      "text/plain": [
       "plot without title"
      ]
     },
     "metadata": {},
     "output_type": "display_data"
    }
   ],
   "source": [
    "model_result %>%\n",
    "    mutate(model = factor(model, levels = models)) %>%\n",
    "    ggplot(aes(x = model, y = auc))+\n",
    "    geom_boxplot()"
   ]
  },
  {
   "cell_type": "markdown",
   "metadata": {},
   "source": [
    "To really compare the models a t-test is probably useful:"
   ]
  },
  {
   "cell_type": "code",
   "execution_count": 5,
   "metadata": {},
   "outputs": [
    {
     "data": {
      "text/plain": [
       "\n",
       "\tPaired t-test\n",
       "\n",
       "data:  auc_log_reg and auc_tree\n",
       "t = 4.1435, df = 9, p-value = 0.002508\n",
       "alternative hypothesis: true difference in means is not equal to 0\n",
       "95 percent confidence interval:\n",
       " 0.0338026 0.1150902\n",
       "sample estimates:\n",
       "mean of the differences \n",
       "             0.07444639 \n"
      ]
     },
     "metadata": {},
     "output_type": "display_data"
    }
   ],
   "source": [
    "auc_log_reg <- model_result %>%\n",
    "  filter(model == \"logistic regression\")\n",
    "auc_log_reg <- auc_log_reg[, \"auc\", drop = TRUE]\n",
    "auc_tree <- model_result %>%\n",
    "  filter(model == \"decision tree\")\n",
    "auc_tree <- auc_tree[, \"auc\",  drop = TRUE]\n",
    "\n",
    "t.test(auc_log_reg, auc_tree, paired = TRUE, alternative = \"two.sided\")"
   ]
  },
  {
   "cell_type": "markdown",
   "metadata": {},
   "source": [
    "Provided that the assumption of the test setting were fulfilled, the difference of the means is significant and hence the logistic regression has a better performance. \n",
    "\n",
    "In the paper *\"Approximate Statistical Tests for Comparing Supervised Classification Learning Algorithm\"* from Thomas Dietterich, 1997 the high probability of a Type I error of this test is shown. This is because the test and training sets are not really indepentently drawn. \n",
    "\n",
    "The loop for the crossvalidation builds the baseline for my analysis and is will be extended through the process. "
   ]
  }
 ],
 "metadata": {
  "kernelspec": {
   "display_name": "R",
   "language": "R",
   "name": "ir"
  },
  "language_info": {
   "codemirror_mode": "r",
   "file_extension": ".r",
   "mimetype": "text/x-r-source",
   "name": "R",
   "pygments_lexer": "r",
   "version": "3.6.0"
  }
 },
 "nbformat": 4,
 "nbformat_minor": 2
}
