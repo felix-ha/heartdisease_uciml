{
 "cells": [
  {
   "cell_type": "markdown",
   "metadata": {},
   "source": [
    "# Model Building\n",
    "\n",
    "Let's compare the logistic regression with all variables and only the selected variables with p < 0.25 in the univariate analysis."
   ]
  },
  {
   "cell_type": "code",
   "execution_count": 1,
   "metadata": {
    "scrolled": false
   },
   "outputs": [
    {
     "name": "stderr",
     "output_type": "stream",
     "text": [
      "Warning message:\n",
      "\"package 'tidyverse' was built under R version 3.6.1\"Registered S3 methods overwritten by 'ggplot2':\n",
      "  method         from \n",
      "  [.quosures     rlang\n",
      "  c.quosures     rlang\n",
      "  print.quosures rlang\n",
      "-- Attaching packages --------------------------------------- tidyverse 1.2.1 --\n",
      "v ggplot2 3.1.1       v purrr   0.3.2  \n",
      "v tibble  2.1.1       v dplyr   0.8.0.1\n",
      "v tidyr   0.8.3       v stringr 1.4.0  \n",
      "v readr   1.3.1       v forcats 0.4.0  \n",
      "-- Conflicts ------------------------------------------ tidyverse_conflicts() --\n",
      "x dplyr::filter() masks stats::filter()\n",
      "x dplyr::lag()    masks stats::lag()\n",
      "Warning message:\n",
      "\"package 'caret' was built under R version 3.6.1\"Loading required package: lattice\n",
      "\n",
      "Attaching package: 'caret'\n",
      "\n",
      "The following object is masked from 'package:purrr':\n",
      "\n",
      "    lift\n",
      "\n",
      "Warning message:\n",
      "\"package 'MLmetrics' was built under R version 3.6.1\"\n",
      "Attaching package: 'MLmetrics'\n",
      "\n",
      "The following objects are masked from 'package:caret':\n",
      "\n",
      "    MAE, RMSE\n",
      "\n",
      "The following object is masked from 'package:base':\n",
      "\n",
      "    Recall\n",
      "\n",
      "Parsed with column specification:\n",
      "cols(\n",
      "  age = col_double(),\n",
      "  sex = col_double(),\n",
      "  cp = col_double(),\n",
      "  trestbps = col_double(),\n",
      "  chol = col_double(),\n",
      "  fbs = col_double(),\n",
      "  restecg = col_double(),\n",
      "  thalach = col_double(),\n",
      "  exang = col_double(),\n",
      "  oldpeak = col_double(),\n",
      "  slope = col_double(),\n",
      "  ca = col_double(),\n",
      "  thal = col_double(),\n",
      "  target = col_double()\n",
      ")\n",
      "Parsed with column specification:\n",
      "cols(\n",
      "  age = col_double(),\n",
      "  sex = col_double(),\n",
      "  cp = col_double(),\n",
      "  trestbps = col_double(),\n",
      "  chol = col_double(),\n",
      "  fbs = col_double(),\n",
      "  restecg = col_double(),\n",
      "  thalach = col_double(),\n",
      "  exang = col_double(),\n",
      "  oldpeak = col_double(),\n",
      "  slope = col_double(),\n",
      "  ca = col_double(),\n",
      "  thal = col_double(),\n",
      "  target = col_double()\n",
      ")\n"
     ]
    },
    {
     "data": {
      "text/html": [
       "<table>\n",
       "<thead><tr><th scope=col>model</th><th scope=col>mean</th><th scope=col>median</th><th scope=col>sd</th></tr></thead>\n",
       "<tbody>\n",
       "\t<tr><td>full model    </td><td>0.9035265     </td><td>0.9195804     </td><td>0.06323870    </td></tr>\n",
       "\t<tr><td>selected model</td><td>0.9084715     </td><td>0.9195804     </td><td>0.05731126    </td></tr>\n",
       "</tbody>\n",
       "</table>\n"
      ],
      "text/latex": [
       "\\begin{tabular}{r|llll}\n",
       " model & mean & median & sd\\\\\n",
       "\\hline\n",
       "\t full model     & 0.9035265      & 0.9195804      & 0.06323870    \\\\\n",
       "\t selected model & 0.9084715      & 0.9195804      & 0.05731126    \\\\\n",
       "\\end{tabular}\n"
      ],
      "text/markdown": [
       "\n",
       "| model | mean | median | sd |\n",
       "|---|---|---|---|\n",
       "| full model     | 0.9035265      | 0.9195804      | 0.06323870     |\n",
       "| selected model | 0.9084715      | 0.9195804      | 0.05731126     |\n",
       "\n"
      ],
      "text/plain": [
       "  model          mean      median    sd        \n",
       "1 full model     0.9035265 0.9195804 0.06323870\n",
       "2 selected model 0.9084715 0.9195804 0.05731126"
      ]
     },
     "metadata": {},
     "output_type": "display_data"
    },
    {
     "data": {
      "image/png": "[encoded data removed]",
      "text/plain": [
       "plot without title"
      ]
     },
     "metadata": {},
     "output_type": "display_data"
    }
   ],
   "source": [
    "source(\"helpers.r\")\n",
    "\n",
    "learner_A <- function(training, test) {\n",
    "  name <- \"full model\"\n",
    "\n",
    "  fit <- glm(target ~ ., data=training, family =binomial(link = \"logit\"))\n",
    "  y_probabilities <- predict(fit, test,  type=\"response\")\n",
    "  y_true <- ifelse(test$target == \"no_disease\", 0, 1)\n",
    "    \n",
    "  auc <- AUC(y_true = y_true, y_pred = y_probabilities)\n",
    "  return(list(name = name, auc = auc))\n",
    "}\n",
    "\n",
    "learner_B <- function(training, test) {\n",
    "  name <- \"selected model\"\n",
    "  \n",
    "  fit <- glm(target ~ thal + cp + oldpeak + exang +thalach + ca + slope \n",
    "             + sex + age + restecg + trestbps, data=training, family =binomial(link = \"logit\"))\n",
    "  y_probabilities <- predict(fit, test,  type=\"response\")\n",
    "  y_true <- ifelse(test$target == \"no_disease\", 0, 1)\n",
    "    \n",
    "  auc <- AUC(y_true = y_true, y_pred = y_probabilities)\n",
    "  return(list(name = name, auc = auc))\n",
    "}\n",
    "\n",
    "\n",
    "result <- cross_validation_selection(learner_A, learner_B)\n",
    "\n",
    "result$model_result %>%\n",
    "   group_by(model) %>%\n",
    "   summarize(mean = mean(auc),\n",
    "             median = median(auc),\n",
    "             sd = sd(auc))\n",
    "\n",
    "plot_result(result)"
   ]
  },
  {
   "cell_type": "markdown",
   "metadata": {},
   "source": [
    "Not a real difference in the performance. Let's compare the coefficients of the multivariate model vs the coefficients of the model fit with only one variable (yes i probably should have use a loop for this task):"
   ]
  },
  {
   "cell_type": "code",
   "execution_count": 2,
   "metadata": {},
   "outputs": [
    {
     "name": "stderr",
     "output_type": "stream",
     "text": [
      "Parsed with column specification:\n",
      "cols(\n",
      "  age = col_double(),\n",
      "  sex = col_double(),\n",
      "  cp = col_double(),\n",
      "  trestbps = col_double(),\n",
      "  chol = col_double(),\n",
      "  fbs = col_double(),\n",
      "  restecg = col_double(),\n",
      "  thalach = col_double(),\n",
      "  exang = col_double(),\n",
      "  oldpeak = col_double(),\n",
      "  slope = col_double(),\n",
      "  ca = col_double(),\n",
      "  thal = col_double(),\n",
      "  target = col_double()\n",
      ")\n"
     ]
    },
    {
     "data": {
      "text/html": [
       "<table>\n",
       "<thead><tr><th scope=col>term</th><th scope=col>estimate_multi</th><th scope=col>estimate_uni</th><th scope=col>p.value_multi</th><th scope=col>p.value_uni</th></tr></thead>\n",
       "<tbody>\n",
       "\t<tr><td>thalreversable_defect </td><td> 0.422800839          </td><td> 2.13268606           </td><td>6.608580e-01          </td><td>8.209703e-04          </td></tr>\n",
       "\t<tr><td>thal?                 </td><td>-1.465726151          </td><td>-0.36070721           </td><td>1.275931e-01          </td><td>5.781061e-01          </td></tr>\n",
       "\t<tr><td>cpatypical_angina     </td><td> 1.257834436          </td><td> 2.54091233           </td><td>6.524662e-02          </td><td>4.865328e-08          </td></tr>\n",
       "\t<tr><td>cpnon-anginal_pain    </td><td> 2.570080937          </td><td> 2.36580451           </td><td>1.783612e-05          </td><td>2.719392e-10          </td></tr>\n",
       "\t<tr><td>cpasymptomatic        </td><td> 2.122182272          </td><td> 1.57950116           </td><td>3.541295e-03          </td><td>2.127241e-03          </td></tr>\n",
       "\t<tr><td>oldpeak               </td><td>-0.599547560          </td><td>-0.97374500           </td><td>2.405477e-02          </td><td>1.000051e-09          </td></tr>\n",
       "\t<tr><td>exangyes              </td><td>-0.583493887          </td><td>-1.82502356           </td><td>2.295058e-01          </td><td>3.972891e-09          </td></tr>\n",
       "\t<tr><td>thalach               </td><td> 0.011437349          </td><td> 0.04621467           </td><td>3.452869e-01          </td><td>1.272006e-09          </td></tr>\n",
       "\t<tr><td>ca                    </td><td>-1.152046445          </td><td>-1.00825182           </td><td>1.099606e-05          </td><td>1.398668e-08          </td></tr>\n",
       "\t<tr><td>slopeflat             </td><td>-1.091363948          </td><td>-0.35065687           </td><td>2.729458e-01          </td><td>4.950140e-01          </td></tr>\n",
       "\t<tr><td>slopedownsloping      </td><td> 0.370206012          </td><td> 1.34614729           </td><td>7.318720e-01          </td><td>1.013226e-02          </td></tr>\n",
       "\t<tr><td>sexMale               </td><td>-0.916253094          </td><td>-1.31730149           </td><td>1.154903e-01          </td><td>2.541996e-05          </td></tr>\n",
       "\t<tr><td>age                   </td><td>-0.006880907          </td><td>-0.05366992           </td><td>7.890757e-01          </td><td>5.199884e-04          </td></tr>\n",
       "\t<tr><td>restecgST-T_abnormalty</td><td> 0.607036773          </td><td> 0.59748606           </td><td>1.627758e-01          </td><td>2.308172e-02          </td></tr>\n",
       "\t<tr><td>trestbps              </td><td>-0.014174117          </td><td>-0.01161381           </td><td>2.535246e-01          </td><td>1.257851e-01          </td></tr>\n",
       "</tbody>\n",
       "</table>\n"
      ],
      "text/latex": [
       "\\begin{tabular}{r|lllll}\n",
       " term & estimate\\_multi & estimate\\_uni & p.value\\_multi & p.value\\_uni\\\\\n",
       "\\hline\n",
       "\t thalreversable\\_defect  &  0.422800839             &  2.13268606              & 6.608580e-01             & 8.209703e-04            \\\\\n",
       "\t thal?                  & -1.465726151           & -0.36070721            & 1.275931e-01           & 5.781061e-01          \\\\\n",
       "\t cpatypical\\_angina      &  1.257834436             &  2.54091233              & 6.524662e-02             & 4.865328e-08            \\\\\n",
       "\t cpnon-anginal\\_pain     &  2.570080937             &  2.36580451              & 1.783612e-05             & 2.719392e-10            \\\\\n",
       "\t cpasymptomatic         &  2.122182272           &  1.57950116            & 3.541295e-03           & 2.127241e-03          \\\\\n",
       "\t oldpeak                & -0.599547560           & -0.97374500            & 2.405477e-02           & 1.000051e-09          \\\\\n",
       "\t exangyes               & -0.583493887           & -1.82502356            & 2.295058e-01           & 3.972891e-09          \\\\\n",
       "\t thalach                &  0.011437349           &  0.04621467            & 3.452869e-01           & 1.272006e-09          \\\\\n",
       "\t ca                     & -1.152046445           & -1.00825182            & 1.099606e-05           & 1.398668e-08          \\\\\n",
       "\t slopeflat              & -1.091363948           & -0.35065687            & 2.729458e-01           & 4.950140e-01          \\\\\n",
       "\t slopedownsloping       &  0.370206012           &  1.34614729            & 7.318720e-01           & 1.013226e-02          \\\\\n",
       "\t sexMale                & -0.916253094           & -1.31730149            & 1.154903e-01           & 2.541996e-05          \\\\\n",
       "\t age                    & -0.006880907           & -0.05366992            & 7.890757e-01           & 5.199884e-04          \\\\\n",
       "\t restecgST-T\\_abnormalty &  0.607036773             &  0.59748606              & 1.627758e-01             & 2.308172e-02            \\\\\n",
       "\t trestbps               & -0.014174117           & -0.01161381            & 2.535246e-01           & 1.257851e-01          \\\\\n",
       "\\end{tabular}\n"
      ],
      "text/markdown": [
       "\n",
       "| term | estimate_multi | estimate_uni | p.value_multi | p.value_uni |\n",
       "|---|---|---|---|---|\n",
       "| thalreversable_defect  |  0.422800839           |  2.13268606            | 6.608580e-01           | 8.209703e-04           |\n",
       "| thal?                  | -1.465726151           | -0.36070721            | 1.275931e-01           | 5.781061e-01           |\n",
       "| cpatypical_angina      |  1.257834436           |  2.54091233            | 6.524662e-02           | 4.865328e-08           |\n",
       "| cpnon-anginal_pain     |  2.570080937           |  2.36580451            | 1.783612e-05           | 2.719392e-10           |\n",
       "| cpasymptomatic         |  2.122182272           |  1.57950116            | 3.541295e-03           | 2.127241e-03           |\n",
       "| oldpeak                | -0.599547560           | -0.97374500            | 2.405477e-02           | 1.000051e-09           |\n",
       "| exangyes               | -0.583493887           | -1.82502356            | 2.295058e-01           | 3.972891e-09           |\n",
       "| thalach                |  0.011437349           |  0.04621467            | 3.452869e-01           | 1.272006e-09           |\n",
       "| ca                     | -1.152046445           | -1.00825182            | 1.099606e-05           | 1.398668e-08           |\n",
       "| slopeflat              | -1.091363948           | -0.35065687            | 2.729458e-01           | 4.950140e-01           |\n",
       "| slopedownsloping       |  0.370206012           |  1.34614729            | 7.318720e-01           | 1.013226e-02           |\n",
       "| sexMale                | -0.916253094           | -1.31730149            | 1.154903e-01           | 2.541996e-05           |\n",
       "| age                    | -0.006880907           | -0.05366992            | 7.890757e-01           | 5.199884e-04           |\n",
       "| restecgST-T_abnormalty |  0.607036773           |  0.59748606            | 1.627758e-01           | 2.308172e-02           |\n",
       "| trestbps               | -0.014174117           | -0.01161381            | 2.535246e-01           | 1.257851e-01           |\n",
       "\n"
      ],
      "text/plain": [
       "   term                   estimate_multi estimate_uni p.value_multi\n",
       "1  thalreversable_defect   0.422800839    2.13268606  6.608580e-01 \n",
       "2  thal?                  -1.465726151   -0.36070721  1.275931e-01 \n",
       "3  cpatypical_angina       1.257834436    2.54091233  6.524662e-02 \n",
       "4  cpnon-anginal_pain      2.570080937    2.36580451  1.783612e-05 \n",
       "5  cpasymptomatic          2.122182272    1.57950116  3.541295e-03 \n",
       "6  oldpeak                -0.599547560   -0.97374500  2.405477e-02 \n",
       "7  exangyes               -0.583493887   -1.82502356  2.295058e-01 \n",
       "8  thalach                 0.011437349    0.04621467  3.452869e-01 \n",
       "9  ca                     -1.152046445   -1.00825182  1.099606e-05 \n",
       "10 slopeflat              -1.091363948   -0.35065687  2.729458e-01 \n",
       "11 slopedownsloping        0.370206012    1.34614729  7.318720e-01 \n",
       "12 sexMale                -0.916253094   -1.31730149  1.154903e-01 \n",
       "13 age                    -0.006880907   -0.05366992  7.890757e-01 \n",
       "14 restecgST-T_abnormalty  0.607036773    0.59748606  1.627758e-01 \n",
       "15 trestbps               -0.014174117   -0.01161381  2.535246e-01 \n",
       "   p.value_uni \n",
       "1  8.209703e-04\n",
       "2  5.781061e-01\n",
       "3  4.865328e-08\n",
       "4  2.719392e-10\n",
       "5  2.127241e-03\n",
       "6  1.000051e-09\n",
       "7  3.972891e-09\n",
       "8  1.272006e-09\n",
       "9  1.398668e-08\n",
       "10 4.950140e-01\n",
       "11 1.013226e-02\n",
       "12 2.541996e-05\n",
       "13 5.199884e-04\n",
       "14 2.308172e-02\n",
       "15 1.257851e-01"
      ]
     },
     "metadata": {},
     "output_type": "display_data"
    }
   ],
   "source": [
    "library(broom)\n",
    "df  <- get_training_df_clean()\n",
    "\n",
    "fit  <- fit <- glm(target ~ thal + cp + oldpeak + exang +thalach + ca + slope \n",
    "             + sex + age + restecg + trestbps, data=df, family =binomial(link = \"logit\"))\n",
    "fit_multi  <- tidy(fit)\n",
    "\n",
    "fit_uni  <- tibble(term = vector(mode = \"character\"),\n",
    "                  estimate = vector(mode = \"numeric\"),\n",
    "                  p.value = vector(mode = \"numeric\"))\n",
    "\n",
    "fit  <- glm(target ~ thal, data=df, family =binomial(link = \"logit\"))\n",
    "fit_uni  <-  tidy(fit) %>%  \n",
    "    filter(term != \"(Intercept)\")  %>%\n",
    "    bind_rows(fit_uni)\n",
    "\n",
    "fit  <- glm(target ~ cp, data=df, family =binomial(link = \"logit\"))\n",
    "fit_uni  <-  tidy(fit) %>%  \n",
    "    filter(term != \"(Intercept)\")  %>%\n",
    "    bind_rows(fit_uni)\n",
    "\n",
    "fit  <- glm(target ~ oldpeak, data=df, family =binomial(link = \"logit\"))\n",
    "fit_uni  <-  tidy(fit) %>%  \n",
    "    filter(term != \"(Intercept)\")  %>%\n",
    "    bind_rows(fit_uni)\n",
    "\n",
    "fit  <- glm(target ~ exang, data=df, family =binomial(link = \"logit\"))\n",
    "fit_uni  <-  tidy(fit) %>%  \n",
    "    filter(term != \"(Intercept)\")  %>%\n",
    "    bind_rows(fit_uni)\n",
    "\n",
    "fit  <- glm(target ~ thalach, data=df, family =binomial(link = \"logit\"))\n",
    "fit_uni  <-  tidy(fit) %>%  \n",
    "    filter(term != \"(Intercept)\")  %>%\n",
    "    bind_rows(fit_uni)\n",
    "\n",
    "fit  <- glm(target ~ ca, data=df, family =binomial(link = \"logit\"))\n",
    "fit_uni  <-  tidy(fit) %>%  \n",
    "    filter(term != \"(Intercept)\")  %>%\n",
    "    bind_rows(fit_uni)\n",
    "\n",
    "fit  <- glm(target ~ slope, data=df, family =binomial(link = \"logit\"))\n",
    "fit_uni  <-  tidy(fit) %>%  \n",
    "    filter(term != \"(Intercept)\")  %>%\n",
    "    bind_rows(fit_uni)\n",
    "\n",
    "fit  <- glm(target ~ sex, data=df, family =binomial(link = \"logit\"))\n",
    "fit_uni  <-  tidy(fit) %>%  \n",
    "    filter(term != \"(Intercept)\")  %>%\n",
    "    bind_rows(fit_uni)\n",
    "\n",
    "fit  <- glm(target ~ age, data=df, family =binomial(link = \"logit\"))\n",
    "fit_uni  <-  tidy(fit) %>%  \n",
    "    filter(term != \"(Intercept)\")  %>%\n",
    "    bind_rows(fit_uni)\n",
    "\n",
    "fit  <- glm(target ~ restecg, data=df, family =binomial(link = \"logit\"))\n",
    "fit_uni  <-  tidy(fit) %>%  \n",
    "    filter(term != \"(Intercept)\")  %>%\n",
    "    bind_rows(fit_uni)\n",
    "\n",
    "fit  <- glm(target ~ trestbps, data=df, family =binomial(link = \"logit\"))\n",
    "fit_uni  <-  tidy(fit) %>%  \n",
    "    filter(term != \"(Intercept)\")  %>%\n",
    "    bind_rows(fit_uni)\n",
    "\n",
    "fit_multi %>% \n",
    "    inner_join(fit_uni, by = c(\"term\"), suffix = c(\"_multi\", \"_uni\")) %>%\n",
    "    select(term, estimate_multi, estimate_uni, p.value_multi, p.value_uni)\n"
   ]
  },
  {
   "cell_type": "markdown",
   "metadata": {},
   "source": [
    "Hosmer suggest to only include those variables in the model, which p value is significant. Look at this:\n"
   ]
  },
  {
   "cell_type": "code",
   "execution_count": 3,
   "metadata": {},
   "outputs": [
    {
     "data": {
      "text/html": [
       "<table>\n",
       "<thead><tr><th scope=col>term</th><th scope=col>estimate</th><th scope=col>std.error</th><th scope=col>statistic</th><th scope=col>p.value</th></tr></thead>\n",
       "<tbody>\n",
       "\t<tr><td>cpnon-anginal_pain</td><td> 2.5700809        </td><td>0.5990323         </td><td> 4.290388         </td><td>1.783612e-05      </td></tr>\n",
       "\t<tr><td>cpasymptomatic    </td><td> 2.1221823        </td><td>0.7276792         </td><td> 2.916371         </td><td>3.541295e-03      </td></tr>\n",
       "\t<tr><td>oldpeak           </td><td>-0.5995476        </td><td>0.2657271         </td><td>-2.256253         </td><td>2.405477e-02      </td></tr>\n",
       "\t<tr><td>ca                </td><td>-1.1520464        </td><td>0.2620313         </td><td>-4.396598         </td><td>1.099606e-05      </td></tr>\n",
       "</tbody>\n",
       "</table>\n"
      ],
      "text/latex": [
       "\\begin{tabular}{r|lllll}\n",
       " term & estimate & std.error & statistic & p.value\\\\\n",
       "\\hline\n",
       "\t cpnon-anginal\\_pain &  2.5700809           & 0.5990323            &  4.290388            & 1.783612e-05        \\\\\n",
       "\t cpasymptomatic     &  2.1221823         & 0.7276792          &  2.916371          & 3.541295e-03      \\\\\n",
       "\t oldpeak            & -0.5995476         & 0.2657271          & -2.256253          & 2.405477e-02      \\\\\n",
       "\t ca                 & -1.1520464         & 0.2620313          & -4.396598          & 1.099606e-05      \\\\\n",
       "\\end{tabular}\n"
      ],
      "text/markdown": [
       "\n",
       "| term | estimate | std.error | statistic | p.value |\n",
       "|---|---|---|---|---|\n",
       "| cpnon-anginal_pain |  2.5700809         | 0.5990323          |  4.290388          | 1.783612e-05       |\n",
       "| cpasymptomatic     |  2.1221823         | 0.7276792          |  2.916371          | 3.541295e-03       |\n",
       "| oldpeak            | -0.5995476         | 0.2657271          | -2.256253          | 2.405477e-02       |\n",
       "| ca                 | -1.1520464         | 0.2620313          | -4.396598          | 1.099606e-05       |\n",
       "\n"
      ],
      "text/plain": [
       "  term               estimate   std.error statistic p.value     \n",
       "1 cpnon-anginal_pain  2.5700809 0.5990323  4.290388 1.783612e-05\n",
       "2 cpasymptomatic      2.1221823 0.7276792  2.916371 3.541295e-03\n",
       "3 oldpeak            -0.5995476 0.2657271 -2.256253 2.405477e-02\n",
       "4 ca                 -1.1520464 0.2620313 -4.396598 1.099606e-05"
      ]
     },
     "metadata": {},
     "output_type": "display_data"
    }
   ],
   "source": [
    "fit <- glm(target ~ thal + cp + oldpeak + exang +thalach + ca + slope \n",
    "             + sex + age + restecg + trestbps, data=df, family =binomial(link = \"logit\"))\n",
    "fit_tidy  <- tidy(fit)\n",
    "fit_tidy %>% \n",
    "    filter(p.value < 0.05)"
   ]
  },
  {
   "cell_type": "markdown",
   "metadata": {},
   "source": [
    "So let's check the performance of this model:"
   ]
  },
  {
   "cell_type": "code",
   "execution_count": 4,
   "metadata": {},
   "outputs": [
    {
     "name": "stderr",
     "output_type": "stream",
     "text": [
      "Parsed with column specification:\n",
      "cols(\n",
      "  age = col_double(),\n",
      "  sex = col_double(),\n",
      "  cp = col_double(),\n",
      "  trestbps = col_double(),\n",
      "  chol = col_double(),\n",
      "  fbs = col_double(),\n",
      "  restecg = col_double(),\n",
      "  thalach = col_double(),\n",
      "  exang = col_double(),\n",
      "  oldpeak = col_double(),\n",
      "  slope = col_double(),\n",
      "  ca = col_double(),\n",
      "  thal = col_double(),\n",
      "  target = col_double()\n",
      ")\n",
      "Parsed with column specification:\n",
      "cols(\n",
      "  age = col_double(),\n",
      "  sex = col_double(),\n",
      "  cp = col_double(),\n",
      "  trestbps = col_double(),\n",
      "  chol = col_double(),\n",
      "  fbs = col_double(),\n",
      "  restecg = col_double(),\n",
      "  thalach = col_double(),\n",
      "  exang = col_double(),\n",
      "  oldpeak = col_double(),\n",
      "  slope = col_double(),\n",
      "  ca = col_double(),\n",
      "  thal = col_double(),\n",
      "  target = col_double()\n",
      ")\n"
     ]
    },
    {
     "data": {
      "text/html": [
       "<table>\n",
       "<thead><tr><th scope=col>model</th><th scope=col>mean</th><th scope=col>median</th><th scope=col>sd</th></tr></thead>\n",
       "<tbody>\n",
       "\t<tr><td>selected model            </td><td>0.9084715                 </td><td>0.9195804                 </td><td>0.05731126                </td></tr>\n",
       "\t<tr><td>selected significant model</td><td>0.8707243                 </td><td>0.8741259                 </td><td>0.05160244                </td></tr>\n",
       "</tbody>\n",
       "</table>\n"
      ],
      "text/latex": [
       "\\begin{tabular}{r|llll}\n",
       " model & mean & median & sd\\\\\n",
       "\\hline\n",
       "\t selected model             & 0.9084715                  & 0.9195804                  & 0.05731126                \\\\\n",
       "\t selected significant model & 0.8707243                  & 0.8741259                  & 0.05160244                \\\\\n",
       "\\end{tabular}\n"
      ],
      "text/markdown": [
       "\n",
       "| model | mean | median | sd |\n",
       "|---|---|---|---|\n",
       "| selected model             | 0.9084715                  | 0.9195804                  | 0.05731126                 |\n",
       "| selected significant model | 0.8707243                  | 0.8741259                  | 0.05160244                 |\n",
       "\n"
      ],
      "text/plain": [
       "  model                      mean      median    sd        \n",
       "1 selected model             0.9084715 0.9195804 0.05731126\n",
       "2 selected significant model 0.8707243 0.8741259 0.05160244"
      ]
     },
     "metadata": {},
     "output_type": "display_data"
    },
    {
     "data": {
      "image/png": "[encoded data removed]",
      "text/plain": [
       "plot without title"
      ]
     },
     "metadata": {},
     "output_type": "display_data"
    }
   ],
   "source": [
    "learner_A <- function(training, test) {\n",
    "  name <- \"selected model\"\n",
    "  \n",
    "  fit <- glm(target ~ thal + cp + oldpeak + exang +thalach + ca + slope \n",
    "             + sex + age + restecg + trestbps, data=training, family =binomial(link = \"logit\"))\n",
    "  y_probabilities <- predict(fit, test,  type=\"response\")\n",
    "  y_true <- ifelse(test$target == \"no_disease\", 0, 1)\n",
    "    \n",
    "  auc <- AUC(y_true = y_true, y_pred = y_probabilities)\n",
    "  return(list(name = name, auc = auc))\n",
    "}\n",
    "\n",
    "learner_B <- function(training, test) {\n",
    "  name <- \"selected significant model\"\n",
    "  \n",
    "  fit <- glm(target ~ cp + oldpeak + ca, data=training, family =binomial(link = \"logit\"))\n",
    "  y_probabilities <- predict(fit, test,  type=\"response\")\n",
    "  y_true <- ifelse(test$target == \"no_disease\", 0, 1)\n",
    "    \n",
    "  auc <- AUC(y_true = y_true, y_pred = y_probabilities)\n",
    "  return(list(name = name, auc = auc))\n",
    "}\n",
    "\n",
    "\n",
    "result <- cross_validation_selection(learner_A, learner_B)\n",
    "\n",
    "result$model_result %>%\n",
    "   group_by(model) %>%\n",
    "   summarize(mean = mean(auc),\n",
    "             median = median(auc),\n",
    "             sd = sd(auc))\n",
    "\n",
    "plot_result(result)"
   ]
  },
  {
   "cell_type": "markdown",
   "metadata": {},
   "source": [
    "It is not so good. Let's check for interactions: "
   ]
  },
  {
   "cell_type": "code",
   "execution_count": 5,
   "metadata": {},
   "outputs": [
    {
     "data": {
      "text/html": [
       "<table>\n",
       "<thead><tr><th scope=col>term</th><th scope=col>estimate</th><th scope=col>std.error</th><th scope=col>statistic</th><th scope=col>p.value</th></tr></thead>\n",
       "<tbody>\n",
       "\t<tr><td>(Intercept)               </td><td> 0.6538219                </td><td>0.3442500                 </td><td> 1.8992648                </td><td>5.752966e-02              </td></tr>\n",
       "\t<tr><td>cpatypical_angina         </td><td> 2.3974764                </td><td>0.7580128                 </td><td> 3.1628442                </td><td>1.562359e-03              </td></tr>\n",
       "\t<tr><td>cpnon-anginal_pain        </td><td> 3.9326913                </td><td>0.8856111                 </td><td> 4.4406529                </td><td>8.968637e-06              </td></tr>\n",
       "\t<tr><td>cpasymptomatic            </td><td> 0.5643062                </td><td>0.9013901                 </td><td> 0.6260400                </td><td>5.312887e-01              </td></tr>\n",
       "\t<tr><td>oldpeak                   </td><td>-0.9670734                </td><td>0.3029024                 </td><td>-3.1926896                </td><td>1.409544e-03              </td></tr>\n",
       "\t<tr><td>ca                        </td><td>-1.1209071                </td><td>0.2230315                 </td><td>-5.0257790                </td><td>5.013930e-07              </td></tr>\n",
       "\t<tr><td>cpatypical_angina:oldpeak </td><td>-0.5853009                </td><td>0.8655464                 </td><td>-0.6762213                </td><td>4.989002e-01              </td></tr>\n",
       "\t<tr><td>cpnon-anginal_pain:oldpeak</td><td>-1.0760259                </td><td>0.6114607                 </td><td>-1.7597631                </td><td>7.844798e-02              </td></tr>\n",
       "\t<tr><td>cpasymptomatic:oldpeak    </td><td> 0.9365780                </td><td>0.5448595                 </td><td> 1.7189348                </td><td>8.562624e-02              </td></tr>\n",
       "</tbody>\n",
       "</table>\n"
      ],
      "text/latex": [
       "\\begin{tabular}{r|lllll}\n",
       " term & estimate & std.error & statistic & p.value\\\\\n",
       "\\hline\n",
       "\t (Intercept)                &  0.6538219                 & 0.3442500                  &  1.8992648                 & 5.752966e-02              \\\\\n",
       "\t cpatypical\\_angina          &  2.3974764                   & 0.7580128                    &  3.1628442                   & 1.562359e-03                \\\\\n",
       "\t cpnon-anginal\\_pain         &  3.9326913                   & 0.8856111                    &  4.4406529                   & 8.968637e-06                \\\\\n",
       "\t cpasymptomatic             &  0.5643062                 & 0.9013901                  &  0.6260400                 & 5.312887e-01              \\\\\n",
       "\t oldpeak                    & -0.9670734                 & 0.3029024                  & -3.1926896                 & 1.409544e-03              \\\\\n",
       "\t ca                         & -1.1209071                 & 0.2230315                  & -5.0257790                 & 5.013930e-07              \\\\\n",
       "\t cpatypical\\_angina:oldpeak  & -0.5853009                   & 0.8655464                    & -0.6762213                   & 4.989002e-01                \\\\\n",
       "\t cpnon-anginal\\_pain:oldpeak & -1.0760259                   & 0.6114607                    & -1.7597631                   & 7.844798e-02                \\\\\n",
       "\t cpasymptomatic:oldpeak     &  0.9365780                 & 0.5448595                  &  1.7189348                 & 8.562624e-02              \\\\\n",
       "\\end{tabular}\n"
      ],
      "text/markdown": [
       "\n",
       "| term | estimate | std.error | statistic | p.value |\n",
       "|---|---|---|---|---|\n",
       "| (Intercept)                |  0.6538219                 | 0.3442500                  |  1.8992648                 | 5.752966e-02               |\n",
       "| cpatypical_angina          |  2.3974764                 | 0.7580128                  |  3.1628442                 | 1.562359e-03               |\n",
       "| cpnon-anginal_pain         |  3.9326913                 | 0.8856111                  |  4.4406529                 | 8.968637e-06               |\n",
       "| cpasymptomatic             |  0.5643062                 | 0.9013901                  |  0.6260400                 | 5.312887e-01               |\n",
       "| oldpeak                    | -0.9670734                 | 0.3029024                  | -3.1926896                 | 1.409544e-03               |\n",
       "| ca                         | -1.1209071                 | 0.2230315                  | -5.0257790                 | 5.013930e-07               |\n",
       "| cpatypical_angina:oldpeak  | -0.5853009                 | 0.8655464                  | -0.6762213                 | 4.989002e-01               |\n",
       "| cpnon-anginal_pain:oldpeak | -1.0760259                 | 0.6114607                  | -1.7597631                 | 7.844798e-02               |\n",
       "| cpasymptomatic:oldpeak     |  0.9365780                 | 0.5448595                  |  1.7189348                 | 8.562624e-02               |\n",
       "\n"
      ],
      "text/plain": [
       "  term                       estimate   std.error statistic  p.value     \n",
       "1 (Intercept)                 0.6538219 0.3442500  1.8992648 5.752966e-02\n",
       "2 cpatypical_angina           2.3974764 0.7580128  3.1628442 1.562359e-03\n",
       "3 cpnon-anginal_pain          3.9326913 0.8856111  4.4406529 8.968637e-06\n",
       "4 cpasymptomatic              0.5643062 0.9013901  0.6260400 5.312887e-01\n",
       "5 oldpeak                    -0.9670734 0.3029024 -3.1926896 1.409544e-03\n",
       "6 ca                         -1.1209071 0.2230315 -5.0257790 5.013930e-07\n",
       "7 cpatypical_angina:oldpeak  -0.5853009 0.8655464 -0.6762213 4.989002e-01\n",
       "8 cpnon-anginal_pain:oldpeak -1.0760259 0.6114607 -1.7597631 7.844798e-02\n",
       "9 cpasymptomatic:oldpeak      0.9365780 0.5448595  1.7189348 8.562624e-02"
      ]
     },
     "metadata": {},
     "output_type": "display_data"
    }
   ],
   "source": [
    "fit <- glm(target ~ cp * oldpeak + ca, data=df, family =binomial(link = \"logit\"))\n",
    "tidy(fit)"
   ]
  },
  {
   "cell_type": "code",
   "execution_count": 6,
   "metadata": {},
   "outputs": [
    {
     "data": {
      "text/html": [
       "<table>\n",
       "<thead><tr><th scope=col>term</th><th scope=col>estimate</th><th scope=col>std.error</th><th scope=col>statistic</th><th scope=col>p.value</th></tr></thead>\n",
       "<tbody>\n",
       "\t<tr><td>(Intercept)          </td><td> 0.9967867           </td><td>0.3482025            </td><td> 2.862664            </td><td>4.200956e-03         </td></tr>\n",
       "\t<tr><td>cpatypical_angina    </td><td> 1.5733095           </td><td>0.6305173            </td><td> 2.495268            </td><td>1.258621e-02         </td></tr>\n",
       "\t<tr><td>cpnon-anginal_pain   </td><td> 1.8992284           </td><td>0.5331183            </td><td> 3.562489            </td><td>3.673550e-04         </td></tr>\n",
       "\t<tr><td>cpasymptomatic       </td><td> 1.8163447           </td><td>0.7757312            </td><td> 2.341461            </td><td>1.920842e-02         </td></tr>\n",
       "\t<tr><td>ca                   </td><td>-2.0639765           </td><td>0.5660856            </td><td>-3.646050            </td><td>2.663020e-04         </td></tr>\n",
       "\t<tr><td>oldpeak              </td><td>-1.0255939           </td><td>0.2131832            </td><td>-4.810856            </td><td>1.502852e-06         </td></tr>\n",
       "\t<tr><td>cpatypical_angina:ca </td><td> 1.2019637           </td><td>0.7021286            </td><td> 1.711885            </td><td>8.691779e-02         </td></tr>\n",
       "\t<tr><td>cpnon-anginal_pain:ca</td><td> 1.4710453           </td><td>0.6315990            </td><td> 2.329081            </td><td>1.985477e-02         </td></tr>\n",
       "\t<tr><td>cpasymptomatic:ca    </td><td> 0.9666088           </td><td>0.9058451            </td><td> 1.067080            </td><td>2.859359e-01         </td></tr>\n",
       "</tbody>\n",
       "</table>\n"
      ],
      "text/latex": [
       "\\begin{tabular}{r|lllll}\n",
       " term & estimate & std.error & statistic & p.value\\\\\n",
       "\\hline\n",
       "\t (Intercept)           &  0.9967867            & 0.3482025             &  2.862664             & 4.200956e-03         \\\\\n",
       "\t cpatypical\\_angina     &  1.5733095              & 0.6305173               &  2.495268               & 1.258621e-02           \\\\\n",
       "\t cpnon-anginal\\_pain    &  1.8992284              & 0.5331183               &  3.562489               & 3.673550e-04           \\\\\n",
       "\t cpasymptomatic        &  1.8163447            & 0.7757312             &  2.341461             & 1.920842e-02         \\\\\n",
       "\t ca                    & -2.0639765            & 0.5660856             & -3.646050             & 2.663020e-04         \\\\\n",
       "\t oldpeak               & -1.0255939            & 0.2131832             & -4.810856             & 1.502852e-06         \\\\\n",
       "\t cpatypical\\_angina:ca  &  1.2019637              & 0.7021286               &  1.711885               & 8.691779e-02           \\\\\n",
       "\t cpnon-anginal\\_pain:ca &  1.4710453              & 0.6315990               &  2.329081               & 1.985477e-02           \\\\\n",
       "\t cpasymptomatic:ca     &  0.9666088            & 0.9058451             &  1.067080             & 2.859359e-01         \\\\\n",
       "\\end{tabular}\n"
      ],
      "text/markdown": [
       "\n",
       "| term | estimate | std.error | statistic | p.value |\n",
       "|---|---|---|---|---|\n",
       "| (Intercept)           |  0.9967867            | 0.3482025             |  2.862664             | 4.200956e-03          |\n",
       "| cpatypical_angina     |  1.5733095            | 0.6305173             |  2.495268             | 1.258621e-02          |\n",
       "| cpnon-anginal_pain    |  1.8992284            | 0.5331183             |  3.562489             | 3.673550e-04          |\n",
       "| cpasymptomatic        |  1.8163447            | 0.7757312             |  2.341461             | 1.920842e-02          |\n",
       "| ca                    | -2.0639765            | 0.5660856             | -3.646050             | 2.663020e-04          |\n",
       "| oldpeak               | -1.0255939            | 0.2131832             | -4.810856             | 1.502852e-06          |\n",
       "| cpatypical_angina:ca  |  1.2019637            | 0.7021286             |  1.711885             | 8.691779e-02          |\n",
       "| cpnon-anginal_pain:ca |  1.4710453            | 0.6315990             |  2.329081             | 1.985477e-02          |\n",
       "| cpasymptomatic:ca     |  0.9666088            | 0.9058451             |  1.067080             | 2.859359e-01          |\n",
       "\n"
      ],
      "text/plain": [
       "  term                  estimate   std.error statistic p.value     \n",
       "1 (Intercept)            0.9967867 0.3482025  2.862664 4.200956e-03\n",
       "2 cpatypical_angina      1.5733095 0.6305173  2.495268 1.258621e-02\n",
       "3 cpnon-anginal_pain     1.8992284 0.5331183  3.562489 3.673550e-04\n",
       "4 cpasymptomatic         1.8163447 0.7757312  2.341461 1.920842e-02\n",
       "5 ca                    -2.0639765 0.5660856 -3.646050 2.663020e-04\n",
       "6 oldpeak               -1.0255939 0.2131832 -4.810856 1.502852e-06\n",
       "7 cpatypical_angina:ca   1.2019637 0.7021286  1.711885 8.691779e-02\n",
       "8 cpnon-anginal_pain:ca  1.4710453 0.6315990  2.329081 1.985477e-02\n",
       "9 cpasymptomatic:ca      0.9666088 0.9058451  1.067080 2.859359e-01"
      ]
     },
     "metadata": {},
     "output_type": "display_data"
    }
   ],
   "source": [
    "fit <- glm(target ~ cp * ca + oldpeak , data=df, family =binomial(link = \"logit\"))\n",
    "tidy(fit)"
   ]
  },
  {
   "cell_type": "code",
   "execution_count": null,
   "metadata": {},
   "outputs": [],
   "source": []
  }
 ],
 "metadata": {
  "kernelspec": {
   "display_name": "R",
   "language": "R",
   "name": "ir"
  },
  "language_info": {
   "codemirror_mode": "r",
   "file_extension": ".r",
   "mimetype": "text/x-r-source",
   "name": "R",
   "pygments_lexer": "r",
   "version": "3.6.0"
  }
 },
 "nbformat": 4,
 "nbformat_minor": 2
}
