{
 "cells": [
  {
   "cell_type": "markdown",
   "metadata": {},
   "source": [
    "# Variable Selection Hosmer "
   ]
  },
  {
   "cell_type": "code",
   "execution_count": 1,
   "metadata": {},
   "outputs": [
    {
     "name": "stderr",
     "output_type": "stream",
     "text": [
      "Warning message:\n",
      "\"package 'tidyverse' was built under R version 3.6.1\"Registered S3 methods overwritten by 'ggplot2':\n",
      "  method         from \n",
      "  [.quosures     rlang\n",
      "  c.quosures     rlang\n",
      "  print.quosures rlang\n",
      "-- Attaching packages --------------------------------------- tidyverse 1.2.1 --\n",
      "v ggplot2 3.1.1       v purrr   0.3.2  \n",
      "v tibble  2.1.1       v dplyr   0.8.0.1\n",
      "v tidyr   0.8.3       v stringr 1.4.0  \n",
      "v readr   1.3.1       v forcats 0.4.0  \n",
      "-- Conflicts ------------------------------------------ tidyverse_conflicts() --\n",
      "x dplyr::filter() masks stats::filter()\n",
      "x dplyr::lag()    masks stats::lag()\n",
      "Warning message:\n",
      "\"package 'caret' was built under R version 3.6.1\"Loading required package: lattice\n",
      "\n",
      "Attaching package: 'caret'\n",
      "\n",
      "The following object is masked from 'package:purrr':\n",
      "\n",
      "    lift\n",
      "\n",
      "Parsed with column specification:\n",
      "cols(\n",
      "  age = col_double(),\n",
      "  sex = col_double(),\n",
      "  cp = col_double(),\n",
      "  trestbps = col_double(),\n",
      "  chol = col_double(),\n",
      "  fbs = col_double(),\n",
      "  restecg = col_double(),\n",
      "  thalach = col_double(),\n",
      "  exang = col_double(),\n",
      "  oldpeak = col_double(),\n",
      "  slope = col_double(),\n",
      "  ca = col_double(),\n",
      "  thal = col_double(),\n",
      "  target = col_double()\n",
      ")\n"
     ]
    }
   ],
   "source": [
    "source(\"helpers.r\")\n",
    "library(tidyverse)\n",
    "library(broom)\n",
    "library(stringr)\n",
    "df <- get_training_df()"
   ]
  },
  {
   "cell_type": "markdown",
   "metadata": {},
   "source": [
    "## Continuous Variables\n",
    "### t-Test"
   ]
  },
  {
   "cell_type": "code",
   "execution_count": 2,
   "metadata": {},
   "outputs": [],
   "source": [
    "t_test_continuous_variables  <- function(variable) {\n",
    "\n",
    "x_0  <- df %>% \n",
    "  filter(target == \"no_disease\") %>%\n",
    "  select(variable) %>%\n",
    "  pull()\n",
    "\n",
    "x_1  <- df %>%  \n",
    "  filter(target == \"disease\") %>%\n",
    "  select(variable) %>%\n",
    "  pull()\n",
    "\n",
    "test_result  <- t.test(x = x_0, y = x_1, var.equal = FALSE)\n",
    "test_result_tidy  <- tidy(test_result)\n",
    "test_result_tidy$p.value\n",
    "}"
   ]
  },
  {
   "cell_type": "code",
   "execution_count": 3,
   "metadata": {},
   "outputs": [
    {
     "data": {
      "text/html": [
       "<table>\n",
       "<thead><tr><th scope=col>variable</th><th scope=col>p_value</th></tr></thead>\n",
       "<tbody>\n",
       "\t<tr><td>chol        </td><td>3.560874e-01</td></tr>\n",
       "\t<tr><td>trestbps    </td><td>1.735806e-01</td></tr>\n",
       "\t<tr><td>ca          </td><td>1.295982e-10</td></tr>\n",
       "\t<tr><td>thalach     </td><td>3.422697e-11</td></tr>\n",
       "\t<tr><td>oldpeak     </td><td>5.890159e-12</td></tr>\n",
       "\t<tr><td>age         </td><td>1.167419e-03</td></tr>\n",
       "</tbody>\n",
       "</table>\n"
      ],
      "text/latex": [
       "\\begin{tabular}{r|ll}\n",
       " variable & p\\_value\\\\\n",
       "\\hline\n",
       "\t chol         & 3.560874e-01\\\\\n",
       "\t trestbps     & 1.735806e-01\\\\\n",
       "\t ca           & 1.295982e-10\\\\\n",
       "\t thalach      & 3.422697e-11\\\\\n",
       "\t oldpeak      & 5.890159e-12\\\\\n",
       "\t age          & 1.167419e-03\\\\\n",
       "\\end{tabular}\n"
      ],
      "text/markdown": [
       "\n",
       "| variable | p_value |\n",
       "|---|---|\n",
       "| chol         | 3.560874e-01 |\n",
       "| trestbps     | 1.735806e-01 |\n",
       "| ca           | 1.295982e-10 |\n",
       "| thalach      | 3.422697e-11 |\n",
       "| oldpeak      | 5.890159e-12 |\n",
       "| age          | 1.167419e-03 |\n",
       "\n"
      ],
      "text/plain": [
       "  variable p_value     \n",
       "1 chol     3.560874e-01\n",
       "2 trestbps 1.735806e-01\n",
       "3 ca       1.295982e-10\n",
       "4 thalach  3.422697e-11\n",
       "5 oldpeak  5.890159e-12\n",
       "6 age      1.167419e-03"
      ]
     },
     "metadata": {},
     "output_type": "display_data"
    }
   ],
   "source": [
    "continuous_variables <- c(\"chol\", \"trestbps\", \"ca\", \"thalach\", \"oldpeak\", \"age\")\n",
    "selection_continuous_variables  <- tibble(variable = continuous_variables,\n",
    "                                         p_value = map_dbl(continuous_variables, t_test_continuous_variables))\n",
    "                                 \n",
    "\n",
    "selection_continuous_variables"
   ]
  },
  {
   "cell_type": "markdown",
   "metadata": {},
   "source": [
    "Comparision with the fit of a logistic regression and filter for p values < 0.25:"
   ]
  },
  {
   "cell_type": "code",
   "execution_count": 4,
   "metadata": {},
   "outputs": [
    {
     "data": {
      "text/html": [
       "<table>\n",
       "<thead><tr><th scope=col>variable</th><th scope=col>p_value</th><th scope=col>p_values_glm</th><th scope=col>selected</th></tr></thead>\n",
       "<tbody>\n",
       "\t<tr><td>chol        </td><td>3.560874e-01</td><td>3.586344e-01</td><td>FALSE       </td></tr>\n",
       "\t<tr><td>trestbps    </td><td>1.735806e-01</td><td>1.729604e-01</td><td> TRUE       </td></tr>\n",
       "\t<tr><td>ca          </td><td>1.295982e-10</td><td>7.765410e-09</td><td> TRUE       </td></tr>\n",
       "\t<tr><td>thalach     </td><td>3.422697e-11</td><td>2.826759e-09</td><td> TRUE       </td></tr>\n",
       "\t<tr><td>oldpeak     </td><td>5.890159e-12</td><td>5.295092e-10</td><td> TRUE       </td></tr>\n",
       "\t<tr><td>age         </td><td>1.167419e-03</td><td>1.718051e-03</td><td> TRUE       </td></tr>\n",
       "</tbody>\n",
       "</table>\n"
      ],
      "text/latex": [
       "\\begin{tabular}{r|llll}\n",
       " variable & p\\_value & p\\_values\\_glm & selected\\\\\n",
       "\\hline\n",
       "\t chol         & 3.560874e-01 & 3.586344e-01 & FALSE       \\\\\n",
       "\t trestbps     & 1.735806e-01 & 1.729604e-01 &  TRUE       \\\\\n",
       "\t ca           & 1.295982e-10 & 7.765410e-09 &  TRUE       \\\\\n",
       "\t thalach      & 3.422697e-11 & 2.826759e-09 &  TRUE       \\\\\n",
       "\t oldpeak      & 5.890159e-12 & 5.295092e-10 &  TRUE       \\\\\n",
       "\t age          & 1.167419e-03 & 1.718051e-03 &  TRUE       \\\\\n",
       "\\end{tabular}\n"
      ],
      "text/markdown": [
       "\n",
       "| variable | p_value | p_values_glm | selected |\n",
       "|---|---|---|---|\n",
       "| chol         | 3.560874e-01 | 3.586344e-01 | FALSE        |\n",
       "| trestbps     | 1.735806e-01 | 1.729604e-01 |  TRUE        |\n",
       "| ca           | 1.295982e-10 | 7.765410e-09 |  TRUE        |\n",
       "| thalach      | 3.422697e-11 | 2.826759e-09 |  TRUE        |\n",
       "| oldpeak      | 5.890159e-12 | 5.295092e-10 |  TRUE        |\n",
       "| age          | 1.167419e-03 | 1.718051e-03 |  TRUE        |\n",
       "\n"
      ],
      "text/plain": [
       "  variable p_value      p_values_glm selected\n",
       "1 chol     3.560874e-01 3.586344e-01 FALSE   \n",
       "2 trestbps 1.735806e-01 1.729604e-01  TRUE   \n",
       "3 ca       1.295982e-10 7.765410e-09  TRUE   \n",
       "4 thalach  3.422697e-11 2.826759e-09  TRUE   \n",
       "5 oldpeak  5.890159e-12 5.295092e-10  TRUE   \n",
       "6 age      1.167419e-03 1.718051e-03  TRUE   "
      ]
     },
     "metadata": {},
     "output_type": "display_data"
    }
   ],
   "source": [
    "formulas  <- paste0(\"target ~ \", continuous_variables)\n",
    "  \n",
    "p_values_glm  <- map_dbl(formulas, function(formula){\n",
    "    \n",
    "    fit <- glm(formula, data=df, family =binomial(link = \"logit\"))\n",
    "    fit_tidy  <- tidy(fit)\n",
    "    p_value  <-  fit_tidy %>% \n",
    "                    filter(term != \"(Intercept)\") %>% \n",
    "                    select(p.value) %>% \n",
    "                    pull()\n",
    "    \n",
    "    return(p_value)\n",
    "    \n",
    "})\n",
    "\n",
    "selection_continuous_variables %>% mutate(p_values_glm = p_values_glm,\n",
    "                                         selected = ifelse(p_value < 0.25, TRUE, FALSE)) "
   ]
  },
  {
   "cell_type": "markdown",
   "metadata": {},
   "source": [
    "The p values of the t-test and of the logistic regression are the same magnitue!"
   ]
  },
  {
   "cell_type": "markdown",
   "metadata": {},
   "source": [
    "### Grouping"
   ]
  },
  {
   "cell_type": "code",
   "execution_count": 6,
   "metadata": {},
   "outputs": [
    {
     "name": "stderr",
     "output_type": "stream",
     "text": [
      "Parsed with column specification:\n",
      "cols(\n",
      "  age = col_double(),\n",
      "  sex = col_double(),\n",
      "  cp = col_double(),\n",
      "  trestbps = col_double(),\n",
      "  chol = col_double(),\n",
      "  fbs = col_double(),\n",
      "  restecg = col_double(),\n",
      "  thalach = col_double(),\n",
      "  exang = col_double(),\n",
      "  oldpeak = col_double(),\n",
      "  slope = col_double(),\n",
      "  ca = col_double(),\n",
      "  thal = col_double(),\n",
      "  target = col_double()\n",
      ")\n"
     ]
    },
    {
     "ename": "ERROR",
     "evalue": "Error: Column `group` is of unsupported class data.frame\n",
     "output_type": "error",
     "traceback": [
      "Error: Column `group` is of unsupported class data.frame\nTraceback:\n",
      "1. df %>% count(cut_width(thalach, 25)) %>% mutate(group = df[1])",
      "2. withVisible(eval(quote(`_fseq`(`_lhs`)), env, env))",
      "3. eval(quote(`_fseq`(`_lhs`)), env, env)",
      "4. eval(quote(`_fseq`(`_lhs`)), env, env)",
      "5. `_fseq`(`_lhs`)",
      "6. freduce(value, `_function_list`)",
      "7. withVisible(function_list[[k]](value))",
      "8. function_list[[k]](value)",
      "9. mutate(., group = df[1])",
      "10. mutate.tbl_df(., group = df[1])",
      "11. mutate_impl(.data, dots, caller_env())"
     ]
    }
   ],
   "source": [
    "\n",
    "df <- get_training_df() #%>% mutate(disease = ifelse(target == \"no_disease\", 0, 1))\n",
    "\n",
    "df <- df %>% count(cut_width(thalach, 25)) %>%\n",
    "  mutate(group = `cut_width(thalach, 25)`)\n",
    "\n",
    "groups <- df %>% select(group) %>% pull()\n",
    "\n",
    "\n",
    "upper_cut <- function(s) {\n",
    "  s <- str_split(s, \",\")\n",
    "  rigth <- s[[1]][2]\n",
    "  if(str_detect(rigth, \".\")) {\n",
    "    rigth <- str_extract(rigth, \"\\\\d.\\\\d*\")\n",
    "  } else {\n",
    "    rigth <- str_extract(rigth, \"\\\\d\")\n",
    "  }\n",
    "  return(as.numeric(rigth))\n",
    "}\n",
    "\n",
    "groups <- as.character(groups)\n",
    "breaks <- map_dbl(groups, upper_cut)\n",
    "\n",
    "breaks <- c(-Inf, breaks, Inf)\n",
    "\n",
    "df <- get_training_df()\n",
    "df$group <- cut(df$thalach, \n",
    "                breaks=breaks, labels = 1:(length(breaks)-1))\n",
    "\n",
    "df_groups <- df %>% mutate(disease = ifelse(target == \"no_disease\", 0, 1)) %>%\n",
    "  group_by(group) %>%\n",
    "  summarize(count = n(),\n",
    "            absent = count - sum(disease),\n",
    "            present = sum(disease),\n",
    "            proportion = present / count)\n",
    "\n",
    "print(df_groups)\n",
    "\n",
    "ggplot(df_groups, aes(x = group, y = proportion)) + \n",
    "  geom_point(size = 3) + \n",
    "  theme_bw()"
   ]
  }
 ],
 "metadata": {
  "kernelspec": {
   "display_name": "R",
   "language": "R",
   "name": "ir"
  },
  "language_info": {
   "codemirror_mode": "r",
   "file_extension": ".r",
   "mimetype": "text/x-r-source",
   "name": "R",
   "pygments_lexer": "r",
   "version": "3.6.0"
  }
 },
 "nbformat": 4,
 "nbformat_minor": 2
}
