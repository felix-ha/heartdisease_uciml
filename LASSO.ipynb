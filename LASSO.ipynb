{
 "cells": [
  {
   "cell_type": "markdown",
   "metadata": {},
   "source": [
    "# LASSO - least absolute shrinkage and selection operator\n",
    "\n",
    "## LASSO of continous variables\n",
    "\n",
    "Let's do variable selection of the six continous variables in the data set. I want to select the best three and expect that the model with these three variable performes better or at least not worse than the model with all six variabels."
   ]
  },
  {
   "cell_type": "code",
   "execution_count": 1,
   "metadata": {},
   "outputs": [
    {
     "name": "stderr",
     "output_type": "stream",
     "text": [
      "Warning message:\n",
      "\"package 'tidyverse' was built under R version 3.6.1\"Registered S3 methods overwritten by 'ggplot2':\n",
      "  method         from \n",
      "  [.quosures     rlang\n",
      "  c.quosures     rlang\n",
      "  print.quosures rlang\n",
      "-- Attaching packages --------------------------------------- tidyverse 1.2.1 --\n",
      "v ggplot2 3.1.1       v purrr   0.3.2  \n",
      "v tibble  2.1.1       v dplyr   0.8.0.1\n",
      "v tidyr   0.8.3       v stringr 1.4.0  \n",
      "v readr   1.3.1       v forcats 0.4.0  \n",
      "-- Conflicts ------------------------------------------ tidyverse_conflicts() --\n",
      "x dplyr::filter() masks stats::filter()\n",
      "x dplyr::lag()    masks stats::lag()\n",
      "Warning message:\n",
      "\"package 'caret' was built under R version 3.6.1\"Loading required package: lattice\n",
      "\n",
      "Attaching package: 'caret'\n",
      "\n",
      "The following object is masked from 'package:purrr':\n",
      "\n",
      "    lift\n",
      "\n",
      "Warning message:\n",
      "\"package 'MLmetrics' was built under R version 3.6.1\"\n",
      "Attaching package: 'MLmetrics'\n",
      "\n",
      "The following objects are masked from 'package:caret':\n",
      "\n",
      "    MAE, RMSE\n",
      "\n",
      "The following object is masked from 'package:base':\n",
      "\n",
      "    Recall\n",
      "\n",
      "Warning message:\n",
      "\"package 'glmnet' was built under R version 3.6.1\"Loading required package: Matrix\n",
      "\n",
      "Attaching package: 'Matrix'\n",
      "\n",
      "The following object is masked from 'package:tidyr':\n",
      "\n",
      "    expand\n",
      "\n",
      "Loaded glmnet 3.0\n",
      "\n",
      "Parsed with column specification:\n",
      "cols(\n",
      "  age = col_double(),\n",
      "  sex = col_double(),\n",
      "  cp = col_double(),\n",
      "  trestbps = col_double(),\n",
      "  chol = col_double(),\n",
      "  fbs = col_double(),\n",
      "  restecg = col_double(),\n",
      "  thalach = col_double(),\n",
      "  exang = col_double(),\n",
      "  oldpeak = col_double(),\n",
      "  slope = col_double(),\n",
      "  ca = col_double(),\n",
      "  thal = col_double(),\n",
      "  target = col_double()\n",
      ")\n"
     ]
    },
    {
     "data": {
      "image/png": "[encoded data removed]",
      "text/plain": [
       "plot without title"
      ]
     },
     "metadata": {},
     "output_type": "display_data"
    }
   ],
   "source": [
    "source(\"helpers.r\")\n",
    "library(tidyverse)\n",
    "library(glmnet)\n",
    "\n",
    "df <- get_training_df_clean()\n",
    "\n",
    "arg <- preProcess(df, method=c(\"center\", \"scale\"))\n",
    "training_scaled <- predict(arg, df)\n",
    "\n",
    "x <- model.matrix(target ~ age + thalach + trestbps + oldpeak + ca + chol, training_scaled)[,-1]\n",
    "y <- ifelse(training_scaled$target == \"no_disease\", 0, 1)\n",
    "\n",
    "lambdas = seq(0.25, 0, -0.0001)\n",
    "fit <- glmnet(x, y, alpha = 1, family = \"binomial\", lambda = lambdas, standardize = FALSE)\n",
    "\n",
    "coef <- as_tibble(as.matrix(fit$beta))\n",
    "colnames(coef) = lambdas\n",
    "\n",
    "\n",
    "coef <- coef %>% \n",
    "  add_column(variable = rownames(fit$beta))%>% \n",
    "  gather(\"lambda\", \"coef\", -variable) %>% \n",
    "  mutate(lambda = as.numeric(lambda),\n",
    "         coef = abs(coef))\n",
    "\n",
    "\n",
    "ggplot(coef, aes(x = lambda, y = coef, color = variable)) +\n",
    "  geom_line(size = 1) + \n",
    "  labs(\n",
    "    x = \"Lambda\",\n",
    "    y = \"Absolute Value of Coefficient\",\n",
    "    title = \"LASSO of continous variables\"\n",
    "  ) + \n",
    "  theme_bw() + \n",
    "  theme(panel.grid.major.x = element_blank(),\n",
    "        plot.title = element_text(hjust = 0)\n",
    "  ) "
   ]
  },
  {
   "cell_type": "markdown",
   "metadata": {},
   "source": [
    "See how nicely the first three variables approach towards zero. We can select these variables:"
   ]
  },
  {
   "cell_type": "code",
   "execution_count": 2,
   "metadata": {},
   "outputs": [
    {
     "data": {
      "text/html": [
       "<table>\n",
       "<thead><tr><th scope=col>variable</th></tr></thead>\n",
       "<tbody>\n",
       "\t<tr><td>thalach</td></tr>\n",
       "\t<tr><td>oldpeak</td></tr>\n",
       "\t<tr><td>ca     </td></tr>\n",
       "</tbody>\n",
       "</table>\n"
      ],
      "text/latex": [
       "\\begin{tabular}{r|l}\n",
       " variable\\\\\n",
       "\\hline\n",
       "\t thalach\\\\\n",
       "\t oldpeak\\\\\n",
       "\t ca     \\\\\n",
       "\\end{tabular}\n"
      ],
      "text/markdown": [
       "\n",
       "| variable |\n",
       "|---|\n",
       "| thalach |\n",
       "| oldpeak |\n",
       "| ca      |\n",
       "\n"
      ],
      "text/plain": [
       "  variable\n",
       "1 thalach \n",
       "2 oldpeak \n",
       "3 ca      "
      ]
     },
     "metadata": {},
     "output_type": "display_data"
    }
   ],
   "source": [
    "degrees_freedom <- coef %>% \n",
    "  group_by(lambda) %>%\n",
    "  summarise(df = sum(coef > 0))\n",
    "\n",
    "coef <- coef %>%\n",
    "  left_join(degrees_freedom, by = \"lambda\")\n",
    "\n",
    "coef %>%\n",
    "  filter(df == 3 & coef != 0) %>%\n",
    "  distinct(variable)"
   ]
  },
  {
   "cell_type": "markdown",
   "metadata": {},
   "source": [
    "And finally compare the models:"
   ]
  },
  {
   "cell_type": "code",
   "execution_count": 3,
   "metadata": {},
   "outputs": [
    {
     "name": "stderr",
     "output_type": "stream",
     "text": [
      "Parsed with column specification:\n",
      "cols(\n",
      "  age = col_double(),\n",
      "  sex = col_double(),\n",
      "  cp = col_double(),\n",
      "  trestbps = col_double(),\n",
      "  chol = col_double(),\n",
      "  fbs = col_double(),\n",
      "  restecg = col_double(),\n",
      "  thalach = col_double(),\n",
      "  exang = col_double(),\n",
      "  oldpeak = col_double(),\n",
      "  slope = col_double(),\n",
      "  ca = col_double(),\n",
      "  thal = col_double(),\n",
      "  target = col_double()\n",
      ")\n",
      "Parsed with column specification:\n",
      "cols(\n",
      "  age = col_double(),\n",
      "  sex = col_double(),\n",
      "  cp = col_double(),\n",
      "  trestbps = col_double(),\n",
      "  chol = col_double(),\n",
      "  fbs = col_double(),\n",
      "  restecg = col_double(),\n",
      "  thalach = col_double(),\n",
      "  exang = col_double(),\n",
      "  oldpeak = col_double(),\n",
      "  slope = col_double(),\n",
      "  ca = col_double(),\n",
      "  thal = col_double(),\n",
      "  target = col_double()\n",
      ")\n"
     ]
    },
    {
     "data": {
      "image/png": "[encoded data removed]",
      "text/plain": [
       "plot without title"
      ]
     },
     "metadata": {},
     "output_type": "display_data"
    }
   ],
   "source": [
    "learner_A <- function(training, test) {\n",
    "  name <- \"glm 6 variables\"\n",
    "    \n",
    "  fit <- glm(target ~ age + thalach + trestbps + oldpeak + ca + chol, data=training, family = binomial(link = \"logit\"))\n",
    "  y_probabilities <- predict(fit, test,  type=\"response\")\n",
    "  y_true <- ifelse(test$target == \"no_disease\", 0, 1)\n",
    "    \n",
    "  auc <- AUC(y_true = y_true, y_pred = y_probabilities)\n",
    "  return(list(name = name, auc = auc))\n",
    "}\n",
    "\n",
    "learner_B <- function(training, test) {   \n",
    "  name <- \"glm 3 variables\"\n",
    "    \n",
    "  fit <- glm(target ~ thalach + oldpeak + ca, data=training, family = binomial(link = \"logit\"))\n",
    "  y_probabilities <- predict(fit, test,  type=\"response\")\n",
    "  y_true <- ifelse(test$target == \"no_disease\", 0, 1)\n",
    "    \n",
    "  auc <- AUC(y_true = y_true, y_pred = y_probabilities)\n",
    "  return(list(name = name, auc = auc))\n",
    "\n",
    "}\n",
    "\n",
    "\n",
    "result <- cross_validation_selection(learner_A, learner_B)\n",
    "\n",
    "\n",
    "plot_result(result)"
   ]
  },
  {
   "cell_type": "markdown",
   "metadata": {},
   "source": [
    "Slightly but not significant worse ;) (and something is really wrong with the p value)\n",
    "\n",
    "## LASSO with all variables\n",
    "\n",
    "Now the same procedure with all variables. If one level of a categorial variable is not zero, i will inclue the variable."
   ]
  },
  {
   "cell_type": "code",
   "execution_count": 4,
   "metadata": {},
   "outputs": [
    {
     "name": "stderr",
     "output_type": "stream",
     "text": [
      "Parsed with column specification:\n",
      "cols(\n",
      "  age = col_double(),\n",
      "  sex = col_double(),\n",
      "  cp = col_double(),\n",
      "  trestbps = col_double(),\n",
      "  chol = col_double(),\n",
      "  fbs = col_double(),\n",
      "  restecg = col_double(),\n",
      "  thalach = col_double(),\n",
      "  exang = col_double(),\n",
      "  oldpeak = col_double(),\n",
      "  slope = col_double(),\n",
      "  ca = col_double(),\n",
      "  thal = col_double(),\n",
      "  target = col_double()\n",
      ")\n"
     ]
    },
    {
     "data": {
      "text/html": [
       "<table>\n",
       "<thead><tr><th scope=col>variable</th></tr></thead>\n",
       "<tbody>\n",
       "\t<tr><td>thalach              </td></tr>\n",
       "\t<tr><td>oldpeak              </td></tr>\n",
       "\t<tr><td>ca                   </td></tr>\n",
       "\t<tr><td>cpnon-anginal_pain   </td></tr>\n",
       "\t<tr><td>thalreversable_defect</td></tr>\n",
       "\t<tr><td>thal?                </td></tr>\n",
       "</tbody>\n",
       "</table>\n"
      ],
      "text/latex": [
       "\\begin{tabular}{r|l}\n",
       " variable\\\\\n",
       "\\hline\n",
       "\t thalach              \\\\\n",
       "\t oldpeak              \\\\\n",
       "\t ca                   \\\\\n",
       "\t cpnon-anginal\\_pain   \\\\\n",
       "\t thalreversable\\_defect\\\\\n",
       "\t thal?                \\\\\n",
       "\\end{tabular}\n"
      ],
      "text/markdown": [
       "\n",
       "| variable |\n",
       "|---|\n",
       "| thalach               |\n",
       "| oldpeak               |\n",
       "| ca                    |\n",
       "| cpnon-anginal_pain    |\n",
       "| thalreversable_defect |\n",
       "| thal?                 |\n",
       "\n"
      ],
      "text/plain": [
       "  variable             \n",
       "1 thalach              \n",
       "2 oldpeak              \n",
       "3 ca                   \n",
       "4 cpnon-anginal_pain   \n",
       "5 thalreversable_defect\n",
       "6 thal?                "
      ]
     },
     "metadata": {},
     "output_type": "display_data"
    }
   ],
   "source": [
    " rm(list = ls())\n",
    "\n",
    "source(\"helpers.r\")\n",
    "library(tidyverse)\n",
    "library(glmnet)\n",
    "\n",
    "df <- get_training_df_clean()\n",
    "\n",
    "arg <- preProcess(df, method=c(\"center\", \"scale\"))\n",
    "training_scaled <- predict(arg, df)\n",
    "\n",
    "x <- model.matrix(target ~ ., training_scaled)[,-1]\n",
    "y <- ifelse(training_scaled$target == \"no_disease\", 0, 1)\n",
    "\n",
    "lambdas = seq(0.25, 0, -0.0001)\n",
    "fit <- glmnet(x, y, alpha = 1, family = \"binomial\", lambda = lambdas, standardize = FALSE)\n",
    "\n",
    "coef <- as_tibble(as.matrix(fit$beta))\n",
    "colnames(coef) = lambdas\n",
    "\n",
    "\n",
    "coef <- coef %>% \n",
    "  add_column(variable = rownames(fit$beta))%>% \n",
    "  gather(\"lambda\", \"coef\", -variable) %>% \n",
    "  mutate(lambda = as.numeric(lambda),\n",
    "         coef = abs(coef))\n",
    "\n",
    "degrees_freedom <- coef %>% \n",
    "  group_by(lambda) %>%\n",
    "  summarise(df = sum(coef > 0))\n",
    "\n",
    "coef <- coef %>%\n",
    "  left_join(degrees_freedom, by = \"lambda\")\n",
    "\n",
    "coef %>%\n",
    "  filter(df == 6 & coef != 0) %>%\n",
    "  distinct(variable)\n"
   ]
  },
  {
   "cell_type": "code",
   "execution_count": 5,
   "metadata": {},
   "outputs": [
    {
     "name": "stderr",
     "output_type": "stream",
     "text": [
      "Parsed with column specification:\n",
      "cols(\n",
      "  age = col_double(),\n",
      "  sex = col_double(),\n",
      "  cp = col_double(),\n",
      "  trestbps = col_double(),\n",
      "  chol = col_double(),\n",
      "  fbs = col_double(),\n",
      "  restecg = col_double(),\n",
      "  thalach = col_double(),\n",
      "  exang = col_double(),\n",
      "  oldpeak = col_double(),\n",
      "  slope = col_double(),\n",
      "  ca = col_double(),\n",
      "  thal = col_double(),\n",
      "  target = col_double()\n",
      ")\n",
      "Parsed with column specification:\n",
      "cols(\n",
      "  age = col_double(),\n",
      "  sex = col_double(),\n",
      "  cp = col_double(),\n",
      "  trestbps = col_double(),\n",
      "  chol = col_double(),\n",
      "  fbs = col_double(),\n",
      "  restecg = col_double(),\n",
      "  thalach = col_double(),\n",
      "  exang = col_double(),\n",
      "  oldpeak = col_double(),\n",
      "  slope = col_double(),\n",
      "  ca = col_double(),\n",
      "  thal = col_double(),\n",
      "  target = col_double()\n",
      ")\n"
     ]
    },
    {
     "data": {
      "image/png": "[encoded data removed]",
      "text/plain": [
       "plot without title"
      ]
     },
     "metadata": {},
     "output_type": "display_data"
    }
   ],
   "source": [
    "learner_A <- function(training, test) {\n",
    "  name <- \"glm all variables\"\n",
    "    \n",
    "  fit <- glm(target ~ ., data=training, family = binomial(link = \"logit\"))\n",
    "  y_probabilities <- predict(fit, test,  type=\"response\")\n",
    "  y_true <- ifelse(test$target == \"no_disease\", 0, 1)\n",
    "    \n",
    "  auc <- AUC(y_true = y_true, y_pred = y_probabilities)\n",
    "  return(list(name = name, auc = auc))\n",
    "}\n",
    "\n",
    "learner_B <- function(training, test) {   \n",
    "  name <- \"glm 5 variables\"\n",
    "    \n",
    "  fit <- glm(target ~ thalach + oldpeak + ca + cp + thal, data=training, family = binomial(link = \"logit\"))\n",
    "  y_probabilities <- predict(fit, test,  type=\"response\")\n",
    "  y_true <- ifelse(test$target == \"no_disease\", 0, 1)\n",
    "    \n",
    "  auc <- AUC(y_true = y_true, y_pred = y_probabilities)\n",
    "  return(list(name = name, auc = auc))\n",
    "\n",
    "}\n",
    "\n",
    "\n",
    "result <- cross_validation_selection(learner_A, learner_B)\n",
    "\n",
    "\n",
    "plot_result(result)"
   ]
  },
  {
   "cell_type": "markdown",
   "metadata": {},
   "source": [
    "The result includes five variables, because there occoure two levels of `thal`. And here we are, the regularization yiels a bette model!"
   ]
  }
 ],
 "metadata": {
  "kernelspec": {
   "display_name": "R",
   "language": "R",
   "name": "ir"
  },
  "language_info": {
   "codemirror_mode": "r",
   "file_extension": ".r",
   "mimetype": "text/x-r-source",
   "name": "R",
   "pygments_lexer": "r",
   "version": "3.6.0"
  }
 },
 "nbformat": 4,
 "nbformat_minor": 2
}
