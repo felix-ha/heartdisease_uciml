{
 "cells": [
  {
   "cell_type": "markdown",
   "metadata": {},
   "source": [
    "# Interpretation of the AUC"
   ]
  },
  {
   "cell_type": "code",
   "execution_count": 1,
   "metadata": {},
   "outputs": [
    {
     "name": "stderr",
     "output_type": "stream",
     "text": [
      "Warning message:\n",
      "\"package 'tidyverse' was built under R version 3.6.1\"Registered S3 methods overwritten by 'ggplot2':\n",
      "  method         from \n",
      "  [.quosures     rlang\n",
      "  c.quosures     rlang\n",
      "  print.quosures rlang\n",
      "-- Attaching packages --------------------------------------- tidyverse 1.2.1 --\n",
      "v ggplot2 3.1.1       v purrr   0.3.2  \n",
      "v tibble  2.1.1       v dplyr   0.8.0.1\n",
      "v tidyr   0.8.3       v stringr 1.4.0  \n",
      "v readr   1.3.1       v forcats 0.4.0  \n",
      "-- Conflicts ------------------------------------------ tidyverse_conflicts() --\n",
      "x dplyr::filter() masks stats::filter()\n",
      "x dplyr::lag()    masks stats::lag()\n",
      "Warning message:\n",
      "\"package 'caret' was built under R version 3.6.1\"Loading required package: lattice\n",
      "\n",
      "Attaching package: 'caret'\n",
      "\n",
      "The following object is masked from 'package:purrr':\n",
      "\n",
      "    lift\n",
      "\n",
      "Warning message:\n",
      "\"package 'MLmetrics' was built under R version 3.6.1\"\n",
      "Attaching package: 'MLmetrics'\n",
      "\n",
      "The following objects are masked from 'package:caret':\n",
      "\n",
      "    MAE, RMSE\n",
      "\n",
      "The following object is masked from 'package:base':\n",
      "\n",
      "    Recall\n",
      "\n",
      "Parsed with column specification:\n",
      "cols(\n",
      "  age = col_double(),\n",
      "  sex = col_double(),\n",
      "  cp = col_double(),\n",
      "  trestbps = col_double(),\n",
      "  chol = col_double(),\n",
      "  fbs = col_double(),\n",
      "  restecg = col_double(),\n",
      "  thalach = col_double(),\n",
      "  exang = col_double(),\n",
      "  oldpeak = col_double(),\n",
      "  slope = col_double(),\n",
      "  ca = col_double(),\n",
      "  thal = col_double(),\n",
      "  target = col_double()\n",
      ")\n"
     ]
    }
   ],
   "source": [
    "source(\"helpers.r\")\n",
    "\n",
    "df <- get_training_df_clean()\n",
    "\n",
    "fit <- glm(target ~ ., df, family = binomial(link = \"logit\"))\n",
    "y_probabilities <- predict(fit, df,  type=\"response\")\n",
    "y_true <- ifelse(df$target == \"no_disease\", 0, 1)\n",
    "auc <- AUC(y_true = y_true, y_pred = y_probabilities)"
   ]
  },
  {
   "cell_type": "markdown",
   "metadata": {},
   "source": [
    "Now let's draw some random samples"
   ]
  },
  {
   "cell_type": "code",
   "execution_count": 2,
   "metadata": {},
   "outputs": [
    {
     "name": "stdout",
     "output_type": "stream",
     "text": [
      "[1] \"auc 0.943596268023749 mean 0.943583\"\n"
     ]
    }
   ],
   "source": [
    "N <- 1e6\n",
    "\n",
    "df_1 <- df %>%\n",
    "  filter(target == \"disease\") %>%\n",
    "  sample_n(N, replace = TRUE)\n",
    "\n",
    "y_probabilities_1 <- predict(fit, df_1,  type=\"response\")\n",
    "\n",
    "\n",
    "df_0 <- df %>%\n",
    "  filter(target != \"disease\") %>%\n",
    "  sample_n(N, replace = TRUE)\n",
    "\n",
    "y_probabilities_0 <- predict(fit, df_0,  type=\"response\")\n",
    "\n",
    "mean_higher_prob <- mean(y_probabilities_1 > y_probabilities_0)\n",
    "\n",
    "print(paste0(\"auc \", auc, \" mean \", mean_higher_prob))"
   ]
  }
 ],
 "metadata": {
  "kernelspec": {
   "display_name": "R",
   "language": "R",
   "name": "ir"
  },
  "language_info": {
   "codemirror_mode": "r",
   "file_extension": ".r",
   "mimetype": "text/x-r-source",
   "name": "R",
   "pygments_lexer": "r",
   "version": "3.6.0"
  }
 },
 "nbformat": 4,
 "nbformat_minor": 2
}
