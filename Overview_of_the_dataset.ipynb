{
 "cells": [
  {
   "cell_type": "markdown",
   "metadata": {},
   "source": [
    "# Overview of the data set\n",
    "\n",
    "The dataset is from the  [uci machine learning repository](https://archive.ics.uci.edu/ml/datasets/Heart+Disease). Here is a description of every variable taken from the uci repository:\n",
    "\n",
    "`cp`: chest pain type:\n",
    "1. typical angina\n",
    "2. atypical angina\n",
    "3. non-anginal pain\n",
    "4. asymptomatic \n",
    "\n",
    "`trestbps`: resting blood pressure (in mm Hg on admission to the hospital)\n",
    "\n",
    "`fbs`: fasting blood sugar > 120 mg/dl: 1 = true and 0 = false\n",
    "\n",
    "`restecg`: resting electrocardiographic results\n",
    "0. normal\n",
    "1. having ST-T wave abnormality (T wave inversions and/or ST elevation or depression of > 0.05 mV)\n",
    "2. showing probable or definite left ventricular hypertrophy by Estes' criteria\n",
    "\n",
    "`thalach`: maximum heart rate achieved\n",
    "\n",
    "`exang`: exercise induced angina: 1 = yes and 0 = no\n",
    "\n",
    "`oldpeak`: ST depression induced by exercise relative to rest\n",
    "\n",
    "`slope`: the slope of the peak exercise ST segment\n",
    "1. upsloping\n",
    "2. flat\n",
    "3. downsloping \n",
    "\n",
    "`ca`: number of major vessels (0-3) colored by flourosopy \n",
    "\n",
    "`thal`:  3 = normal; 6 = fixed defect; 7 = reversable defect\n",
    "\n",
    "`age`: age in years\n",
    "\n",
    "`chol`: serum cholestoral in mg/dl\n",
    "\n",
    "`sex`: 1 = male and 0 = female\n",
    "\n",
    "`target`: 1 = disease; 0 = no disease\n",
    "\n",
    "I saved a copy of the data in the `data.csv` file."
   ]
  },
  {
   "cell_type": "code",
   "execution_count": 1,
   "metadata": {},
   "outputs": [
    {
     "name": "stderr",
     "output_type": "stream",
     "text": [
      "Warning message:\n",
      "\"package 'tidyverse' was built under R version 3.6.1\"Registered S3 methods overwritten by 'ggplot2':\n",
      "  method         from \n",
      "  [.quosures     rlang\n",
      "  c.quosures     rlang\n",
      "  print.quosures rlang\n",
      "-- Attaching packages --------------------------------------- tidyverse 1.2.1 --\n",
      "v ggplot2 3.1.1       v purrr   0.3.2  \n",
      "v tibble  2.1.1       v dplyr   0.8.0.1\n",
      "v tidyr   0.8.3       v stringr 1.4.0  \n",
      "v readr   1.3.1       v forcats 0.4.0  \n",
      "-- Conflicts ------------------------------------------ tidyverse_conflicts() --\n",
      "x dplyr::filter() masks stats::filter()\n",
      "x dplyr::lag()    masks stats::lag()\n",
      "Parsed with column specification:\n",
      "cols(\n",
      "  age = col_double(),\n",
      "  sex = col_double(),\n",
      "  cp = col_double(),\n",
      "  trestbps = col_double(),\n",
      "  chol = col_double(),\n",
      "  fbs = col_double(),\n",
      "  restecg = col_double(),\n",
      "  thalach = col_double(),\n",
      "  exang = col_double(),\n",
      "  oldpeak = col_double(),\n",
      "  slope = col_double(),\n",
      "  ca = col_double(),\n",
      "  thal = col_double(),\n",
      "  target = col_double()\n",
      ")\n"
     ]
    }
   ],
   "source": [
    "library(tidyverse)\n",
    "df <- read_csv(\"data.csv\")"
   ]
  },
  {
   "cell_type": "markdown",
   "metadata": {},
   "source": [
    "As one can see in the ouput of the `read_csv` function, every variable is from the type _double_. I will transfrom the variables corresponding to the description: "
   ]
  },
  {
   "cell_type": "code",
   "execution_count": 2,
   "metadata": {},
   "outputs": [],
   "source": [
    "df  <- df %>%\n",
    "    transmute(age,\n",
    "              thalach,\n",
    "              trestbps,\n",
    "              oldpeak,\n",
    "              ca,\n",
    "              chol,\n",
    "              restecg = factor(df$restecg, levels = c(0,1,2), labels = c(\"normal\", \"ST-T_abnormalty\", \"hypertrophy\")),\n",
    "              fbs = factor(df$fbs, levels = c(0,1), labels = c(\"no\", \"yes\")),\n",
    "              sex = factor(df$sex, levels = c(0,1), labels = c(\"Female\", \"Male\")),\n",
    "              exang = factor(df$exang, levels = c(0,1), labels = c(\"no\", \"yes\")),\n",
    "              cp = factor(df$cp, levels = c(0,1,2,3), labels = c(\"typical_angina\", \"atypical_angina\",\"non-anginal_pain\", \"asymptomatic\")),\n",
    "              slope = factor(df$slope, levels = c(0,1,2), labels = c(\"upsloping\", \"flat\", \"downsloping\")),              \n",
    "              target = factor(df$target, levels = c(0,1), labels = c(\"no_disease\", \"disease\")),\n",
    "              thal = factor(df$thal,levels = c(0,1,2,3), labels = c(\"normal\", \"fixed_defect\", \"reversable_defect\", \"?\"))\n",
    "              )\n",
    "   "
   ]
  },
  {
   "cell_type": "markdown",
   "metadata": {},
   "source": [
    "I checked the output and recognized that `thal` has four instead of three levels:"
   ]
  },
  {
   "cell_type": "code",
   "execution_count": 3,
   "metadata": {},
   "outputs": [
    {
     "data": {
      "text/html": [
       "<ol class=list-inline>\n",
       "\t<li>fixed_defect</li>\n",
       "\t<li>reversable_defect</li>\n",
       "\t<li>?</li>\n",
       "\t<li>normal</li>\n",
       "</ol>\n",
       "\n",
       "<details>\n",
       "\t<summary style=display:list-item;cursor:pointer>\n",
       "\t\t<strong>Levels</strong>:\n",
       "\t</summary>\n",
       "\t<ol class=list-inline>\n",
       "\t\t<li>'normal'</li>\n",
       "\t\t<li>'fixed_defect'</li>\n",
       "\t\t<li>'reversable_defect'</li>\n",
       "\t\t<li>'?'</li>\n",
       "\t</ol>\n",
       "</details>"
      ],
      "text/latex": [
       "\\begin{enumerate*}\n",
       "\\item fixed\\_defect\n",
       "\\item reversable\\_defect\n",
       "\\item ?\n",
       "\\item normal\n",
       "\\end{enumerate*}\n",
       "\n",
       "\\emph{Levels}: \\begin{enumerate*}\n",
       "\\item 'normal'\n",
       "\\item 'fixed\\_defect'\n",
       "\\item 'reversable\\_defect'\n",
       "\\item '?'\n",
       "\\end{enumerate*}\n"
      ],
      "text/markdown": [
       "1. fixed_defect\n",
       "2. reversable_defect\n",
       "3. ?\n",
       "4. normal\n",
       "\n",
       "\n",
       "\n",
       "**Levels**: 1. 'normal'\n",
       "2. 'fixed_defect'\n",
       "3. 'reversable_defect'\n",
       "4. '?'\n",
       "\n",
       "\n"
      ],
      "text/plain": [
       "[1] fixed_defect      reversable_defect ?                 normal           \n",
       "Levels: normal fixed_defect reversable_defect ?"
      ]
     },
     "metadata": {},
     "output_type": "display_data"
    }
   ],
   "source": [
    "unique(df$thal)"
   ]
  },
  {
   "cell_type": "markdown",
   "metadata": {},
   "source": [
    "That is the reason I coded the `thal` variable with four levels. I will investiage this problem later. There are also no NA's int the data set and it consists of 303 unique observations: "
   ]
  },
  {
   "cell_type": "code",
   "execution_count": 4,
   "metadata": {},
   "outputs": [
    {
     "data": {
      "text/html": [
       "303"
      ],
      "text/latex": [
       "303"
      ],
      "text/markdown": [
       "303"
      ],
      "text/plain": [
       "[1] 303"
      ]
     },
     "metadata": {},
     "output_type": "display_data"
    },
    {
     "data": {
      "text/html": [
       "TRUE"
      ],
      "text/latex": [
       "TRUE"
      ],
      "text/markdown": [
       "TRUE"
      ],
      "text/plain": [
       "[1] TRUE"
      ]
     },
     "metadata": {},
     "output_type": "display_data"
    }
   ],
   "source": [
    "nrow(df)\n",
    "nrow(df) == nrow(drop_na(df))"
   ]
  },
  {
   "cell_type": "markdown",
   "metadata": {},
   "source": [
    "Now let's check the distribution of the target:"
   ]
  },
  {
   "cell_type": "code",
   "execution_count": 5,
   "metadata": {},
   "outputs": [
    {
     "data": {
      "text/plain": [
       "\n",
       "no_disease    disease \n",
       "       138        165 "
      ]
     },
     "metadata": {},
     "output_type": "display_data"
    },
    {
     "data": {
      "image/png": "[encoded data removed]",
      "text/plain": [
       "plot without title"
      ]
     },
     "metadata": {},
     "output_type": "display_data"
    }
   ],
   "source": [
    "table(df$target)\n",
    "\n",
    "ggplot(df, aes(x = target)) + \n",
    "geom_bar() + \n",
    "theme_bw() + \n",
    "labs(title = \"Distribution of target\") "
   ]
  },
  {
   "cell_type": "markdown",
   "metadata": {},
   "source": [
    "I would say that the data set is well balanced with respect to the target. This the last time I used the whole data set. I will use 80 % as the training set and 20 % as the test set. Optimization will be done with the training set and at the and of the analysis we will see the performance on the test set. This will be the only time that I will use the test set, hence the analysis is then over."
   ]
  },
  {
   "cell_type": "code",
   "execution_count": 6,
   "metadata": {},
   "outputs": [
    {
     "name": "stderr",
     "output_type": "stream",
     "text": [
      "Warning message:\n",
      "\"package 'caret' was built under R version 3.6.1\"Loading required package: lattice\n",
      "\n",
      "Attaching package: 'caret'\n",
      "\n",
      "The following object is masked from 'package:purrr':\n",
      "\n",
      "    lift\n",
      "\n"
     ]
    },
    {
     "data": {
      "text/plain": [
       "\n",
       "no_disease    disease \n",
       "       111        132 "
      ]
     },
     "metadata": {},
     "output_type": "display_data"
    },
    {
     "data": {
      "text/html": [
       "243"
      ],
      "text/latex": [
       "243"
      ],
      "text/markdown": [
       "243"
      ],
      "text/plain": [
       "[1] 243"
      ]
     },
     "metadata": {},
     "output_type": "display_data"
    },
    {
     "data": {
      "text/html": [
       "60"
      ],
      "text/latex": [
       "60"
      ],
      "text/markdown": [
       "60"
      ],
      "text/plain": [
       "[1] 60"
      ]
     },
     "metadata": {},
     "output_type": "display_data"
    }
   ],
   "source": [
    "library(caret)  \n",
    "inTraining <- createDataPartition(df$target, p = 0.8, list = FALSE)\n",
    "df_train <- df[ inTraining,]\n",
    "df_test  <- df[-inTraining,]\n",
    "\n",
    "table(df_train$target)\n",
    "nrow(df_train)\n",
    "nrow(df_test)"
   ]
  },
  {
   "cell_type": "markdown",
   "metadata": {},
   "source": [
    "I wrote two functions for this task:  "
   ]
  },
  {
   "cell_type": "code",
   "execution_count": 7,
   "metadata": {},
   "outputs": [],
   "source": [
    "get_df <- function(df){\n",
    "  result <- df %>%\n",
    "    transmute(age,\n",
    "              thalach,\n",
    "              trestbps,\n",
    "              oldpeak,\n",
    "              ca,\n",
    "              chol,\n",
    "              restecg = factor(df$restecg, levels = c(0,1,2), labels = c(\"normal\", \"ST-T_abnormalty\", \"hypertrophy\")),\n",
    "              fbs = factor(df$fbs, levels = c(0,1), labels = c(\"no\", \"yes\")),\n",
    "              sex = factor(df$sex, levels = c(0,1), labels = c(\"Female\", \"Male\")),\n",
    "              exang = factor(df$exang, levels = c(0,1), labels = c(\"no\", \"yes\")),\n",
    "              cp = factor(df$cp, levels = c(0,1,2,3), labels = c(\"typical_angina\", \"atypical_angina\",\"non-anginal_pain\", \"asymptomatic\")),\n",
    "              slope = factor(df$slope, levels = c(0,1,2), labels = c(\"upsloping\", \"flat\", \"downsloping\")),              \n",
    "              target = factor(df$target, levels = c(0,1), labels = c(\"no_disease\", \"disease\")),\n",
    "              thal = factor(df$thal,levels = c(0,1,2,3), labels = c(\"normal\", \"fixed_defect\", \"reversable_defect\", \"?\"))\n",
    "    )\n",
    "}\n",
    "\n",
    "get_training_df <- function(p = 0.8) {\n",
    "  set.seed(25)\n",
    "  df_raw <- read_csv(\"data.csv\")\n",
    "  df <- get_df(df_raw)\n",
    "  inTraining <- createDataPartition(dft$target, p = p, list = FALSE)\n",
    "  training <- df[ inTraining,]\n",
    "  # testing  <- df[-inTraining,]\n",
    "  return(training)\n",
    "}\n",
    "\n"
   ]
  },
  {
   "cell_type": "markdown",
   "metadata": {},
   "source": [
    "These functions are in the `helpers.r` script. I will source this script at the begin of every other notebook and call the `get_training_df` function to receive the training set:"
   ]
  },
  {
   "cell_type": "code",
   "execution_count": 8,
   "metadata": {},
   "outputs": [
    {
     "name": "stderr",
     "output_type": "stream",
     "text": [
      "Parsed with column specification:\n",
      "cols(\n",
      "  age = col_double(),\n",
      "  sex = col_double(),\n",
      "  cp = col_double(),\n",
      "  trestbps = col_double(),\n",
      "  chol = col_double(),\n",
      "  fbs = col_double(),\n",
      "  restecg = col_double(),\n",
      "  thalach = col_double(),\n",
      "  exang = col_double(),\n",
      "  oldpeak = col_double(),\n",
      "  slope = col_double(),\n",
      "  ca = col_double(),\n",
      "  thal = col_double(),\n",
      "  target = col_double()\n",
      ")\n"
     ]
    }
   ],
   "source": [
    "source(\"helpers.r\")\n",
    "df <- get_training_df()"
   ]
  }
 ],
 "metadata": {
  "kernelspec": {
   "display_name": "R",
   "language": "R",
   "name": "ir"
  },
  "language_info": {
   "codemirror_mode": "r",
   "file_extension": ".r",
   "mimetype": "text/x-r-source",
   "name": "R",
   "pygments_lexer": "r",
   "version": "3.6.0"
  }
 },
 "nbformat": 4,
 "nbformat_minor": 2
}
