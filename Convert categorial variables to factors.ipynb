{
 "cells": [
  {
   "cell_type": "markdown",
   "metadata": {},
   "source": [
    "# Convert categorial variables to factors\n",
    "The variable `exang` is categorial and has two levels: exercise induced angina: 1 = yes and 0 = no. Let's inspect this in the raw data set: "
   ]
  },
  {
   "cell_type": "code",
   "execution_count": 1,
   "metadata": {},
   "outputs": [
    {
     "name": "stderr",
     "output_type": "stream",
     "text": [
      "Warning message:\n",
      "\"package 'tidyverse' was built under R version 3.6.1\"Registered S3 methods overwritten by 'ggplot2':\n",
      "  method         from \n",
      "  [.quosures     rlang\n",
      "  c.quosures     rlang\n",
      "  print.quosures rlang\n",
      "-- Attaching packages --------------------------------------- tidyverse 1.2.1 --\n",
      "v ggplot2 3.1.1       v purrr   0.3.2  \n",
      "v tibble  2.1.1       v dplyr   0.8.0.1\n",
      "v tidyr   0.8.3       v stringr 1.4.0  \n",
      "v readr   1.3.1       v forcats 0.4.0  \n",
      "-- Conflicts ------------------------------------------ tidyverse_conflicts() --\n",
      "x dplyr::filter() masks stats::filter()\n",
      "x dplyr::lag()    masks stats::lag()\n",
      "Parsed with column specification:\n",
      "cols(\n",
      "  age = col_double(),\n",
      "  sex = col_double(),\n",
      "  cp = col_double(),\n",
      "  trestbps = col_double(),\n",
      "  chol = col_double(),\n",
      "  fbs = col_double(),\n",
      "  restecg = col_double(),\n",
      "  thalach = col_double(),\n",
      "  exang = col_double(),\n",
      "  oldpeak = col_double(),\n",
      "  slope = col_double(),\n",
      "  ca = col_double(),\n",
      "  thal = col_double(),\n",
      "  target = col_double()\n",
      ")\n"
     ]
    },
    {
     "data": {
      "text/html": [
       "'numeric'"
      ],
      "text/latex": [
       "'numeric'"
      ],
      "text/markdown": [
       "'numeric'"
      ],
      "text/plain": [
       "[1] \"numeric\""
      ]
     },
     "metadata": {},
     "output_type": "display_data"
    }
   ],
   "source": [
    "library(tidyverse)\n",
    "df <- read_csv(\"data.csv\")\n",
    "exang  <- df$exang\n",
    "class(exang)"
   ]
  },
  {
   "cell_type": "markdown",
   "metadata": {},
   "source": [
    "The type of `exang` ist numeric. Now convert this to a factor:"
   ]
  },
  {
   "cell_type": "code",
   "execution_count": 2,
   "metadata": {},
   "outputs": [
    {
     "data": {
      "text/html": [
       "'factor'"
      ],
      "text/latex": [
       "'factor'"
      ],
      "text/markdown": [
       "'factor'"
      ],
      "text/plain": [
       "[1] \"factor\""
      ]
     },
     "metadata": {},
     "output_type": "display_data"
    }
   ],
   "source": [
    "exang_factor = factor(df$exang, levels = c(0,1), labels = c(\"no\", \"yes\"))\n",
    "class(exang_factor)"
   ]
  },
  {
   "cell_type": "markdown",
   "metadata": {},
   "source": [
    "Compare the two vectors to check if the tranformation was correct, 0 should correspond to no and 1 to yes:"
   ]
  },
  {
   "cell_type": "code",
   "execution_count": 4,
   "metadata": {},
   "outputs": [
    {
     "data": {
      "text/html": [
       "<table>\n",
       "<thead><tr><th scope=col>exang</th><th scope=col>exang_factor</th></tr></thead>\n",
       "<tbody>\n",
       "\t<tr><td>0  </td><td>no </td></tr>\n",
       "\t<tr><td>0  </td><td>no </td></tr>\n",
       "\t<tr><td>0  </td><td>no </td></tr>\n",
       "\t<tr><td>0  </td><td>no </td></tr>\n",
       "\t<tr><td>1  </td><td>yes</td></tr>\n",
       "\t<tr><td>0  </td><td>no </td></tr>\n",
       "\t<tr><td>0  </td><td>no </td></tr>\n",
       "\t<tr><td>0  </td><td>no </td></tr>\n",
       "\t<tr><td>0  </td><td>no </td></tr>\n",
       "\t<tr><td>0  </td><td>no </td></tr>\n",
       "\t<tr><td>0  </td><td>no </td></tr>\n",
       "\t<tr><td>0  </td><td>no </td></tr>\n",
       "\t<tr><td>0  </td><td>no </td></tr>\n",
       "\t<tr><td>1  </td><td>yes</td></tr>\n",
       "\t<tr><td>0  </td><td>no </td></tr>\n",
       "\t<tr><td>0  </td><td>no </td></tr>\n",
       "\t<tr><td>0  </td><td>no </td></tr>\n",
       "\t<tr><td>0  </td><td>no </td></tr>\n",
       "\t<tr><td>0  </td><td>no </td></tr>\n",
       "\t<tr><td>0  </td><td>no </td></tr>\n",
       "</tbody>\n",
       "</table>\n"
      ],
      "text/latex": [
       "\\begin{tabular}{r|ll}\n",
       " exang & exang\\_factor\\\\\n",
       "\\hline\n",
       "\t 0   & no \\\\\n",
       "\t 0   & no \\\\\n",
       "\t 0   & no \\\\\n",
       "\t 0   & no \\\\\n",
       "\t 1   & yes\\\\\n",
       "\t 0   & no \\\\\n",
       "\t 0   & no \\\\\n",
       "\t 0   & no \\\\\n",
       "\t 0   & no \\\\\n",
       "\t 0   & no \\\\\n",
       "\t 0   & no \\\\\n",
       "\t 0   & no \\\\\n",
       "\t 0   & no \\\\\n",
       "\t 1   & yes\\\\\n",
       "\t 0   & no \\\\\n",
       "\t 0   & no \\\\\n",
       "\t 0   & no \\\\\n",
       "\t 0   & no \\\\\n",
       "\t 0   & no \\\\\n",
       "\t 0   & no \\\\\n",
       "\\end{tabular}\n"
      ],
      "text/markdown": [
       "\n",
       "| exang | exang_factor |\n",
       "|---|---|\n",
       "| 0   | no  |\n",
       "| 0   | no  |\n",
       "| 0   | no  |\n",
       "| 0   | no  |\n",
       "| 1   | yes |\n",
       "| 0   | no  |\n",
       "| 0   | no  |\n",
       "| 0   | no  |\n",
       "| 0   | no  |\n",
       "| 0   | no  |\n",
       "| 0   | no  |\n",
       "| 0   | no  |\n",
       "| 0   | no  |\n",
       "| 1   | yes |\n",
       "| 0   | no  |\n",
       "| 0   | no  |\n",
       "| 0   | no  |\n",
       "| 0   | no  |\n",
       "| 0   | no  |\n",
       "| 0   | no  |\n",
       "\n"
      ],
      "text/plain": [
       "   exang exang_factor\n",
       "1  0     no          \n",
       "2  0     no          \n",
       "3  0     no          \n",
       "4  0     no          \n",
       "5  1     yes         \n",
       "6  0     no          \n",
       "7  0     no          \n",
       "8  0     no          \n",
       "9  0     no          \n",
       "10 0     no          \n",
       "11 0     no          \n",
       "12 0     no          \n",
       "13 0     no          \n",
       "14 1     yes         \n",
       "15 0     no          \n",
       "16 0     no          \n",
       "17 0     no          \n",
       "18 0     no          \n",
       "19 0     no          \n",
       "20 0     no          "
      ]
     },
     "metadata": {},
     "output_type": "display_data"
    }
   ],
   "source": [
    "head(tibble(exang = exang, exang_factor = exang_factor), n = 20)"
   ]
  },
  {
   "cell_type": "markdown",
   "metadata": {},
   "source": [
    ":+1:"
   ]
  }
 ],
 "metadata": {
  "kernelspec": {
   "display_name": "R",
   "language": "R",
   "name": "ir"
  },
  "language_info": {
   "codemirror_mode": "r",
   "file_extension": ".r",
   "mimetype": "text/x-r-source",
   "name": "R",
   "pygments_lexer": "r",
   "version": "3.6.0"
  }
 },
 "nbformat": 4,
 "nbformat_minor": 2
}
