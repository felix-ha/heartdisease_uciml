{
 "cells": [
  {
   "cell_type": "markdown",
   "metadata": {},
   "source": [
    "# Problem with rare categorial data\n",
    "If you look at `restecg` and `thal` you that there is one level with a small number of observed cases."
   ]
  },
  {
   "cell_type": "code",
   "execution_count": 1,
   "metadata": {},
   "outputs": [
    {
     "name": "stderr",
     "output_type": "stream",
     "text": [
      "Warning message:\n",
      "\"package 'tidyverse' was built under R version 3.6.1\"Registered S3 methods overwritten by 'ggplot2':\n",
      "  method         from \n",
      "  [.quosures     rlang\n",
      "  c.quosures     rlang\n",
      "  print.quosures rlang\n",
      "-- Attaching packages --------------------------------------- tidyverse 1.2.1 --\n",
      "v ggplot2 3.1.1       v purrr   0.3.2  \n",
      "v tibble  2.1.1       v dplyr   0.8.0.1\n",
      "v tidyr   0.8.3       v stringr 1.4.0  \n",
      "v readr   1.3.1       v forcats 0.4.0  \n",
      "-- Conflicts ------------------------------------------ tidyverse_conflicts() --\n",
      "x dplyr::filter() masks stats::filter()\n",
      "x dplyr::lag()    masks stats::lag()\n",
      "Warning message:\n",
      "\"package 'caret' was built under R version 3.6.1\"Loading required package: lattice\n",
      "\n",
      "Attaching package: 'caret'\n",
      "\n",
      "The following object is masked from 'package:purrr':\n",
      "\n",
      "    lift\n",
      "\n",
      "Parsed with column specification:\n",
      "cols(\n",
      "  age = col_double(),\n",
      "  sex = col_double(),\n",
      "  cp = col_double(),\n",
      "  trestbps = col_double(),\n",
      "  chol = col_double(),\n",
      "  fbs = col_double(),\n",
      "  restecg = col_double(),\n",
      "  thalach = col_double(),\n",
      "  exang = col_double(),\n",
      "  oldpeak = col_double(),\n",
      "  slope = col_double(),\n",
      "  ca = col_double(),\n",
      "  thal = col_double(),\n",
      "  target = col_double()\n",
      ")\n"
     ]
    }
   ],
   "source": [
    "source(\"helpers.r\")\n",
    "df <- get_training_df()"
   ]
  },
  {
   "cell_type": "code",
   "execution_count": 2,
   "metadata": {},
   "outputs": [
    {
     "data": {
      "text/html": [
       "<table>\n",
       "<thead><tr><th scope=col>restecg</th><th scope=col>n</th></tr></thead>\n",
       "<tbody>\n",
       "\t<tr><td>normal         </td><td>115            </td></tr>\n",
       "\t<tr><td>ST-T_abnormalty</td><td>124            </td></tr>\n",
       "\t<tr><td>hypertrophy    </td><td>  4            </td></tr>\n",
       "</tbody>\n",
       "</table>\n"
      ],
      "text/latex": [
       "\\begin{tabular}{r|ll}\n",
       " restecg & n\\\\\n",
       "\\hline\n",
       "\t normal          & 115            \\\\\n",
       "\t ST-T\\_abnormalty & 124              \\\\\n",
       "\t hypertrophy     &   4            \\\\\n",
       "\\end{tabular}\n"
      ],
      "text/markdown": [
       "\n",
       "| restecg | n |\n",
       "|---|---|\n",
       "| normal          | 115             |\n",
       "| ST-T_abnormalty | 124             |\n",
       "| hypertrophy     |   4             |\n",
       "\n"
      ],
      "text/plain": [
       "  restecg         n  \n",
       "1 normal          115\n",
       "2 ST-T_abnormalty 124\n",
       "3 hypertrophy       4"
      ]
     },
     "metadata": {},
     "output_type": "display_data"
    },
    {
     "data": {
      "text/html": [
       "<table>\n",
       "<thead><tr><th scope=col>thal</th><th scope=col>n</th></tr></thead>\n",
       "<tbody>\n",
       "\t<tr><td>normal           </td><td>  2              </td></tr>\n",
       "\t<tr><td>fixed_defect     </td><td> 16              </td></tr>\n",
       "\t<tr><td>reversable_defect</td><td>131              </td></tr>\n",
       "\t<tr><td>?                </td><td> 94              </td></tr>\n",
       "</tbody>\n",
       "</table>\n"
      ],
      "text/latex": [
       "\\begin{tabular}{r|ll}\n",
       " thal & n\\\\\n",
       "\\hline\n",
       "\t normal            &   2              \\\\\n",
       "\t fixed\\_defect      &  16                \\\\\n",
       "\t reversable\\_defect & 131                \\\\\n",
       "\t ?                 &  94              \\\\\n",
       "\\end{tabular}\n"
      ],
      "text/markdown": [
       "\n",
       "| thal | n |\n",
       "|---|---|\n",
       "| normal            |   2               |\n",
       "| fixed_defect      |  16               |\n",
       "| reversable_defect | 131               |\n",
       "| ?                 |  94               |\n",
       "\n"
      ],
      "text/plain": [
       "  thal              n  \n",
       "1 normal              2\n",
       "2 fixed_defect       16\n",
       "3 reversable_defect 131\n",
       "4 ?                  94"
      ]
     },
     "metadata": {},
     "output_type": "display_data"
    }
   ],
   "source": [
    "df %>% count(restecg)\n",
    "df %>% count(thal)"
   ]
  },
  {
   "cell_type": "markdown",
   "metadata": {},
   "source": [
    "This leads to problems when evaluating a models'performance with cross validation. Image fitting a model with a training set where the level `hypertrophy` from the variable `restecg` is not present. What should the model do when this level appears in an observation of the test set? R says: \n",
    "\n",
    "`Error in model.frame.default(Terms, newdata, na.action = na.action, xlev = object$xlevels) : \n",
    "  factor restecg has new levels hypertrophy`\n",
    "  \n",
    "  This makes sence if you look at how a logistic regression for example treats categorial variables when dummy encoding is used. I will solve this problem for now by just throwing these observations out of the data set. I treat those as outliers and ignore them. "
   ]
  },
  {
   "cell_type": "code",
   "execution_count": 3,
   "metadata": {},
   "outputs": [],
   "source": [
    "get_clean_df <- function(df) {\n",
    "  \n",
    "  df <- df %>%\n",
    "    filter(restecg != 2) %>%\n",
    "    filter(thal != 0)\n",
    "\n",
    "\n",
    "  result <- df %>%\n",
    "    transmute(age,\n",
    "              thalach,\n",
    "              trestbps,\n",
    "              oldpeak,\n",
    "              ca,\n",
    "              chol,\n",
    "              restecg = factor(df$restecg, levels = c(0,1), labels = c(\"normal\", \"ST-T_abnormalty\")),\n",
    "              fbs = factor(df$fbs, levels = c(0,1), labels = c(\"no\", \"yes\")),\n",
    "              sex = factor(df$sex, levels = c(0,1), labels = c(\"Female\", \"Male\")),\n",
    "              exang = factor(df$exang, levels = c(0,1), labels = c(\"no\", \"yes\")),\n",
    "              cp = factor(df$cp, levels = c(0,1,2,3), labels = c(\"typical_angina\", \"atypical_angina\",\"non-anginal_pain\", \"asymptomatic\")),\n",
    "              slope = factor(df$slope, levels = c(0,1,2), labels = c(\"upsloping\", \"flat\", \"downsloping\")),\n",
    "              target = factor(df$target, levels = c(0,1), labels = c(\"no_disease\", \"disease\")),\n",
    "              thal = factor(df$thal,levels = c(1,2,3), labels = c(\"fixed_defect\", \"reversable_defect\", \"?\"))\n",
    "    )\n",
    "}\n",
    "\n",
    "get_training_df_clean <- function(p = 0.8) {\n",
    "  set.seed(25)\n",
    "  df_raw <- read_csv(\"data.csv\")\n",
    "  df <- get_clean_df(df_raw)\n",
    "  inTraining <- createDataPartition(df$target, p = p, list = FALSE)\n",
    "  training <- df[inTraining,]\n",
    "  # testing  <- df[-inTraining,]\n",
    "  return(training)\n",
    "}"
   ]
  },
  {
   "cell_type": "markdown",
   "metadata": {},
   "source": [
    "From now on i will use this function to get the training data set. "
   ]
  }
 ],
 "metadata": {
  "kernelspec": {
   "display_name": "R",
   "language": "R",
   "name": "ir"
  },
  "language_info": {
   "codemirror_mode": "r",
   "file_extension": ".r",
   "mimetype": "text/x-r-source",
   "name": "R",
   "pygments_lexer": "r",
   "version": "3.6.0"
  }
 },
 "nbformat": 4,
 "nbformat_minor": 2
}
