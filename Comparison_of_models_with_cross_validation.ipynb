{
 "cells": [
  {
   "cell_type": "markdown",
   "metadata": {},
   "source": [
    "# Comparison of models with cross validation"
   ]
  },
  {
   "cell_type": "code",
   "execution_count": 1,
   "metadata": {},
   "outputs": [
    {
     "name": "stderr",
     "output_type": "stream",
     "text": [
      "Warning message:\n",
      "\"package 'caret' was built under R version 3.6.1\"Loading required package: lattice\n",
      "Loading required package: ggplot2\n",
      "Registered S3 methods overwritten by 'ggplot2':\n",
      "  method         from \n",
      "  [.quosures     rlang\n",
      "  c.quosures     rlang\n",
      "  print.quosures rlang\n",
      "Warning message:\n",
      "\"package 'MLmetrics' was built under R version 3.6.1\"\n",
      "Attaching package: 'MLmetrics'\n",
      "\n",
      "The following objects are masked from 'package:caret':\n",
      "\n",
      "    MAE, RMSE\n",
      "\n",
      "The following object is masked from 'package:base':\n",
      "\n",
      "    Recall\n",
      "\n",
      "Warning message:\n",
      "\"package 'tidyverse' was built under R version 3.6.1\"-- Attaching packages --------------------------------------- tidyverse 1.2.1 --\n",
      "v tibble  2.1.1       v purrr   0.3.2  \n",
      "v tidyr   0.8.3       v dplyr   0.8.0.1\n",
      "v readr   1.3.1       v stringr 1.4.0  \n",
      "v tibble  2.1.1       v forcats 0.4.0  \n",
      "-- Conflicts ------------------------------------------ tidyverse_conflicts() --\n",
      "x tidyr::extract()   masks magrittr::extract()\n",
      "x dplyr::filter()    masks stats::filter()\n",
      "x dplyr::lag()       masks stats::lag()\n",
      "x purrr::lift()      masks caret::lift()\n",
      "x purrr::set_names() masks magrittr::set_names()\n",
      "Parsed with column specification:\n",
      "cols(\n",
      "  age = col_double(),\n",
      "  sex = col_double(),\n",
      "  cp = col_double(),\n",
      "  trestbps = col_double(),\n",
      "  chol = col_double(),\n",
      "  fbs = col_double(),\n",
      "  restecg = col_double(),\n",
      "  thalach = col_double(),\n",
      "  exang = col_double(),\n",
      "  oldpeak = col_double(),\n",
      "  slope = col_double(),\n",
      "  ca = col_double(),\n",
      "  thal = col_double(),\n",
      "  target = col_double()\n",
      ")\n"
     ]
    }
   ],
   "source": [
    "library(caret)\n",
    "library(magrittr)\n",
    "library(MLmetrics)\n",
    "source(\"helpers.r\")\n",
    "df  <- get_training_df_clean()"
   ]
  },
  {
   "cell_type": "markdown",
   "metadata": {},
   "source": [
    "I use the AUC within a 10 fold cross validation. First let's define the two learners, that receive a training and test data set:"
   ]
  },
  {
   "cell_type": "code",
   "execution_count": 2,
   "metadata": {},
   "outputs": [],
   "source": [
    "learner_A <- function(training, test) {\n",
    "  name <- \"full model\"\n",
    "\n",
    "  fit <- glm(target ~ ., data=training, family =binomial(link = \"logit\"))\n",
    "  y_probabilities <- predict(fit, test,  type=\"response\")\n",
    "  y_true <- ifelse(test$target == \"no_disease\", 0, 1)\n",
    "    \n",
    "  auc <- AUC(y_true = y_true, y_pred = y_probabilities)\n",
    "  return(list(name = name, auc = auc))\n",
    "}\n",
    "\n",
    "learner_B <- function(training, test) {\n",
    "  name <- \"restricted model\"\n",
    "  \n",
    "  fit <- glm(target ~ chol + age, data=training, family =binomial(link = \"logit\"))\n",
    "  y_probabilities <- predict(fit, test,  type=\"response\")\n",
    "  y_true <- ifelse(test$target == \"no_disease\", 0, 1)\n",
    "    \n",
    "  auc <- AUC(y_true = y_true, y_pred = y_probabilities)\n",
    "  return(list(name = name, auc = auc))\n",
    "}"
   ]
  },
  {
   "cell_type": "markdown",
   "metadata": {},
   "source": [
    "No I can run the cross validation: "
   ]
  },
  {
   "cell_type": "code",
   "execution_count": 3,
   "metadata": {},
   "outputs": [],
   "source": [
    "cross_validation <- function(learner_A, learner_B, df){\n",
    "  set.seed(25)\n",
    "  number_of_folds <- 10\n",
    "  folds <- createFolds(df$target, k = number_of_folds)\n",
    "  model_result <- tibble(model = vector(\"character\"),\n",
    "                         auc = vector(\"numeric\"))\n",
    "  \n",
    "  for(fold_index in c(1:number_of_folds)){\n",
    "    training <- df[-folds[[fold_index]],]\n",
    "    test <- df[folds[[fold_index]],]\n",
    "    \n",
    "    result_A<- learner_A(training, test)\n",
    "    result_B <- learner_B(training, test)\n",
    "    \n",
    "    model_result %<>%\n",
    "      add_row(model = result_A[[1]], auc = result_A[[2]]) %>%\n",
    "      add_row(model = result_B[[1]], auc = result_B[[2]])\n",
    "    \n",
    "  }\n",
    "  \n",
    "  return(model_result)\n",
    "  \n",
    "}\n",
    "\n",
    "cv_result  <- cross_validation(learner_A, learner_B, df)"
   ]
  },
  {
   "cell_type": "markdown",
   "metadata": {},
   "source": [
    "To do some statistical inference I implemented the 5 x 2 cross validation t test from *Dietterich, Thomas: Approximate Statistical Tests for Comparing Supervised Classification Learning Algorithms 1997*:"
   ]
  },
  {
   "cell_type": "code",
   "execution_count": 4,
   "metadata": {},
   "outputs": [],
   "source": [
    "cross_validation_52 <- function(learner_A, learner_B, df){\n",
    "  p_1_t <- 0\n",
    "  s = vector(mode = \"numeric\", length = 5)\n",
    "  \n",
    "  for(i in c(1:5)) {\n",
    "    set.seed(25 + i)\n",
    "    number_of_folds <- 2\n",
    "    folds <- createFolds(df$target, k = number_of_folds)\n",
    "    \n",
    "    for(fold_index in c(1:number_of_folds)){\n",
    "      S_1 <- df[-folds[[fold_index]],]\n",
    "      S_2 <- df[folds[[fold_index]],]\n",
    "      \n",
    "      A_p_1 <- learner_A(training = S_1, test = S_2)[[\"auc\"]]\n",
    "      B_p_1 <- learner_B(training = S_1, test = S_2)[[\"auc\"]]\n",
    "      \n",
    "      A_p_2 <- learner_A(training = S_2, test = S_1)[[\"auc\"]]\n",
    "      B_p_2 <- learner_B(training = S_2, test = S_1)[[\"auc\"]]\n",
    "      \n",
    "      p_1 <-  A_p_1 - B_p_1\n",
    "      p_2 <-  A_p_2 - B_p_2\n",
    "      p_mean <-  (p_1 + p_2) / 2\n",
    "      \n",
    "      s[i] <- (p_1 - p_mean) *  (p_1 - p_mean) + (p_2 - p_mean) *  (p_2 - p_mean) \n",
    "      \n",
    "      if(i == i) p_1_t <- p_1\n",
    "    }\n",
    "  }\n",
    "  \n",
    "  t <- p_1_t / sqrt(mean(s))\n",
    "  p_value <- (1 - pt(t, df = 5)) * 2\n",
    "  \n",
    "  return(list(t = t, p_value = p_value))\n",
    "}\n",
    "\n",
    "cv_52_result <- cross_validation_52(learner_A, learner_B, df)"
   ]
  },
  {
   "cell_type": "markdown",
   "metadata": {},
   "source": [
    "With these two functions I plot the result of the cross validation:"
   ]
  },
  {
   "cell_type": "code",
   "execution_count": 5,
   "metadata": {},
   "outputs": [
    {
     "data": {
      "image/png": "[encoded data removed]",
      "text/plain": [
       "plot without title"
      ]
     },
     "metadata": {},
     "output_type": "display_data"
    }
   ],
   "source": [
    "plot_result <- function(cv_result, t, p_value){\n",
    "  \n",
    "  models <- (cv_result %>% distinct(model))[[\"model\"]]\n",
    "  cv_result %>%\n",
    "    mutate(model = factor(model, levels = models)) %>%\n",
    "    ggplot(aes(x = model, y = auc))+\n",
    "    geom_boxplot() +\n",
    "    labs(\n",
    "      x = \"Models\",\n",
    "      y = \"AUC\",\n",
    "      title = \"Cross validation comparison of models\",\n",
    "      subtitle = paste0(\"5 x 2 cross validation  t-statistic: \",round(t,3), \" p value: \", round(p_value,3))\n",
    "    ) + \n",
    "    theme_bw() + \n",
    "    theme(panel.grid.major.x = element_blank(),\n",
    "          plot.title = element_text(hjust = 0)\n",
    "    )\n",
    "}\n",
    "\n",
    "plot_result(cv_result, cv_52_result$t,  cv_52_result$p_value)"
   ]
  },
  {
   "cell_type": "markdown",
   "metadata": {},
   "source": [
    "The 10 fold cross validation is used to visualize the result and with the 5 x 2 cross validation one can calculate a p value. The full model performs here significant better than the restricted model. I added the functions to the `helpers.r` script and combined both into the `cross_validation_selection.r` script. So I just call the following to receive the results:"
   ]
  },
  {
   "cell_type": "code",
   "execution_count": 6,
   "metadata": {},
   "outputs": [
    {
     "name": "stderr",
     "output_type": "stream",
     "text": [
      "Parsed with column specification:\n",
      "cols(\n",
      "  age = col_double(),\n",
      "  sex = col_double(),\n",
      "  cp = col_double(),\n",
      "  trestbps = col_double(),\n",
      "  chol = col_double(),\n",
      "  fbs = col_double(),\n",
      "  restecg = col_double(),\n",
      "  thalach = col_double(),\n",
      "  exang = col_double(),\n",
      "  oldpeak = col_double(),\n",
      "  slope = col_double(),\n",
      "  ca = col_double(),\n",
      "  thal = col_double(),\n",
      "  target = col_double()\n",
      ")\n",
      "Parsed with column specification:\n",
      "cols(\n",
      "  age = col_double(),\n",
      "  sex = col_double(),\n",
      "  cp = col_double(),\n",
      "  trestbps = col_double(),\n",
      "  chol = col_double(),\n",
      "  fbs = col_double(),\n",
      "  restecg = col_double(),\n",
      "  thalach = col_double(),\n",
      "  exang = col_double(),\n",
      "  oldpeak = col_double(),\n",
      "  slope = col_double(),\n",
      "  ca = col_double(),\n",
      "  thal = col_double(),\n",
      "  target = col_double()\n",
      ")\n"
     ]
    },
    {
     "data": {
      "text/html": [
       "<table>\n",
       "<thead><tr><th scope=col>model</th><th scope=col>mean</th><th scope=col>median</th><th scope=col>sd</th></tr></thead>\n",
       "<tbody>\n",
       "\t<tr><td>full model      </td><td>0.9035265       </td><td>0.9195804       </td><td>0.06323870      </td></tr>\n",
       "\t<tr><td>restricted model</td><td>0.6326673       </td><td>0.6363636       </td><td>0.09231759      </td></tr>\n",
       "</tbody>\n",
       "</table>\n"
      ],
      "text/latex": [
       "\\begin{tabular}{r|llll}\n",
       " model & mean & median & sd\\\\\n",
       "\\hline\n",
       "\t full model       & 0.9035265        & 0.9195804        & 0.06323870      \\\\\n",
       "\t restricted model & 0.6326673        & 0.6363636        & 0.09231759      \\\\\n",
       "\\end{tabular}\n"
      ],
      "text/markdown": [
       "\n",
       "| model | mean | median | sd |\n",
       "|---|---|---|---|\n",
       "| full model       | 0.9035265        | 0.9195804        | 0.06323870       |\n",
       "| restricted model | 0.6326673        | 0.6363636        | 0.09231759       |\n",
       "\n"
      ],
      "text/plain": [
       "  model            mean      median    sd        \n",
       "1 full model       0.9035265 0.9195804 0.06323870\n",
       "2 restricted model 0.6326673 0.6363636 0.09231759"
      ]
     },
     "metadata": {},
     "output_type": "display_data"
    },
    {
     "data": {
      "image/png": "[encoded data removed]",
      "text/plain": [
       "plot without title"
      ]
     },
     "metadata": {},
     "output_type": "display_data"
    }
   ],
   "source": [
    "rm(list = ls())\n",
    "source(\"helpers.r\")\n",
    "\n",
    "learner_A <- function(training, test) {\n",
    "  name <- \"full model\"\n",
    "\n",
    "  fit <- glm(target ~ ., data=training, family =binomial(link = \"logit\"))\n",
    "  y_probabilities <- predict(fit, test,  type=\"response\")\n",
    "  y_true <- ifelse(test$target == \"no_disease\", 0, 1)\n",
    "    \n",
    "  auc <- AUC(y_true = y_true, y_pred = y_probabilities)\n",
    "  return(list(name = name, auc = auc))\n",
    "}\n",
    "\n",
    "learner_B <- function(training, test) {\n",
    "  name <- \"restricted model\"\n",
    "  \n",
    "  fit <- glm(target ~ chol + age, data=training, family =binomial(link = \"logit\"))\n",
    "  y_probabilities <- predict(fit, test,  type=\"response\")\n",
    "  y_true <- ifelse(test$target == \"no_disease\", 0, 1)\n",
    "    \n",
    "  auc <- AUC(y_true = y_true, y_pred = y_probabilities)\n",
    "  return(list(name = name, auc = auc))\n",
    "}\n",
    "\n",
    "\n",
    "result <- cross_validation_selection(learner_A, learner_B)\n",
    "\n",
    "result$model_result %>%\n",
    "   group_by(model) %>%\n",
    "   summarize(mean = mean(auc),\n",
    "             median = median(auc),\n",
    "             sd = sd(auc))\n",
    "\n",
    "plot_result(result)"
   ]
  }
 ],
 "metadata": {
  "kernelspec": {
   "display_name": "R",
   "language": "R",
   "name": "ir"
  },
  "language_info": {
   "codemirror_mode": "r",
   "file_extension": ".r",
   "mimetype": "text/x-r-source",
   "name": "R",
   "pygments_lexer": "r",
   "version": "3.6.0"
  }
 },
 "nbformat": 4,
 "nbformat_minor": 2
}
