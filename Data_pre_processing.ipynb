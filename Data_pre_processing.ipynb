{
 "cells": [
  {
   "cell_type": "markdown",
   "metadata": {},
   "source": [
    "# Data Pre-processing \n",
    "\n",
    "## Centering and Scaling\n",
    "\n",
    "The new variables $\\hat{x}$ are defined as\n",
    "\n",
    "$\\hat{x} := \\frac{x - \\bar{x}}{x^{*}}$\n",
    "\n",
    "where $\\bar{x}$ is the mean and $x^{*}$ is the sd. "
   ]
  },
  {
   "cell_type": "code",
   "execution_count": 1,
   "metadata": {},
   "outputs": [
    {
     "name": "stderr",
     "output_type": "stream",
     "text": [
      "Warning message:\n",
      "\"package 'tidyverse' was built under R version 3.6.1\"Registered S3 methods overwritten by 'ggplot2':\n",
      "  method         from \n",
      "  [.quosures     rlang\n",
      "  c.quosures     rlang\n",
      "  print.quosures rlang\n",
      "-- Attaching packages --------------------------------------- tidyverse 1.2.1 --\n",
      "v ggplot2 3.1.1       v purrr   0.3.2  \n",
      "v tibble  2.1.1       v dplyr   0.8.0.1\n",
      "v tidyr   0.8.3       v stringr 1.4.0  \n",
      "v readr   1.3.1       v forcats 0.4.0  \n",
      "-- Conflicts ------------------------------------------ tidyverse_conflicts() --\n",
      "x dplyr::filter() masks stats::filter()\n",
      "x dplyr::lag()    masks stats::lag()\n",
      "Warning message:\n",
      "\"package 'caret' was built under R version 3.6.1\"Loading required package: lattice\n",
      "\n",
      "Attaching package: 'caret'\n",
      "\n",
      "The following object is masked from 'package:purrr':\n",
      "\n",
      "    lift\n",
      "\n",
      "Warning message:\n",
      "\"package 'MLmetrics' was built under R version 3.6.1\"\n",
      "Attaching package: 'MLmetrics'\n",
      "\n",
      "The following objects are masked from 'package:caret':\n",
      "\n",
      "    MAE, RMSE\n",
      "\n",
      "The following object is masked from 'package:base':\n",
      "\n",
      "    Recall\n",
      "\n",
      "Parsed with column specification:\n",
      "cols(\n",
      "  age = col_double(),\n",
      "  sex = col_double(),\n",
      "  cp = col_double(),\n",
      "  trestbps = col_double(),\n",
      "  chol = col_double(),\n",
      "  fbs = col_double(),\n",
      "  restecg = col_double(),\n",
      "  thalach = col_double(),\n",
      "  exang = col_double(),\n",
      "  oldpeak = col_double(),\n",
      "  slope = col_double(),\n",
      "  ca = col_double(),\n",
      "  thal = col_double(),\n",
      "  target = col_double()\n",
      ")\n"
     ]
    },
    {
     "name": "stdout",
     "output_type": "stream",
     "text": [
      "[1] \"Initial\"\n"
     ]
    },
    {
     "data": {
      "text/html": [
       "247.083682008368"
      ],
      "text/latex": [
       "247.083682008368"
      ],
      "text/markdown": [
       "247.083682008368"
      ],
      "text/plain": [
       "[1] 247.0837"
      ]
     },
     "metadata": {},
     "output_type": "display_data"
    },
    {
     "data": {
      "text/html": [
       "51.7952630113939"
      ],
      "text/latex": [
       "51.7952630113939"
      ],
      "text/markdown": [
       "51.7952630113939"
      ],
      "text/plain": [
       "[1] 51.79526"
      ]
     },
     "metadata": {},
     "output_type": "display_data"
    },
    {
     "name": "stdout",
     "output_type": "stream",
     "text": [
      "[1] \"Centered and Scaled\"\n"
     ]
    },
    {
     "data": {
      "text/html": [
       "-2.59040905971121e-16"
      ],
      "text/latex": [
       "-2.59040905971121e-16"
      ],
      "text/markdown": [
       "-2.59040905971121e-16"
      ],
      "text/plain": [
       "[1] -2.590409e-16"
      ]
     },
     "metadata": {},
     "output_type": "display_data"
    },
    {
     "data": {
      "text/html": [
       "1"
      ],
      "text/latex": [
       "1"
      ],
      "text/markdown": [
       "1"
      ],
      "text/plain": [
       "[1] 1"
      ]
     },
     "metadata": {},
     "output_type": "display_data"
    }
   ],
   "source": [
    "source(\"helpers.r\")\n",
    "library(caret)\n",
    "\n",
    "df <- get_training_df_clean()\n",
    "\n",
    "arg <- preProcess(df, method=c(\"center\", \"scale\"))\n",
    "df_processed <- predict(arg, df)\n",
    "\n",
    "print(\"Initial\")\n",
    "mean(df$chol)\n",
    "sd(df$chol)\n",
    "\n",
    "print(\"Centered and Scaled\")\n",
    "mean(df_processed$chol)\n",
    "sd(df_processed$chol)"
   ]
  },
  {
   "cell_type": "markdown",
   "metadata": {},
   "source": [
    "Notice the nummerical zero ;) Always fit on the training set and predict on the test set. The set set does not necessary have mean 0 and sd 1."
   ]
  },
  {
   "cell_type": "code",
   "execution_count": 2,
   "metadata": {
    "scrolled": false
   },
   "outputs": [
    {
     "name": "stderr",
     "output_type": "stream",
     "text": [
      "Parsed with column specification:\n",
      "cols(\n",
      "  age = col_double(),\n",
      "  sex = col_double(),\n",
      "  cp = col_double(),\n",
      "  trestbps = col_double(),\n",
      "  chol = col_double(),\n",
      "  fbs = col_double(),\n",
      "  restecg = col_double(),\n",
      "  thalach = col_double(),\n",
      "  exang = col_double(),\n",
      "  oldpeak = col_double(),\n",
      "  slope = col_double(),\n",
      "  ca = col_double(),\n",
      "  thal = col_double(),\n",
      "  target = col_double()\n",
      ")\n",
      "Parsed with column specification:\n",
      "cols(\n",
      "  age = col_double(),\n",
      "  sex = col_double(),\n",
      "  cp = col_double(),\n",
      "  trestbps = col_double(),\n",
      "  chol = col_double(),\n",
      "  fbs = col_double(),\n",
      "  restecg = col_double(),\n",
      "  thalach = col_double(),\n",
      "  exang = col_double(),\n",
      "  oldpeak = col_double(),\n",
      "  slope = col_double(),\n",
      "  ca = col_double(),\n",
      "  thal = col_double(),\n",
      "  target = col_double()\n",
      ")\n"
     ]
    },
    {
     "data": {
      "image/png": "[encoded data removed]",
      "text/plain": [
       "plot without title"
      ]
     },
     "metadata": {},
     "output_type": "display_data"
    }
   ],
   "source": [
    "rm(list = ls())\n",
    "source(\"helpers.r\")\n",
    "\n",
    "learner_A <- function(training, test) {\n",
    "  name <- \"normal inputs\"\n",
    "\n",
    "  fit <- glm(target ~ ., data=training, family =binomial(link = \"logit\"))\n",
    "  y_probabilities <- predict(fit, test,  type=\"response\")\n",
    "  y_true <- ifelse(test$target == \"no_disease\", 0, 1)\n",
    "    \n",
    "  auc <- AUC(y_true = y_true, y_pred = y_probabilities)\n",
    "  return(list(name = name, auc = auc))\n",
    "}\n",
    "\n",
    "learner_B <- function(training, test) {\n",
    "  name <- \"scaled and centered inputs\"\n",
    "    \n",
    "  arg <- preProcess(training, method=c(\"center\", \"scale\"))\n",
    "  training <- predict(arg, training)\n",
    "  test  <- predict(arg, test)\n",
    "  \n",
    "  fit <- glm(target ~ ., data=training, family =binomial(link = \"logit\"))\n",
    "  y_probabilities <- predict(fit, test,  type=\"response\")\n",
    "  y_true <- ifelse(test$target == \"no_disease\", 0, 1)\n",
    "    \n",
    "  auc <- AUC(y_true = y_true, y_pred = y_probabilities)\n",
    "  return(list(name = name, auc = auc))\n",
    "}\n",
    "\n",
    "\n",
    "result <- cross_validation_selection(learner_A, learner_B)\n",
    "\n",
    "plot_result(result)"
   ]
  },
  {
   "cell_type": "markdown",
   "metadata": {},
   "source": [
    "Ups we receive the same results. In fact for the prediction there is no difference in logistic regression whether you scale and center the variables or not:"
   ]
  },
  {
   "cell_type": "code",
   "execution_count": 3,
   "metadata": {},
   "outputs": [
    {
     "name": "stderr",
     "output_type": "stream",
     "text": [
      "Parsed with column specification:\n",
      "cols(\n",
      "  age = col_double(),\n",
      "  sex = col_double(),\n",
      "  cp = col_double(),\n",
      "  trestbps = col_double(),\n",
      "  chol = col_double(),\n",
      "  fbs = col_double(),\n",
      "  restecg = col_double(),\n",
      "  thalach = col_double(),\n",
      "  exang = col_double(),\n",
      "  oldpeak = col_double(),\n",
      "  slope = col_double(),\n",
      "  ca = col_double(),\n",
      "  thal = col_double(),\n",
      "  target = col_double()\n",
      ")\n",
      "Parsed with column specification:\n",
      "cols(\n",
      "  age = col_double(),\n",
      "  sex = col_double(),\n",
      "  cp = col_double(),\n",
      "  trestbps = col_double(),\n",
      "  chol = col_double(),\n",
      "  fbs = col_double(),\n",
      "  restecg = col_double(),\n",
      "  thalach = col_double(),\n",
      "  exang = col_double(),\n",
      "  oldpeak = col_double(),\n",
      "  slope = col_double(),\n",
      "  ca = col_double(),\n",
      "  thal = col_double(),\n",
      "  target = col_double()\n",
      ")\n"
     ]
    },
    {
     "data": {
      "text/html": [
       "<table>\n",
       "<thead><tr><th scope=col>y_probabilities</th><th scope=col>y_probabilities_scaled</th></tr></thead>\n",
       "<tbody>\n",
       "\t<tr><td>0.7606738</td><td>0.7606738</td></tr>\n",
       "\t<tr><td>0.9680976</td><td>0.9680976</td></tr>\n",
       "\t<tr><td>0.9684294</td><td>0.9684294</td></tr>\n",
       "\t<tr><td>0.8995777</td><td>0.8995777</td></tr>\n",
       "\t<tr><td>0.8012921</td><td>0.8012921</td></tr>\n",
       "\t<tr><td>0.8758098</td><td>0.8758098</td></tr>\n",
       "</tbody>\n",
       "</table>\n"
      ],
      "text/latex": [
       "\\begin{tabular}{r|ll}\n",
       " y\\_probabilities & y\\_probabilities\\_scaled\\\\\n",
       "\\hline\n",
       "\t 0.7606738 & 0.7606738\\\\\n",
       "\t 0.9680976 & 0.9680976\\\\\n",
       "\t 0.9684294 & 0.9684294\\\\\n",
       "\t 0.8995777 & 0.8995777\\\\\n",
       "\t 0.8012921 & 0.8012921\\\\\n",
       "\t 0.8758098 & 0.8758098\\\\\n",
       "\\end{tabular}\n"
      ],
      "text/markdown": [
       "\n",
       "| y_probabilities | y_probabilities_scaled |\n",
       "|---|---|\n",
       "| 0.7606738 | 0.7606738 |\n",
       "| 0.9680976 | 0.9680976 |\n",
       "| 0.9684294 | 0.9684294 |\n",
       "| 0.8995777 | 0.8995777 |\n",
       "| 0.8012921 | 0.8012921 |\n",
       "| 0.8758098 | 0.8758098 |\n",
       "\n"
      ],
      "text/plain": [
       "  y_probabilities y_probabilities_scaled\n",
       "1 0.7606738       0.7606738             \n",
       "2 0.9680976       0.9680976             \n",
       "3 0.9684294       0.9684294             \n",
       "4 0.8995777       0.8995777             \n",
       "5 0.8012921       0.8012921             \n",
       "6 0.8758098       0.8758098             "
      ]
     },
     "metadata": {},
     "output_type": "display_data"
    },
    {
     "data": {
      "text/html": [
       "2.30389709046652e-14"
      ],
      "text/latex": [
       "2.30389709046652e-14"
      ],
      "text/markdown": [
       "2.30389709046652e-14"
      ],
      "text/plain": [
       "[1] 2.303897e-14"
      ]
     },
     "metadata": {},
     "output_type": "display_data"
    }
   ],
   "source": [
    "rm(list = ls())\n",
    "source(\"helpers.r\")\n",
    "\n",
    "df <- get_training_df_clean()\n",
    "fit <- glm(target ~ ., data=df , family =binomial(link = \"logit\"))\n",
    "y_probabilities <- predict(fit, df ,  type=\"response\")\n",
    "\n",
    "\n",
    "df <- get_training_df_clean()\n",
    "arg <- preProcess(df, method=c(\"center\", \"scale\"))\n",
    "df  <- predict(arg, df)\n",
    "fit <- glm(target ~ ., data=df , family =binomial(link = \"logit\"))\n",
    "y_probabilities_scaled <- predict(fit, df ,  type=\"response\")\n",
    "\n",
    "compare_probs <- tibble(y_probabilities, y_probabilities_scaled)\n",
    "head(compare_probs)\n",
    "sum(abs(y_probabilities - y_probabilities_scaled))"
   ]
  }
 ],
 "metadata": {
  "kernelspec": {
   "display_name": "R",
   "language": "R",
   "name": "ir"
  },
  "language_info": {
   "codemirror_mode": "r",
   "file_extension": ".r",
   "mimetype": "text/x-r-source",
   "name": "R",
   "pygments_lexer": "r",
   "version": "3.6.0"
  }
 },
 "nbformat": 4,
 "nbformat_minor": 2
}
