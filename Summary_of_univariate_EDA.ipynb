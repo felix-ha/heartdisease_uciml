{
 "cells": [
  {
   "cell_type": "markdown",
   "metadata": {},
   "source": [
    "# Summary of univariate EDA"
   ]
  },
  {
   "cell_type": "code",
   "execution_count": 10,
   "metadata": {},
   "outputs": [
    {
     "name": "stdout",
     "output_type": "stream",
     "text": [
      "# A tibble: 13 x 2\n",
      "   variable evidence\n",
      "   <chr>    <lgl>   \n",
      " 1 sex      TRUE    \n",
      " 2 exang    TRUE    \n",
      " 3 cp       TRUE    \n",
      " 4 slope    TRUE    \n",
      " 5 thal     TRUE    \n",
      " 6 thalach  TRUE    \n",
      " 7 oldpeak  TRUE    \n",
      " 8 fbs      FALSE   \n",
      " 9 restecg  FALSE   \n",
      "10 chol     FALSE   \n",
      "11 trestbps FALSE   \n",
      "12 ca       FALSE   \n",
      "13 age      FALSE   \n"
     ]
    }
   ],
   "source": [
    "library(tidyverse)\n",
    "\n",
    "result_univariate_df <- tribble ( \n",
    "    ~variable, ~evidence,\n",
    "    #--------/----------\n",
    "    \"fbs\", FALSE,\n",
    "    \"restecg\", FALSE,\n",
    "    \"sex\", TRUE, \n",
    "    \"exang\", TRUE,\n",
    "    \"cp\", TRUE, \n",
    "    \"slope\", TRUE,\n",
    "    \"thal\", TRUE, \n",
    "    \"chol\", FALSE,\n",
    "    \"trestbps\", FALSE,\n",
    "    \"ca\", FALSE,\n",
    "    \"thalach\", TRUE,\n",
    "    \"oldpeak\", TRUE,\n",
    "    \"age\", FALSE)\n",
    "\n",
    "print(result_univariate_df %>% arrange(desc(evidence)))"
   ]
  }
 ],
 "metadata": {
  "kernelspec": {
   "display_name": "R",
   "language": "R",
   "name": "ir"
  },
  "language_info": {
   "codemirror_mode": "r",
   "file_extension": ".r",
   "mimetype": "text/x-r-source",
   "name": "R",
   "pygments_lexer": "r",
   "version": "3.6.0"
  }
 },
 "nbformat": 4,
 "nbformat_minor": 2
}
