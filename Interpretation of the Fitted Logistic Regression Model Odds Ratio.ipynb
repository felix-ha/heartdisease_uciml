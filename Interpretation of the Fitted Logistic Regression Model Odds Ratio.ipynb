{
 "cells": [
  {
   "cell_type": "markdown",
   "metadata": {},
   "source": [
    "# Interpretation of the Fitted Logistic Regression Model: Odds Ratio\n",
    "\n",
    "## Dichotomous Indepentend Variable\n",
    "\n",
    "Recall the definition of the logistic function \n",
    "\n",
    "$$\n",
    "\\pi(x) = \\frac{e^{x'\\beta}}{e^{1 + x'\\beta}}\n",
    "$$\n",
    "\n",
    "with the logit\n",
    "\n",
    "$$\\begin{equation}\n",
    "g(x) := ln \\frac{\\pi(x)}{1 + \\pi(x)} = x'\\beta.\n",
    "\\end{equation}$$.\n",
    "\n",
    "The *odds ratio* is defined as:\n",
    "\n",
    "$$\n",
    "OR := \\frac{\\frac{\\pi(1)}{1 - \\pi(1)}}{\\frac{\\pi(0)}{1 - \\pi(0)}}\n",
    "$$\n",
    "\n",
    "We look at a single dichotomous independent variable, e. g. $x \\in \\{0, 1\\}$. The logit for this case is $g(x) = \\beta_0 + \\beta_1 x_1$ Now the odds ratio can be calculated and give\n",
    "\n",
    "$$\n",
    "OR = e^{\\beta_1}\n",
    "$$\n",
    "\n",
    "Let's see how we can calculate the odds ratio in a other way with the help of a cross-classification table and then check it with the logistic regression model. We use the *sex* predictor in our data set:"
   ]
  },
  {
   "cell_type": "code",
   "execution_count": 1,
   "metadata": {},
   "outputs": [
    {
     "name": "stderr",
     "output_type": "stream",
     "text": [
      "Warning message:\n",
      "\"package 'tidyverse' was built under R version 3.6.1\"Registered S3 methods overwritten by 'ggplot2':\n",
      "  method         from \n",
      "  [.quosures     rlang\n",
      "  c.quosures     rlang\n",
      "  print.quosures rlang\n",
      "-- Attaching packages --------------------------------------- tidyverse 1.2.1 --\n",
      "v ggplot2 3.1.1       v purrr   0.3.2  \n",
      "v tibble  2.1.1       v dplyr   0.8.0.1\n",
      "v tidyr   0.8.3       v stringr 1.4.0  \n",
      "v readr   1.3.1       v forcats 0.4.0  \n",
      "-- Conflicts ------------------------------------------ tidyverse_conflicts() --\n",
      "x dplyr::filter() masks stats::filter()\n",
      "x dplyr::lag()    masks stats::lag()\n",
      "Warning message:\n",
      "\"package 'caret' was built under R version 3.6.1\"Loading required package: lattice\n",
      "\n",
      "Attaching package: 'caret'\n",
      "\n",
      "The following object is masked from 'package:purrr':\n",
      "\n",
      "    lift\n",
      "\n",
      "Parsed with column specification:\n",
      "cols(\n",
      "  age = col_double(),\n",
      "  sex = col_double(),\n",
      "  cp = col_double(),\n",
      "  trestbps = col_double(),\n",
      "  chol = col_double(),\n",
      "  fbs = col_double(),\n",
      "  restecg = col_double(),\n",
      "  thalach = col_double(),\n",
      "  exang = col_double(),\n",
      "  oldpeak = col_double(),\n",
      "  slope = col_double(),\n",
      "  ca = col_double(),\n",
      "  thal = col_double(),\n",
      "  target = col_double()\n",
      ")\n"
     ]
    },
    {
     "data": {
      "text/plain": [
       "            \n",
       "             Female Male\n",
       "  no_disease     20   91\n",
       "  disease        57   75"
      ]
     },
     "metadata": {},
     "output_type": "display_data"
    },
    {
     "data": {
      "text/html": [
       "0.289184499710816"
      ],
      "text/latex": [
       "0.289184499710816"
      ],
      "text/markdown": [
       "0.289184499710816"
      ],
      "text/plain": [
       "[1] 0.2891845"
      ]
     },
     "metadata": {},
     "output_type": "display_data"
    }
   ],
   "source": [
    "source(\"helpers.r\")\n",
    "df <- get_training_df()\n",
    "(cross_class_table  <- table(df$target, df$sex))\n",
    "\n",
    "odds_ratio  <- function(df, variable) {\n",
    "    cross_class_table  <- table(df$target, df[[variable]])\n",
    "    or  <- (cross_class_table[2,2] / cross_class_table[1,2]) / (cross_class_table[2,1] / cross_class_table[1,1])\n",
    "}\n",
    "\n",
    "(or  <- odds_ratio(df, \"sex\"))"
   ]
  },
  {
   "cell_type": "markdown",
   "metadata": {},
   "source": [
    "Remember that if the target is disease than $y = 1$ and if it is no disease $y = 0$. Also we say that $x = 1$ corresponds to male and $x = 0$ to female. The value of the odds ratio "
   ]
  },
  {
   "cell_type": "code",
   "execution_count": 2,
   "metadata": {},
   "outputs": [
    {
     "data": {
      "text/html": [
       "<table>\n",
       "<thead><tr><th scope=col>term</th><th scope=col>estimate</th><th scope=col>std.error</th><th scope=col>statistic</th><th scope=col>p.value</th></tr></thead>\n",
       "<tbody>\n",
       "\t<tr><td>(Intercept) </td><td> 1.047319   </td><td>0.2598918   </td><td> 4.029827   </td><td>5.581790e-05</td></tr>\n",
       "\t<tr><td>sexMale     </td><td>-1.240690   </td><td>0.3030942   </td><td>-4.093415   </td><td>4.250655e-05</td></tr>\n",
       "</tbody>\n",
       "</table>\n"
      ],
      "text/latex": [
       "\\begin{tabular}{r|lllll}\n",
       " term & estimate & std.error & statistic & p.value\\\\\n",
       "\\hline\n",
       "\t (Intercept)  &  1.047319    & 0.2598918    &  4.029827    & 5.581790e-05\\\\\n",
       "\t sexMale      & -1.240690    & 0.3030942    & -4.093415    & 4.250655e-05\\\\\n",
       "\\end{tabular}\n"
      ],
      "text/markdown": [
       "\n",
       "| term | estimate | std.error | statistic | p.value |\n",
       "|---|---|---|---|---|\n",
       "| (Intercept)  |  1.047319    | 0.2598918    |  4.029827    | 5.581790e-05 |\n",
       "| sexMale      | -1.240690    | 0.3030942    | -4.093415    | 4.250655e-05 |\n",
       "\n"
      ],
      "text/plain": [
       "  term        estimate  std.error statistic p.value     \n",
       "1 (Intercept)  1.047319 0.2598918  4.029827 5.581790e-05\n",
       "2 sexMale     -1.240690 0.3030942 -4.093415 4.250655e-05"
      ]
     },
     "metadata": {},
     "output_type": "display_data"
    }
   ],
   "source": [
    "library(broom)\n",
    "fit  <- glm(target ~ sex, data=df, family =binomial(link = \"logit\"))\n",
    "(fit_result  <- tidy(fit))"
   ]
  },
  {
   "cell_type": "markdown",
   "metadata": {},
   "source": [
    "Now the calculation of the ods ratio is straight forward:"
   ]
  },
  {
   "cell_type": "code",
   "execution_count": 3,
   "metadata": {},
   "outputs": [
    {
     "data": {
      "text/html": [
       "0.289184499711679"
      ],
      "text/latex": [
       "0.289184499711679"
      ],
      "text/markdown": [
       "0.289184499711679"
      ],
      "text/plain": [
       "[1] 0.2891845"
      ]
     },
     "metadata": {},
     "output_type": "display_data"
    }
   ],
   "source": [
    "beta_1  <- fit_result$estimate[2]\n",
    "(or_glm  <-  exp(beta_1))"
   ]
  },
  {
   "cell_type": "markdown",
   "metadata": {},
   "source": [
    "The interpretation of this vaule is as follows: The occurrence of a heart disease is only about a third likely if you are male. My guess is that variables which odds ratio differes a lot from 1, have a good discriminantive power an hence models build with that variables will have good performance. There are two other variables in the data set that are dichotomous. One is *fbs* that decodes wether the person has a fasting blood sugar > 120 mg/dl or not. Here $x = 1$ means yes, the person has a high fasting blood sugar. Let's see if the OR is higher than 1:"
   ]
  },
  {
   "cell_type": "code",
   "execution_count": 4,
   "metadata": {},
   "outputs": [
    {
     "data": {
      "text/plain": [
       "            \n",
       "              no yes\n",
       "  no_disease  91  20\n",
       "  disease    111  21"
      ]
     },
     "metadata": {},
     "output_type": "display_data"
    },
    {
     "data": {
      "text/html": [
       "0.860810810810811"
      ],
      "text/latex": [
       "0.860810810810811"
      ],
      "text/markdown": [
       "0.860810810810811"
      ],
      "text/plain": [
       "[1] 0.8608108"
      ]
     },
     "metadata": {},
     "output_type": "display_data"
    }
   ],
   "source": [
    "(cross_class_table  <- table(df$target, df$fbs))\n",
    "(or_fbs  <- odds_ratio(df, \"fbs\"))"
   ]
  },
  {
   "cell_type": "markdown",
   "metadata": {},
   "source": [
    "It is smaller than 1. The last dichotomous variable is *exang* and decodes wether a person has exercise induced angina. (x = 1 mean yes, x = 0 means no). So here i think the OR is higher than 1. "
   ]
  },
  {
   "cell_type": "code",
   "execution_count": 5,
   "metadata": {},
   "outputs": [
    {
     "data": {
      "text/plain": [
       "            \n",
       "              no yes\n",
       "  no_disease  49  62\n",
       "  disease    113  19"
      ]
     },
     "metadata": {},
     "output_type": "display_data"
    },
    {
     "data": {
      "text/html": [
       "0.132886097630602"
      ],
      "text/latex": [
       "0.132886097630602"
      ],
      "text/markdown": [
       "0.132886097630602"
      ],
      "text/plain": [
       "[1] 0.1328861"
      ]
     },
     "metadata": {},
     "output_type": "display_data"
    }
   ],
   "source": [
    "(cross_class_table  <- table(df$target, df$exang))\n",
    "(or_fbs  <- odds_ratio(df, \"exang\"))"
   ]
  },
  {
   "cell_type": "markdown",
   "metadata": {},
   "source": [
    "Ok so it's not. Maybe people with a heart disease don't do sport at all, so their is answer no to this question. (I don't know how the data was collected, but obviously this would be very important). So in summary:\n",
    "\n",
    "$$\n",
    "OR_{exang} <  OR_{sex} < OR_{fbs}.\n",
    "$$\n",
    "\n",
    "So let's see if this is also valid if we evalute the performance of the three single variable logistic regression models. "
   ]
  },
  {
   "cell_type": "code",
   "execution_count": 6,
   "metadata": {
    "scrolled": false
   },
   "outputs": [
    {
     "name": "stderr",
     "output_type": "stream",
     "text": [
      "Warning message:\n",
      "\"package 'MLmetrics' was built under R version 3.6.1\"\n",
      "Attaching package: 'MLmetrics'\n",
      "\n",
      "The following objects are masked from 'package:caret':\n",
      "\n",
      "    MAE, RMSE\n",
      "\n",
      "The following object is masked from 'package:base':\n",
      "\n",
      "    Recall\n",
      "\n",
      "\n",
      "Attaching package: 'magrittr'\n",
      "\n",
      "The following object is masked from 'package:purrr':\n",
      "\n",
      "    set_names\n",
      "\n",
      "The following object is masked from 'package:tidyr':\n",
      "\n",
      "    extract\n",
      "\n"
     ]
    },
    {
     "data": {
      "text/html": [
       "<table>\n",
       "<thead><tr><th scope=col>model</th><th scope=col>mean</th><th scope=col>median</th><th scope=col>sd</th></tr></thead>\n",
       "<tbody>\n",
       "\t<tr><td>lg exang  </td><td>0.7063270 </td><td>0.7069181 </td><td>0.05659305</td></tr>\n",
       "\t<tr><td>lg fbs    </td><td>0.5095529 </td><td>0.5167333 </td><td>0.07684761</td></tr>\n",
       "\t<tr><td>lg sex    </td><td>0.6261613 </td><td>0.6048951 </td><td>0.09354054</td></tr>\n",
       "</tbody>\n",
       "</table>\n"
      ],
      "text/latex": [
       "\\begin{tabular}{r|llll}\n",
       " model & mean & median & sd\\\\\n",
       "\\hline\n",
       "\t lg exang   & 0.7063270  & 0.7069181  & 0.05659305\\\\\n",
       "\t lg fbs     & 0.5095529  & 0.5167333  & 0.07684761\\\\\n",
       "\t lg sex     & 0.6261613  & 0.6048951  & 0.09354054\\\\\n",
       "\\end{tabular}\n"
      ],
      "text/markdown": [
       "\n",
       "| model | mean | median | sd |\n",
       "|---|---|---|---|\n",
       "| lg exang   | 0.7063270  | 0.7069181  | 0.05659305 |\n",
       "| lg fbs     | 0.5095529  | 0.5167333  | 0.07684761 |\n",
       "| lg sex     | 0.6261613  | 0.6048951  | 0.09354054 |\n",
       "\n"
      ],
      "text/plain": [
       "  model    mean      median    sd        \n",
       "1 lg exang 0.7063270 0.7069181 0.05659305\n",
       "2 lg fbs   0.5095529 0.5167333 0.07684761\n",
       "3 lg sex   0.6261613 0.6048951 0.09354054"
      ]
     },
     "metadata": {},
     "output_type": "display_data"
    },
    {
     "data": {
      "image/png": "[encoded data removed]",
      "text/plain": [
       "plot without title"
      ]
     },
     "metadata": {},
     "output_type": "display_data"
    }
   ],
   "source": [
    "library(MLmetrics)\n",
    "library(magrittr)\n",
    "\n",
    "set.seed(25)\n",
    "number_of_folds <- 10\n",
    "folds <- createFolds(df$target, k = number_of_folds)\n",
    "\n",
    "model_result <- tibble(model = vector(\"character\"),\n",
    "                       auc = vector(\"numeric\"))\n",
    "models <- c(\"lg exang\", \"lg sex\", \"lg fbs\")\n",
    "\n",
    "for(model in models){\n",
    "    for(fold_index in c(1:number_of_folds)){\n",
    "        training <- df[-folds[[fold_index]],]\n",
    "        test <- df[folds[[fold_index]],]\n",
    "\n",
    "        y_true <- ifelse(test$target == \"no_disease\", 0, 1)\n",
    "\n",
    "        if (model == \"lg exang\") {\n",
    "          fit <- glm(target ~ exang, data=training, family =binomial(link = \"logit\"))\n",
    "          y_probabilities <- predict(fit, test,  type=\"response\")\n",
    "        }\n",
    "        if (model == \"lg sex\"){\n",
    "          fit <- glm(target ~ sex, data=training, family =binomial(link = \"logit\"))\n",
    "          y_probabilities <- predict(fit, test,  type=\"response\")\n",
    "        }\n",
    "        if (model == \"lg fbs\"){\n",
    "          fit <- glm(target ~ fbs, data=training, family =binomial(link = \"logit\"))\n",
    "          y_probabilities <- predict(fit, test,  type=\"response\")\n",
    "        }\n",
    "\n",
    "        auc <- AUC(y_true = y_true, y_pred = y_probabilities)\n",
    "\n",
    "        model_result %<>%\n",
    "          add_row(model = model, auc = auc)\n",
    "\n",
    "      }\n",
    "}\n",
    "\n",
    "model_result %>%\n",
    "    group_by(model) %>%\n",
    "    summarize(mean = mean(auc),\n",
    "              median = median(auc),\n",
    "              sd = sd(auc))\n",
    "\n",
    "model_result %>%\n",
    "    mutate(model = factor(model, levels = models)) %>%\n",
    "    ggplot(aes(x = model, y = auc))+\n",
    "    geom_boxplot() +\n",
    "labs(\n",
    "      x = \"Modells\",\n",
    "      y = \"AUC\",\n",
    "      title = \"Cross validation comparison of models\"\n",
    "    ) + \n",
    "    theme_bw() + \n",
    "    theme(panel.grid.major.x = element_blank(),\n",
    "          plot.title = element_text(hjust = 0.5)\n",
    "          )"
   ]
  },
  {
   "cell_type": "markdown",
   "metadata": {},
   "source": [
    "What a nice result. Note that $OR = 1  \\Leftrightarrow \\beta_1 = 0$, hence the predictor has no influence to the model."
   ]
  },
  {
   "cell_type": "markdown",
   "metadata": {},
   "source": [
    "## Polychotomous Independent Variable\n",
    "\n",
    "Now the varable $x$ can have $k > 2$ different values. "
   ]
  }
 ],
 "metadata": {
  "kernelspec": {
   "display_name": "R",
   "language": "R",
   "name": "ir"
  },
  "language_info": {
   "codemirror_mode": "r",
   "file_extension": ".r",
   "mimetype": "text/x-r-source",
   "name": "R",
   "pygments_lexer": "r",
   "version": "3.6.0"
  }
 },
 "nbformat": 4,
 "nbformat_minor": 2
}
